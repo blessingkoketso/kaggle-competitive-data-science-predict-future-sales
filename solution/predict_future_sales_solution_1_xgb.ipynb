{
 "cells": [
  {
   "cell_type": "code",
   "execution_count": 1,
   "metadata": {},
   "outputs": [],
   "source": [
    "import numpy as np\n",
    "import pandas as pd\n",
    "import seaborn as sns\n",
    "import matplotlib.pyplot as plt\n",
    "from scipy import stats\n",
    "import logging\n",
    "import datetime\n",
    "import gc\n",
    "\n",
    "from sklearn.preprocessing import OneHotEncoder,MinMaxScaler, Normalizer, LabelEncoder\n",
    "from sklearn.feature_selection import SelectKBest,chi2,SelectFromModel\n",
    "from xgboost import XGBClassifier, XGBRegressor\n",
    "from sklearn.pipeline import Pipeline, FeatureUnion\n",
    "from sklearn.base import BaseEstimator, TransformerMixin\n",
    "from sklearn.model_selection import GridSearchCV\n",
    "from sklearn.impute import SimpleImputer\n",
    "from xgboost import plot_importance\n",
    "from mlxtend.preprocessing import DenseTransformer\n",
    "from mlxtend.feature_selection import ColumnSelector\n",
    "from itertools import product\n",
    "\n",
    "sns.set(color_codes=True)"
   ]
  },
  {
   "cell_type": "code",
   "execution_count": 2,
   "metadata": {},
   "outputs": [],
   "source": [
    "def _transfer_type(df, cols, dtype):\n",
    "    for v in cols:\n",
    "        df[v] = df[v].astype(dtype)\n",
    "    \n",
    "    return df"
   ]
  },
  {
   "cell_type": "markdown",
   "metadata": {},
   "source": [
    "# Features Engineering"
   ]
  },
  {
   "cell_type": "markdown",
   "metadata": {},
   "source": [
    "## outliers"
   ]
  },
  {
   "cell_type": "markdown",
   "metadata": {},
   "source": [
    "从外部获取所有数据集合，做类型整理，方便后面进行使用，使得pandas的dataframe所占用的内存变小"
   ]
  },
  {
   "cell_type": "code",
   "execution_count": 3,
   "metadata": {},
   "outputs": [],
   "source": [
    "dateparse = lambda x: pd.datetime.strptime(x, '%d.%m.%Y')\n",
    "sales_df = pd.read_csv('../input/sales_train.csv', parse_dates = ['date'], date_parser=dateparse)\n",
    "\n",
    "item_df = pd.read_csv('../input/items.csv')\n",
    "shop_df = pd.read_csv('../input/shops.csv')\n",
    "category_df = pd.read_csv('../input/item_categories.csv')\n",
    "\n",
    "test_df = pd.read_csv('../input/test.csv').set_index('ID')"
   ]
  },
  {
   "cell_type": "markdown",
   "metadata": {},
   "source": [
    "数据类型整理，减少空间使用"
   ]
  },
  {
   "cell_type": "code",
   "execution_count": 4,
   "metadata": {},
   "outputs": [],
   "source": [
    "sales_df = _transfer_type(sales_df, ['date_block_num', 'shop_id', 'item_id', 'item_cnt_day'], np.int16)\n",
    "sales_df = _transfer_type(sales_df, ['item_price'], np.float16)\n",
    "\n",
    "item_df = _transfer_type(item_df, ['item_id', 'item_category_id'], np.int16)\n",
    "item_df['item_name'] = item_df['item_name'].astype(str)\n",
    "\n",
    "shop_df['shop_name'] = shop_df['shop_name'].astype(str)\n",
    "shop_df['shop_id'] = shop_df['shop_id'].astype(np.int16)\n",
    "\n",
    "category_df['item_category_name'] = category_df['item_category_name'].astype(str)\n",
    "category_df['item_category_id'] = category_df['item_category_id'].astype(np.int16)"
   ]
  },
  {
   "cell_type": "markdown",
   "metadata": {},
   "source": [
    "### Clear the data out of range"
   ]
  },
  {
   "cell_type": "code",
   "execution_count": 5,
   "metadata": {},
   "outputs": [],
   "source": [
    "sales_df = sales_df[sales_df.item_price<100000]\n",
    "sales_df = sales_df[sales_df.item_cnt_day<1000]"
   ]
  },
  {
   "cell_type": "markdown",
   "metadata": {},
   "source": [
    "### Correct the negative item price"
   ]
  },
  {
   "cell_type": "code",
   "execution_count": 6,
   "metadata": {},
   "outputs": [
    {
     "data": {
      "text/html": [
       "<div>\n",
       "<style scoped>\n",
       "    .dataframe tbody tr th:only-of-type {\n",
       "        vertical-align: middle;\n",
       "    }\n",
       "\n",
       "    .dataframe tbody tr th {\n",
       "        vertical-align: top;\n",
       "    }\n",
       "\n",
       "    .dataframe thead th {\n",
       "        text-align: right;\n",
       "    }\n",
       "</style>\n",
       "<table border=\"1\" class=\"dataframe\">\n",
       "  <thead>\n",
       "    <tr style=\"text-align: right;\">\n",
       "      <th></th>\n",
       "      <th>date</th>\n",
       "      <th>date_block_num</th>\n",
       "      <th>shop_id</th>\n",
       "      <th>item_id</th>\n",
       "      <th>item_price</th>\n",
       "      <th>item_cnt_day</th>\n",
       "    </tr>\n",
       "  </thead>\n",
       "  <tbody>\n",
       "    <tr>\n",
       "      <th>484683</th>\n",
       "      <td>2013-05-15</td>\n",
       "      <td>4</td>\n",
       "      <td>32</td>\n",
       "      <td>2973</td>\n",
       "      <td>-1.0</td>\n",
       "      <td>1</td>\n",
       "    </tr>\n",
       "  </tbody>\n",
       "</table>\n",
       "</div>"
      ],
      "text/plain": [
       "             date  date_block_num  shop_id  item_id  item_price  item_cnt_day\n",
       "484683 2013-05-15               4       32     2973        -1.0             1"
      ]
     },
     "execution_count": 6,
     "metadata": {},
     "output_type": "execute_result"
    }
   ],
   "source": [
    "sales_df[sales_df.item_price < 0]"
   ]
  },
  {
   "cell_type": "code",
   "execution_count": 7,
   "metadata": {},
   "outputs": [],
   "source": [
    "sales_df.at[484683, 'item_price'] = sales_df[(sales_df.item_id == 2973) & (sales_df.item_price > 0)].item_price.mean()"
   ]
  },
  {
   "cell_type": "markdown",
   "metadata": {},
   "source": [
    "### Adjust duplicates by shop name\n",
    "\n",
    "According to the reference, some shops are duplicates. This feature found is based on the language background."
   ]
  },
  {
   "cell_type": "code",
   "execution_count": 8,
   "metadata": {},
   "outputs": [
    {
     "data": {
      "text/html": [
       "<div>\n",
       "<style scoped>\n",
       "    .dataframe tbody tr th:only-of-type {\n",
       "        vertical-align: middle;\n",
       "    }\n",
       "\n",
       "    .dataframe tbody tr th {\n",
       "        vertical-align: top;\n",
       "    }\n",
       "\n",
       "    .dataframe thead th {\n",
       "        text-align: right;\n",
       "    }\n",
       "</style>\n",
       "<table border=\"1\" class=\"dataframe\">\n",
       "  <thead>\n",
       "    <tr style=\"text-align: right;\">\n",
       "      <th></th>\n",
       "      <th>shop_name</th>\n",
       "      <th>shop_id</th>\n",
       "    </tr>\n",
       "  </thead>\n",
       "  <tbody>\n",
       "    <tr>\n",
       "      <th>0</th>\n",
       "      <td>!Якутск Орджоникидзе, 56 фран</td>\n",
       "      <td>0</td>\n",
       "    </tr>\n",
       "  </tbody>\n",
       "</table>\n",
       "</div>"
      ],
      "text/plain": [
       "                       shop_name  shop_id\n",
       "0  !Якутск Орджоникидзе, 56 фран        0"
      ]
     },
     "execution_count": 8,
     "metadata": {},
     "output_type": "execute_result"
    }
   ],
   "source": [
    "shop_df[shop_df.shop_id == 0]"
   ]
  },
  {
   "cell_type": "code",
   "execution_count": 9,
   "metadata": {},
   "outputs": [
    {
     "data": {
      "text/html": [
       "<div>\n",
       "<style scoped>\n",
       "    .dataframe tbody tr th:only-of-type {\n",
       "        vertical-align: middle;\n",
       "    }\n",
       "\n",
       "    .dataframe tbody tr th {\n",
       "        vertical-align: top;\n",
       "    }\n",
       "\n",
       "    .dataframe thead th {\n",
       "        text-align: right;\n",
       "    }\n",
       "</style>\n",
       "<table border=\"1\" class=\"dataframe\">\n",
       "  <thead>\n",
       "    <tr style=\"text-align: right;\">\n",
       "      <th></th>\n",
       "      <th>shop_name</th>\n",
       "      <th>shop_id</th>\n",
       "    </tr>\n",
       "  </thead>\n",
       "  <tbody>\n",
       "    <tr>\n",
       "      <th>57</th>\n",
       "      <td>Якутск Орджоникидзе, 56</td>\n",
       "      <td>57</td>\n",
       "    </tr>\n",
       "  </tbody>\n",
       "</table>\n",
       "</div>"
      ],
      "text/plain": [
       "                  shop_name  shop_id\n",
       "57  Якутск Орджоникидзе, 56       57"
      ]
     },
     "execution_count": 9,
     "metadata": {},
     "output_type": "execute_result"
    }
   ],
   "source": [
    "shop_df[shop_df.shop_id == 57]"
   ]
  },
  {
   "cell_type": "markdown",
   "metadata": {},
   "source": [
    "The shop_id 0 and 57 are the same shop. And other pairs are 1 and 58, 10 and 11."
   ]
  },
  {
   "cell_type": "code",
   "execution_count": 10,
   "metadata": {},
   "outputs": [],
   "source": [
    "# Якутск Орджоникидзе, 56\n",
    "sales_df.at[sales_df.shop_id == 0, 'shop_id'] = 57\n",
    "# Якутск ТЦ \"Центральный\"\n",
    "sales_df.at[sales_df.shop_id == 1, 'shop_id'] = 58\n",
    "# Жуковский ул. Чкалова 39м²\n",
    "sales_df.at[sales_df.shop_id == 10, 'shop_id'] = 11"
   ]
  },
  {
   "cell_type": "markdown",
   "metadata": {},
   "source": [
    "## Extract Features"
   ]
  },
  {
   "cell_type": "markdown",
   "metadata": {},
   "source": [
    "+ **Feature 'r' series**: Sales record"
   ]
  },
  {
   "cell_type": "code",
   "execution_count": 11,
   "metadata": {},
   "outputs": [],
   "source": [
    "def _rename(prefix):\n",
    "    cols = ['2013-01', '2013-02', '2013-03', '2013-04','2013-05','2013-06','2013-07','2013-08','2013-09','2013-10','2013-11','2013-12','2014-01','2014-02','2014-03','2014-04','2014-05','2014-06','2014-07','2014-08','2014-09','2014-10','2014-11','2014-12','2015-01','2015-02','2015-03','2015-04','2015-05','2015-06','2015-07','2015-08', '2015-09','2015-10']\n",
    "    \n",
    "    result = {}\n",
    "    for i in range(1, len(cols) + 1, 1):\n",
    "        result[cols[i-1]] = prefix + str(i)\n",
    "    \n",
    "    return result"
   ]
  },
  {
   "cell_type": "code",
   "execution_count": 12,
   "metadata": {},
   "outputs": [],
   "source": [
    "t = sales_df.groupby([sales_df.date.apply(lambda x: x.strftime('%Y-%m')),'item_id','shop_id']).agg({'item_cnt_day': 'sum'}).reset_index()\n",
    "t = t[['date','item_id','shop_id','item_cnt_day']]\n",
    "t = t.pivot_table(index=['item_id','shop_id'], columns='date',values='item_cnt_day',fill_value=0).reset_index()\n",
    "t = t.rename(index=str, columns=_rename('r'))\n",
    "sales_detail_df = t.copy()\n",
    "\n",
    "del t\n",
    "gc.collect()\n",
    "\n",
    "sales_detail_df = _transfer_type(sales_detail_df, ['item_id', 'shop_id'], np.int16)\n",
    "\n",
    "arr = []\n",
    "for i in range(1, 35, 1):\n",
    "    arr.append('r'+str(i))\n",
    "    \n",
    "sales_detail_df = _transfer_type(sales_detail_df, arr, np.float16)\n",
    "sales_detail_df = sales_detail_df.drop_duplicates(['item_id', 'shop_id'])"
   ]
  },
  {
   "cell_type": "code",
   "execution_count": 16,
   "metadata": {},
   "outputs": [
    {
     "name": "stdout",
     "output_type": "stream",
     "text": [
      "<class 'pandas.core.frame.DataFrame'>\n",
      "Int64Index: 523789 entries, 0 to 523788\n",
      "Data columns (total 36 columns):\n",
      "item_id    523789 non-null int64\n",
      "shop_id    523789 non-null int64\n",
      "r1         523789 non-null float16\n",
      "r2         523789 non-null float16\n",
      "r3         523789 non-null float16\n",
      "r4         523789 non-null float16\n",
      "r5         523789 non-null float16\n",
      "r6         523789 non-null float16\n",
      "r7         523789 non-null float16\n",
      "r8         523789 non-null float16\n",
      "r9         523789 non-null float16\n",
      "r10        523789 non-null float16\n",
      "r11        523789 non-null float16\n",
      "r12        523789 non-null float16\n",
      "r13        523789 non-null float16\n",
      "r14        523789 non-null float16\n",
      "r15        523789 non-null float16\n",
      "r16        523789 non-null float16\n",
      "r17        523789 non-null float16\n",
      "r18        523789 non-null float16\n",
      "r19        523789 non-null float16\n",
      "r20        523789 non-null float16\n",
      "r21        523789 non-null float16\n",
      "r22        523789 non-null float16\n",
      "r23        523789 non-null float16\n",
      "r24        523789 non-null float16\n",
      "r25        523789 non-null float16\n",
      "r26        523789 non-null float16\n",
      "r27        523789 non-null float16\n",
      "r28        523789 non-null float16\n",
      "r29        523789 non-null float16\n",
      "r30        523789 non-null float16\n",
      "r31        523789 non-null float16\n",
      "r32        523789 non-null float16\n",
      "r33        523789 non-null float16\n",
      "r34        523789 non-null float16\n",
      "dtypes: float16(34), int64(2)\n",
      "memory usage: 46.0 MB\n"
     ]
    }
   ],
   "source": [
    "leak_df = test_df[['item_id', 'shop_id']].drop_duplicates()\n",
    "sales_detail_df = pd.merge(sales_detail_df, leak_df, on=['item_id', 'shop_id'], how='outer')\n",
    "sales_detail_df = sales_detail_df.fillna(0)\n",
    "sales_detail_df.info()"
   ]
  },
  {
   "cell_type": "code",
   "execution_count": 17,
   "metadata": {},
   "outputs": [],
   "source": [
    "def _extract(df, i, is_test=False):\n",
    "    arr = ['item_id','shop_id']\n",
    "    for j in range(1, 25, 1):\n",
    "        arr = arr + ['r' + str(i-j)]\n",
    "    \n",
    "    if not is_test:\n",
    "        arr = arr + ['r' + str(i)]\n",
    "    \n",
    "    tdf = df[arr]\n",
    "    tdf['date_block_num'] = i - 1\n",
    "    \n",
    "    return tdf"
   ]
  },
  {
   "cell_type": "code",
   "execution_count": 18,
   "metadata": {},
   "outputs": [
    {
     "name": "stderr",
     "output_type": "stream",
     "text": [
      "/Users/leewind/.local/share/virtualenvs/leewind-p6XO93Th/lib/python3.7/site-packages/ipykernel_launcher.py:10: SettingWithCopyWarning: \n",
      "A value is trying to be set on a copy of a slice from a DataFrame.\n",
      "Try using .loc[row_indexer,col_indexer] = value instead\n",
      "\n",
      "See the caveats in the documentation: http://pandas.pydata.org/pandas-docs/stable/indexing.html#indexing-view-versus-copy\n",
      "  # Remove the CWD from sys.path while we load stuff.\n"
     ]
    }
   ],
   "source": [
    "cols = ['item_id','shop_id', 'r1', 'r2', 'r3', 'r4', 'r5', 'r6', 'r7', 'r8', 'r9', 'r10', 'r11', 'r12', 'r13', 'r14', 'r15', 'r16', 'r17', 'r18', 'r19', 'r20', 'r21', 'r22', 'r23', 'r24', 'item_cnt_month', 'date_block_num']\n",
    "sales_record_df = pd.DataFrame(columns=cols)\n",
    "for i in range(25, 35, 1):\n",
    "    tdf = _extract(sales_detail_df, i)\n",
    "    sales_record_df = sales_record_df.append(pd.DataFrame(columns=cols, data=tdf.values))\n",
    "\n",
    "sales_record_df['month'] = sales_record_df['date_block_num'].apply(lambda x: (x % 12) + 1)\n",
    "\n",
    "for i in range(1, 25, 1):\n",
    "    sales_record_df['r'+str(i)] = sales_record_df['r'+str(i)].astype(np.float16)\n",
    "\n",
    "sales_record_df = _transfer_type(sales_record_df, ['item_id', 'shop_id', 'date_block_num', 'month'], np.int16)\n",
    "sales_record_df = _transfer_type(sales_record_df, ['item_cnt_month'], np.float16)\n",
    "sales_record_df = sales_record_df.fillna(0)"
   ]
  },
  {
   "cell_type": "markdown",
   "metadata": {},
   "source": [
    "+ **Feature 'city'**: Each shop_name starts with the city name."
   ]
  },
  {
   "cell_type": "code",
   "execution_count": 19,
   "metadata": {},
   "outputs": [],
   "source": [
    "shop_df.loc[shop_df.shop_name == 'Сергиев Посад ТЦ \"7Я\"', 'shop_name'] = 'СергиевПосад ТЦ \"7Я\"'\n",
    "shop_df['shop_name'] = shop_df['shop_name'].astype(str)\n",
    "shop_df['city'] = shop_df['shop_name'].str.split(' ').map(lambda x: x[0])\n",
    "shop_df.loc[shop_df.city == '!Якутск', 'city'] = 'Якутск'\n",
    "\n",
    "encoder = LabelEncoder()\n",
    "encoder.fit(shop_df['city'])\n",
    "shop_df['city_code'] = encoder.transform(shop_df['city'])"
   ]
  },
  {
   "cell_type": "markdown",
   "metadata": {},
   "source": [
    "+ **Feature 'type'**: Each category contains type and subtype in its name.\n",
    "+ **Feature 'subtype'**: Each category contains type and subtype in its name."
   ]
  },
  {
   "cell_type": "code",
   "execution_count": 20,
   "metadata": {},
   "outputs": [],
   "source": [
    "category_df['item_category_name'] = category_df['item_category_name'].astype(str)\n",
    "category_df['type'] = category_df['item_category_name'].map(lambda x: x.split('-')[0].strip())\n",
    "\n",
    "encoder = LabelEncoder()\n",
    "encoder.fit(category_df['type'])\n",
    "category_df['type_code'] = encoder.transform(category_df['type'])"
   ]
  },
  {
   "cell_type": "code",
   "execution_count": 21,
   "metadata": {},
   "outputs": [],
   "source": [
    "category_df['subtype'] = category_df['item_category_name'].map(lambda x: x.split('-')[1].strip() if len(x.split('-')) > 1 else x.split('-')[0].strip())\n",
    "\n",
    "encoder = LabelEncoder()\n",
    "encoder.fit(category_df['subtype'])\n",
    "category_df['subtype_code'] = encoder.transform(category_df['subtype'])"
   ]
  },
  {
   "cell_type": "markdown",
   "metadata": {},
   "source": [
    "## Merge Data into one entity"
   ]
  },
  {
   "cell_type": "code",
   "execution_count": 22,
   "metadata": {},
   "outputs": [
    {
     "name": "stdout",
     "output_type": "stream",
     "text": [
      "<class 'pandas.core.frame.DataFrame'>\n",
      "Int64Index: 5237890 entries, 0 to 5237889\n",
      "Data columns (total 33 columns):\n",
      "item_id             int16\n",
      "shop_id             int16\n",
      "r1                  float16\n",
      "r2                  float16\n",
      "r3                  float16\n",
      "r4                  float16\n",
      "r5                  float16\n",
      "r6                  float16\n",
      "r7                  float16\n",
      "r8                  float16\n",
      "r9                  float16\n",
      "r10                 float16\n",
      "r11                 float16\n",
      "r12                 float16\n",
      "r13                 float16\n",
      "r14                 float16\n",
      "r15                 float16\n",
      "r16                 float16\n",
      "r17                 float16\n",
      "r18                 float16\n",
      "r19                 float16\n",
      "r20                 float16\n",
      "r21                 float16\n",
      "r22                 float16\n",
      "r23                 float16\n",
      "r24                 float16\n",
      "item_cnt_month      float16\n",
      "date_block_num      int16\n",
      "month               int16\n",
      "item_category_id    int16\n",
      "city_code           int16\n",
      "type_code           int16\n",
      "subtype_code        int16\n",
      "dtypes: float16(25), int16(8)\n",
      "memory usage: 369.6 MB\n"
     ]
    }
   ],
   "source": [
    "sales_record_df = pd.merge(sales_record_df, item_df, on=['item_id'], how='left')\n",
    "sales_record_df = pd.merge(sales_record_df, shop_df, on=['shop_id'], how='left')\n",
    "sales_record_df = pd.merge(sales_record_df, category_df, on=['item_category_id'], how='left')\n",
    "sales_record_df = sales_record_df.fillna(0)\n",
    "\n",
    "sales_record_df = sales_record_df.drop(['city', 'type', 'subtype', 'item_name', 'shop_name', 'item_category_name'], axis=1)\n",
    "sales_record_df = _transfer_type(sales_record_df, ['item_category_id', 'city_code', 'type_code', 'subtype_code'], np.int16)\n",
    "\n",
    "sales_record_df.info()"
   ]
  },
  {
   "cell_type": "code",
   "execution_count": 23,
   "metadata": {},
   "outputs": [],
   "source": [
    "def _mean(df, prefix):\n",
    "    \n",
    "    df[prefix + '25'] = 0\n",
    "    for i in range(1, 25, 1):\n",
    "        df[prefix + '25'] = df[prefix + '25'] + df[prefix + str(i)]\n",
    "    \n",
    "    df[prefix + '25'] = df[prefix + '25'] /24\n",
    "    df[prefix + '25'] = df[prefix + '25'].fillna(0).astype(np.float16)\n",
    "    return df"
   ]
  },
  {
   "cell_type": "code",
   "execution_count": 24,
   "metadata": {},
   "outputs": [],
   "source": [
    "sales_record_df = _mean(sales_record_df, 'r')"
   ]
  },
  {
   "cell_type": "code",
   "execution_count": 25,
   "metadata": {},
   "outputs": [],
   "source": [
    "def _agg(df, cols, prefix):\n",
    "    \n",
    "    result = df[cols].drop_duplicates()\n",
    "    \n",
    "    for i in range(1, 25, 1):\n",
    "        t = df.groupby(cols)['r'+str(i)].mean().fillna(0).astype(np.float16).reset_index(name=prefix+str(i))\n",
    "        result = pd.merge(result, t, on=cols, how='left')\n",
    "    \n",
    "    result = _mean(result, prefix)\n",
    "    \n",
    "    return result"
   ]
  },
  {
   "cell_type": "code",
   "execution_count": 26,
   "metadata": {},
   "outputs": [],
   "source": [
    "sc_df = _agg(sales_record_df, ['shop_id', 'item_category_id'], 'sc')\n",
    "st_df = _agg(sales_record_df, ['shop_id', 'type_code'], 'st')\n",
    "i_df = _agg(sales_record_df, ['item_id'], 'i')\n",
    "it_df = _agg(sales_record_df, ['item_category_id'], 'it')\n",
    "s_df = _agg(sales_record_df, ['shop_id'], 's')\n",
    "c_df = _agg(sales_record_df, ['city_code'], 'c')\n",
    "\n",
    "sales_record_df = pd.merge(sales_record_df, sc_df, on=['shop_id', 'item_category_id'], how='left')\n",
    "sales_record_df = pd.merge(sales_record_df, st_df, on=['shop_id', 'type_code'], how='left')\n",
    "sales_record_df = pd.merge(sales_record_df, i_df, on=['item_id'], how='left')\n",
    "sales_record_df = pd.merge(sales_record_df, it_df, on=['item_category_id'], how='left')\n",
    "sales_record_df = pd.merge(sales_record_df, s_df, on=['shop_id'], how='left')\n",
    "sales_record_df = pd.merge(sales_record_df, c_df, on=['city_code'], how='left')"
   ]
  },
  {
   "cell_type": "code",
   "execution_count": 28,
   "metadata": {},
   "outputs": [
    {
     "name": "stdout",
     "output_type": "stream",
     "text": [
      "<class 'pandas.core.frame.DataFrame'>\n",
      "Int64Index: 5237890 entries, 0 to 5237889\n",
      "Columns: 184 entries, item_id to c25\n",
      "dtypes: float16(176), int16(8)\n",
      "memory usage: 1.8 GB\n"
     ]
    }
   ],
   "source": [
    "sales_record_df = sales_record_df.fillna(0)\n",
    "sales_record_df.info()"
   ]
  },
  {
   "cell_type": "markdown",
   "metadata": {},
   "source": [
    "## Feature Selection"
   ]
  },
  {
   "cell_type": "code",
   "execution_count": 29,
   "metadata": {},
   "outputs": [
    {
     "data": {
      "text/plain": [
       "array(['item_id', 'shop_id', 'r1', 'r2', 'r3', 'r4', 'r5', 'r6', 'r7',\n",
       "       'r8', 'r9', 'r10', 'r11', 'r12', 'r13', 'r14', 'r15', 'r16', 'r17',\n",
       "       'r18', 'r19', 'r20', 'r21', 'r22', 'r23', 'r24', 'item_cnt_month',\n",
       "       'date_block_num', 'month', 'item_category_id', 'city_code',\n",
       "       'type_code', 'subtype_code', 'r25', 'sc1', 'sc2', 'sc3', 'sc4',\n",
       "       'sc5', 'sc6', 'sc7', 'sc8', 'sc9', 'sc10', 'sc11', 'sc12', 'sc13',\n",
       "       'sc14', 'sc15', 'sc16', 'sc17', 'sc18', 'sc19', 'sc20', 'sc21',\n",
       "       'sc22', 'sc23', 'sc24', 'sc25', 'st1', 'st2', 'st3', 'st4', 'st5',\n",
       "       'st6', 'st7', 'st8', 'st9', 'st10', 'st11', 'st12', 'st13', 'st14',\n",
       "       'st15', 'st16', 'st17', 'st18', 'st19', 'st20', 'st21', 'st22',\n",
       "       'st23', 'st24', 'st25', 'i1', 'i2', 'i3', 'i4', 'i5', 'i6', 'i7',\n",
       "       'i8', 'i9', 'i10', 'i11', 'i12', 'i13', 'i14', 'i15', 'i16', 'i17',\n",
       "       'i18', 'i19', 'i20', 'i21', 'i22', 'i23', 'i24', 'i25', 'it1',\n",
       "       'it2', 'it3', 'it4', 'it5', 'it6', 'it7', 'it8', 'it9', 'it10',\n",
       "       'it11', 'it12', 'it13', 'it14', 'it15', 'it16', 'it17', 'it18',\n",
       "       'it19', 'it20', 'it21', 'it22', 'it23', 'it24', 'it25', 's1', 's2',\n",
       "       's3', 's4', 's5', 's6', 's7', 's8', 's9', 's10', 's11', 's12',\n",
       "       's13', 's14', 's15', 's16', 's17', 's18', 's19', 's20', 's21',\n",
       "       's22', 's23', 's24', 's25', 'c1', 'c2', 'c3', 'c4', 'c5', 'c6',\n",
       "       'c7', 'c8', 'c9', 'c10', 'c11', 'c12', 'c13', 'c14', 'c15', 'c16',\n",
       "       'c17', 'c18', 'c19', 'c20', 'c21', 'c22', 'c23', 'c24', 'c25'],\n",
       "      dtype=object)"
      ]
     },
     "execution_count": 29,
     "metadata": {},
     "output_type": "execute_result"
    }
   ],
   "source": [
    "dataset = sales_record_df\n",
    "dataset.columns.values"
   ]
  },
  {
   "cell_type": "markdown",
   "metadata": {},
   "source": [
    "划分测试和训练集合"
   ]
  },
  {
   "cell_type": "code",
   "execution_count": 30,
   "metadata": {},
   "outputs": [],
   "source": [
    "dataset_beta = dataset[dataset.date_block_num < 33]\n",
    "dataset_alpha = dataset[dataset.date_block_num == 33]"
   ]
  },
  {
   "cell_type": "code",
   "execution_count": 31,
   "metadata": {},
   "outputs": [],
   "source": [
    "features = [\n",
    "    'item_id', 'shop_id', 'r1', 'r2', 'r3', 'r4', 'r5', 'r6', 'r7',\n",
    "    'r8', 'r9', 'r10', 'r11', 'r12', 'r13', 'r14', 'r15', 'r16', 'r17',\n",
    "    'r18', 'r19', 'r20', 'r21', 'r22', 'r23', 'r24',\n",
    "    'date_block_num', 'month', 'item_category_id', 'city_code',\n",
    "    'type_code', 'subtype_code', 'r25', 'sc1', 'sc2', 'sc3', 'sc4',\n",
    "    'sc5', 'sc6', 'sc7', 'sc8', 'sc9', 'sc10', 'sc11', 'sc12', 'sc13',\n",
    "    'sc14', 'sc15', 'sc16', 'sc17', 'sc18', 'sc19', 'sc20', 'sc21',\n",
    "    'sc22', 'sc23', 'sc24', 'sc25', 'st1', 'st2', 'st3', 'st4', 'st5',\n",
    "    'st6', 'st7', 'st8', 'st9', 'st10', 'st11', 'st12', 'st13', 'st14',\n",
    "    'st15', 'st16', 'st17', 'st18', 'st19', 'st20', 'st21', 'st22',\n",
    "    'st23', 'st24', 'st25', 'i1', 'i2', 'i3', 'i4', 'i5', 'i6', 'i7',\n",
    "    'i8', 'i9', 'i10', 'i11', 'i12', 'i13', 'i14', 'i15', 'i16', 'i17',\n",
    "    'i18', 'i19', 'i20', 'i21', 'i22', 'i23', 'i24', 'i25', 'it1',\n",
    "    'it2', 'it3', 'it4', 'it5', 'it6', 'it7', 'it8', 'it9', 'it10',\n",
    "    'it11', 'it12', 'it13', 'it14', 'it15', 'it16', 'it17', 'it18',\n",
    "    'it19', 'it20', 'it21', 'it22', 'it23', 'it24', 'it25', 's1', 's2',\n",
    "    's3', 's4', 's5', 's6', 's7', 's8', 's9', 's10', 's11', 's12',\n",
    "    's13', 's14', 's15', 's16', 's17', 's18', 's19', 's20', 's21',\n",
    "    's22', 's23', 's24', 's25', 'c1', 'c2', 'c3', 'c4', 'c5', 'c6',\n",
    "    'c7', 'c8', 'c9', 'c10', 'c11', 'c12', 'c13', 'c14', 'c15', 'c16',\n",
    "    'c17', 'c18', 'c19', 'c20', 'c21', 'c22', 'c23', 'c24', 'c25'\n",
    "]\n",
    "label = 'item_cnt_month'"
   ]
  },
  {
   "cell_type": "markdown",
   "metadata": {},
   "source": [
    "## Train"
   ]
  },
  {
   "cell_type": "markdown",
   "metadata": {},
   "source": [
    "### 全量数据进行训练"
   ]
  },
  {
   "cell_type": "code",
   "execution_count": 32,
   "metadata": {},
   "outputs": [],
   "source": [
    "import xgboost as xgb\n",
    "from sklearn.model_selection import train_test_split\n",
    "\n",
    "X_train, X_test, y_train, y_test = train_test_split(dataset_beta[features], dataset_beta[label], test_size=0.3, random_state=2019)\n",
    "train_dmatrix = xgb.DMatrix(X_train, label=y_train)\n",
    "valid_dmatrix = xgb.DMatrix(X_test, label=y_test)"
   ]
  },
  {
   "cell_type": "code",
   "execution_count": null,
   "metadata": {},
   "outputs": [],
   "source": [
    "watchlist = [(train_dmatrix, 'train'), (valid_dmatrix, 'validate')] \n",
    "\n",
    "params = {\n",
    "  'booster': 'gbtree',\n",
    "  'objective': 'reg:linear',\n",
    "  'eta': 0.1,\n",
    "  'gamma': 0.7000000000000001,\n",
    "  'min_child_weight': 7,\n",
    "  'max_depth': 4,\n",
    "  'subsample': 0.5,\n",
    "  'colsample_bytree': 0.1,\n",
    "#   'num_round': 190,\n",
    "  'nthread': 2,\n",
    "  'silent': 0,\n",
    "  'seed': 2019,\n",
    "  \"max_evals\": 200,\n",
    "}\n",
    "\n",
    "watchlist = [(train_dmatrix, 'train'), (valid_dmatrix, 'validate')] \n",
    "bst = xgb.train(params, train_dmatrix, evals=watchlist, early_stopping_rounds=10, num_boost_round=190)"
   ]
  },
  {
   "cell_type": "code",
   "execution_count": null,
   "metadata": {},
   "outputs": [],
   "source": [
    "model = xgb.train(params, train_dmatrix, num_boost_round=bst.best_iteration)"
   ]
  },
  {
   "cell_type": "code",
   "execution_count": null,
   "metadata": {},
   "outputs": [],
   "source": [
    "from sklearn.metrics import mean_squared_error\n",
    "from math import sqrt\n",
    "\n",
    "t = pd.merge(test_df, dataset_alpha, on=['shop_id', 'item_id'], how='left')\n",
    "test_dmatrix = xgb.DMatrix(t[features], label=t[label])\n",
    "\n",
    "pred = model.predict(test_dmatrix)\n",
    "sqrt(mean_squared_error(t[label], pred))"
   ]
  },
  {
   "cell_type": "markdown",
   "metadata": {},
   "source": [
    "## Predict"
   ]
  },
  {
   "cell_type": "code",
   "execution_count": 36,
   "metadata": {},
   "outputs": [
    {
     "name": "stderr",
     "output_type": "stream",
     "text": [
      "/Users/leewind/.local/share/virtualenvs/leewind-p6XO93Th/lib/python3.7/site-packages/ipykernel_launcher.py:10: SettingWithCopyWarning: \n",
      "A value is trying to be set on a copy of a slice from a DataFrame.\n",
      "Try using .loc[row_indexer,col_indexer] = value instead\n",
      "\n",
      "See the caveats in the documentation: http://pandas.pydata.org/pandas-docs/stable/indexing.html#indexing-view-versus-copy\n",
      "  # Remove the CWD from sys.path while we load stuff.\n"
     ]
    },
    {
     "name": "stdout",
     "output_type": "stream",
     "text": [
      "<class 'pandas.core.frame.DataFrame'>\n",
      "Int64Index: 214200 entries, 0 to 214199\n",
      "Columns: 183 entries, shop_id to c25\n",
      "dtypes: float16(151), float64(25), int16(5), int64(2)\n",
      "memory usage: 109.5 MB\n"
     ]
    }
   ],
   "source": [
    "tdf = _extract(sales_detail_df, 35, is_test=True)\n",
    "t_cols = ['item_id','shop_id', 'r1', 'r2', 'r3', 'r4', 'r5', 'r6', 'r7', 'r8', 'r9', 'r10', 'r11', 'r12', 'r13', 'r14', 'r15', 'r16', 'r17', 'r18', 'r19', 'r20', 'r21', 'r22', 'r23', 'r24', 'date_block_num']\n",
    "tdf = pd.DataFrame(columns=t_cols, data=tdf.values)\n",
    "tdf = tdf.drop_duplicates(['item_id','shop_id'])\n",
    "\n",
    "dataset_predict = pd.merge(test_df, tdf, on=['item_id', 'shop_id'], how='left')\n",
    "dataset_predict = dataset_predict.fillna(0)\n",
    "\n",
    "dataset_predict = pd.merge(dataset_predict, item_df, on=['item_id'], how='left')\n",
    "dataset_predict = pd.merge(dataset_predict, shop_df, on=['shop_id'], how='left')\n",
    "dataset_predict = pd.merge(dataset_predict, category_df, on=['item_category_id'], how='left')\n",
    "\n",
    "dataset_predict['month'] = dataset_predict['date_block_num'].apply(lambda x: (x % 12) + 1)\n",
    "\n",
    "dataset_predict = dataset_predict.drop(['city', 'type', 'subtype', 'item_name', 'shop_name', 'item_category_name'], axis=1)\n",
    "dataset_predict = _transfer_type(dataset_predict, ['item_category_id', 'city_code', 'type_code', 'subtype_code', 'month'], np.int16)\n",
    "\n",
    "dataset_predict = _mean(dataset_predict, 'r')\n",
    "\n",
    "sc_df = _agg(dataset_predict, ['shop_id', 'item_category_id'], 'sc')\n",
    "st_df = _agg(dataset_predict, ['shop_id', 'type_code'], 'st')\n",
    "i_df = _agg(dataset_predict, ['item_id'], 'i')\n",
    "it_df = _agg(dataset_predict, ['item_category_id'], 'it')\n",
    "s_df = _agg(dataset_predict, ['shop_id'], 's')\n",
    "c_df = _agg(dataset_predict, ['city_code'], 'c')\n",
    "\n",
    "dataset_predict = pd.merge(dataset_predict, sc_df, on=['shop_id', 'item_category_id'], how='left')\n",
    "dataset_predict = pd.merge(dataset_predict, st_df, on=['shop_id', 'type_code'], how='left')\n",
    "dataset_predict = pd.merge(dataset_predict, i_df, on=['item_id'], how='left')\n",
    "dataset_predict = pd.merge(dataset_predict, it_df, on=['item_category_id'], how='left')\n",
    "dataset_predict = pd.merge(dataset_predict, s_df, on=['shop_id'], how='left')\n",
    "dataset_predict = pd.merge(dataset_predict, c_df, on=['city_code'], how='left')\n",
    "dataset_predict = dataset_predict.fillna(0)\n",
    "dataset_predict.info()"
   ]
  },
  {
   "cell_type": "code",
   "execution_count": 37,
   "metadata": {},
   "outputs": [],
   "source": [
    "predict_dmatrix = xgb.DMatrix(dataset_predict[features])\n",
    "pred = model.predict(predict_dmatrix)"
   ]
  },
  {
   "cell_type": "code",
   "execution_count": 38,
   "metadata": {},
   "outputs": [],
   "source": [
    "# pred = list(map(lambda x: min(20,max(x,0)), list(pred)))\n",
    "\n",
    "submission = pd.DataFrame({\n",
    "    \"ID\": test_df.index, \n",
    "    \"item_cnt_month\": pred.clip(0, 20)\n",
    "})\n",
    "\n",
    "submission.to_csv('submission.csv', index=False)"
   ]
  },
  {
   "cell_type": "markdown",
   "metadata": {},
   "source": [
    "# Reference"
   ]
  },
  {
   "cell_type": "markdown",
   "metadata": {},
   "source": [
    "## Normal ML Analysis\n",
    "\n",
    "+ [Feature engineering, xgboost](https://www.kaggle.com/dlarionov/feature-engineering-xgboost)\n",
    "+ [Predicting sales using Lightgbm](https://www.kaggle.com/sanket30/predicting-sales-using-lightgbm)"
   ]
  },
  {
   "cell_type": "markdown",
   "metadata": {},
   "source": [
    "## Time Series\n",
    "\n",
    "对于revenge的预测很有帮助，但是对于单个店的单个商品而言没有实际的意义，这种预测方式的学习非常有益处\n",
    "\n",
    "+ [AR(I)MA时间序列建模过程——步骤和python代码](https://www.jianshu.com/p/cced6617b423)\n",
    "+ [python时间序列分析](http://www.cnblogs.com/foley/p/5582358.html)\n",
    "+ [AR、MA及ARMA模型](https://zhuanlan.zhihu.com/p/22248464)\n",
    "+ [Time Series with Python (ODSC) STA.ipynb](https://github.com/ultimatist/ODSC17/blob/master/Time%20Series%20with%20Python%20(ODSC)%20STA.ipynb)\n",
    "+ [Getting Started with Time Series](https://pyflux.readthedocs.io/en/latest/getting_started.html)\n",
    "+ [Welcome to Statsmodels’s Documentation](http://www.statsmodels.org/devel/index.html)"
   ]
  }
 ],
 "metadata": {
  "kernelspec": {
   "display_name": "Python 3",
   "language": "python",
   "name": "python3"
  },
  "language_info": {
   "codemirror_mode": {
    "name": "ipython",
    "version": 3
   },
   "file_extension": ".py",
   "mimetype": "text/x-python",
   "name": "python",
   "nbconvert_exporter": "python",
   "pygments_lexer": "ipython3",
   "version": "3.7.1"
  }
 },
 "nbformat": 4,
 "nbformat_minor": 2
}
