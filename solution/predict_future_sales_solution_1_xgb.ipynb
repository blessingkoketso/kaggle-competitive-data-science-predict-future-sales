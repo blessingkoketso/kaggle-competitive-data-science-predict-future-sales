{
 "cells": [
  {
   "cell_type": "code",
   "execution_count": 1,
   "metadata": {},
   "outputs": [],
   "source": [
    "import numpy as np\n",
    "import pandas as pd\n",
    "import seaborn as sns\n",
    "import matplotlib.pyplot as plt\n",
    "from scipy import stats\n",
    "import logging\n",
    "import datetime\n",
    "\n",
    "from sklearn.preprocessing import OneHotEncoder,MinMaxScaler, Normalizer, LabelEncoder\n",
    "from sklearn.feature_selection import SelectKBest,chi2,SelectFromModel\n",
    "from xgboost import XGBClassifier, XGBRegressor\n",
    "from sklearn.pipeline import Pipeline, FeatureUnion\n",
    "from sklearn.base import BaseEstimator, TransformerMixin\n",
    "from sklearn.model_selection import GridSearchCV\n",
    "from sklearn.impute import SimpleImputer\n",
    "from xgboost import plot_importance\n",
    "from mlxtend.preprocessing import DenseTransformer\n",
    "from mlxtend.feature_selection import ColumnSelector\n",
    "from itertools import product\n",
    "\n",
    "sns.set(color_codes=True)"
   ]
  },
  {
   "cell_type": "code",
   "execution_count": 2,
   "metadata": {},
   "outputs": [],
   "source": [
    "logger = logging.getLogger('ai')\n",
    "logging.basicConfig(level=logging.DEBUG,\n",
    "                    format='%(asctime)s  %(filename)s : %(levelname)s  %(message)s')"
   ]
  },
  {
   "cell_type": "markdown",
   "metadata": {},
   "source": [
    "# Features Engineering"
   ]
  },
  {
   "cell_type": "markdown",
   "metadata": {},
   "source": [
    "## outliers"
   ]
  },
  {
   "cell_type": "code",
   "execution_count": 3,
   "metadata": {},
   "outputs": [],
   "source": [
    "dateparse = lambda x: pd.datetime.strptime(x, '%d.%m.%Y')\n",
    "sales_df = pd.read_csv('../input/sales_train.csv', parse_dates = ['date'], date_parser=dateparse)"
   ]
  },
  {
   "cell_type": "code",
   "execution_count": 4,
   "metadata": {},
   "outputs": [],
   "source": [
    "item_df = pd.read_csv('../input/items.csv')\n",
    "shop_df = pd.read_csv('../input/shops.csv')\n",
    "category_df = pd.read_csv('../input/item_categories.csv')"
   ]
  },
  {
   "cell_type": "code",
   "execution_count": 5,
   "metadata": {},
   "outputs": [],
   "source": [
    "test_df = pd.read_csv('../input/test.csv').set_index('ID')"
   ]
  },
  {
   "cell_type": "markdown",
   "metadata": {},
   "source": [
    "### Clear the data out of range"
   ]
  },
  {
   "cell_type": "code",
   "execution_count": 6,
   "metadata": {},
   "outputs": [
    {
     "name": "stderr",
     "output_type": "stream",
     "text": [
      "2019-02-16 12:25:26,969  <ipython-input-6-ea685e07fb41> : INFO  item_price more than 100000 is 1\n",
      "2019-02-16 12:25:26,974  <ipython-input-6-ea685e07fb41> : INFO  item_cnt_day more than 1000 is 1\n"
     ]
    }
   ],
   "source": [
    "logger.info(\"item_price more than 100000 is %d\" % sales_df[sales_df.item_price > 100000].shape[0])\n",
    "logger.info(\"item_cnt_day more than 1000 is %d\" % sales_df[sales_df.item_cnt_day > 1000].shape[0])"
   ]
  },
  {
   "cell_type": "code",
   "execution_count": 7,
   "metadata": {},
   "outputs": [],
   "source": [
    "sales_df = sales_df[sales_df.item_price<100000]\n",
    "sales_df = sales_df[sales_df.item_cnt_day<1000]"
   ]
  },
  {
   "cell_type": "markdown",
   "metadata": {},
   "source": [
    "### Correct the negative item price"
   ]
  },
  {
   "cell_type": "code",
   "execution_count": 8,
   "metadata": {},
   "outputs": [
    {
     "data": {
      "text/html": [
       "<div>\n",
       "<style scoped>\n",
       "    .dataframe tbody tr th:only-of-type {\n",
       "        vertical-align: middle;\n",
       "    }\n",
       "\n",
       "    .dataframe tbody tr th {\n",
       "        vertical-align: top;\n",
       "    }\n",
       "\n",
       "    .dataframe thead th {\n",
       "        text-align: right;\n",
       "    }\n",
       "</style>\n",
       "<table border=\"1\" class=\"dataframe\">\n",
       "  <thead>\n",
       "    <tr style=\"text-align: right;\">\n",
       "      <th></th>\n",
       "      <th>date</th>\n",
       "      <th>date_block_num</th>\n",
       "      <th>shop_id</th>\n",
       "      <th>item_id</th>\n",
       "      <th>item_price</th>\n",
       "      <th>item_cnt_day</th>\n",
       "    </tr>\n",
       "  </thead>\n",
       "  <tbody>\n",
       "    <tr>\n",
       "      <th>484683</th>\n",
       "      <td>2013-05-15</td>\n",
       "      <td>4</td>\n",
       "      <td>32</td>\n",
       "      <td>2973</td>\n",
       "      <td>-1.0</td>\n",
       "      <td>1.0</td>\n",
       "    </tr>\n",
       "  </tbody>\n",
       "</table>\n",
       "</div>"
      ],
      "text/plain": [
       "             date  date_block_num  shop_id  item_id  item_price  item_cnt_day\n",
       "484683 2013-05-15               4       32     2973        -1.0           1.0"
      ]
     },
     "execution_count": 8,
     "metadata": {},
     "output_type": "execute_result"
    }
   ],
   "source": [
    "sales_df[sales_df.item_price < 0]"
   ]
  },
  {
   "cell_type": "code",
   "execution_count": 9,
   "metadata": {},
   "outputs": [],
   "source": [
    "sales_df.at[484683, 'item_price'] = sales_df[(sales_df.item_id == 2973) & (sales_df.item_price > 0)].item_price.mean()"
   ]
  },
  {
   "cell_type": "markdown",
   "metadata": {},
   "source": [
    "### Adjust duplicates by shop name\n",
    "\n",
    "According to the reference, some shops are duplicates. This feature found is based on the language background."
   ]
  },
  {
   "cell_type": "code",
   "execution_count": 10,
   "metadata": {},
   "outputs": [
    {
     "data": {
      "text/html": [
       "<div>\n",
       "<style scoped>\n",
       "    .dataframe tbody tr th:only-of-type {\n",
       "        vertical-align: middle;\n",
       "    }\n",
       "\n",
       "    .dataframe tbody tr th {\n",
       "        vertical-align: top;\n",
       "    }\n",
       "\n",
       "    .dataframe thead th {\n",
       "        text-align: right;\n",
       "    }\n",
       "</style>\n",
       "<table border=\"1\" class=\"dataframe\">\n",
       "  <thead>\n",
       "    <tr style=\"text-align: right;\">\n",
       "      <th></th>\n",
       "      <th>shop_name</th>\n",
       "      <th>shop_id</th>\n",
       "    </tr>\n",
       "  </thead>\n",
       "  <tbody>\n",
       "    <tr>\n",
       "      <th>0</th>\n",
       "      <td>!Якутск Орджоникидзе, 56 фран</td>\n",
       "      <td>0</td>\n",
       "    </tr>\n",
       "  </tbody>\n",
       "</table>\n",
       "</div>"
      ],
      "text/plain": [
       "                       shop_name  shop_id\n",
       "0  !Якутск Орджоникидзе, 56 фран        0"
      ]
     },
     "execution_count": 10,
     "metadata": {},
     "output_type": "execute_result"
    }
   ],
   "source": [
    "shop_df[shop_df.shop_id == 0]"
   ]
  },
  {
   "cell_type": "code",
   "execution_count": 11,
   "metadata": {},
   "outputs": [
    {
     "data": {
      "text/html": [
       "<div>\n",
       "<style scoped>\n",
       "    .dataframe tbody tr th:only-of-type {\n",
       "        vertical-align: middle;\n",
       "    }\n",
       "\n",
       "    .dataframe tbody tr th {\n",
       "        vertical-align: top;\n",
       "    }\n",
       "\n",
       "    .dataframe thead th {\n",
       "        text-align: right;\n",
       "    }\n",
       "</style>\n",
       "<table border=\"1\" class=\"dataframe\">\n",
       "  <thead>\n",
       "    <tr style=\"text-align: right;\">\n",
       "      <th></th>\n",
       "      <th>shop_name</th>\n",
       "      <th>shop_id</th>\n",
       "    </tr>\n",
       "  </thead>\n",
       "  <tbody>\n",
       "    <tr>\n",
       "      <th>57</th>\n",
       "      <td>Якутск Орджоникидзе, 56</td>\n",
       "      <td>57</td>\n",
       "    </tr>\n",
       "  </tbody>\n",
       "</table>\n",
       "</div>"
      ],
      "text/plain": [
       "                  shop_name  shop_id\n",
       "57  Якутск Орджоникидзе, 56       57"
      ]
     },
     "execution_count": 11,
     "metadata": {},
     "output_type": "execute_result"
    }
   ],
   "source": [
    "shop_df[shop_df.shop_id == 57]"
   ]
  },
  {
   "cell_type": "markdown",
   "metadata": {},
   "source": [
    "The shop_id 0 and 57 are the same shop. And other pairs are 1 and 58, 10 and 11."
   ]
  },
  {
   "cell_type": "code",
   "execution_count": 12,
   "metadata": {},
   "outputs": [],
   "source": [
    "# Якутск Орджоникидзе, 56\n",
    "sales_df.at[sales_df.shop_id == 0, 'shop_id'] = 57\n",
    "# Якутск ТЦ \"Центральный\"\n",
    "sales_df.at[sales_df.shop_id == 1, 'shop_id'] = 58\n",
    "# Жуковский ул. Чкалова 39м²\n",
    "sales_df.at[sales_df.shop_id == 10, 'shop_id'] = 11"
   ]
  },
  {
   "cell_type": "markdown",
   "metadata": {},
   "source": [
    "## Extract Features"
   ]
  },
  {
   "cell_type": "code",
   "execution_count": 13,
   "metadata": {},
   "outputs": [],
   "source": [
    "def _rename(prefix):\n",
    "    cols = ['2013-01', '2013-02', '2013-03', '2013-04','2013-05','2013-06','2013-07','2013-08','2013-09','2013-10','2013-11','2013-12','2014-01','2014-02','2014-03','2014-04','2014-05','2014-06','2014-07','2014-08','2014-09','2014-10','2014-11','2014-12','2015-01','2015-02','2015-03','2015-04','2015-05','2015-06','2015-07','2015-08', '2015-09','2015-10']\n",
    "    \n",
    "    result = {}\n",
    "    for i in range(1, len(cols) + 1, 1):\n",
    "        result[cols[i-1]] = prefix + str(i)\n",
    "    \n",
    "    return result"
   ]
  },
  {
   "cell_type": "markdown",
   "metadata": {},
   "source": [
    "+ **Feature 'r' series**: Sales record"
   ]
  },
  {
   "cell_type": "code",
   "execution_count": 14,
   "metadata": {},
   "outputs": [],
   "source": [
    "t = sales_df.groupby([sales_df.date.apply(lambda x: x.strftime('%Y-%m')),'item_id','shop_id']).agg({'item_cnt_day': 'sum'}).reset_index()\n",
    "\n",
    "t = t[['date','item_id','shop_id','item_cnt_day']]\n",
    "t = t.pivot_table(index=['item_id','shop_id'], columns='date',values='item_cnt_day',fill_value=0).reset_index()\n",
    "t = t.rename(index=str, columns=_rename('r'))"
   ]
  },
  {
   "cell_type": "markdown",
   "metadata": {},
   "source": [
    "+ **Feature 'p' series**: Sale price record"
   ]
  },
  {
   "cell_type": "code",
   "execution_count": 15,
   "metadata": {},
   "outputs": [],
   "source": [
    "p = sales_df.groupby([sales_df.date.apply(lambda x: x.strftime('%Y-%m')),'item_id','shop_id']).agg({'item_price': 'mean'}).reset_index()\n",
    "\n",
    "p = p[['date','item_id','shop_id', 'item_price']]\n",
    "p = p.pivot_table(index=['item_id','shop_id'], columns='date',values='item_price',fill_value=0).reset_index()\n",
    "p = p.rename(index=str, columns=_rename('p'))"
   ]
  },
  {
   "cell_type": "code",
   "execution_count": 16,
   "metadata": {},
   "outputs": [],
   "source": [
    "sales_detail_df = pd.merge(t, p, on=['item_id','shop_id'], how='left')"
   ]
  },
  {
   "cell_type": "code",
   "execution_count": 17,
   "metadata": {},
   "outputs": [],
   "source": [
    "def _extract(df, i, is_test=False):\n",
    "    arr = ['item_id','shop_id']\n",
    "    for j in range(1, 13, 1):\n",
    "        arr = arr + ['r' + str(i-j)]\n",
    "        arr = arr + ['p' + str(i-j)]\n",
    "    \n",
    "    if not is_test:\n",
    "        arr = arr + ['r' + str(i)]\n",
    "    \n",
    "    tdf = df[arr]\n",
    "    tdf['date_block_num'] = i - 1\n",
    "    \n",
    "    return tdf"
   ]
  },
  {
   "cell_type": "code",
   "execution_count": 18,
   "metadata": {},
   "outputs": [
    {
     "name": "stderr",
     "output_type": "stream",
     "text": [
      "/Users/leewind/.local/share/virtualenvs/leewind-p6XO93Th/lib/python3.7/site-packages/ipykernel_launcher.py:11: SettingWithCopyWarning: \n",
      "A value is trying to be set on a copy of a slice from a DataFrame.\n",
      "Try using .loc[row_indexer,col_indexer] = value instead\n",
      "\n",
      "See the caveats in the documentation: http://pandas.pydata.org/pandas-docs/stable/indexing.html#indexing-view-versus-copy\n",
      "  # This is added back by InteractiveShellApp.init_path()\n"
     ]
    }
   ],
   "source": [
    "cols = ['item_id','shop_id', 'r1', 'p1', 'r2', 'p2', 'r3', 'p3', 'r4', 'p4', 'r5', 'p5', 'r6', 'p6', 'r7', 'p7', 'r8', 'p8', 'r9', 'p9', 'r10', 'p10', 'r11', 'p11', 'r12', 'p12','item_cnt_month', 'date_block_num']\n",
    "sales_record_df = pd.DataFrame(columns=cols)\n",
    "for i in range(13, 35, 1):\n",
    "    tdf = _extract(sales_detail_df, i)\n",
    "    sales_record_df = sales_record_df.append(pd.DataFrame(columns=cols, data=tdf.values))"
   ]
  },
  {
   "cell_type": "code",
   "execution_count": 19,
   "metadata": {},
   "outputs": [
    {
     "data": {
      "text/html": [
       "<div>\n",
       "<style scoped>\n",
       "    .dataframe tbody tr th:only-of-type {\n",
       "        vertical-align: middle;\n",
       "    }\n",
       "\n",
       "    .dataframe tbody tr th {\n",
       "        vertical-align: top;\n",
       "    }\n",
       "\n",
       "    .dataframe thead th {\n",
       "        text-align: right;\n",
       "    }\n",
       "</style>\n",
       "<table border=\"1\" class=\"dataframe\">\n",
       "  <thead>\n",
       "    <tr style=\"text-align: right;\">\n",
       "      <th></th>\n",
       "      <th>item_id</th>\n",
       "      <th>shop_id</th>\n",
       "      <th>r1</th>\n",
       "      <th>p1</th>\n",
       "      <th>r2</th>\n",
       "      <th>p2</th>\n",
       "      <th>r3</th>\n",
       "      <th>p3</th>\n",
       "      <th>r4</th>\n",
       "      <th>p4</th>\n",
       "      <th>...</th>\n",
       "      <th>r9</th>\n",
       "      <th>p9</th>\n",
       "      <th>r10</th>\n",
       "      <th>p10</th>\n",
       "      <th>r11</th>\n",
       "      <th>p11</th>\n",
       "      <th>r12</th>\n",
       "      <th>p12</th>\n",
       "      <th>item_cnt_month</th>\n",
       "      <th>date_block_num</th>\n",
       "    </tr>\n",
       "  </thead>\n",
       "  <tbody>\n",
       "    <tr>\n",
       "      <th>2</th>\n",
       "      <td>2.0</td>\n",
       "      <td>54.0</td>\n",
       "      <td>0.0</td>\n",
       "      <td>0.0</td>\n",
       "      <td>0.0</td>\n",
       "      <td>0.0</td>\n",
       "      <td>0.0</td>\n",
       "      <td>0.0</td>\n",
       "      <td>0.0</td>\n",
       "      <td>0.0</td>\n",
       "      <td>...</td>\n",
       "      <td>0.0</td>\n",
       "      <td>0.0</td>\n",
       "      <td>0.0</td>\n",
       "      <td>0.0</td>\n",
       "      <td>0.0</td>\n",
       "      <td>0.0</td>\n",
       "      <td>0.0</td>\n",
       "      <td>0.0</td>\n",
       "      <td>0.0</td>\n",
       "      <td>12.0</td>\n",
       "    </tr>\n",
       "    <tr>\n",
       "      <th>2</th>\n",
       "      <td>2.0</td>\n",
       "      <td>54.0</td>\n",
       "      <td>0.0</td>\n",
       "      <td>0.0</td>\n",
       "      <td>0.0</td>\n",
       "      <td>0.0</td>\n",
       "      <td>0.0</td>\n",
       "      <td>0.0</td>\n",
       "      <td>0.0</td>\n",
       "      <td>0.0</td>\n",
       "      <td>...</td>\n",
       "      <td>0.0</td>\n",
       "      <td>0.0</td>\n",
       "      <td>0.0</td>\n",
       "      <td>0.0</td>\n",
       "      <td>0.0</td>\n",
       "      <td>0.0</td>\n",
       "      <td>0.0</td>\n",
       "      <td>0.0</td>\n",
       "      <td>0.0</td>\n",
       "      <td>13.0</td>\n",
       "    </tr>\n",
       "    <tr>\n",
       "      <th>2</th>\n",
       "      <td>2.0</td>\n",
       "      <td>54.0</td>\n",
       "      <td>0.0</td>\n",
       "      <td>0.0</td>\n",
       "      <td>0.0</td>\n",
       "      <td>0.0</td>\n",
       "      <td>0.0</td>\n",
       "      <td>0.0</td>\n",
       "      <td>0.0</td>\n",
       "      <td>0.0</td>\n",
       "      <td>...</td>\n",
       "      <td>0.0</td>\n",
       "      <td>0.0</td>\n",
       "      <td>0.0</td>\n",
       "      <td>0.0</td>\n",
       "      <td>0.0</td>\n",
       "      <td>0.0</td>\n",
       "      <td>0.0</td>\n",
       "      <td>0.0</td>\n",
       "      <td>0.0</td>\n",
       "      <td>14.0</td>\n",
       "    </tr>\n",
       "    <tr>\n",
       "      <th>2</th>\n",
       "      <td>2.0</td>\n",
       "      <td>54.0</td>\n",
       "      <td>0.0</td>\n",
       "      <td>0.0</td>\n",
       "      <td>0.0</td>\n",
       "      <td>0.0</td>\n",
       "      <td>0.0</td>\n",
       "      <td>0.0</td>\n",
       "      <td>0.0</td>\n",
       "      <td>0.0</td>\n",
       "      <td>...</td>\n",
       "      <td>0.0</td>\n",
       "      <td>0.0</td>\n",
       "      <td>0.0</td>\n",
       "      <td>0.0</td>\n",
       "      <td>0.0</td>\n",
       "      <td>0.0</td>\n",
       "      <td>0.0</td>\n",
       "      <td>0.0</td>\n",
       "      <td>0.0</td>\n",
       "      <td>15.0</td>\n",
       "    </tr>\n",
       "    <tr>\n",
       "      <th>2</th>\n",
       "      <td>2.0</td>\n",
       "      <td>54.0</td>\n",
       "      <td>0.0</td>\n",
       "      <td>0.0</td>\n",
       "      <td>0.0</td>\n",
       "      <td>0.0</td>\n",
       "      <td>0.0</td>\n",
       "      <td>0.0</td>\n",
       "      <td>0.0</td>\n",
       "      <td>0.0</td>\n",
       "      <td>...</td>\n",
       "      <td>0.0</td>\n",
       "      <td>0.0</td>\n",
       "      <td>0.0</td>\n",
       "      <td>0.0</td>\n",
       "      <td>0.0</td>\n",
       "      <td>0.0</td>\n",
       "      <td>0.0</td>\n",
       "      <td>0.0</td>\n",
       "      <td>0.0</td>\n",
       "      <td>16.0</td>\n",
       "    </tr>\n",
       "    <tr>\n",
       "      <th>2</th>\n",
       "      <td>2.0</td>\n",
       "      <td>54.0</td>\n",
       "      <td>0.0</td>\n",
       "      <td>0.0</td>\n",
       "      <td>0.0</td>\n",
       "      <td>0.0</td>\n",
       "      <td>0.0</td>\n",
       "      <td>0.0</td>\n",
       "      <td>0.0</td>\n",
       "      <td>0.0</td>\n",
       "      <td>...</td>\n",
       "      <td>0.0</td>\n",
       "      <td>0.0</td>\n",
       "      <td>0.0</td>\n",
       "      <td>0.0</td>\n",
       "      <td>0.0</td>\n",
       "      <td>0.0</td>\n",
       "      <td>0.0</td>\n",
       "      <td>0.0</td>\n",
       "      <td>0.0</td>\n",
       "      <td>17.0</td>\n",
       "    </tr>\n",
       "    <tr>\n",
       "      <th>2</th>\n",
       "      <td>2.0</td>\n",
       "      <td>54.0</td>\n",
       "      <td>0.0</td>\n",
       "      <td>0.0</td>\n",
       "      <td>0.0</td>\n",
       "      <td>0.0</td>\n",
       "      <td>0.0</td>\n",
       "      <td>0.0</td>\n",
       "      <td>0.0</td>\n",
       "      <td>0.0</td>\n",
       "      <td>...</td>\n",
       "      <td>0.0</td>\n",
       "      <td>0.0</td>\n",
       "      <td>0.0</td>\n",
       "      <td>0.0</td>\n",
       "      <td>0.0</td>\n",
       "      <td>0.0</td>\n",
       "      <td>0.0</td>\n",
       "      <td>0.0</td>\n",
       "      <td>0.0</td>\n",
       "      <td>18.0</td>\n",
       "    </tr>\n",
       "    <tr>\n",
       "      <th>2</th>\n",
       "      <td>2.0</td>\n",
       "      <td>54.0</td>\n",
       "      <td>0.0</td>\n",
       "      <td>0.0</td>\n",
       "      <td>0.0</td>\n",
       "      <td>0.0</td>\n",
       "      <td>0.0</td>\n",
       "      <td>0.0</td>\n",
       "      <td>0.0</td>\n",
       "      <td>0.0</td>\n",
       "      <td>...</td>\n",
       "      <td>0.0</td>\n",
       "      <td>0.0</td>\n",
       "      <td>0.0</td>\n",
       "      <td>0.0</td>\n",
       "      <td>0.0</td>\n",
       "      <td>0.0</td>\n",
       "      <td>0.0</td>\n",
       "      <td>0.0</td>\n",
       "      <td>1.0</td>\n",
       "      <td>19.0</td>\n",
       "    </tr>\n",
       "    <tr>\n",
       "      <th>2</th>\n",
       "      <td>2.0</td>\n",
       "      <td>54.0</td>\n",
       "      <td>1.0</td>\n",
       "      <td>58.0</td>\n",
       "      <td>0.0</td>\n",
       "      <td>0.0</td>\n",
       "      <td>0.0</td>\n",
       "      <td>0.0</td>\n",
       "      <td>0.0</td>\n",
       "      <td>0.0</td>\n",
       "      <td>...</td>\n",
       "      <td>0.0</td>\n",
       "      <td>0.0</td>\n",
       "      <td>0.0</td>\n",
       "      <td>0.0</td>\n",
       "      <td>0.0</td>\n",
       "      <td>0.0</td>\n",
       "      <td>0.0</td>\n",
       "      <td>0.0</td>\n",
       "      <td>0.0</td>\n",
       "      <td>20.0</td>\n",
       "    </tr>\n",
       "    <tr>\n",
       "      <th>2</th>\n",
       "      <td>2.0</td>\n",
       "      <td>54.0</td>\n",
       "      <td>0.0</td>\n",
       "      <td>0.0</td>\n",
       "      <td>1.0</td>\n",
       "      <td>58.0</td>\n",
       "      <td>0.0</td>\n",
       "      <td>0.0</td>\n",
       "      <td>0.0</td>\n",
       "      <td>0.0</td>\n",
       "      <td>...</td>\n",
       "      <td>0.0</td>\n",
       "      <td>0.0</td>\n",
       "      <td>0.0</td>\n",
       "      <td>0.0</td>\n",
       "      <td>0.0</td>\n",
       "      <td>0.0</td>\n",
       "      <td>0.0</td>\n",
       "      <td>0.0</td>\n",
       "      <td>0.0</td>\n",
       "      <td>21.0</td>\n",
       "    </tr>\n",
       "    <tr>\n",
       "      <th>2</th>\n",
       "      <td>2.0</td>\n",
       "      <td>54.0</td>\n",
       "      <td>0.0</td>\n",
       "      <td>0.0</td>\n",
       "      <td>0.0</td>\n",
       "      <td>0.0</td>\n",
       "      <td>1.0</td>\n",
       "      <td>58.0</td>\n",
       "      <td>0.0</td>\n",
       "      <td>0.0</td>\n",
       "      <td>...</td>\n",
       "      <td>0.0</td>\n",
       "      <td>0.0</td>\n",
       "      <td>0.0</td>\n",
       "      <td>0.0</td>\n",
       "      <td>0.0</td>\n",
       "      <td>0.0</td>\n",
       "      <td>0.0</td>\n",
       "      <td>0.0</td>\n",
       "      <td>1.0</td>\n",
       "      <td>22.0</td>\n",
       "    </tr>\n",
       "    <tr>\n",
       "      <th>2</th>\n",
       "      <td>2.0</td>\n",
       "      <td>54.0</td>\n",
       "      <td>1.0</td>\n",
       "      <td>58.0</td>\n",
       "      <td>0.0</td>\n",
       "      <td>0.0</td>\n",
       "      <td>0.0</td>\n",
       "      <td>0.0</td>\n",
       "      <td>1.0</td>\n",
       "      <td>58.0</td>\n",
       "      <td>...</td>\n",
       "      <td>0.0</td>\n",
       "      <td>0.0</td>\n",
       "      <td>0.0</td>\n",
       "      <td>0.0</td>\n",
       "      <td>0.0</td>\n",
       "      <td>0.0</td>\n",
       "      <td>0.0</td>\n",
       "      <td>0.0</td>\n",
       "      <td>0.0</td>\n",
       "      <td>23.0</td>\n",
       "    </tr>\n",
       "    <tr>\n",
       "      <th>2</th>\n",
       "      <td>2.0</td>\n",
       "      <td>54.0</td>\n",
       "      <td>0.0</td>\n",
       "      <td>0.0</td>\n",
       "      <td>1.0</td>\n",
       "      <td>58.0</td>\n",
       "      <td>0.0</td>\n",
       "      <td>0.0</td>\n",
       "      <td>0.0</td>\n",
       "      <td>0.0</td>\n",
       "      <td>...</td>\n",
       "      <td>0.0</td>\n",
       "      <td>0.0</td>\n",
       "      <td>0.0</td>\n",
       "      <td>0.0</td>\n",
       "      <td>0.0</td>\n",
       "      <td>0.0</td>\n",
       "      <td>0.0</td>\n",
       "      <td>0.0</td>\n",
       "      <td>0.0</td>\n",
       "      <td>24.0</td>\n",
       "    </tr>\n",
       "    <tr>\n",
       "      <th>2</th>\n",
       "      <td>2.0</td>\n",
       "      <td>54.0</td>\n",
       "      <td>0.0</td>\n",
       "      <td>0.0</td>\n",
       "      <td>0.0</td>\n",
       "      <td>0.0</td>\n",
       "      <td>1.0</td>\n",
       "      <td>58.0</td>\n",
       "      <td>0.0</td>\n",
       "      <td>0.0</td>\n",
       "      <td>...</td>\n",
       "      <td>0.0</td>\n",
       "      <td>0.0</td>\n",
       "      <td>0.0</td>\n",
       "      <td>0.0</td>\n",
       "      <td>0.0</td>\n",
       "      <td>0.0</td>\n",
       "      <td>0.0</td>\n",
       "      <td>0.0</td>\n",
       "      <td>0.0</td>\n",
       "      <td>25.0</td>\n",
       "    </tr>\n",
       "    <tr>\n",
       "      <th>2</th>\n",
       "      <td>2.0</td>\n",
       "      <td>54.0</td>\n",
       "      <td>0.0</td>\n",
       "      <td>0.0</td>\n",
       "      <td>0.0</td>\n",
       "      <td>0.0</td>\n",
       "      <td>0.0</td>\n",
       "      <td>0.0</td>\n",
       "      <td>1.0</td>\n",
       "      <td>58.0</td>\n",
       "      <td>...</td>\n",
       "      <td>0.0</td>\n",
       "      <td>0.0</td>\n",
       "      <td>0.0</td>\n",
       "      <td>0.0</td>\n",
       "      <td>0.0</td>\n",
       "      <td>0.0</td>\n",
       "      <td>0.0</td>\n",
       "      <td>0.0</td>\n",
       "      <td>0.0</td>\n",
       "      <td>26.0</td>\n",
       "    </tr>\n",
       "    <tr>\n",
       "      <th>2</th>\n",
       "      <td>2.0</td>\n",
       "      <td>54.0</td>\n",
       "      <td>0.0</td>\n",
       "      <td>0.0</td>\n",
       "      <td>0.0</td>\n",
       "      <td>0.0</td>\n",
       "      <td>0.0</td>\n",
       "      <td>0.0</td>\n",
       "      <td>0.0</td>\n",
       "      <td>0.0</td>\n",
       "      <td>...</td>\n",
       "      <td>0.0</td>\n",
       "      <td>0.0</td>\n",
       "      <td>0.0</td>\n",
       "      <td>0.0</td>\n",
       "      <td>0.0</td>\n",
       "      <td>0.0</td>\n",
       "      <td>0.0</td>\n",
       "      <td>0.0</td>\n",
       "      <td>0.0</td>\n",
       "      <td>27.0</td>\n",
       "    </tr>\n",
       "    <tr>\n",
       "      <th>2</th>\n",
       "      <td>2.0</td>\n",
       "      <td>54.0</td>\n",
       "      <td>0.0</td>\n",
       "      <td>0.0</td>\n",
       "      <td>0.0</td>\n",
       "      <td>0.0</td>\n",
       "      <td>0.0</td>\n",
       "      <td>0.0</td>\n",
       "      <td>0.0</td>\n",
       "      <td>0.0</td>\n",
       "      <td>...</td>\n",
       "      <td>1.0</td>\n",
       "      <td>58.0</td>\n",
       "      <td>0.0</td>\n",
       "      <td>0.0</td>\n",
       "      <td>0.0</td>\n",
       "      <td>0.0</td>\n",
       "      <td>0.0</td>\n",
       "      <td>0.0</td>\n",
       "      <td>0.0</td>\n",
       "      <td>28.0</td>\n",
       "    </tr>\n",
       "    <tr>\n",
       "      <th>2</th>\n",
       "      <td>2.0</td>\n",
       "      <td>54.0</td>\n",
       "      <td>0.0</td>\n",
       "      <td>0.0</td>\n",
       "      <td>0.0</td>\n",
       "      <td>0.0</td>\n",
       "      <td>0.0</td>\n",
       "      <td>0.0</td>\n",
       "      <td>0.0</td>\n",
       "      <td>0.0</td>\n",
       "      <td>...</td>\n",
       "      <td>0.0</td>\n",
       "      <td>0.0</td>\n",
       "      <td>1.0</td>\n",
       "      <td>58.0</td>\n",
       "      <td>0.0</td>\n",
       "      <td>0.0</td>\n",
       "      <td>0.0</td>\n",
       "      <td>0.0</td>\n",
       "      <td>0.0</td>\n",
       "      <td>29.0</td>\n",
       "    </tr>\n",
       "    <tr>\n",
       "      <th>2</th>\n",
       "      <td>2.0</td>\n",
       "      <td>54.0</td>\n",
       "      <td>0.0</td>\n",
       "      <td>0.0</td>\n",
       "      <td>0.0</td>\n",
       "      <td>0.0</td>\n",
       "      <td>0.0</td>\n",
       "      <td>0.0</td>\n",
       "      <td>0.0</td>\n",
       "      <td>0.0</td>\n",
       "      <td>...</td>\n",
       "      <td>0.0</td>\n",
       "      <td>0.0</td>\n",
       "      <td>0.0</td>\n",
       "      <td>0.0</td>\n",
       "      <td>1.0</td>\n",
       "      <td>58.0</td>\n",
       "      <td>0.0</td>\n",
       "      <td>0.0</td>\n",
       "      <td>0.0</td>\n",
       "      <td>30.0</td>\n",
       "    </tr>\n",
       "    <tr>\n",
       "      <th>2</th>\n",
       "      <td>2.0</td>\n",
       "      <td>54.0</td>\n",
       "      <td>0.0</td>\n",
       "      <td>0.0</td>\n",
       "      <td>0.0</td>\n",
       "      <td>0.0</td>\n",
       "      <td>0.0</td>\n",
       "      <td>0.0</td>\n",
       "      <td>0.0</td>\n",
       "      <td>0.0</td>\n",
       "      <td>...</td>\n",
       "      <td>1.0</td>\n",
       "      <td>58.0</td>\n",
       "      <td>0.0</td>\n",
       "      <td>0.0</td>\n",
       "      <td>0.0</td>\n",
       "      <td>0.0</td>\n",
       "      <td>1.0</td>\n",
       "      <td>58.0</td>\n",
       "      <td>0.0</td>\n",
       "      <td>31.0</td>\n",
       "    </tr>\n",
       "  </tbody>\n",
       "</table>\n",
       "<p>20 rows × 28 columns</p>\n",
       "</div>"
      ],
      "text/plain": [
       "   item_id  shop_id   r1    p1   r2    p2   r3    p3   r4    p4  \\\n",
       "2      2.0     54.0  0.0   0.0  0.0   0.0  0.0   0.0  0.0   0.0   \n",
       "2      2.0     54.0  0.0   0.0  0.0   0.0  0.0   0.0  0.0   0.0   \n",
       "2      2.0     54.0  0.0   0.0  0.0   0.0  0.0   0.0  0.0   0.0   \n",
       "2      2.0     54.0  0.0   0.0  0.0   0.0  0.0   0.0  0.0   0.0   \n",
       "2      2.0     54.0  0.0   0.0  0.0   0.0  0.0   0.0  0.0   0.0   \n",
       "2      2.0     54.0  0.0   0.0  0.0   0.0  0.0   0.0  0.0   0.0   \n",
       "2      2.0     54.0  0.0   0.0  0.0   0.0  0.0   0.0  0.0   0.0   \n",
       "2      2.0     54.0  0.0   0.0  0.0   0.0  0.0   0.0  0.0   0.0   \n",
       "2      2.0     54.0  1.0  58.0  0.0   0.0  0.0   0.0  0.0   0.0   \n",
       "2      2.0     54.0  0.0   0.0  1.0  58.0  0.0   0.0  0.0   0.0   \n",
       "2      2.0     54.0  0.0   0.0  0.0   0.0  1.0  58.0  0.0   0.0   \n",
       "2      2.0     54.0  1.0  58.0  0.0   0.0  0.0   0.0  1.0  58.0   \n",
       "2      2.0     54.0  0.0   0.0  1.0  58.0  0.0   0.0  0.0   0.0   \n",
       "2      2.0     54.0  0.0   0.0  0.0   0.0  1.0  58.0  0.0   0.0   \n",
       "2      2.0     54.0  0.0   0.0  0.0   0.0  0.0   0.0  1.0  58.0   \n",
       "2      2.0     54.0  0.0   0.0  0.0   0.0  0.0   0.0  0.0   0.0   \n",
       "2      2.0     54.0  0.0   0.0  0.0   0.0  0.0   0.0  0.0   0.0   \n",
       "2      2.0     54.0  0.0   0.0  0.0   0.0  0.0   0.0  0.0   0.0   \n",
       "2      2.0     54.0  0.0   0.0  0.0   0.0  0.0   0.0  0.0   0.0   \n",
       "2      2.0     54.0  0.0   0.0  0.0   0.0  0.0   0.0  0.0   0.0   \n",
       "\n",
       "        ...         r9    p9  r10   p10  r11   p11  r12   p12  item_cnt_month  \\\n",
       "2       ...        0.0   0.0  0.0   0.0  0.0   0.0  0.0   0.0             0.0   \n",
       "2       ...        0.0   0.0  0.0   0.0  0.0   0.0  0.0   0.0             0.0   \n",
       "2       ...        0.0   0.0  0.0   0.0  0.0   0.0  0.0   0.0             0.0   \n",
       "2       ...        0.0   0.0  0.0   0.0  0.0   0.0  0.0   0.0             0.0   \n",
       "2       ...        0.0   0.0  0.0   0.0  0.0   0.0  0.0   0.0             0.0   \n",
       "2       ...        0.0   0.0  0.0   0.0  0.0   0.0  0.0   0.0             0.0   \n",
       "2       ...        0.0   0.0  0.0   0.0  0.0   0.0  0.0   0.0             0.0   \n",
       "2       ...        0.0   0.0  0.0   0.0  0.0   0.0  0.0   0.0             1.0   \n",
       "2       ...        0.0   0.0  0.0   0.0  0.0   0.0  0.0   0.0             0.0   \n",
       "2       ...        0.0   0.0  0.0   0.0  0.0   0.0  0.0   0.0             0.0   \n",
       "2       ...        0.0   0.0  0.0   0.0  0.0   0.0  0.0   0.0             1.0   \n",
       "2       ...        0.0   0.0  0.0   0.0  0.0   0.0  0.0   0.0             0.0   \n",
       "2       ...        0.0   0.0  0.0   0.0  0.0   0.0  0.0   0.0             0.0   \n",
       "2       ...        0.0   0.0  0.0   0.0  0.0   0.0  0.0   0.0             0.0   \n",
       "2       ...        0.0   0.0  0.0   0.0  0.0   0.0  0.0   0.0             0.0   \n",
       "2       ...        0.0   0.0  0.0   0.0  0.0   0.0  0.0   0.0             0.0   \n",
       "2       ...        1.0  58.0  0.0   0.0  0.0   0.0  0.0   0.0             0.0   \n",
       "2       ...        0.0   0.0  1.0  58.0  0.0   0.0  0.0   0.0             0.0   \n",
       "2       ...        0.0   0.0  0.0   0.0  1.0  58.0  0.0   0.0             0.0   \n",
       "2       ...        1.0  58.0  0.0   0.0  0.0   0.0  1.0  58.0             0.0   \n",
       "\n",
       "   date_block_num  \n",
       "2            12.0  \n",
       "2            13.0  \n",
       "2            14.0  \n",
       "2            15.0  \n",
       "2            16.0  \n",
       "2            17.0  \n",
       "2            18.0  \n",
       "2            19.0  \n",
       "2            20.0  \n",
       "2            21.0  \n",
       "2            22.0  \n",
       "2            23.0  \n",
       "2            24.0  \n",
       "2            25.0  \n",
       "2            26.0  \n",
       "2            27.0  \n",
       "2            28.0  \n",
       "2            29.0  \n",
       "2            30.0  \n",
       "2            31.0  \n",
       "\n",
       "[20 rows x 28 columns]"
      ]
     },
     "execution_count": 19,
     "metadata": {},
     "output_type": "execute_result"
    }
   ],
   "source": [
    "sales_record_df[(sales_record_df.shop_id == 54) & (sales_record_df.item_id == 2)].head(20)"
   ]
  },
  {
   "cell_type": "code",
   "execution_count": 20,
   "metadata": {},
   "outputs": [],
   "source": [
    "sales_record_df['item_id'] = sales_record_df['item_id'].astype(int)\n",
    "sales_record_df['shop_id'] = sales_record_df['shop_id'].astype(int)"
   ]
  },
  {
   "cell_type": "code",
   "execution_count": 21,
   "metadata": {},
   "outputs": [],
   "source": [
    "sales_record_df['month'] = sales_record_df['date_block_num'].apply(lambda x: (x % 12) + 1)"
   ]
  },
  {
   "cell_type": "markdown",
   "metadata": {},
   "source": [
    "+ **Feature 'city'**: Each shop_name starts with the city name."
   ]
  },
  {
   "cell_type": "code",
   "execution_count": 22,
   "metadata": {},
   "outputs": [],
   "source": [
    "shop_df.loc[shop_df.shop_name == 'Сергиев Посад ТЦ \"7Я\"', 'shop_name'] = 'СергиевПосад ТЦ \"7Я\"'\n",
    "shop_df['shop_name'] = shop_df['shop_name'].astype(str)\n",
    "shop_df['city'] = shop_df['shop_name'].str.split(' ').map(lambda x: x[0])\n",
    "shop_df.loc[shop_df.city == '!Якутск', 'city'] = 'Якутск'\n",
    "\n",
    "encoder = LabelEncoder()\n",
    "encoder.fit(shop_df['city'])\n",
    "shop_df['city_code'] = encoder.transform(shop_df['city'])"
   ]
  },
  {
   "cell_type": "markdown",
   "metadata": {},
   "source": [
    "+ **Feature 'type'**: Each category contains type and subtype in its name.\n",
    "+ **Feature 'subtype'**: Each category contains type and subtype in its name."
   ]
  },
  {
   "cell_type": "code",
   "execution_count": 23,
   "metadata": {},
   "outputs": [],
   "source": [
    "category_df['item_category_name'] = category_df['item_category_name'].astype(str)\n",
    "category_df['type'] = category_df['item_category_name'].map(lambda x: x.split('-')[0].strip())\n",
    "\n",
    "encoder = LabelEncoder()\n",
    "encoder.fit(category_df['type'])\n",
    "category_df['type_code'] = encoder.transform(category_df['type'])"
   ]
  },
  {
   "cell_type": "code",
   "execution_count": 24,
   "metadata": {},
   "outputs": [],
   "source": [
    "category_df['subtype'] = category_df['item_category_name'].map(lambda x: x.split('-')[1].strip() if len(x.split('-')) > 1 else x.split('-')[0].strip())\n",
    "\n",
    "encoder = LabelEncoder()\n",
    "encoder.fit(category_df['subtype'])\n",
    "category_df['subtype_code'] = encoder.transform(category_df['subtype'])"
   ]
  },
  {
   "cell_type": "markdown",
   "metadata": {},
   "source": [
    "## Merge Data into one entity"
   ]
  },
  {
   "cell_type": "code",
   "execution_count": 25,
   "metadata": {},
   "outputs": [],
   "source": [
    "sales_record_df = pd.merge(sales_record_df, item_df, on=['item_id'], how='left')\n",
    "sales_record_df = pd.merge(sales_record_df, shop_df, on=['shop_id'], how='left')\n",
    "sales_record_df = pd.merge(sales_record_df, category_df, on=['item_category_id'], how='left')"
   ]
  },
  {
   "cell_type": "code",
   "execution_count": 26,
   "metadata": {},
   "outputs": [
    {
     "data": {
      "text/html": [
       "<div>\n",
       "<style scoped>\n",
       "    .dataframe tbody tr th:only-of-type {\n",
       "        vertical-align: middle;\n",
       "    }\n",
       "\n",
       "    .dataframe tbody tr th {\n",
       "        vertical-align: top;\n",
       "    }\n",
       "\n",
       "    .dataframe thead th {\n",
       "        text-align: right;\n",
       "    }\n",
       "</style>\n",
       "<table border=\"1\" class=\"dataframe\">\n",
       "  <thead>\n",
       "    <tr style=\"text-align: right;\">\n",
       "      <th></th>\n",
       "      <th>item_id</th>\n",
       "      <th>shop_id</th>\n",
       "      <th>r1</th>\n",
       "      <th>p1</th>\n",
       "      <th>r2</th>\n",
       "      <th>p2</th>\n",
       "      <th>r3</th>\n",
       "      <th>p3</th>\n",
       "      <th>r4</th>\n",
       "      <th>p4</th>\n",
       "      <th>...</th>\n",
       "      <th>item_name</th>\n",
       "      <th>item_category_id</th>\n",
       "      <th>shop_name</th>\n",
       "      <th>city</th>\n",
       "      <th>city_code</th>\n",
       "      <th>item_category_name</th>\n",
       "      <th>type</th>\n",
       "      <th>type_code</th>\n",
       "      <th>subtype</th>\n",
       "      <th>subtype_code</th>\n",
       "    </tr>\n",
       "  </thead>\n",
       "  <tbody>\n",
       "    <tr>\n",
       "      <th>0</th>\n",
       "      <td>0</td>\n",
       "      <td>54</td>\n",
       "      <td>0.0</td>\n",
       "      <td>0.0</td>\n",
       "      <td>0.0</td>\n",
       "      <td>0.0</td>\n",
       "      <td>0.0</td>\n",
       "      <td>0.0</td>\n",
       "      <td>0.0</td>\n",
       "      <td>0.0</td>\n",
       "      <td>...</td>\n",
       "      <td>! ВО ВЛАСТИ НАВАЖДЕНИЯ (ПЛАСТ.)         D</td>\n",
       "      <td>40</td>\n",
       "      <td>Химки ТЦ \"Мега\"</td>\n",
       "      <td>Химки</td>\n",
       "      <td>26</td>\n",
       "      <td>Кино - DVD</td>\n",
       "      <td>Кино</td>\n",
       "      <td>11</td>\n",
       "      <td>DVD</td>\n",
       "      <td>4</td>\n",
       "    </tr>\n",
       "    <tr>\n",
       "      <th>1</th>\n",
       "      <td>1</td>\n",
       "      <td>55</td>\n",
       "      <td>0.0</td>\n",
       "      <td>0.0</td>\n",
       "      <td>0.0</td>\n",
       "      <td>0.0</td>\n",
       "      <td>0.0</td>\n",
       "      <td>0.0</td>\n",
       "      <td>0.0</td>\n",
       "      <td>0.0</td>\n",
       "      <td>...</td>\n",
       "      <td>!ABBYY FineReader 12 Professional Edition Full...</td>\n",
       "      <td>76</td>\n",
       "      <td>Цифровой склад 1С-Онлайн</td>\n",
       "      <td>Цифровой</td>\n",
       "      <td>27</td>\n",
       "      <td>Программы - Для дома и офиса (Цифра)</td>\n",
       "      <td>Программы</td>\n",
       "      <td>15</td>\n",
       "      <td>Для дома и офиса (Цифра)</td>\n",
       "      <td>31</td>\n",
       "    </tr>\n",
       "    <tr>\n",
       "      <th>2</th>\n",
       "      <td>2</td>\n",
       "      <td>54</td>\n",
       "      <td>0.0</td>\n",
       "      <td>0.0</td>\n",
       "      <td>0.0</td>\n",
       "      <td>0.0</td>\n",
       "      <td>0.0</td>\n",
       "      <td>0.0</td>\n",
       "      <td>0.0</td>\n",
       "      <td>0.0</td>\n",
       "      <td>...</td>\n",
       "      <td>***В ЛУЧАХ СЛАВЫ   (UNV)                    D</td>\n",
       "      <td>40</td>\n",
       "      <td>Химки ТЦ \"Мега\"</td>\n",
       "      <td>Химки</td>\n",
       "      <td>26</td>\n",
       "      <td>Кино - DVD</td>\n",
       "      <td>Кино</td>\n",
       "      <td>11</td>\n",
       "      <td>DVD</td>\n",
       "      <td>4</td>\n",
       "    </tr>\n",
       "    <tr>\n",
       "      <th>3</th>\n",
       "      <td>3</td>\n",
       "      <td>54</td>\n",
       "      <td>0.0</td>\n",
       "      <td>0.0</td>\n",
       "      <td>0.0</td>\n",
       "      <td>0.0</td>\n",
       "      <td>0.0</td>\n",
       "      <td>0.0</td>\n",
       "      <td>0.0</td>\n",
       "      <td>0.0</td>\n",
       "      <td>...</td>\n",
       "      <td>***ГОЛУБАЯ ВОЛНА  (Univ)                      D</td>\n",
       "      <td>40</td>\n",
       "      <td>Химки ТЦ \"Мега\"</td>\n",
       "      <td>Химки</td>\n",
       "      <td>26</td>\n",
       "      <td>Кино - DVD</td>\n",
       "      <td>Кино</td>\n",
       "      <td>11</td>\n",
       "      <td>DVD</td>\n",
       "      <td>4</td>\n",
       "    </tr>\n",
       "    <tr>\n",
       "      <th>4</th>\n",
       "      <td>4</td>\n",
       "      <td>54</td>\n",
       "      <td>0.0</td>\n",
       "      <td>0.0</td>\n",
       "      <td>0.0</td>\n",
       "      <td>0.0</td>\n",
       "      <td>0.0</td>\n",
       "      <td>0.0</td>\n",
       "      <td>0.0</td>\n",
       "      <td>0.0</td>\n",
       "      <td>...</td>\n",
       "      <td>***КОРОБКА (СТЕКЛО)                       D</td>\n",
       "      <td>40</td>\n",
       "      <td>Химки ТЦ \"Мега\"</td>\n",
       "      <td>Химки</td>\n",
       "      <td>26</td>\n",
       "      <td>Кино - DVD</td>\n",
       "      <td>Кино</td>\n",
       "      <td>11</td>\n",
       "      <td>DVD</td>\n",
       "      <td>4</td>\n",
       "    </tr>\n",
       "  </tbody>\n",
       "</table>\n",
       "<p>5 rows × 39 columns</p>\n",
       "</div>"
      ],
      "text/plain": [
       "   item_id  shop_id   r1   p1   r2   p2   r3   p3   r4   p4      ...       \\\n",
       "0        0       54  0.0  0.0  0.0  0.0  0.0  0.0  0.0  0.0      ...        \n",
       "1        1       55  0.0  0.0  0.0  0.0  0.0  0.0  0.0  0.0      ...        \n",
       "2        2       54  0.0  0.0  0.0  0.0  0.0  0.0  0.0  0.0      ...        \n",
       "3        3       54  0.0  0.0  0.0  0.0  0.0  0.0  0.0  0.0      ...        \n",
       "4        4       54  0.0  0.0  0.0  0.0  0.0  0.0  0.0  0.0      ...        \n",
       "\n",
       "                                           item_name  item_category_id  \\\n",
       "0          ! ВО ВЛАСТИ НАВАЖДЕНИЯ (ПЛАСТ.)         D                40   \n",
       "1  !ABBYY FineReader 12 Professional Edition Full...                76   \n",
       "2      ***В ЛУЧАХ СЛАВЫ   (UNV)                    D                40   \n",
       "3    ***ГОЛУБАЯ ВОЛНА  (Univ)                      D                40   \n",
       "4        ***КОРОБКА (СТЕКЛО)                       D                40   \n",
       "\n",
       "                  shop_name      city  city_code  \\\n",
       "0           Химки ТЦ \"Мега\"     Химки         26   \n",
       "1  Цифровой склад 1С-Онлайн  Цифровой         27   \n",
       "2           Химки ТЦ \"Мега\"     Химки         26   \n",
       "3           Химки ТЦ \"Мега\"     Химки         26   \n",
       "4           Химки ТЦ \"Мега\"     Химки         26   \n",
       "\n",
       "                     item_category_name       type  type_code  \\\n",
       "0                            Кино - DVD       Кино         11   \n",
       "1  Программы - Для дома и офиса (Цифра)  Программы         15   \n",
       "2                            Кино - DVD       Кино         11   \n",
       "3                            Кино - DVD       Кино         11   \n",
       "4                            Кино - DVD       Кино         11   \n",
       "\n",
       "                    subtype  subtype_code  \n",
       "0                       DVD             4  \n",
       "1  Для дома и офиса (Цифра)            31  \n",
       "2                       DVD             4  \n",
       "3                       DVD             4  \n",
       "4                       DVD             4  \n",
       "\n",
       "[5 rows x 39 columns]"
      ]
     },
     "execution_count": 26,
     "metadata": {},
     "output_type": "execute_result"
    }
   ],
   "source": [
    "sales_record_df.head()"
   ]
  },
  {
   "cell_type": "code",
   "execution_count": 27,
   "metadata": {},
   "outputs": [],
   "source": [
    "sales_record_df = sales_record_df.drop(['city', 'type', 'subtype', 'item_name', 'shop_name', 'item_category_name'], axis=1)"
   ]
  },
  {
   "cell_type": "code",
   "execution_count": 28,
   "metadata": {},
   "outputs": [],
   "source": [
    "for i in range(1, 13, 1):\n",
    "    t = sales_record_df.groupby(['shop_id', 'item_category_id'])['r'+str(i)].mean().reset_index(name='sc'+str(i))\n",
    "    sales_record_df = pd.merge(sales_record_df, t, on=['shop_id', 'item_category_id'], how='left')"
   ]
  },
  {
   "cell_type": "markdown",
   "metadata": {},
   "source": [
    "## Feature Selection"
   ]
  },
  {
   "cell_type": "code",
   "execution_count": 29,
   "metadata": {},
   "outputs": [],
   "source": [
    "dataset = sales_record_df.copy()"
   ]
  },
  {
   "cell_type": "code",
   "execution_count": 30,
   "metadata": {},
   "outputs": [
    {
     "data": {
      "text/plain": [
       "array(['item_id', 'shop_id', 'r1', 'p1', 'r2', 'p2', 'r3', 'p3', 'r4',\n",
       "       'p4', 'r5', 'p5', 'r6', 'p6', 'r7', 'p7', 'r8', 'p8', 'r9', 'p9',\n",
       "       'r10', 'p10', 'r11', 'p11', 'r12', 'p12', 'item_cnt_month',\n",
       "       'date_block_num', 'month', 'item_category_id', 'city_code',\n",
       "       'type_code', 'subtype_code', 'sc1', 'sc2', 'sc3', 'sc4', 'sc5',\n",
       "       'sc6', 'sc7', 'sc8', 'sc9', 'sc10', 'sc11', 'sc12'], dtype=object)"
      ]
     },
     "execution_count": 30,
     "metadata": {},
     "output_type": "execute_result"
    }
   ],
   "source": [
    "dataset.columns.values"
   ]
  },
  {
   "cell_type": "code",
   "execution_count": 31,
   "metadata": {},
   "outputs": [],
   "source": [
    "dataset_beta = dataset[dataset.date_block_num == 32]\n",
    "dataset_alpha = dataset[dataset.date_block_num == 33]"
   ]
  },
  {
   "cell_type": "code",
   "execution_count": 32,
   "metadata": {},
   "outputs": [
    {
     "data": {
      "text/plain": [
       "44"
      ]
     },
     "execution_count": 32,
     "metadata": {},
     "output_type": "execute_result"
    }
   ],
   "source": [
    "continuous = [\n",
    "        'item_id', 'shop_id', 'r1', 'p1', 'r2', 'p2', 'r3', 'p3', 'r4',\n",
    "       'p4', 'r5', 'p5', 'r6', 'p6', 'r7', 'p7', 'r8', 'p8', 'r9', 'p9',\n",
    "       'r10', 'p10', 'r11', 'p11', 'r12', 'p12',\n",
    "       'date_block_num', 'month', 'item_category_id', 'city_code',\n",
    "       'type_code', 'subtype_code','sc1', 'sc2', 'sc3', 'sc4', 'sc5',\n",
    "       'sc6', 'sc7', 'sc8', 'sc9', 'sc10', 'sc11', 'sc12'\n",
    "]\n",
    "\n",
    "fields = [\n",
    "    \n",
    "]\n",
    "\n",
    "label = ['item_cnt_month']\n",
    "\n",
    "len(continuous)"
   ]
  },
  {
   "cell_type": "code",
   "execution_count": 34,
   "metadata": {},
   "outputs": [],
   "source": [
    "features_pipeline = Pipeline([\n",
    "    ('features', FeatureUnion([\n",
    "        ('continuous', Pipeline([\n",
    "            ('extract', ColumnSelector(continuous)),\n",
    "            ('imputer', SimpleImputer(missing_values=np.nan, strategy='most_frequent')),\n",
    "            ('normalize', Normalizer())\n",
    "        ])),\n",
    "    ])),\n",
    "])\n",
    "\n",
    "features_pipeline.fit(dataset_beta, dataset_beta[label].values.ravel())\n",
    "\n",
    "train_dataset_x = features_pipeline.transform(dataset_beta)\n",
    "train_dataset_y = dataset_beta[label].values.ravel()\n",
    "\n",
    "valid_dataset_x = features_pipeline.transform(dataset_alpha)\n",
    "valid_dataset_y = dataset_alpha[label].values.ravel()"
   ]
  },
  {
   "cell_type": "code",
   "execution_count": 35,
   "metadata": {},
   "outputs": [
    {
     "data": {
      "text/plain": [
       "XGBRegressor(base_score=0.5, booster='gbtree', colsample_bylevel=1,\n",
       "       colsample_bytree=1, gamma=0, learning_rate=0.1, max_delta_step=0,\n",
       "       max_depth=10, min_child_weight=1, missing=None, n_estimators=50,\n",
       "       n_jobs=1, nthread=None, objective='reg:linear', random_state=0,\n",
       "       reg_alpha=0, reg_lambda=1, scale_pos_weight=1, seed=None,\n",
       "       silent=True, subsample=1)"
      ]
     },
     "execution_count": 35,
     "metadata": {},
     "output_type": "execute_result"
    }
   ],
   "source": [
    "selector_model = XGBRegressor(max_depth=10, n_estimators=50, random_state=0)\n",
    "selector_model.fit(train_dataset_x, train_dataset_y)"
   ]
  },
  {
   "cell_type": "code",
   "execution_count": 36,
   "metadata": {},
   "outputs": [],
   "source": [
    "thresh = 0.001\n",
    "selection = SelectFromModel(selector_model, threshold=thresh, prefit=True)\n",
    "\n",
    "train_dataset_x = selection.transform(train_dataset_x)\n",
    "valid_dataset_x = selection.transform(valid_dataset_x)"
   ]
  },
  {
   "cell_type": "code",
   "execution_count": 37,
   "metadata": {},
   "outputs": [
    {
     "data": {
      "text/plain": [
       "array([0.14979339, 0.05096419, 0.10967631, 0.04924243, 0.04269972,\n",
       "       0.0137741 , 0.02961433, 0.01222452, 0.03099173, 0.01652892,\n",
       "       0.01687328, 0.01584022, 0.01274105, 0.00533747, 0.0101584 ,\n",
       "       0.00189394, 0.00809229, 0.00241047, 0.01170799, 0.00327135,\n",
       "       0.00688705, 0.00172176, 0.00568182, 0.00172176, 0.0094697 ,\n",
       "       0.00172176, 0.09004821, 0.        , 0.03856749, 0.01170799,\n",
       "       0.01893939, 0.0225551 , 0.08746556, 0.02066116, 0.00792011,\n",
       "       0.01033058, 0.00723141, 0.01119146, 0.01256887, 0.00568182,\n",
       "       0.00516529, 0.00723141, 0.00895317, 0.01274105], dtype=float32)"
      ]
     },
     "execution_count": 37,
     "metadata": {},
     "output_type": "execute_result"
    }
   ],
   "source": [
    "selector_model.feature_importances_"
   ]
  },
  {
   "cell_type": "code",
   "execution_count": 38,
   "metadata": {},
   "outputs": [
    {
     "data": {
      "text/plain": [
       "[('item_id', 0.14979339),\n",
       " ('shop_id', 0.050964188),\n",
       " ('r1', 0.10967631),\n",
       " ('p1', 0.049242426),\n",
       " ('r2', 0.042699724),\n",
       " ('p2', 0.013774104),\n",
       " ('r3', 0.029614326),\n",
       " ('p3', 0.012224518),\n",
       " ('r4', 0.030991735),\n",
       " ('p4', 0.016528925),\n",
       " ('r5', 0.016873278),\n",
       " ('p5', 0.015840221),\n",
       " ('r6', 0.012741047),\n",
       " ('p6', 0.0053374656),\n",
       " ('r7', 0.010158402),\n",
       " ('p7', 0.0018939395),\n",
       " ('r8', 0.008092286),\n",
       " ('p8', 0.0024104684),\n",
       " ('r9', 0.011707989),\n",
       " ('p9', 0.00327135),\n",
       " ('r10', 0.006887052),\n",
       " ('p10', 0.001721763),\n",
       " ('r11', 0.0056818184),\n",
       " ('p11', 0.001721763),\n",
       " ('r12', 0.009469697),\n",
       " ('p12', 0.001721763),\n",
       " ('date_block_num', 0.09004821),\n",
       " ('item_category_id', 0.038567495),\n",
       " ('city_code', 0.011707989),\n",
       " ('type_code', 0.018939395),\n",
       " ('subtype_code', 0.022555096),\n",
       " ('sc1', 0.08746556),\n",
       " ('sc2', 0.020661157),\n",
       " ('sc3', 0.007920111),\n",
       " ('sc4', 0.010330578),\n",
       " ('sc5', 0.007231405),\n",
       " ('sc6', 0.01119146),\n",
       " ('sc7', 0.012568871),\n",
       " ('sc8', 0.0056818184),\n",
       " ('sc9', 0.005165289),\n",
       " ('sc10', 0.007231405),\n",
       " ('sc11', 0.008953168),\n",
       " ('sc12', 0.012741047)]"
      ]
     },
     "execution_count": 38,
     "metadata": {},
     "output_type": "execute_result"
    }
   ],
   "source": [
    "feature_selector = []\n",
    "for index, value in enumerate(selector_model.feature_importances_):\n",
    "    if value > 0 and index < len(continuous):\n",
    "        feature_selector.append((continuous[index], value))\n",
    "\n",
    "feature_selector"
   ]
  },
  {
   "cell_type": "code",
   "execution_count": 39,
   "metadata": {},
   "outputs": [
    {
     "data": {
      "text/plain": [
       "<matplotlib.axes._subplots.AxesSubplot at 0x14d0936d8>"
      ]
     },
     "execution_count": 39,
     "metadata": {},
     "output_type": "execute_result"
    },
    {
     "name": "stderr",
     "output_type": "stream",
     "text": [
      "2019-02-16 12:36:53,880  _base.py : DEBUG  update_title_pos\n",
      "2019-02-16 12:36:53,896  font_manager.py : DEBUG  findfont: Matching :family=sans-serif:style=normal:variant=normal:weight=normal:stretch=normal:size=11.0 to Arial ('/Library/Fonts/Arial.ttf') with score of 0.050000.\n",
      "2019-02-16 12:36:53,919  font_manager.py : DEBUG  findfont: Matching :family=sans-serif:style=normal:variant=normal:weight=normal:stretch=normal:size=12.0 to Arial ('/Library/Fonts/Arial.ttf') with score of 0.050000.\n",
      "2019-02-16 12:36:54,024  font_manager.py : DEBUG  findfont: Matching :family=sans-serif:style=normal:variant=normal:weight=normal:stretch=normal:size=10.0 to Arial ('/Library/Fonts/Arial.ttf') with score of 0.050000.\n",
      "2019-02-16 12:36:54,073  _base.py : DEBUG  update_title_pos\n",
      "2019-02-16 12:36:54,335  _base.py : DEBUG  update_title_pos\n",
      "2019-02-16 12:36:54,493  _base.py : DEBUG  update_title_pos\n",
      "2019-02-16 12:36:54,589  _base.py : DEBUG  update_title_pos\n"
     ]
    },
    {
     "data": {
      "image/png": "[encoded data removed]",
      "text/plain": [
       "<Figure size 720x1008 with 1 Axes>"
      ]
     },
     "metadata": {
      "needs_background": "light"
     },
     "output_type": "display_data"
    }
   ],
   "source": [
    "def plot_features(booster, figsize):    \n",
    "    fig, ax = plt.subplots(1,1,figsize=figsize)\n",
    "    return plot_importance(booster=booster, ax=ax)\n",
    "\n",
    "plot_features(selector_model, (10,14))"
   ]
  },
  {
   "cell_type": "markdown",
   "metadata": {},
   "source": [
    "## Train"
   ]
  },
  {
   "cell_type": "code",
   "execution_count": 92,
   "metadata": {},
   "outputs": [],
   "source": [
    "START_NUM = 28\n",
    "END_NUM = 31"
   ]
  },
  {
   "cell_type": "code",
   "execution_count": null,
   "metadata": {},
   "outputs": [],
   "source": [
    "import xgboost as xgb\n",
    "\n",
    "valid_dmatrix = xgb.DMatrix(valid_dataset_x, label=valid_dataset_y)\n",
    "\n",
    "for i in range(START_NUM, END_NUM, 1):\n",
    "    print('round %d' % i)\n",
    "\n",
    "    dataset_beta = dataset[dataset.date_block_num == i]\n",
    "    \n",
    "    train_dataset_x = features_pipeline.transform(dataset_beta)\n",
    "    train_dataset_x = selection.transform(train_dataset_x)\n",
    "    \n",
    "    train_dataset_y = dataset_beta[label].values.ravel()\n",
    "    \n",
    "    train_dmatrix = xgb.DMatrix(train_dataset_x, label=train_dataset_y)\n",
    "    \n",
    "    watchlist = [(train_dmatrix, 'train'), (valid_dmatrix, 'validate')] \n",
    "    \n",
    "    if i != 12:\n",
    "        params = {\n",
    "            'objective': 'reg:linear', \n",
    "            'verbose': False,\n",
    "            'eta': 0.1,\n",
    "            'max_depth': 12,\n",
    "            'min_child_weight': 20,\n",
    "            'subsample': 0.8,\n",
    "            'colsample_bytree': 0.8,\n",
    "            'colsample_bylevel': 0.8,\n",
    "            'eval_metric': 'rmse',\n",
    "#             'process_type': 'update',\n",
    "#             'updater'     : 'refresh',\n",
    "#             'refresh_leaf': True,\n",
    "#             'gamma': 0.01\n",
    "        }\n",
    "        \n",
    "        model = xgb.train(params, train_dmatrix, num_boost_round=1000, early_stopping_rounds=50, evals=watchlist, xgb_model='xgb.model')\n",
    "        \n",
    "        if model.best_score > best_score:\n",
    "            best_score = model.best_score\n",
    "            model.save_model('xgb.model')\n",
    "        \n",
    "    else:\n",
    "        \n",
    "        params = {\n",
    "            'objective': 'reg:linear', \n",
    "            'verbose': False,\n",
    "            'eta': 0.1,\n",
    "            'max_depth': 12,\n",
    "            'min_child_weight': 20,\n",
    "            'subsample': 0.8,\n",
    "            'colsample_bytree': 0.8,\n",
    "            'colsample_bylevel': 0.8,\n",
    "            'eval_metric': 'rmse',\n",
    "        }\n",
    "        model = xgb.train(params, train_dmatrix, num_boost_round=1000, early_stopping_rounds=50, evals=watchlist)\n",
    "        best_score = model.best_score\n",
    "    \n",
    "        model.save_model('xgb.model')"
   ]
  },
  {
   "cell_type": "code",
   "execution_count": 94,
   "metadata": {},
   "outputs": [
    {
     "data": {
      "text/plain": [
       "1.6235795329696765"
      ]
     },
     "execution_count": 94,
     "metadata": {},
     "output_type": "execute_result"
    }
   ],
   "source": [
    "from sklearn.metrics import mean_squared_error\n",
    "from math import sqrt\n",
    "\n",
    "model = xgb.Booster({'nthread':4}) #init model\n",
    "model.load_model(\"xgb.model\") # load data\n",
    "\n",
    "pred = model.predict(valid_dmatrix)\n",
    "\n",
    "sqrt(mean_squared_error(valid_dataset_y, pred))"
   ]
  },
  {
   "cell_type": "markdown",
   "metadata": {},
   "source": [
    "## Predict"
   ]
  },
  {
   "cell_type": "code",
   "execution_count": 95,
   "metadata": {},
   "outputs": [
    {
     "name": "stderr",
     "output_type": "stream",
     "text": [
      "/Users/leewind/.local/share/virtualenvs/leewind-p6XO93Th/lib/python3.7/site-packages/ipykernel_launcher.py:11: SettingWithCopyWarning: \n",
      "A value is trying to be set on a copy of a slice from a DataFrame.\n",
      "Try using .loc[row_indexer,col_indexer] = value instead\n",
      "\n",
      "See the caveats in the documentation: http://pandas.pydata.org/pandas-docs/stable/indexing.html#indexing-view-versus-copy\n",
      "  # This is added back by InteractiveShellApp.init_path()\n",
      "/Users/leewind/.local/share/virtualenvs/leewind-p6XO93Th/lib/python3.7/site-packages/pandas/core/indexing.py:1472: FutureWarning: \n",
      "Passing list-likes to .loc or [] with any missing label will raise\n",
      "KeyError in the future, you can use .reindex() as an alternative.\n",
      "\n",
      "See the documentation here:\n",
      "https://pandas.pydata.org/pandas-docs/stable/indexing.html#deprecate-loc-reindex-listlike\n",
      "  return self._getitem_tuple(key)\n"
     ]
    }
   ],
   "source": [
    "model = xgb.Booster({'nthread':4}) #init model\n",
    "model.load_model(\"xgb.model\") # load data\n",
    "\n",
    "tdf = _extract(sales_detail_df, 35, is_test=True)\n",
    "dataset_predict = pd.merge(test_df, tdf, on=['item_id', 'shop_id'], how='left')\n",
    "\n",
    "predict_dataset_x = features_pipeline.transform(dataset_predict)\n",
    "predict_dataset_x = selection.transform(predict_dataset_x)\n",
    "\n",
    "predict_dmatrix = xgb.DMatrix(predict_dataset_x)\n",
    "\n",
    "pred = model.predict(predict_dmatrix)"
   ]
  },
  {
   "cell_type": "code",
   "execution_count": 96,
   "metadata": {},
   "outputs": [],
   "source": [
    "submission = pd.DataFrame({\n",
    "    \"ID\": test_df.index, \n",
    "    \"item_cnt_month\": pred\n",
    "})\n",
    "\n",
    "submission.to_csv('submission.csv', index=False)"
   ]
  },
  {
   "cell_type": "markdown",
   "metadata": {},
   "source": [
    "# Reference"
   ]
  },
  {
   "cell_type": "markdown",
   "metadata": {},
   "source": [
    "## Normal ML Analysis\n",
    "\n",
    "+ [Feature engineering, xgboost](https://www.kaggle.com/dlarionov/feature-engineering-xgboost)\n",
    "+ [Predicting sales using Lightgbm](https://www.kaggle.com/sanket30/predicting-sales-using-lightgbm)"
   ]
  },
  {
   "cell_type": "markdown",
   "metadata": {},
   "source": [
    "## Time Series\n",
    "\n",
    "对于revenge的预测很有帮助，但是对于单个店的单个商品而言没有实际的意义，这种预测方式的学习非常有益处\n",
    "\n",
    "+ [AR(I)MA时间序列建模过程——步骤和python代码](https://www.jianshu.com/p/cced6617b423)\n",
    "+ [python时间序列分析](http://www.cnblogs.com/foley/p/5582358.html)\n",
    "+ [AR、MA及ARMA模型](https://zhuanlan.zhihu.com/p/22248464)\n",
    "+ [Time Series with Python (ODSC) STA.ipynb](https://github.com/ultimatist/ODSC17/blob/master/Time%20Series%20with%20Python%20(ODSC)%20STA.ipynb)\n",
    "+ [Getting Started with Time Series](https://pyflux.readthedocs.io/en/latest/getting_started.html)\n",
    "+ [Welcome to Statsmodels’s Documentation](http://www.statsmodels.org/devel/index.html)"
   ]
  }
 ],
 "metadata": {
  "kernelspec": {
   "display_name": "Python 3",
   "language": "python",
   "name": "python3"
  },
  "language_info": {
   "codemirror_mode": {
    "name": "ipython",
    "version": 3
   },
   "file_extension": ".py",
   "mimetype": "text/x-python",
   "name": "python",
   "nbconvert_exporter": "python",
   "pygments_lexer": "ipython3",
   "version": "3.7.1"
  }
 },
 "nbformat": 4,
 "nbformat_minor": 2
}
