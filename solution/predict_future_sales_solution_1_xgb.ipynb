{
 "cells": [
  {
   "cell_type": "code",
   "execution_count": 1,
   "metadata": {},
   "outputs": [],
   "source": [
    "import numpy as np\n",
    "import pandas as pd\n",
    "import seaborn as sns\n",
    "import matplotlib.pyplot as plt\n",
    "from scipy import stats\n",
    "import logging\n",
    "import datetime\n",
    "\n",
    "from sklearn.preprocessing import OneHotEncoder,MinMaxScaler, Normalizer, LabelEncoder\n",
    "from sklearn.feature_selection import SelectKBest,chi2,SelectFromModel\n",
    "from xgboost import XGBClassifier, XGBRegressor\n",
    "from sklearn.pipeline import Pipeline, FeatureUnion\n",
    "from sklearn.base import BaseEstimator, TransformerMixin\n",
    "from sklearn.model_selection import GridSearchCV\n",
    "from sklearn.impute import SimpleImputer\n",
    "from xgboost import plot_importance\n",
    "from mlxtend.preprocessing import DenseTransformer\n",
    "from mlxtend.feature_selection import ColumnSelector\n",
    "from itertools import product\n",
    "\n",
    "sns.set(color_codes=True)"
   ]
  },
  {
   "cell_type": "markdown",
   "metadata": {},
   "source": [
    "# Features Engineering"
   ]
  },
  {
   "cell_type": "markdown",
   "metadata": {},
   "source": [
    "## outliers"
   ]
  },
  {
   "cell_type": "code",
   "execution_count": 2,
   "metadata": {},
   "outputs": [],
   "source": [
    "dateparse = lambda x: pd.datetime.strptime(x, '%d.%m.%Y')\n",
    "sales_df = pd.read_csv('../input/sales_train.csv', parse_dates = ['date'], date_parser=dateparse)"
   ]
  },
  {
   "cell_type": "code",
   "execution_count": 3,
   "metadata": {},
   "outputs": [],
   "source": [
    "item_df = pd.read_csv('../input/items.csv')\n",
    "shop_df = pd.read_csv('../input/shops.csv')\n",
    "category_df = pd.read_csv('../input/item_categories.csv')"
   ]
  },
  {
   "cell_type": "code",
   "execution_count": 4,
   "metadata": {},
   "outputs": [],
   "source": [
    "test_df = pd.read_csv('../input/test.csv').set_index('ID')"
   ]
  },
  {
   "cell_type": "code",
   "execution_count": 5,
   "metadata": {},
   "outputs": [
    {
     "name": "stdout",
     "output_type": "stream",
     "text": [
      "<class 'pandas.core.frame.DataFrame'>\n",
      "RangeIndex: 84 entries, 0 to 83\n",
      "Data columns (total 2 columns):\n",
      "item_category_name    84 non-null object\n",
      "item_category_id      84 non-null int64\n",
      "dtypes: int64(1), object(1)\n",
      "memory usage: 1.4+ KB\n"
     ]
    }
   ],
   "source": [
    "category_df.info()"
   ]
  },
  {
   "cell_type": "code",
   "execution_count": 6,
   "metadata": {},
   "outputs": [],
   "source": [
    "sales_df['shop_id'] = sales_df['shop_id'].astype('int16')\n",
    "sales_df['item_id'] = sales_df['item_id'].astype('int16')\n",
    "sales_df['date_block_num'] = sales_df['date_block_num'].astype('int8')\n",
    "sales_df['item_price'] = sales_df['item_price'].astype('float32')\n",
    "sales_df['item_cnt_day'] = sales_df['item_cnt_day'].astype('float32')\n",
    "\n",
    "item_df['item_id'] = item_df['item_id'].astype('int16')\n",
    "item_df['item_category_id'] = item_df['item_category_id'].astype('int16')\n",
    "\n",
    "shop_df['shop_id'] = shop_df['shop_id'].astype('int16')\n",
    "\n",
    "category_df['item_category_id'] = category_df['item_category_id'].astype('int16')"
   ]
  },
  {
   "cell_type": "markdown",
   "metadata": {},
   "source": [
    "### Clear the data out of range"
   ]
  },
  {
   "cell_type": "code",
   "execution_count": 7,
   "metadata": {},
   "outputs": [],
   "source": [
    "sales_df = sales_df[sales_df.item_price<100000]\n",
    "sales_df = sales_df[sales_df.item_cnt_day<1000]"
   ]
  },
  {
   "cell_type": "markdown",
   "metadata": {},
   "source": [
    "### Correct the negative item price"
   ]
  },
  {
   "cell_type": "code",
   "execution_count": 8,
   "metadata": {},
   "outputs": [
    {
     "data": {
      "text/html": [
       "<div>\n",
       "<style scoped>\n",
       "    .dataframe tbody tr th:only-of-type {\n",
       "        vertical-align: middle;\n",
       "    }\n",
       "\n",
       "    .dataframe tbody tr th {\n",
       "        vertical-align: top;\n",
       "    }\n",
       "\n",
       "    .dataframe thead th {\n",
       "        text-align: right;\n",
       "    }\n",
       "</style>\n",
       "<table border=\"1\" class=\"dataframe\">\n",
       "  <thead>\n",
       "    <tr style=\"text-align: right;\">\n",
       "      <th></th>\n",
       "      <th>date</th>\n",
       "      <th>date_block_num</th>\n",
       "      <th>shop_id</th>\n",
       "      <th>item_id</th>\n",
       "      <th>item_price</th>\n",
       "      <th>item_cnt_day</th>\n",
       "    </tr>\n",
       "  </thead>\n",
       "  <tbody>\n",
       "    <tr>\n",
       "      <th>484683</th>\n",
       "      <td>2013-05-15</td>\n",
       "      <td>4</td>\n",
       "      <td>32</td>\n",
       "      <td>2973</td>\n",
       "      <td>-1.0</td>\n",
       "      <td>1.0</td>\n",
       "    </tr>\n",
       "  </tbody>\n",
       "</table>\n",
       "</div>"
      ],
      "text/plain": [
       "             date  date_block_num  shop_id  item_id  item_price  item_cnt_day\n",
       "484683 2013-05-15               4       32     2973        -1.0           1.0"
      ]
     },
     "execution_count": 8,
     "metadata": {},
     "output_type": "execute_result"
    }
   ],
   "source": [
    "sales_df[sales_df.item_price < 0]"
   ]
  },
  {
   "cell_type": "code",
   "execution_count": 9,
   "metadata": {},
   "outputs": [],
   "source": [
    "sales_df.at[484683, 'item_price'] = sales_df[(sales_df.item_id == 2973) & (sales_df.item_price > 0)].item_price.mean()"
   ]
  },
  {
   "cell_type": "markdown",
   "metadata": {},
   "source": [
    "### Adjust duplicates by shop name\n",
    "\n",
    "According to the reference, some shops are duplicates. This feature found is based on the language background."
   ]
  },
  {
   "cell_type": "code",
   "execution_count": 10,
   "metadata": {},
   "outputs": [
    {
     "data": {
      "text/html": [
       "<div>\n",
       "<style scoped>\n",
       "    .dataframe tbody tr th:only-of-type {\n",
       "        vertical-align: middle;\n",
       "    }\n",
       "\n",
       "    .dataframe tbody tr th {\n",
       "        vertical-align: top;\n",
       "    }\n",
       "\n",
       "    .dataframe thead th {\n",
       "        text-align: right;\n",
       "    }\n",
       "</style>\n",
       "<table border=\"1\" class=\"dataframe\">\n",
       "  <thead>\n",
       "    <tr style=\"text-align: right;\">\n",
       "      <th></th>\n",
       "      <th>shop_name</th>\n",
       "      <th>shop_id</th>\n",
       "    </tr>\n",
       "  </thead>\n",
       "  <tbody>\n",
       "    <tr>\n",
       "      <th>0</th>\n",
       "      <td>!Якутск Орджоникидзе, 56 фран</td>\n",
       "      <td>0</td>\n",
       "    </tr>\n",
       "  </tbody>\n",
       "</table>\n",
       "</div>"
      ],
      "text/plain": [
       "                       shop_name  shop_id\n",
       "0  !Якутск Орджоникидзе, 56 фран        0"
      ]
     },
     "execution_count": 10,
     "metadata": {},
     "output_type": "execute_result"
    }
   ],
   "source": [
    "shop_df[shop_df.shop_id == 0]"
   ]
  },
  {
   "cell_type": "code",
   "execution_count": 11,
   "metadata": {},
   "outputs": [
    {
     "data": {
      "text/html": [
       "<div>\n",
       "<style scoped>\n",
       "    .dataframe tbody tr th:only-of-type {\n",
       "        vertical-align: middle;\n",
       "    }\n",
       "\n",
       "    .dataframe tbody tr th {\n",
       "        vertical-align: top;\n",
       "    }\n",
       "\n",
       "    .dataframe thead th {\n",
       "        text-align: right;\n",
       "    }\n",
       "</style>\n",
       "<table border=\"1\" class=\"dataframe\">\n",
       "  <thead>\n",
       "    <tr style=\"text-align: right;\">\n",
       "      <th></th>\n",
       "      <th>shop_name</th>\n",
       "      <th>shop_id</th>\n",
       "    </tr>\n",
       "  </thead>\n",
       "  <tbody>\n",
       "    <tr>\n",
       "      <th>57</th>\n",
       "      <td>Якутск Орджоникидзе, 56</td>\n",
       "      <td>57</td>\n",
       "    </tr>\n",
       "  </tbody>\n",
       "</table>\n",
       "</div>"
      ],
      "text/plain": [
       "                  shop_name  shop_id\n",
       "57  Якутск Орджоникидзе, 56       57"
      ]
     },
     "execution_count": 11,
     "metadata": {},
     "output_type": "execute_result"
    }
   ],
   "source": [
    "shop_df[shop_df.shop_id == 57]"
   ]
  },
  {
   "cell_type": "markdown",
   "metadata": {},
   "source": [
    "The shop_id 0 and 57 are the same shop. And other pairs are 1 and 58, 10 and 11."
   ]
  },
  {
   "cell_type": "code",
   "execution_count": 12,
   "metadata": {},
   "outputs": [],
   "source": [
    "# Якутск Орджоникидзе, 56\n",
    "sales_df.at[sales_df.shop_id == 0, 'shop_id'] = 57\n",
    "# Якутск ТЦ \"Центральный\"\n",
    "sales_df.at[sales_df.shop_id == 1, 'shop_id'] = 58\n",
    "# Жуковский ул. Чкалова 39м²\n",
    "sales_df.at[sales_df.shop_id == 10, 'shop_id'] = 11"
   ]
  },
  {
   "cell_type": "markdown",
   "metadata": {},
   "source": [
    "## Extract Features"
   ]
  },
  {
   "cell_type": "code",
   "execution_count": 13,
   "metadata": {},
   "outputs": [],
   "source": [
    "def _rename(prefix):\n",
    "    cols = ['2013-01', '2013-02', '2013-03', '2013-04','2013-05','2013-06','2013-07','2013-08','2013-09','2013-10','2013-11','2013-12','2014-01','2014-02','2014-03','2014-04','2014-05','2014-06','2014-07','2014-08','2014-09','2014-10','2014-11','2014-12','2015-01','2015-02','2015-03','2015-04','2015-05','2015-06','2015-07','2015-08', '2015-09','2015-10']\n",
    "    \n",
    "    result = {}\n",
    "    for i in range(1, len(cols) + 1, 1):\n",
    "        result[cols[i-1]] = prefix + str(i)\n",
    "    \n",
    "    return result"
   ]
  },
  {
   "cell_type": "markdown",
   "metadata": {},
   "source": [
    "+ **Feature 'r' series**: Sales record"
   ]
  },
  {
   "cell_type": "code",
   "execution_count": 14,
   "metadata": {},
   "outputs": [],
   "source": [
    "t = sales_df.groupby([sales_df.date.apply(lambda x: x.strftime('%Y-%m')),'item_id','shop_id']).agg({'item_cnt_day': 'sum'}).reset_index()\n",
    "\n",
    "t = t[['date','item_id','shop_id','item_cnt_day']]\n",
    "t = t.pivot_table(index=['item_id','shop_id'], columns='date',values='item_cnt_day',fill_value=0).reset_index()\n",
    "t = t.rename(index=str, columns=_rename('r'))"
   ]
  },
  {
   "cell_type": "code",
   "execution_count": 15,
   "metadata": {},
   "outputs": [
    {
     "data": {
      "text/plain": [
       "35"
      ]
     },
     "execution_count": 15,
     "metadata": {},
     "output_type": "execute_result"
    }
   ],
   "source": [
    "import gc\n",
    "\n",
    "sales_detail_df = t.copy()\n",
    "\n",
    "del t\n",
    "\n",
    "gc.collect()"
   ]
  },
  {
   "cell_type": "code",
   "execution_count": 16,
   "metadata": {},
   "outputs": [],
   "source": [
    "def _extract(df, i, is_test=False):\n",
    "    arr = ['item_id','shop_id']\n",
    "    for j in range(1, 13, 1):\n",
    "        arr = arr + ['r' + str(i-j)]\n",
    "    \n",
    "    if not is_test:\n",
    "        arr = arr + ['r' + str(i)]\n",
    "    \n",
    "    tdf = df[arr]\n",
    "    tdf['date_block_num'] = i - 1\n",
    "    \n",
    "    return tdf"
   ]
  },
  {
   "cell_type": "code",
   "execution_count": 17,
   "metadata": {},
   "outputs": [
    {
     "name": "stderr",
     "output_type": "stream",
     "text": [
      "/Users/leewind/.local/share/virtualenvs/leewind-p6XO93Th/lib/python3.7/site-packages/ipykernel_launcher.py:10: SettingWithCopyWarning: \n",
      "A value is trying to be set on a copy of a slice from a DataFrame.\n",
      "Try using .loc[row_indexer,col_indexer] = value instead\n",
      "\n",
      "See the caveats in the documentation: http://pandas.pydata.org/pandas-docs/stable/indexing.html#indexing-view-versus-copy\n",
      "  # Remove the CWD from sys.path while we load stuff.\n"
     ]
    }
   ],
   "source": [
    "cols = ['item_id','shop_id', 'r1', 'r2', 'r3', 'r4', 'r5', 'r6', 'r7', 'r8', 'r9', 'r10', 'r11', 'r12', 'item_cnt_month', 'date_block_num']\n",
    "sales_record_df = pd.DataFrame(columns=cols)\n",
    "for i in range(13, 35, 1):\n",
    "    tdf = _extract(sales_detail_df, i)\n",
    "    sales_record_df = sales_record_df.append(pd.DataFrame(columns=cols, data=tdf.values))"
   ]
  },
  {
   "cell_type": "code",
   "execution_count": 18,
   "metadata": {},
   "outputs": [
    {
     "data": {
      "text/html": [
       "<div>\n",
       "<style scoped>\n",
       "    .dataframe tbody tr th:only-of-type {\n",
       "        vertical-align: middle;\n",
       "    }\n",
       "\n",
       "    .dataframe tbody tr th {\n",
       "        vertical-align: top;\n",
       "    }\n",
       "\n",
       "    .dataframe thead th {\n",
       "        text-align: right;\n",
       "    }\n",
       "</style>\n",
       "<table border=\"1\" class=\"dataframe\">\n",
       "  <thead>\n",
       "    <tr style=\"text-align: right;\">\n",
       "      <th></th>\n",
       "      <th>item_id</th>\n",
       "      <th>shop_id</th>\n",
       "      <th>r1</th>\n",
       "      <th>r2</th>\n",
       "      <th>r3</th>\n",
       "      <th>r4</th>\n",
       "      <th>r5</th>\n",
       "      <th>r6</th>\n",
       "      <th>r7</th>\n",
       "      <th>r8</th>\n",
       "      <th>r9</th>\n",
       "      <th>r10</th>\n",
       "      <th>r11</th>\n",
       "      <th>r12</th>\n",
       "      <th>item_cnt_month</th>\n",
       "      <th>date_block_num</th>\n",
       "    </tr>\n",
       "  </thead>\n",
       "  <tbody>\n",
       "    <tr>\n",
       "      <th>2</th>\n",
       "      <td>2</td>\n",
       "      <td>54</td>\n",
       "      <td>0</td>\n",
       "      <td>0</td>\n",
       "      <td>0</td>\n",
       "      <td>0</td>\n",
       "      <td>0</td>\n",
       "      <td>0</td>\n",
       "      <td>0</td>\n",
       "      <td>0</td>\n",
       "      <td>0</td>\n",
       "      <td>0</td>\n",
       "      <td>0</td>\n",
       "      <td>0</td>\n",
       "      <td>0</td>\n",
       "      <td>12</td>\n",
       "    </tr>\n",
       "    <tr>\n",
       "      <th>2</th>\n",
       "      <td>2</td>\n",
       "      <td>54</td>\n",
       "      <td>0</td>\n",
       "      <td>0</td>\n",
       "      <td>0</td>\n",
       "      <td>0</td>\n",
       "      <td>0</td>\n",
       "      <td>0</td>\n",
       "      <td>0</td>\n",
       "      <td>0</td>\n",
       "      <td>0</td>\n",
       "      <td>0</td>\n",
       "      <td>0</td>\n",
       "      <td>0</td>\n",
       "      <td>0</td>\n",
       "      <td>13</td>\n",
       "    </tr>\n",
       "    <tr>\n",
       "      <th>2</th>\n",
       "      <td>2</td>\n",
       "      <td>54</td>\n",
       "      <td>0</td>\n",
       "      <td>0</td>\n",
       "      <td>0</td>\n",
       "      <td>0</td>\n",
       "      <td>0</td>\n",
       "      <td>0</td>\n",
       "      <td>0</td>\n",
       "      <td>0</td>\n",
       "      <td>0</td>\n",
       "      <td>0</td>\n",
       "      <td>0</td>\n",
       "      <td>0</td>\n",
       "      <td>0</td>\n",
       "      <td>14</td>\n",
       "    </tr>\n",
       "    <tr>\n",
       "      <th>2</th>\n",
       "      <td>2</td>\n",
       "      <td>54</td>\n",
       "      <td>0</td>\n",
       "      <td>0</td>\n",
       "      <td>0</td>\n",
       "      <td>0</td>\n",
       "      <td>0</td>\n",
       "      <td>0</td>\n",
       "      <td>0</td>\n",
       "      <td>0</td>\n",
       "      <td>0</td>\n",
       "      <td>0</td>\n",
       "      <td>0</td>\n",
       "      <td>0</td>\n",
       "      <td>0</td>\n",
       "      <td>15</td>\n",
       "    </tr>\n",
       "    <tr>\n",
       "      <th>2</th>\n",
       "      <td>2</td>\n",
       "      <td>54</td>\n",
       "      <td>0</td>\n",
       "      <td>0</td>\n",
       "      <td>0</td>\n",
       "      <td>0</td>\n",
       "      <td>0</td>\n",
       "      <td>0</td>\n",
       "      <td>0</td>\n",
       "      <td>0</td>\n",
       "      <td>0</td>\n",
       "      <td>0</td>\n",
       "      <td>0</td>\n",
       "      <td>0</td>\n",
       "      <td>0</td>\n",
       "      <td>16</td>\n",
       "    </tr>\n",
       "    <tr>\n",
       "      <th>2</th>\n",
       "      <td>2</td>\n",
       "      <td>54</td>\n",
       "      <td>0</td>\n",
       "      <td>0</td>\n",
       "      <td>0</td>\n",
       "      <td>0</td>\n",
       "      <td>0</td>\n",
       "      <td>0</td>\n",
       "      <td>0</td>\n",
       "      <td>0</td>\n",
       "      <td>0</td>\n",
       "      <td>0</td>\n",
       "      <td>0</td>\n",
       "      <td>0</td>\n",
       "      <td>0</td>\n",
       "      <td>17</td>\n",
       "    </tr>\n",
       "    <tr>\n",
       "      <th>2</th>\n",
       "      <td>2</td>\n",
       "      <td>54</td>\n",
       "      <td>0</td>\n",
       "      <td>0</td>\n",
       "      <td>0</td>\n",
       "      <td>0</td>\n",
       "      <td>0</td>\n",
       "      <td>0</td>\n",
       "      <td>0</td>\n",
       "      <td>0</td>\n",
       "      <td>0</td>\n",
       "      <td>0</td>\n",
       "      <td>0</td>\n",
       "      <td>0</td>\n",
       "      <td>0</td>\n",
       "      <td>18</td>\n",
       "    </tr>\n",
       "    <tr>\n",
       "      <th>2</th>\n",
       "      <td>2</td>\n",
       "      <td>54</td>\n",
       "      <td>0</td>\n",
       "      <td>0</td>\n",
       "      <td>0</td>\n",
       "      <td>0</td>\n",
       "      <td>0</td>\n",
       "      <td>0</td>\n",
       "      <td>0</td>\n",
       "      <td>0</td>\n",
       "      <td>0</td>\n",
       "      <td>0</td>\n",
       "      <td>0</td>\n",
       "      <td>0</td>\n",
       "      <td>1</td>\n",
       "      <td>19</td>\n",
       "    </tr>\n",
       "    <tr>\n",
       "      <th>2</th>\n",
       "      <td>2</td>\n",
       "      <td>54</td>\n",
       "      <td>1</td>\n",
       "      <td>0</td>\n",
       "      <td>0</td>\n",
       "      <td>0</td>\n",
       "      <td>0</td>\n",
       "      <td>0</td>\n",
       "      <td>0</td>\n",
       "      <td>0</td>\n",
       "      <td>0</td>\n",
       "      <td>0</td>\n",
       "      <td>0</td>\n",
       "      <td>0</td>\n",
       "      <td>0</td>\n",
       "      <td>20</td>\n",
       "    </tr>\n",
       "    <tr>\n",
       "      <th>2</th>\n",
       "      <td>2</td>\n",
       "      <td>54</td>\n",
       "      <td>0</td>\n",
       "      <td>1</td>\n",
       "      <td>0</td>\n",
       "      <td>0</td>\n",
       "      <td>0</td>\n",
       "      <td>0</td>\n",
       "      <td>0</td>\n",
       "      <td>0</td>\n",
       "      <td>0</td>\n",
       "      <td>0</td>\n",
       "      <td>0</td>\n",
       "      <td>0</td>\n",
       "      <td>0</td>\n",
       "      <td>21</td>\n",
       "    </tr>\n",
       "    <tr>\n",
       "      <th>2</th>\n",
       "      <td>2</td>\n",
       "      <td>54</td>\n",
       "      <td>0</td>\n",
       "      <td>0</td>\n",
       "      <td>1</td>\n",
       "      <td>0</td>\n",
       "      <td>0</td>\n",
       "      <td>0</td>\n",
       "      <td>0</td>\n",
       "      <td>0</td>\n",
       "      <td>0</td>\n",
       "      <td>0</td>\n",
       "      <td>0</td>\n",
       "      <td>0</td>\n",
       "      <td>1</td>\n",
       "      <td>22</td>\n",
       "    </tr>\n",
       "    <tr>\n",
       "      <th>2</th>\n",
       "      <td>2</td>\n",
       "      <td>54</td>\n",
       "      <td>1</td>\n",
       "      <td>0</td>\n",
       "      <td>0</td>\n",
       "      <td>1</td>\n",
       "      <td>0</td>\n",
       "      <td>0</td>\n",
       "      <td>0</td>\n",
       "      <td>0</td>\n",
       "      <td>0</td>\n",
       "      <td>0</td>\n",
       "      <td>0</td>\n",
       "      <td>0</td>\n",
       "      <td>0</td>\n",
       "      <td>23</td>\n",
       "    </tr>\n",
       "    <tr>\n",
       "      <th>2</th>\n",
       "      <td>2</td>\n",
       "      <td>54</td>\n",
       "      <td>0</td>\n",
       "      <td>1</td>\n",
       "      <td>0</td>\n",
       "      <td>0</td>\n",
       "      <td>1</td>\n",
       "      <td>0</td>\n",
       "      <td>0</td>\n",
       "      <td>0</td>\n",
       "      <td>0</td>\n",
       "      <td>0</td>\n",
       "      <td>0</td>\n",
       "      <td>0</td>\n",
       "      <td>0</td>\n",
       "      <td>24</td>\n",
       "    </tr>\n",
       "    <tr>\n",
       "      <th>2</th>\n",
       "      <td>2</td>\n",
       "      <td>54</td>\n",
       "      <td>0</td>\n",
       "      <td>0</td>\n",
       "      <td>1</td>\n",
       "      <td>0</td>\n",
       "      <td>0</td>\n",
       "      <td>1</td>\n",
       "      <td>0</td>\n",
       "      <td>0</td>\n",
       "      <td>0</td>\n",
       "      <td>0</td>\n",
       "      <td>0</td>\n",
       "      <td>0</td>\n",
       "      <td>0</td>\n",
       "      <td>25</td>\n",
       "    </tr>\n",
       "    <tr>\n",
       "      <th>2</th>\n",
       "      <td>2</td>\n",
       "      <td>54</td>\n",
       "      <td>0</td>\n",
       "      <td>0</td>\n",
       "      <td>0</td>\n",
       "      <td>1</td>\n",
       "      <td>0</td>\n",
       "      <td>0</td>\n",
       "      <td>1</td>\n",
       "      <td>0</td>\n",
       "      <td>0</td>\n",
       "      <td>0</td>\n",
       "      <td>0</td>\n",
       "      <td>0</td>\n",
       "      <td>0</td>\n",
       "      <td>26</td>\n",
       "    </tr>\n",
       "    <tr>\n",
       "      <th>2</th>\n",
       "      <td>2</td>\n",
       "      <td>54</td>\n",
       "      <td>0</td>\n",
       "      <td>0</td>\n",
       "      <td>0</td>\n",
       "      <td>0</td>\n",
       "      <td>1</td>\n",
       "      <td>0</td>\n",
       "      <td>0</td>\n",
       "      <td>1</td>\n",
       "      <td>0</td>\n",
       "      <td>0</td>\n",
       "      <td>0</td>\n",
       "      <td>0</td>\n",
       "      <td>0</td>\n",
       "      <td>27</td>\n",
       "    </tr>\n",
       "    <tr>\n",
       "      <th>2</th>\n",
       "      <td>2</td>\n",
       "      <td>54</td>\n",
       "      <td>0</td>\n",
       "      <td>0</td>\n",
       "      <td>0</td>\n",
       "      <td>0</td>\n",
       "      <td>0</td>\n",
       "      <td>1</td>\n",
       "      <td>0</td>\n",
       "      <td>0</td>\n",
       "      <td>1</td>\n",
       "      <td>0</td>\n",
       "      <td>0</td>\n",
       "      <td>0</td>\n",
       "      <td>0</td>\n",
       "      <td>28</td>\n",
       "    </tr>\n",
       "    <tr>\n",
       "      <th>2</th>\n",
       "      <td>2</td>\n",
       "      <td>54</td>\n",
       "      <td>0</td>\n",
       "      <td>0</td>\n",
       "      <td>0</td>\n",
       "      <td>0</td>\n",
       "      <td>0</td>\n",
       "      <td>0</td>\n",
       "      <td>1</td>\n",
       "      <td>0</td>\n",
       "      <td>0</td>\n",
       "      <td>1</td>\n",
       "      <td>0</td>\n",
       "      <td>0</td>\n",
       "      <td>0</td>\n",
       "      <td>29</td>\n",
       "    </tr>\n",
       "    <tr>\n",
       "      <th>2</th>\n",
       "      <td>2</td>\n",
       "      <td>54</td>\n",
       "      <td>0</td>\n",
       "      <td>0</td>\n",
       "      <td>0</td>\n",
       "      <td>0</td>\n",
       "      <td>0</td>\n",
       "      <td>0</td>\n",
       "      <td>0</td>\n",
       "      <td>1</td>\n",
       "      <td>0</td>\n",
       "      <td>0</td>\n",
       "      <td>1</td>\n",
       "      <td>0</td>\n",
       "      <td>0</td>\n",
       "      <td>30</td>\n",
       "    </tr>\n",
       "    <tr>\n",
       "      <th>2</th>\n",
       "      <td>2</td>\n",
       "      <td>54</td>\n",
       "      <td>0</td>\n",
       "      <td>0</td>\n",
       "      <td>0</td>\n",
       "      <td>0</td>\n",
       "      <td>0</td>\n",
       "      <td>0</td>\n",
       "      <td>0</td>\n",
       "      <td>0</td>\n",
       "      <td>1</td>\n",
       "      <td>0</td>\n",
       "      <td>0</td>\n",
       "      <td>1</td>\n",
       "      <td>0</td>\n",
       "      <td>31</td>\n",
       "    </tr>\n",
       "  </tbody>\n",
       "</table>\n",
       "</div>"
      ],
      "text/plain": [
       "  item_id shop_id r1 r2 r3 r4 r5 r6 r7 r8 r9 r10 r11 r12 item_cnt_month  \\\n",
       "2       2      54  0  0  0  0  0  0  0  0  0   0   0   0              0   \n",
       "2       2      54  0  0  0  0  0  0  0  0  0   0   0   0              0   \n",
       "2       2      54  0  0  0  0  0  0  0  0  0   0   0   0              0   \n",
       "2       2      54  0  0  0  0  0  0  0  0  0   0   0   0              0   \n",
       "2       2      54  0  0  0  0  0  0  0  0  0   0   0   0              0   \n",
       "2       2      54  0  0  0  0  0  0  0  0  0   0   0   0              0   \n",
       "2       2      54  0  0  0  0  0  0  0  0  0   0   0   0              0   \n",
       "2       2      54  0  0  0  0  0  0  0  0  0   0   0   0              1   \n",
       "2       2      54  1  0  0  0  0  0  0  0  0   0   0   0              0   \n",
       "2       2      54  0  1  0  0  0  0  0  0  0   0   0   0              0   \n",
       "2       2      54  0  0  1  0  0  0  0  0  0   0   0   0              1   \n",
       "2       2      54  1  0  0  1  0  0  0  0  0   0   0   0              0   \n",
       "2       2      54  0  1  0  0  1  0  0  0  0   0   0   0              0   \n",
       "2       2      54  0  0  1  0  0  1  0  0  0   0   0   0              0   \n",
       "2       2      54  0  0  0  1  0  0  1  0  0   0   0   0              0   \n",
       "2       2      54  0  0  0  0  1  0  0  1  0   0   0   0              0   \n",
       "2       2      54  0  0  0  0  0  1  0  0  1   0   0   0              0   \n",
       "2       2      54  0  0  0  0  0  0  1  0  0   1   0   0              0   \n",
       "2       2      54  0  0  0  0  0  0  0  1  0   0   1   0              0   \n",
       "2       2      54  0  0  0  0  0  0  0  0  1   0   0   1              0   \n",
       "\n",
       "  date_block_num  \n",
       "2             12  \n",
       "2             13  \n",
       "2             14  \n",
       "2             15  \n",
       "2             16  \n",
       "2             17  \n",
       "2             18  \n",
       "2             19  \n",
       "2             20  \n",
       "2             21  \n",
       "2             22  \n",
       "2             23  \n",
       "2             24  \n",
       "2             25  \n",
       "2             26  \n",
       "2             27  \n",
       "2             28  \n",
       "2             29  \n",
       "2             30  \n",
       "2             31  "
      ]
     },
     "execution_count": 18,
     "metadata": {},
     "output_type": "execute_result"
    }
   ],
   "source": [
    "sales_record_df[(sales_record_df.shop_id == 54) & (sales_record_df.item_id == 2)].head(20)"
   ]
  },
  {
   "cell_type": "code",
   "execution_count": 19,
   "metadata": {},
   "outputs": [],
   "source": [
    "sales_record_df['item_id'] = sales_record_df['item_id'].astype('int16')\n",
    "sales_record_df['shop_id'] = sales_record_df['shop_id'].astype('int16')"
   ]
  },
  {
   "cell_type": "code",
   "execution_count": 20,
   "metadata": {},
   "outputs": [],
   "source": [
    "sales_record_df['month'] = sales_record_df['date_block_num'].apply(lambda x: (x % 12) + 1)"
   ]
  },
  {
   "cell_type": "code",
   "execution_count": 21,
   "metadata": {},
   "outputs": [
    {
     "name": "stdout",
     "output_type": "stream",
     "text": [
      "<class 'pandas.core.frame.DataFrame'>\n",
      "Int64Index: 9215976 entries, 0 to 418907\n",
      "Data columns (total 17 columns):\n",
      "item_id           int16\n",
      "shop_id           int16\n",
      "r1                object\n",
      "r2                object\n",
      "r3                object\n",
      "r4                object\n",
      "r5                object\n",
      "r6                object\n",
      "r7                object\n",
      "r8                object\n",
      "r9                object\n",
      "r10               object\n",
      "r11               object\n",
      "r12               object\n",
      "item_cnt_month    object\n",
      "date_block_num    object\n",
      "month             int64\n",
      "dtypes: int16(2), int64(1), object(14)\n",
      "memory usage: 1.1+ GB\n"
     ]
    }
   ],
   "source": [
    "sales_record_df.info()"
   ]
  },
  {
   "cell_type": "code",
   "execution_count": 22,
   "metadata": {},
   "outputs": [],
   "source": [
    "for i in range(1, 13, 1):\n",
    "    sales_record_df['r'+str(i)] = sales_record_df['r'+str(i)].astype('int16')\n",
    "    \n",
    "sales_record_df['item_cnt_month'] = sales_record_df['item_cnt_month'].astype('int16')\n",
    "sales_record_df['date_block_num'] = sales_record_df['date_block_num'].astype('int8')\n",
    "sales_record_df['month'] = sales_record_df['month'].astype('int8')"
   ]
  },
  {
   "cell_type": "markdown",
   "metadata": {},
   "source": [
    "+ **Feature 'city'**: Each shop_name starts with the city name."
   ]
  },
  {
   "cell_type": "code",
   "execution_count": 23,
   "metadata": {},
   "outputs": [],
   "source": [
    "shop_df.loc[shop_df.shop_name == 'Сергиев Посад ТЦ \"7Я\"', 'shop_name'] = 'СергиевПосад ТЦ \"7Я\"'\n",
    "shop_df['shop_name'] = shop_df['shop_name'].astype(str)\n",
    "shop_df['city'] = shop_df['shop_name'].str.split(' ').map(lambda x: x[0])\n",
    "shop_df.loc[shop_df.city == '!Якутск', 'city'] = 'Якутск'\n",
    "\n",
    "encoder = LabelEncoder()\n",
    "encoder.fit(shop_df['city'])\n",
    "shop_df['city_code'] = encoder.transform(shop_df['city'])"
   ]
  },
  {
   "cell_type": "markdown",
   "metadata": {},
   "source": [
    "+ **Feature 'type'**: Each category contains type and subtype in its name.\n",
    "+ **Feature 'subtype'**: Each category contains type and subtype in its name."
   ]
  },
  {
   "cell_type": "code",
   "execution_count": 24,
   "metadata": {},
   "outputs": [],
   "source": [
    "category_df['item_category_name'] = category_df['item_category_name'].astype(str)\n",
    "category_df['type'] = category_df['item_category_name'].map(lambda x: x.split('-')[0].strip())\n",
    "\n",
    "encoder = LabelEncoder()\n",
    "encoder.fit(category_df['type'])\n",
    "category_df['type_code'] = encoder.transform(category_df['type'])"
   ]
  },
  {
   "cell_type": "code",
   "execution_count": 25,
   "metadata": {},
   "outputs": [],
   "source": [
    "category_df['subtype'] = category_df['item_category_name'].map(lambda x: x.split('-')[1].strip() if len(x.split('-')) > 1 else x.split('-')[0].strip())\n",
    "\n",
    "encoder = LabelEncoder()\n",
    "encoder.fit(category_df['subtype'])\n",
    "category_df['subtype_code'] = encoder.transform(category_df['subtype'])"
   ]
  },
  {
   "cell_type": "markdown",
   "metadata": {},
   "source": [
    "## Merge Data into one entity"
   ]
  },
  {
   "cell_type": "code",
   "execution_count": 26,
   "metadata": {},
   "outputs": [],
   "source": [
    "sales_record_df = pd.merge(sales_record_df, item_df, on=['item_id'], how='left')\n",
    "sales_record_df = pd.merge(sales_record_df, shop_df, on=['shop_id'], how='left')\n",
    "sales_record_df = pd.merge(sales_record_df, category_df, on=['item_category_id'], how='left')"
   ]
  },
  {
   "cell_type": "code",
   "execution_count": 27,
   "metadata": {},
   "outputs": [],
   "source": [
    "sales_record_df = sales_record_df.drop(['city', 'type', 'subtype', 'item_name', 'shop_name', 'item_category_name'], axis=1)"
   ]
  },
  {
   "cell_type": "code",
   "execution_count": 28,
   "metadata": {},
   "outputs": [],
   "source": [
    "sales_record_df['city_code'] = sales_record_df['city_code'].astype('int16')\n",
    "sales_record_df['type_code'] = sales_record_df['type_code'].astype('int16')\n",
    "sales_record_df['subtype_code'] = sales_record_df['subtype_code'].astype('int16')"
   ]
  },
  {
   "cell_type": "code",
   "execution_count": 29,
   "metadata": {},
   "outputs": [],
   "source": [
    "def _mean(df, prefix):\n",
    "    arr = []\n",
    "    for i in range(1, 13, 1):\n",
    "        arr.append(prefix + str(i))\n",
    "\n",
    "    df[prefix + '13'] = df[arr].mean()"
   ]
  },
  {
   "cell_type": "code",
   "execution_count": 30,
   "metadata": {},
   "outputs": [],
   "source": [
    "_mean(sales_record_df, 'r')"
   ]
  },
  {
   "cell_type": "code",
   "execution_count": 31,
   "metadata": {},
   "outputs": [],
   "source": [
    "for i in range(1, 13, 1):\n",
    "    t = sales_record_df.groupby(['shop_id', 'item_category_id'])['r'+str(i)].mean().reset_index(name='sc'+str(i))\n",
    "    sales_record_df = pd.merge(sales_record_df, t, on=['shop_id', 'item_category_id'], how='left')"
   ]
  },
  {
   "cell_type": "code",
   "execution_count": 32,
   "metadata": {},
   "outputs": [],
   "source": [
    "_mean(sales_record_df, 'sc')"
   ]
  },
  {
   "cell_type": "code",
   "execution_count": 33,
   "metadata": {},
   "outputs": [],
   "source": [
    "for i in range(1, 13, 1):\n",
    "    t = sales_record_df.groupby(['item_id'])['r'+str(i)].mean().reset_index(name='i'+str(i))\n",
    "    sales_record_df = pd.merge(sales_record_df, t, on=['item_id'], how='left')"
   ]
  },
  {
   "cell_type": "code",
   "execution_count": 34,
   "metadata": {},
   "outputs": [],
   "source": [
    "_mean(sales_record_df, 'i')"
   ]
  },
  {
   "cell_type": "code",
   "execution_count": 35,
   "metadata": {},
   "outputs": [],
   "source": [
    "for i in range(1, 14, 1):\n",
    "    sales_record_df['sc'+str(i)] = sales_record_df['sc'+str(i)].astype('float32')\n",
    "    sales_record_df['i'+str(i)] = sales_record_df['i'+str(i)].astype('float32')\n",
    "\n",
    "sales_record_df['r13'] = sales_record_df['r13'].astype('float32')"
   ]
  },
  {
   "cell_type": "code",
   "execution_count": 36,
   "metadata": {},
   "outputs": [
    {
     "name": "stdout",
     "output_type": "stream",
     "text": [
      "<class 'pandas.core.frame.DataFrame'>\n",
      "Int64Index: 9215976 entries, 0 to 9215975\n",
      "Data columns (total 48 columns):\n",
      "item_id             int16\n",
      "shop_id             int16\n",
      "r1                  int16\n",
      "r2                  int16\n",
      "r3                  int16\n",
      "r4                  int16\n",
      "r5                  int16\n",
      "r6                  int16\n",
      "r7                  int16\n",
      "r8                  int16\n",
      "r9                  int16\n",
      "r10                 int16\n",
      "r11                 int16\n",
      "r12                 int16\n",
      "item_cnt_month      int16\n",
      "date_block_num      int8\n",
      "month               int8\n",
      "item_category_id    int16\n",
      "city_code           int16\n",
      "type_code           int16\n",
      "subtype_code        int16\n",
      "r13                 float32\n",
      "sc1                 float32\n",
      "sc2                 float32\n",
      "sc3                 float32\n",
      "sc4                 float32\n",
      "sc5                 float32\n",
      "sc6                 float32\n",
      "sc7                 float32\n",
      "sc8                 float32\n",
      "sc9                 float32\n",
      "sc10                float32\n",
      "sc11                float32\n",
      "sc12                float32\n",
      "sc13                float32\n",
      "i1                  float32\n",
      "i2                  float32\n",
      "i3                  float32\n",
      "i4                  float32\n",
      "i5                  float32\n",
      "i6                  float32\n",
      "i7                  float32\n",
      "i8                  float32\n",
      "i9                  float32\n",
      "i10                 float32\n",
      "i11                 float32\n",
      "i12                 float32\n",
      "i13                 float32\n",
      "dtypes: float32(27), int16(19), int8(2)\n",
      "memory usage: 1.3 GB\n"
     ]
    }
   ],
   "source": [
    "sales_record_df.info()"
   ]
  },
  {
   "cell_type": "markdown",
   "metadata": {},
   "source": [
    "## Feature Selection"
   ]
  },
  {
   "cell_type": "code",
   "execution_count": 37,
   "metadata": {},
   "outputs": [],
   "source": [
    "dataset = sales_record_df.copy()"
   ]
  },
  {
   "cell_type": "code",
   "execution_count": 38,
   "metadata": {},
   "outputs": [
    {
     "data": {
      "text/plain": [
       "array(['item_id', 'shop_id', 'r1', 'r2', 'r3', 'r4', 'r5', 'r6', 'r7',\n",
       "       'r8', 'r9', 'r10', 'r11', 'r12', 'item_cnt_month',\n",
       "       'date_block_num', 'month', 'item_category_id', 'city_code',\n",
       "       'type_code', 'subtype_code', 'r13', 'sc1', 'sc2', 'sc3', 'sc4',\n",
       "       'sc5', 'sc6', 'sc7', 'sc8', 'sc9', 'sc10', 'sc11', 'sc12', 'sc13',\n",
       "       'i1', 'i2', 'i3', 'i4', 'i5', 'i6', 'i7', 'i8', 'i9', 'i10', 'i11',\n",
       "       'i12', 'i13'], dtype=object)"
      ]
     },
     "execution_count": 38,
     "metadata": {},
     "output_type": "execute_result"
    }
   ],
   "source": [
    "dataset.columns.values"
   ]
  },
  {
   "cell_type": "code",
   "execution_count": 39,
   "metadata": {},
   "outputs": [],
   "source": [
    "dataset_beta = dataset[dataset.date_block_num == 32]\n",
    "dataset_alpha = dataset[dataset.date_block_num == 33]"
   ]
  },
  {
   "cell_type": "code",
   "execution_count": 40,
   "metadata": {},
   "outputs": [
    {
     "data": {
      "text/plain": [
       "45"
      ]
     },
     "execution_count": 40,
     "metadata": {},
     "output_type": "execute_result"
    }
   ],
   "source": [
    "continuous = [\n",
    "    'item_id', 'shop_id', \n",
    "    \n",
    "    'r1', 'r2', 'r3', 'r4', 'r5', 'r6', 'r7',\n",
    "    'r8', 'r9', 'r10', 'r11', 'r12', \n",
    "    \n",
    "    'date_block_num', 'month', 'item_category_id', 'city_code',\n",
    "#     'type_code', 'subtype_code', \n",
    "    \n",
    "    'r13', \n",
    "    \n",
    "    'sc1', 'sc2', 'sc3', 'sc4',\n",
    "    'sc5', 'sc6', 'sc7', 'sc8', 'sc9', 'sc10', 'sc11', 'sc12', 'sc13',\n",
    "    \n",
    "    'i1', 'i2', 'i3', 'i4', 'i5', 'i6', 'i7', 'i8', 'i9', 'i10', 'i11',\n",
    "    'i12', 'i13'\n",
    "]\n",
    "\n",
    "fields = [\n",
    "    \n",
    "]\n",
    "\n",
    "label = ['item_cnt_month']\n",
    "\n",
    "len(continuous)"
   ]
  },
  {
   "cell_type": "code",
   "execution_count": 41,
   "metadata": {},
   "outputs": [],
   "source": [
    "features_pipeline = Pipeline([\n",
    "    ('features', FeatureUnion([\n",
    "        ('continuous', Pipeline([\n",
    "            ('extract', ColumnSelector(continuous)),\n",
    "            ('imputer', SimpleImputer(missing_values=np.nan, strategy='most_frequent')),\n",
    "            ('normalize', Normalizer())\n",
    "        ])),\n",
    "    ])),\n",
    "])\n",
    "\n",
    "features_pipeline.fit(dataset_beta, dataset_beta[label].values.ravel())\n",
    "\n",
    "train_dataset_x = features_pipeline.transform(dataset_beta)\n",
    "train_dataset_y = dataset_beta[label].values.ravel()"
   ]
  },
  {
   "cell_type": "code",
   "execution_count": 42,
   "metadata": {},
   "outputs": [
    {
     "data": {
      "text/plain": [
       "XGBRegressor(base_score=0.5, booster='gbtree', colsample_bylevel=1,\n",
       "       colsample_bytree=1, gamma=0, learning_rate=0.1, max_delta_step=0,\n",
       "       max_depth=10, min_child_weight=1, missing=None, n_estimators=50,\n",
       "       n_jobs=1, nthread=None, objective='reg:linear', random_state=0,\n",
       "       reg_alpha=0, reg_lambda=1, scale_pos_weight=1, seed=None,\n",
       "       silent=True, subsample=1)"
      ]
     },
     "execution_count": 42,
     "metadata": {},
     "output_type": "execute_result"
    }
   ],
   "source": [
    "selector_model = XGBRegressor(max_depth=10, n_estimators=50, random_state=0)\n",
    "selector_model.fit(train_dataset_x, train_dataset_y)"
   ]
  },
  {
   "cell_type": "code",
   "execution_count": 43,
   "metadata": {},
   "outputs": [],
   "source": [
    "thresh = 0.0\n",
    "selection = SelectFromModel(selector_model, threshold=thresh, prefit=True)\n",
    "\n",
    "train_dataset_x = selection.transform(train_dataset_x)"
   ]
  },
  {
   "cell_type": "code",
   "execution_count": 44,
   "metadata": {},
   "outputs": [
    {
     "data": {
      "text/plain": [
       "array([0.13979736, 0.04771066, 0.10029498, 0.05258433, 0.03642426,\n",
       "       0.03373092, 0.03834808, 0.02257278, 0.01628832, 0.01090163,\n",
       "       0.0157753 , 0.00820829, 0.00756701, 0.01346672, 0.09952546,\n",
       "       0.        , 0.02898551, 0.01462101, 0.06630755, 0.00936258,\n",
       "       0.00833654, 0.01026036, 0.007054  , 0.01064512, 0.01321021,\n",
       "       0.00641272, 0.0028216 , 0.00820829, 0.00756701, 0.01308195,\n",
       "       0.07028344, 0.02718994, 0.0171861 , 0.00846479, 0.00461716,\n",
       "       0.00371938, 0.00513018, 0.0014108 , 0.00115429, 0.00346287,\n",
       "       0.00436065, 0.00294985], dtype=float32)"
      ]
     },
     "execution_count": 44,
     "metadata": {},
     "output_type": "execute_result"
    }
   ],
   "source": [
    "selector_model.feature_importances_"
   ]
  },
  {
   "cell_type": "code",
   "execution_count": 45,
   "metadata": {},
   "outputs": [
    {
     "data": {
      "text/plain": [
       "<matplotlib.axes._subplots.AxesSubplot at 0x1188f48d0>"
      ]
     },
     "execution_count": 45,
     "metadata": {},
     "output_type": "execute_result"
    },
    {
     "data": {
      "image/png": "[encoded data removed]",
      "text/plain": [
       "<Figure size 720x1008 with 1 Axes>"
      ]
     },
     "metadata": {
      "needs_background": "light"
     },
     "output_type": "display_data"
    }
   ],
   "source": [
    "def plot_features(booster, figsize):    \n",
    "    fig, ax = plt.subplots(1,1,figsize=figsize)\n",
    "    return plot_importance(booster=booster, ax=ax)\n",
    "\n",
    "plot_features(selector_model, (10,14))"
   ]
  },
  {
   "cell_type": "markdown",
   "metadata": {},
   "source": [
    "## Train"
   ]
  },
  {
   "cell_type": "markdown",
   "metadata": {},
   "source": [
    "### 全量数据进行训练"
   ]
  },
  {
   "cell_type": "code",
   "execution_count": 52,
   "metadata": {},
   "outputs": [],
   "source": [
    "import xgboost as xgb\n",
    "\n",
    "dataset_beta = dataset[(dataset.date_block_num < 32)]\n",
    "train_dataset_x = features_pipeline.transform(dataset_beta)\n",
    "train_dataset_x = selection.transform(train_dataset_x)\n",
    "train_dataset_y = dataset_beta[label].values.ravel()\n",
    "train_dmatrix = xgb.DMatrix(train_dataset_x, label=train_dataset_y)\n",
    "\n",
    "dataset_test = dataset[(dataset.date_block_num == 33)]\n",
    "test_dataset_x = features_pipeline.transform(dataset_test)\n",
    "test_dataset_x = selection.transform(test_dataset_x)\n",
    "test_dataset_y = dataset_test[label].values.ravel()\n",
    "test_dmatrix = xgb.DMatrix(test_dataset_x, label=test_dataset_y)\n",
    "\n",
    "dataset_valid = dataset[(dataset.date_block_num == 32)]\n",
    "valid_dataset_x = features_pipeline.transform(dataset_valid)\n",
    "valid_dataset_x = selection.transform(valid_dataset_x)\n",
    "valid_dataset_y = dataset_valid[label].values.ravel()\n",
    "valid_dmatrix = xgb.DMatrix(valid_dataset_x, label=valid_dataset_y)"
   ]
  },
  {
   "cell_type": "code",
   "execution_count": null,
   "metadata": {},
   "outputs": [
    {
     "name": "stdout",
     "output_type": "stream",
     "text": [
      "[10:21:37] Tree method is automatically selected to be 'approx' for faster speed. To use old behavior (exact greedy algorithm on single machine), set tree_method to 'exact'.\n",
      "[10:25:22] src/tree/updater_prune.cc:74: tree pruning end, 1 roots, 4770 extra nodes, 0 pruned nodes, max_depth=12\n",
      "[10:25:42] Tree method is automatically selected to be 'approx' for faster speed. To use old behavior (exact greedy algorithm on single machine), set tree_method to 'exact'.\n",
      "[10:29:20] src/tree/updater_prune.cc:74: tree pruning end, 1 roots, 4772 extra nodes, 0 pruned nodes, max_depth=12\n",
      "[10:29:40] Tree method is automatically selected to be 'approx' for faster speed. To use old behavior (exact greedy algorithm on single machine), set tree_method to 'exact'.\n",
      "[10:33:14] src/tree/updater_prune.cc:74: tree pruning end, 1 roots, 4994 extra nodes, 0 pruned nodes, max_depth=12\n",
      "[0]\ttrain-rmse:2.65568\ttest-rmse:2.68879\n",
      "Multiple eval metrics have been passed: 'test-rmse' will be used for early stopping.\n",
      "\n",
      "Will train until test-rmse hasn't improved in 10 rounds.\n",
      "[10:36:33] src/tree/updater_prune.cc:74: tree pruning end, 1 roots, 5336 extra nodes, 4 pruned nodes, max_depth=12\n",
      "[10:39:53] src/tree/updater_prune.cc:74: tree pruning end, 1 roots, 4596 extra nodes, 0 pruned nodes, max_depth=12\n",
      "[10:43:14] src/tree/updater_prune.cc:74: tree pruning end, 1 roots, 4618 extra nodes, 0 pruned nodes, max_depth=12\n",
      "[1]\ttrain-rmse:2.50292\ttest-rmse:2.5615\n",
      "[10:46:32] src/tree/updater_prune.cc:74: tree pruning end, 1 roots, 4562 extra nodes, 0 pruned nodes, max_depth=12\n",
      "[10:49:42] src/tree/updater_prune.cc:74: tree pruning end, 1 roots, 4386 extra nodes, 0 pruned nodes, max_depth=12\n",
      "[10:52:47] src/tree/updater_prune.cc:74: tree pruning end, 1 roots, 5020 extra nodes, 6 pruned nodes, max_depth=12\n",
      "[2]\ttrain-rmse:2.35935\ttest-rmse:2.44606\n",
      "[10:56:12] src/tree/updater_prune.cc:74: tree pruning end, 1 roots, 4574 extra nodes, 0 pruned nodes, max_depth=12\n",
      "[10:59:25] src/tree/updater_prune.cc:74: tree pruning end, 1 roots, 5082 extra nodes, 2 pruned nodes, max_depth=12\n",
      "[11:02:34] src/tree/updater_prune.cc:74: tree pruning end, 1 roots, 4540 extra nodes, 0 pruned nodes, max_depth=12\n",
      "[3]\ttrain-rmse:2.23608\ttest-rmse:2.3529\n",
      "[11:05:59] src/tree/updater_prune.cc:74: tree pruning end, 1 roots, 4882 extra nodes, 4 pruned nodes, max_depth=12\n",
      "[11:09:11] src/tree/updater_prune.cc:74: tree pruning end, 1 roots, 4480 extra nodes, 6 pruned nodes, max_depth=12\n",
      "[11:12:31] src/tree/updater_prune.cc:74: tree pruning end, 1 roots, 4562 extra nodes, 2 pruned nodes, max_depth=12\n",
      "[4]\ttrain-rmse:2.12117\ttest-rmse:2.26895\n",
      "[11:15:48] src/tree/updater_prune.cc:74: tree pruning end, 1 roots, 4596 extra nodes, 4 pruned nodes, max_depth=12\n",
      "[11:19:01] src/tree/updater_prune.cc:74: tree pruning end, 1 roots, 4646 extra nodes, 2 pruned nodes, max_depth=12\n",
      "[11:22:25] src/tree/updater_prune.cc:74: tree pruning end, 1 roots, 4494 extra nodes, 4 pruned nodes, max_depth=12\n",
      "[5]\ttrain-rmse:2.01551\ttest-rmse:2.19735\n",
      "[11:25:39] src/tree/updater_prune.cc:74: tree pruning end, 1 roots, 4658 extra nodes, 4 pruned nodes, max_depth=12\n",
      "[11:28:49] src/tree/updater_prune.cc:74: tree pruning end, 1 roots, 4556 extra nodes, 0 pruned nodes, max_depth=12\n",
      "[11:32:01] src/tree/updater_prune.cc:74: tree pruning end, 1 roots, 4710 extra nodes, 6 pruned nodes, max_depth=12\n",
      "[6]\ttrain-rmse:1.92776\ttest-rmse:2.13777\n",
      "[11:35:25] src/tree/updater_prune.cc:74: tree pruning end, 1 roots, 4712 extra nodes, 6 pruned nodes, max_depth=12\n",
      "[11:38:31] src/tree/updater_prune.cc:74: tree pruning end, 1 roots, 4086 extra nodes, 0 pruned nodes, max_depth=12\n",
      "[11:41:50] src/tree/updater_prune.cc:74: tree pruning end, 1 roots, 4566 extra nodes, 6 pruned nodes, max_depth=12\n",
      "[7]\ttrain-rmse:1.84053\ttest-rmse:2.08461\n",
      "[11:45:05] src/tree/updater_prune.cc:74: tree pruning end, 1 roots, 4408 extra nodes, 2 pruned nodes, max_depth=12\n",
      "[11:48:19] src/tree/updater_prune.cc:74: tree pruning end, 1 roots, 4474 extra nodes, 6 pruned nodes, max_depth=12\n",
      "[11:51:37] src/tree/updater_prune.cc:74: tree pruning end, 1 roots, 4218 extra nodes, 6 pruned nodes, max_depth=12\n",
      "[8]\ttrain-rmse:1.7655\ttest-rmse:2.0371\n",
      "[11:54:45] src/tree/updater_prune.cc:74: tree pruning end, 1 roots, 5106 extra nodes, 4 pruned nodes, max_depth=12\n",
      "[11:57:55] src/tree/updater_prune.cc:74: tree pruning end, 1 roots, 4620 extra nodes, 2 pruned nodes, max_depth=12\n",
      "[12:01:09] src/tree/updater_prune.cc:74: tree pruning end, 1 roots, 4468 extra nodes, 8 pruned nodes, max_depth=12\n",
      "[9]\ttrain-rmse:1.6984\ttest-rmse:1.99858\n",
      "[12:04:24] src/tree/updater_prune.cc:74: tree pruning end, 1 roots, 4040 extra nodes, 2 pruned nodes, max_depth=12\n",
      "[12:07:44] src/tree/updater_prune.cc:74: tree pruning end, 1 roots, 5060 extra nodes, 2 pruned nodes, max_depth=12\n",
      "[12:10:59] src/tree/updater_prune.cc:74: tree pruning end, 1 roots, 4748 extra nodes, 4 pruned nodes, max_depth=12\n",
      "[10]\ttrain-rmse:1.6363\ttest-rmse:1.96131\n",
      "[12:14:14] src/tree/updater_prune.cc:74: tree pruning end, 1 roots, 4322 extra nodes, 4 pruned nodes, max_depth=12\n",
      "[12:17:28] src/tree/updater_prune.cc:74: tree pruning end, 1 roots, 4492 extra nodes, 0 pruned nodes, max_depth=12\n",
      "[12:20:51] src/tree/updater_prune.cc:74: tree pruning end, 1 roots, 4554 extra nodes, 2 pruned nodes, max_depth=12\n",
      "[11]\ttrain-rmse:1.57237\ttest-rmse:1.91994\n",
      "[12:24:06] src/tree/updater_prune.cc:74: tree pruning end, 1 roots, 4104 extra nodes, 6 pruned nodes, max_depth=12\n",
      "[12:27:16] src/tree/updater_prune.cc:74: tree pruning end, 1 roots, 4394 extra nodes, 4 pruned nodes, max_depth=12\n",
      "[12:30:27] src/tree/updater_prune.cc:74: tree pruning end, 1 roots, 4040 extra nodes, 6 pruned nodes, max_depth=12\n",
      "[12]\ttrain-rmse:1.51416\ttest-rmse:1.88752\n",
      "[12:33:40] src/tree/updater_prune.cc:74: tree pruning end, 1 roots, 4686 extra nodes, 8 pruned nodes, max_depth=12\n",
      "[12:36:56] src/tree/updater_prune.cc:74: tree pruning end, 1 roots, 4592 extra nodes, 8 pruned nodes, max_depth=12\n",
      "[12:40:08] src/tree/updater_prune.cc:74: tree pruning end, 1 roots, 4638 extra nodes, 8 pruned nodes, max_depth=12\n",
      "[13]\ttrain-rmse:1.46657\ttest-rmse:1.86466\n",
      "[12:43:24] src/tree/updater_prune.cc:74: tree pruning end, 1 roots, 4076 extra nodes, 4 pruned nodes, max_depth=12\n",
      "[12:46:44] src/tree/updater_prune.cc:74: tree pruning end, 1 roots, 4602 extra nodes, 8 pruned nodes, max_depth=12\n",
      "[12:50:17] src/tree/updater_prune.cc:74: tree pruning end, 1 roots, 4326 extra nodes, 6 pruned nodes, max_depth=12\n",
      "[14]\ttrain-rmse:1.42012\ttest-rmse:1.83926\n",
      "[12:53:45] src/tree/updater_prune.cc:74: tree pruning end, 1 roots, 5196 extra nodes, 2 pruned nodes, max_depth=12\n",
      "[12:56:59] src/tree/updater_prune.cc:74: tree pruning end, 1 roots, 4476 extra nodes, 4 pruned nodes, max_depth=12\n",
      "[13:00:23] src/tree/updater_prune.cc:74: tree pruning end, 1 roots, 5130 extra nodes, 4 pruned nodes, max_depth=12\n",
      "[15]\ttrain-rmse:1.3796\ttest-rmse:1.82105\n",
      "[13:03:43] src/tree/updater_prune.cc:74: tree pruning end, 1 roots, 3796 extra nodes, 10 pruned nodes, max_depth=12\n",
      "[13:06:59] src/tree/updater_prune.cc:74: tree pruning end, 1 roots, 3808 extra nodes, 14 pruned nodes, max_depth=12\n",
      "[13:10:13] src/tree/updater_prune.cc:74: tree pruning end, 1 roots, 4638 extra nodes, 0 pruned nodes, max_depth=12\n",
      "[16]\ttrain-rmse:1.34323\ttest-rmse:1.80161\n",
      "[13:13:41] src/tree/updater_prune.cc:74: tree pruning end, 1 roots, 4330 extra nodes, 4 pruned nodes, max_depth=12\n",
      "[13:17:01] src/tree/updater_prune.cc:74: tree pruning end, 1 roots, 4668 extra nodes, 4 pruned nodes, max_depth=12\n",
      "[13:20:22] src/tree/updater_prune.cc:74: tree pruning end, 1 roots, 3782 extra nodes, 0 pruned nodes, max_depth=12\n",
      "[17]\ttrain-rmse:1.30689\ttest-rmse:1.78055\n",
      "[13:23:49] src/tree/updater_prune.cc:74: tree pruning end, 1 roots, 4310 extra nodes, 4 pruned nodes, max_depth=12\n",
      "[13:26:59] src/tree/updater_prune.cc:74: tree pruning end, 1 roots, 4150 extra nodes, 12 pruned nodes, max_depth=12\n",
      "[13:30:29] src/tree/updater_prune.cc:74: tree pruning end, 1 roots, 4530 extra nodes, 12 pruned nodes, max_depth=12\n",
      "[18]\ttrain-rmse:1.26897\ttest-rmse:1.76201\n",
      "[13:33:44] src/tree/updater_prune.cc:74: tree pruning end, 1 roots, 3904 extra nodes, 4 pruned nodes, max_depth=12\n",
      "[13:37:02] src/tree/updater_prune.cc:74: tree pruning end, 1 roots, 4518 extra nodes, 24 pruned nodes, max_depth=12\n",
      "[13:40:21] src/tree/updater_prune.cc:74: tree pruning end, 1 roots, 3696 extra nodes, 0 pruned nodes, max_depth=12\n",
      "[19]\ttrain-rmse:1.24297\ttest-rmse:1.75016\n",
      "[13:43:37] src/tree/updater_prune.cc:74: tree pruning end, 1 roots, 3908 extra nodes, 4 pruned nodes, max_depth=12\n",
      "[13:46:53] src/tree/updater_prune.cc:74: tree pruning end, 1 roots, 3962 extra nodes, 12 pruned nodes, max_depth=12\n",
      "[13:50:03] src/tree/updater_prune.cc:74: tree pruning end, 1 roots, 3486 extra nodes, 4 pruned nodes, max_depth=12\n",
      "[20]\ttrain-rmse:1.21456\ttest-rmse:1.73812\n",
      "[13:53:13] src/tree/updater_prune.cc:74: tree pruning end, 1 roots, 3788 extra nodes, 2 pruned nodes, max_depth=12\n",
      "[13:56:37] src/tree/updater_prune.cc:74: tree pruning end, 1 roots, 4524 extra nodes, 18 pruned nodes, max_depth=12\n",
      "[13:59:44] src/tree/updater_prune.cc:74: tree pruning end, 1 roots, 3496 extra nodes, 0 pruned nodes, max_depth=12\n",
      "[21]\ttrain-rmse:1.18591\ttest-rmse:1.72568\n",
      "[14:03:04] src/tree/updater_prune.cc:74: tree pruning end, 1 roots, 3526 extra nodes, 4 pruned nodes, max_depth=12\n",
      "[14:06:18] src/tree/updater_prune.cc:74: tree pruning end, 1 roots, 3748 extra nodes, 10 pruned nodes, max_depth=12\n",
      "[14:09:24] src/tree/updater_prune.cc:74: tree pruning end, 1 roots, 3410 extra nodes, 6 pruned nodes, max_depth=12\n",
      "[22]\ttrain-rmse:1.16154\ttest-rmse:1.71428\n",
      "[14:12:35] src/tree/updater_prune.cc:74: tree pruning end, 1 roots, 4124 extra nodes, 0 pruned nodes, max_depth=12\n",
      "[14:15:46] src/tree/updater_prune.cc:74: tree pruning end, 1 roots, 3756 extra nodes, 4 pruned nodes, max_depth=12\n",
      "[14:19:00] src/tree/updater_prune.cc:74: tree pruning end, 1 roots, 4194 extra nodes, 16 pruned nodes, max_depth=12\n",
      "[23]\ttrain-rmse:1.13724\ttest-rmse:1.70419\n",
      "[14:22:16] src/tree/updater_prune.cc:74: tree pruning end, 1 roots, 4784 extra nodes, 0 pruned nodes, max_depth=12\n",
      "[14:25:31] src/tree/updater_prune.cc:74: tree pruning end, 1 roots, 4098 extra nodes, 8 pruned nodes, max_depth=12\n",
      "[14:28:45] src/tree/updater_prune.cc:74: tree pruning end, 1 roots, 4190 extra nodes, 12 pruned nodes, max_depth=12\n",
      "[24]\ttrain-rmse:1.11788\ttest-rmse:1.69841\n",
      "[14:32:05] src/tree/updater_prune.cc:74: tree pruning end, 1 roots, 4674 extra nodes, 8 pruned nodes, max_depth=12\n",
      "[14:35:25] src/tree/updater_prune.cc:74: tree pruning end, 1 roots, 3492 extra nodes, 14 pruned nodes, max_depth=12\n",
      "[14:38:39] src/tree/updater_prune.cc:74: tree pruning end, 1 roots, 3758 extra nodes, 16 pruned nodes, max_depth=12\n",
      "[25]\ttrain-rmse:1.09998\ttest-rmse:1.69431\n",
      "[14:42:05] src/tree/updater_prune.cc:74: tree pruning end, 1 roots, 3718 extra nodes, 2 pruned nodes, max_depth=12\n",
      "[14:45:18] src/tree/updater_prune.cc:74: tree pruning end, 1 roots, 4122 extra nodes, 12 pruned nodes, max_depth=12\n",
      "[14:48:32] src/tree/updater_prune.cc:74: tree pruning end, 1 roots, 3426 extra nodes, 10 pruned nodes, max_depth=12\n",
      "[26]\ttrain-rmse:1.08167\ttest-rmse:1.68846\n",
      "[14:51:54] src/tree/updater_prune.cc:74: tree pruning end, 1 roots, 4658 extra nodes, 8 pruned nodes, max_depth=12\n",
      "[14:55:09] src/tree/updater_prune.cc:74: tree pruning end, 1 roots, 3296 extra nodes, 4 pruned nodes, max_depth=12\n",
      "[14:58:17] src/tree/updater_prune.cc:74: tree pruning end, 1 roots, 3792 extra nodes, 8 pruned nodes, max_depth=12\n",
      "[27]\ttrain-rmse:1.0651\ttest-rmse:1.684\n",
      "[15:01:34] src/tree/updater_prune.cc:74: tree pruning end, 1 roots, 3892 extra nodes, 6 pruned nodes, max_depth=12\n",
      "[15:04:58] src/tree/updater_prune.cc:74: tree pruning end, 1 roots, 3682 extra nodes, 6 pruned nodes, max_depth=12\n",
      "[15:08:11] src/tree/updater_prune.cc:74: tree pruning end, 1 roots, 3922 extra nodes, 6 pruned nodes, max_depth=12\n",
      "[28]\ttrain-rmse:1.04881\ttest-rmse:1.67954\n",
      "[15:11:33] src/tree/updater_prune.cc:74: tree pruning end, 1 roots, 3758 extra nodes, 10 pruned nodes, max_depth=12\n",
      "[15:14:50] src/tree/updater_prune.cc:74: tree pruning end, 1 roots, 3888 extra nodes, 12 pruned nodes, max_depth=12\n",
      "[15:18:02] src/tree/updater_prune.cc:74: tree pruning end, 1 roots, 3634 extra nodes, 12 pruned nodes, max_depth=12\n",
      "[29]\ttrain-rmse:1.03599\ttest-rmse:1.677\n",
      "[15:21:14] src/tree/updater_prune.cc:74: tree pruning end, 1 roots, 3314 extra nodes, 2 pruned nodes, max_depth=12\n",
      "[15:24:18] src/tree/updater_prune.cc:74: tree pruning end, 1 roots, 3934 extra nodes, 8 pruned nodes, max_depth=12\n",
      "[15:27:42] src/tree/updater_prune.cc:74: tree pruning end, 1 roots, 3322 extra nodes, 4 pruned nodes, max_depth=12\n",
      "[30]\ttrain-rmse:1.02322\ttest-rmse:1.67306\n",
      "[15:30:52] src/tree/updater_prune.cc:74: tree pruning end, 1 roots, 3580 extra nodes, 8 pruned nodes, max_depth=12\n",
      "[15:34:06] src/tree/updater_prune.cc:74: tree pruning end, 1 roots, 3872 extra nodes, 10 pruned nodes, max_depth=12\n",
      "[15:37:26] src/tree/updater_prune.cc:74: tree pruning end, 1 roots, 4636 extra nodes, 4 pruned nodes, max_depth=12\n",
      "[31]\ttrain-rmse:1.012\ttest-rmse:1.66998\n",
      "[15:40:49] src/tree/updater_prune.cc:74: tree pruning end, 1 roots, 4480 extra nodes, 10 pruned nodes, max_depth=12\n",
      "[15:44:00] src/tree/updater_prune.cc:74: tree pruning end, 1 roots, 3176 extra nodes, 4 pruned nodes, max_depth=12\n",
      "[15:47:19] src/tree/updater_prune.cc:74: tree pruning end, 1 roots, 3518 extra nodes, 22 pruned nodes, max_depth=12\n",
      "[32]\ttrain-rmse:0.999973\ttest-rmse:1.66562\n",
      "[15:50:38] src/tree/updater_prune.cc:74: tree pruning end, 1 roots, 4074 extra nodes, 4 pruned nodes, max_depth=12\n",
      "[15:53:58] src/tree/updater_prune.cc:74: tree pruning end, 1 roots, 3820 extra nodes, 26 pruned nodes, max_depth=12\n",
      "[15:57:12] src/tree/updater_prune.cc:74: tree pruning end, 1 roots, 3224 extra nodes, 4 pruned nodes, max_depth=12\n",
      "[33]\ttrain-rmse:0.990009\ttest-rmse:1.66328\n",
      "[16:00:33] src/tree/updater_prune.cc:74: tree pruning end, 1 roots, 4468 extra nodes, 18 pruned nodes, max_depth=12\n",
      "[16:03:53] src/tree/updater_prune.cc:74: tree pruning end, 1 roots, 4358 extra nodes, 26 pruned nodes, max_depth=12\n",
      "[16:07:09] src/tree/updater_prune.cc:74: tree pruning end, 1 roots, 3754 extra nodes, 10 pruned nodes, max_depth=12\n",
      "[34]\ttrain-rmse:0.977829\ttest-rmse:1.65934\n",
      "[16:10:18] src/tree/updater_prune.cc:74: tree pruning end, 1 roots, 3996 extra nodes, 0 pruned nodes, max_depth=12\n",
      "[16:13:31] src/tree/updater_prune.cc:74: tree pruning end, 1 roots, 3970 extra nodes, 8 pruned nodes, max_depth=12\n",
      "[16:16:47] src/tree/updater_prune.cc:74: tree pruning end, 1 roots, 3072 extra nodes, 24 pruned nodes, max_depth=12\n",
      "[35]\ttrain-rmse:0.968354\ttest-rmse:1.65641\n",
      "[16:20:06] src/tree/updater_prune.cc:74: tree pruning end, 1 roots, 2454 extra nodes, 8 pruned nodes, max_depth=12\n",
      "[16:23:25] src/tree/updater_prune.cc:74: tree pruning end, 1 roots, 4398 extra nodes, 4 pruned nodes, max_depth=12\n",
      "[16:26:27] src/tree/updater_prune.cc:74: tree pruning end, 1 roots, 3490 extra nodes, 10 pruned nodes, max_depth=12\n",
      "[36]\ttrain-rmse:0.961266\ttest-rmse:1.65456\n",
      "[16:29:36] src/tree/updater_prune.cc:74: tree pruning end, 1 roots, 3586 extra nodes, 6 pruned nodes, max_depth=12\n",
      "[16:32:54] src/tree/updater_prune.cc:74: tree pruning end, 1 roots, 4010 extra nodes, 24 pruned nodes, max_depth=12\n",
      "[16:35:59] src/tree/updater_prune.cc:74: tree pruning end, 1 roots, 2742 extra nodes, 6 pruned nodes, max_depth=12\n",
      "[37]\ttrain-rmse:0.952939\ttest-rmse:1.65274\n",
      "[16:39:08] src/tree/updater_prune.cc:74: tree pruning end, 1 roots, 3982 extra nodes, 44 pruned nodes, max_depth=12\n",
      "[16:42:24] src/tree/updater_prune.cc:74: tree pruning end, 1 roots, 3820 extra nodes, 14 pruned nodes, max_depth=12\n",
      "[16:45:35] src/tree/updater_prune.cc:74: tree pruning end, 1 roots, 3050 extra nodes, 8 pruned nodes, max_depth=12\n",
      "[38]\ttrain-rmse:0.945825\ttest-rmse:1.65195\n",
      "[16:48:52] src/tree/updater_prune.cc:74: tree pruning end, 1 roots, 4548 extra nodes, 18 pruned nodes, max_depth=12\n",
      "[16:52:04] src/tree/updater_prune.cc:74: tree pruning end, 1 roots, 4254 extra nodes, 16 pruned nodes, max_depth=12\n",
      "[16:55:11] src/tree/updater_prune.cc:74: tree pruning end, 1 roots, 4844 extra nodes, 12 pruned nodes, max_depth=12\n",
      "[39]\ttrain-rmse:0.937968\ttest-rmse:1.64921\n",
      "[16:58:32] src/tree/updater_prune.cc:74: tree pruning end, 1 roots, 3990 extra nodes, 6 pruned nodes, max_depth=12\n",
      "[17:01:51] src/tree/updater_prune.cc:74: tree pruning end, 1 roots, 3458 extra nodes, 28 pruned nodes, max_depth=12\n",
      "[17:05:12] src/tree/updater_prune.cc:74: tree pruning end, 1 roots, 2984 extra nodes, 8 pruned nodes, max_depth=12\n",
      "[40]\ttrain-rmse:0.930102\ttest-rmse:1.64613\n",
      "[17:08:30] src/tree/updater_prune.cc:74: tree pruning end, 1 roots, 3968 extra nodes, 26 pruned nodes, max_depth=12\n",
      "[17:11:36] src/tree/updater_prune.cc:74: tree pruning end, 1 roots, 3802 extra nodes, 16 pruned nodes, max_depth=12\n",
      "[17:14:56] src/tree/updater_prune.cc:74: tree pruning end, 1 roots, 4406 extra nodes, 20 pruned nodes, max_depth=12\n",
      "[41]\ttrain-rmse:0.922844\ttest-rmse:1.64395\n",
      "[17:18:19] src/tree/updater_prune.cc:74: tree pruning end, 1 roots, 3754 extra nodes, 10 pruned nodes, max_depth=12\n",
      "[17:21:36] src/tree/updater_prune.cc:74: tree pruning end, 1 roots, 5120 extra nodes, 20 pruned nodes, max_depth=12\n",
      "[17:24:40] src/tree/updater_prune.cc:74: tree pruning end, 1 roots, 2558 extra nodes, 6 pruned nodes, max_depth=12\n",
      "[42]\ttrain-rmse:0.917717\ttest-rmse:1.64319\n",
      "[17:27:54] src/tree/updater_prune.cc:74: tree pruning end, 1 roots, 3926 extra nodes, 34 pruned nodes, max_depth=12\n",
      "[17:30:56] src/tree/updater_prune.cc:74: tree pruning end, 1 roots, 4030 extra nodes, 4 pruned nodes, max_depth=12\n",
      "[17:34:01] src/tree/updater_prune.cc:74: tree pruning end, 1 roots, 2042 extra nodes, 14 pruned nodes, max_depth=12\n",
      "[43]\ttrain-rmse:0.911647\ttest-rmse:1.64205\n",
      "[17:37:16] src/tree/updater_prune.cc:74: tree pruning end, 1 roots, 3532 extra nodes, 16 pruned nodes, max_depth=12\n",
      "[17:40:35] src/tree/updater_prune.cc:74: tree pruning end, 1 roots, 3990 extra nodes, 10 pruned nodes, max_depth=12\n",
      "[17:43:46] src/tree/updater_prune.cc:74: tree pruning end, 1 roots, 3198 extra nodes, 6 pruned nodes, max_depth=12\n",
      "[44]\ttrain-rmse:0.90623\ttest-rmse:1.64281\n",
      "[17:47:21] src/tree/updater_prune.cc:74: tree pruning end, 1 roots, 4496 extra nodes, 42 pruned nodes, max_depth=12\n",
      "[17:50:38] src/tree/updater_prune.cc:74: tree pruning end, 1 roots, 2328 extra nodes, 20 pruned nodes, max_depth=12\n",
      "[17:54:01] src/tree/updater_prune.cc:74: tree pruning end, 1 roots, 3590 extra nodes, 8 pruned nodes, max_depth=12\n",
      "[45]\ttrain-rmse:0.901808\ttest-rmse:1.64089\n",
      "[17:57:18] src/tree/updater_prune.cc:74: tree pruning end, 1 roots, 2468 extra nodes, 6 pruned nodes, max_depth=12\n",
      "[18:00:39] src/tree/updater_prune.cc:74: tree pruning end, 1 roots, 3574 extra nodes, 30 pruned nodes, max_depth=12\n",
      "[18:03:46] src/tree/updater_prune.cc:74: tree pruning end, 1 roots, 3318 extra nodes, 6 pruned nodes, max_depth=12\n",
      "[46]\ttrain-rmse:0.894895\ttest-rmse:1.63945\n",
      "[18:06:56] src/tree/updater_prune.cc:74: tree pruning end, 1 roots, 3982 extra nodes, 18 pruned nodes, max_depth=12\n",
      "[18:10:02] src/tree/updater_prune.cc:74: tree pruning end, 1 roots, 3458 extra nodes, 10 pruned nodes, max_depth=12\n",
      "[18:13:02] src/tree/updater_prune.cc:74: tree pruning end, 1 roots, 2250 extra nodes, 8 pruned nodes, max_depth=12\n",
      "[47]\ttrain-rmse:0.888648\ttest-rmse:1.6379\n",
      "[18:16:10] src/tree/updater_prune.cc:74: tree pruning end, 1 roots, 2086 extra nodes, 6 pruned nodes, max_depth=12\n",
      "[18:19:17] src/tree/updater_prune.cc:74: tree pruning end, 1 roots, 2072 extra nodes, 4 pruned nodes, max_depth=12\n",
      "[18:22:30] src/tree/updater_prune.cc:74: tree pruning end, 1 roots, 2068 extra nodes, 8 pruned nodes, max_depth=12\n",
      "[48]\ttrain-rmse:0.884242\ttest-rmse:1.63718\n",
      "[18:25:45] src/tree/updater_prune.cc:74: tree pruning end, 1 roots, 3742 extra nodes, 8 pruned nodes, max_depth=12\n",
      "[18:28:58] src/tree/updater_prune.cc:74: tree pruning end, 1 roots, 3802 extra nodes, 4 pruned nodes, max_depth=12\n",
      "[18:32:05] src/tree/updater_prune.cc:74: tree pruning end, 1 roots, 2066 extra nodes, 14 pruned nodes, max_depth=12\n",
      "[49]\ttrain-rmse:0.877971\ttest-rmse:1.63595\n",
      "[18:35:17] src/tree/updater_prune.cc:74: tree pruning end, 1 roots, 2472 extra nodes, 8 pruned nodes, max_depth=12\n",
      "[18:38:36] src/tree/updater_prune.cc:74: tree pruning end, 1 roots, 3630 extra nodes, 4 pruned nodes, max_depth=12\n",
      "[18:41:49] src/tree/updater_prune.cc:74: tree pruning end, 1 roots, 3914 extra nodes, 28 pruned nodes, max_depth=12\n",
      "[50]\ttrain-rmse:0.87274\ttest-rmse:1.63457\n",
      "[18:45:04] src/tree/updater_prune.cc:74: tree pruning end, 1 roots, 2326 extra nodes, 2 pruned nodes, max_depth=12\n",
      "[18:48:45] src/tree/updater_prune.cc:74: tree pruning end, 1 roots, 1914 extra nodes, 14 pruned nodes, max_depth=12\n",
      "[18:52:02] src/tree/updater_prune.cc:74: tree pruning end, 1 roots, 2262 extra nodes, 14 pruned nodes, max_depth=12\n",
      "[51]\ttrain-rmse:0.869255\ttest-rmse:1.63373\n",
      "[18:55:23] src/tree/updater_prune.cc:74: tree pruning end, 1 roots, 3898 extra nodes, 24 pruned nodes, max_depth=12\n",
      "[18:58:31] src/tree/updater_prune.cc:74: tree pruning end, 1 roots, 2326 extra nodes, 2 pruned nodes, max_depth=12\n",
      "[19:01:45] src/tree/updater_prune.cc:74: tree pruning end, 1 roots, 3386 extra nodes, 14 pruned nodes, max_depth=12\n",
      "[52]\ttrain-rmse:0.865022\ttest-rmse:1.6326\n",
      "[19:04:54] src/tree/updater_prune.cc:74: tree pruning end, 1 roots, 2232 extra nodes, 8 pruned nodes, max_depth=12\n",
      "[19:08:05] src/tree/updater_prune.cc:74: tree pruning end, 1 roots, 2472 extra nodes, 4 pruned nodes, max_depth=12\n",
      "[19:11:15] src/tree/updater_prune.cc:74: tree pruning end, 1 roots, 2258 extra nodes, 4 pruned nodes, max_depth=12\n",
      "[53]\ttrain-rmse:0.86163\ttest-rmse:1.63161\n",
      "[19:14:27] src/tree/updater_prune.cc:74: tree pruning end, 1 roots, 2078 extra nodes, 14 pruned nodes, max_depth=12\n",
      "[19:17:39] src/tree/updater_prune.cc:74: tree pruning end, 1 roots, 2834 extra nodes, 16 pruned nodes, max_depth=12\n",
      "[19:20:46] src/tree/updater_prune.cc:74: tree pruning end, 1 roots, 1888 extra nodes, 2 pruned nodes, max_depth=12\n",
      "[54]\ttrain-rmse:0.857095\ttest-rmse:1.63068\n",
      "[19:23:57] src/tree/updater_prune.cc:74: tree pruning end, 1 roots, 3690 extra nodes, 16 pruned nodes, max_depth=12\n",
      "[19:26:52] src/tree/updater_prune.cc:74: tree pruning end, 1 roots, 1896 extra nodes, 10 pruned nodes, max_depth=12\n",
      "[19:29:56] src/tree/updater_prune.cc:74: tree pruning end, 1 roots, 3054 extra nodes, 10 pruned nodes, max_depth=12\n",
      "[55]\ttrain-rmse:0.853008\ttest-rmse:1.63132\n",
      "[19:33:06] src/tree/updater_prune.cc:74: tree pruning end, 1 roots, 3274 extra nodes, 18 pruned nodes, max_depth=12\n",
      "[19:36:06] src/tree/updater_prune.cc:74: tree pruning end, 1 roots, 2154 extra nodes, 0 pruned nodes, max_depth=12\n",
      "[19:39:12] src/tree/updater_prune.cc:74: tree pruning end, 1 roots, 1754 extra nodes, 4 pruned nodes, max_depth=12\n",
      "[56]\ttrain-rmse:0.849323\ttest-rmse:1.63102\n",
      "[19:42:25] src/tree/updater_prune.cc:74: tree pruning end, 1 roots, 3568 extra nodes, 64 pruned nodes, max_depth=12\n",
      "[19:45:32] src/tree/updater_prune.cc:74: tree pruning end, 1 roots, 1934 extra nodes, 6 pruned nodes, max_depth=12\n",
      "[19:48:26] src/tree/updater_prune.cc:74: tree pruning end, 1 roots, 1300 extra nodes, 2 pruned nodes, max_depth=12\n",
      "[57]\ttrain-rmse:0.845077\ttest-rmse:1.6295\n",
      "[19:51:45] src/tree/updater_prune.cc:74: tree pruning end, 1 roots, 3476 extra nodes, 22 pruned nodes, max_depth=12\n",
      "[19:54:43] src/tree/updater_prune.cc:74: tree pruning end, 1 roots, 1612 extra nodes, 4 pruned nodes, max_depth=12\n",
      "[19:57:53] src/tree/updater_prune.cc:74: tree pruning end, 1 roots, 2258 extra nodes, 8 pruned nodes, max_depth=12\n",
      "[58]\ttrain-rmse:0.841654\ttest-rmse:1.62851\n",
      "[20:01:14] src/tree/updater_prune.cc:74: tree pruning end, 1 roots, 3260 extra nodes, 46 pruned nodes, max_depth=12\n",
      "[20:04:29] src/tree/updater_prune.cc:74: tree pruning end, 1 roots, 1952 extra nodes, 2 pruned nodes, max_depth=12\n",
      "[20:07:35] src/tree/updater_prune.cc:74: tree pruning end, 1 roots, 2048 extra nodes, 6 pruned nodes, max_depth=12\n",
      "[59]\ttrain-rmse:0.838012\ttest-rmse:1.62818\n",
      "[20:10:45] src/tree/updater_prune.cc:74: tree pruning end, 1 roots, 3664 extra nodes, 10 pruned nodes, max_depth=12\n",
      "[20:14:04] src/tree/updater_prune.cc:74: tree pruning end, 1 roots, 2838 extra nodes, 12 pruned nodes, max_depth=12\n",
      "[20:17:05] src/tree/updater_prune.cc:74: tree pruning end, 1 roots, 786 extra nodes, 6 pruned nodes, max_depth=12\n",
      "[60]\ttrain-rmse:0.835163\ttest-rmse:1.62787\n",
      "[20:20:18] src/tree/updater_prune.cc:74: tree pruning end, 1 roots, 1484 extra nodes, 10 pruned nodes, max_depth=12\n",
      "[20:23:25] src/tree/updater_prune.cc:74: tree pruning end, 1 roots, 1742 extra nodes, 0 pruned nodes, max_depth=12\n",
      "[20:26:32] src/tree/updater_prune.cc:74: tree pruning end, 1 roots, 2042 extra nodes, 8 pruned nodes, max_depth=12\n",
      "[61]\ttrain-rmse:0.832827\ttest-rmse:1.62739\n",
      "[20:29:42] src/tree/updater_prune.cc:74: tree pruning end, 1 roots, 2484 extra nodes, 28 pruned nodes, max_depth=12\n",
      "[20:32:43] src/tree/updater_prune.cc:74: tree pruning end, 1 roots, 2606 extra nodes, 4 pruned nodes, max_depth=12\n",
      "[20:35:53] src/tree/updater_prune.cc:74: tree pruning end, 1 roots, 3168 extra nodes, 14 pruned nodes, max_depth=12\n",
      "[62]\ttrain-rmse:0.829507\ttest-rmse:1.62738\n",
      "[20:39:06] src/tree/updater_prune.cc:74: tree pruning end, 1 roots, 3168 extra nodes, 44 pruned nodes, max_depth=12\n",
      "[20:42:02] src/tree/updater_prune.cc:74: tree pruning end, 1 roots, 1502 extra nodes, 4 pruned nodes, max_depth=12\n",
      "[20:44:52] src/tree/updater_prune.cc:74: tree pruning end, 1 roots, 428 extra nodes, 0 pruned nodes, max_depth=12\n",
      "[63]\ttrain-rmse:0.826995\ttest-rmse:1.62692\n",
      "[20:47:58] src/tree/updater_prune.cc:74: tree pruning end, 1 roots, 1382 extra nodes, 52 pruned nodes, max_depth=12\n",
      "[20:51:02] src/tree/updater_prune.cc:74: tree pruning end, 1 roots, 1176 extra nodes, 14 pruned nodes, max_depth=12\n",
      "[20:54:15] src/tree/updater_prune.cc:74: tree pruning end, 1 roots, 2668 extra nodes, 2 pruned nodes, max_depth=12\n",
      "[64]\ttrain-rmse:0.824947\ttest-rmse:1.62631\n",
      "[20:57:23] src/tree/updater_prune.cc:74: tree pruning end, 1 roots, 1984 extra nodes, 12 pruned nodes, max_depth=12\n",
      "[21:00:20] src/tree/updater_prune.cc:74: tree pruning end, 1 roots, 1342 extra nodes, 2 pruned nodes, max_depth=12\n",
      "[21:03:06] src/tree/updater_prune.cc:74: tree pruning end, 1 roots, 212 extra nodes, 0 pruned nodes, max_depth=12\n",
      "[65]\ttrain-rmse:0.823624\ttest-rmse:1.62619\n",
      "[21:06:16] src/tree/updater_prune.cc:74: tree pruning end, 1 roots, 2342 extra nodes, 44 pruned nodes, max_depth=12\n",
      "[21:09:14] src/tree/updater_prune.cc:74: tree pruning end, 1 roots, 458 extra nodes, 0 pruned nodes, max_depth=12\n",
      "[21:11:57] src/tree/updater_prune.cc:74: tree pruning end, 1 roots, 442 extra nodes, 4 pruned nodes, max_depth=12\n",
      "[66]\ttrain-rmse:0.822804\ttest-rmse:1.626\n",
      "[21:14:58] src/tree/updater_prune.cc:74: tree pruning end, 1 roots, 992 extra nodes, 8 pruned nodes, max_depth=12\n",
      "[21:17:57] src/tree/updater_prune.cc:74: tree pruning end, 1 roots, 1310 extra nodes, 2 pruned nodes, max_depth=12\n",
      "[21:20:43] src/tree/updater_prune.cc:74: tree pruning end, 1 roots, 432 extra nodes, 4 pruned nodes, max_depth=12\n",
      "[67]\ttrain-rmse:0.821043\ttest-rmse:1.62624\n",
      "[21:23:36] src/tree/updater_prune.cc:74: tree pruning end, 1 roots, 1726 extra nodes, 2 pruned nodes, max_depth=12\n",
      "[21:26:49] src/tree/updater_prune.cc:74: tree pruning end, 1 roots, 2490 extra nodes, 6 pruned nodes, max_depth=12\n",
      "[21:29:55] src/tree/updater_prune.cc:74: tree pruning end, 1 roots, 3422 extra nodes, 18 pruned nodes, max_depth=12\n",
      "[68]\ttrain-rmse:0.817927\ttest-rmse:1.62614\n",
      "[21:33:13] src/tree/updater_prune.cc:74: tree pruning end, 1 roots, 2994 extra nodes, 44 pruned nodes, max_depth=12\n",
      "[21:36:15] src/tree/updater_prune.cc:74: tree pruning end, 1 roots, 1800 extra nodes, 4 pruned nodes, max_depth=12\n",
      "[21:39:27] src/tree/updater_prune.cc:74: tree pruning end, 1 roots, 2610 extra nodes, 4 pruned nodes, max_depth=12\n",
      "[69]\ttrain-rmse:0.813908\ttest-rmse:1.6254\n",
      "[21:42:31] src/tree/updater_prune.cc:74: tree pruning end, 1 roots, 796 extra nodes, 2 pruned nodes, max_depth=12\n",
      "[21:45:33] src/tree/updater_prune.cc:74: tree pruning end, 1 roots, 494 extra nodes, 0 pruned nodes, max_depth=12\n",
      "[21:48:55] src/tree/updater_prune.cc:74: tree pruning end, 1 roots, 3258 extra nodes, 20 pruned nodes, max_depth=12\n",
      "[70]\ttrain-rmse:0.812013\ttest-rmse:1.6247\n",
      "[21:52:15] src/tree/updater_prune.cc:74: tree pruning end, 1 roots, 2928 extra nodes, 14 pruned nodes, max_depth=12\n",
      "[21:55:20] src/tree/updater_prune.cc:74: tree pruning end, 1 roots, 1818 extra nodes, 14 pruned nodes, max_depth=12\n",
      "[21:58:29] src/tree/updater_prune.cc:74: tree pruning end, 1 roots, 2748 extra nodes, 14 pruned nodes, max_depth=12\n",
      "[71]\ttrain-rmse:0.808952\ttest-rmse:1.62514\n",
      "[22:01:42] src/tree/updater_prune.cc:74: tree pruning end, 1 roots, 3478 extra nodes, 12 pruned nodes, max_depth=12\n",
      "[22:04:48] src/tree/updater_prune.cc:74: tree pruning end, 1 roots, 1552 extra nodes, 8 pruned nodes, max_depth=12\n",
      "[22:08:06] src/tree/updater_prune.cc:74: tree pruning end, 1 roots, 4234 extra nodes, 6 pruned nodes, max_depth=12\n",
      "[72]\ttrain-rmse:0.806035\ttest-rmse:1.62479\n",
      "[22:11:06] src/tree/updater_prune.cc:74: tree pruning end, 1 roots, 466 extra nodes, 0 pruned nodes, max_depth=12\n",
      "[22:14:01] src/tree/updater_prune.cc:74: tree pruning end, 1 roots, 748 extra nodes, 0 pruned nodes, max_depth=12\n",
      "[22:16:50] src/tree/updater_prune.cc:74: tree pruning end, 1 roots, 506 extra nodes, 0 pruned nodes, max_depth=12\n",
      "[73]\ttrain-rmse:0.805528\ttest-rmse:1.62464\n",
      "[22:20:07] src/tree/updater_prune.cc:74: tree pruning end, 1 roots, 2608 extra nodes, 4 pruned nodes, max_depth=12\n",
      "[22:23:11] src/tree/updater_prune.cc:74: tree pruning end, 1 roots, 1118 extra nodes, 0 pruned nodes, max_depth=12\n"
     ]
    }
   ],
   "source": [
    "watchlist = [(train_dmatrix, 'train'), (valid_dmatrix, 'validate')] \n",
    "\n",
    "params = {\n",
    "    'objective': 'reg:linear', \n",
    "    'verbose': True,\n",
    "    'eta': 0.1,\n",
    "    'max_depth': 12,\n",
    "    'min_child_weight': 0.8,\n",
    "    'subsample': 0.8,\n",
    "    'colsample_bytree': 0.8,\n",
    "    'colsample_bylevel': 0.8,\n",
    "    'eval_metric': 'rmse',\n",
    "    'gamma': 0.01\n",
    "}\n",
    "\n",
    "# 使用xgb.cv优化num_boost_round参数\n",
    "cvresult = xgb.cv(params, train_dmatrix, num_boost_round=10000, seed=2019, callbacks=[\n",
    "    xgb.callback.print_evaluation(show_stdv=False),\n",
    "    xgb.callback.early_stop(10)\n",
    "])\n",
    "num_round_best = cvresult.shape[0] - 1\n",
    "print('Best round num: ', num_round_best)\n",
    "\n",
    "watchlist = [(train_dmatrix, 'train'), (valid_dmatrix, 'validate')] \n",
    "model = xgb.train(params, train_dmatrix, evals=watchlist, early_stopping_rounds=10, num_boost_round=num_round_best)"
   ]
  },
  {
   "cell_type": "code",
   "execution_count": null,
   "metadata": {},
   "outputs": [],
   "source": [
    "from sklearn.metrics import mean_squared_error\n",
    "from math import sqrt\n",
    "\n",
    "pred = model.predict(test_dmatrix)\n",
    "sqrt(mean_squared_error(test_dataset_y, pred))"
   ]
  },
  {
   "cell_type": "markdown",
   "metadata": {},
   "source": [
    "## Predict"
   ]
  },
  {
   "cell_type": "code",
   "execution_count": null,
   "metadata": {},
   "outputs": [],
   "source": [
    "tdf = _extract(sales_detail_df, 35, is_test=True)"
   ]
  },
  {
   "cell_type": "code",
   "execution_count": 30,
   "metadata": {},
   "outputs": [],
   "source": [
    "_mean(tdf, 'r')"
   ]
  },
  {
   "cell_type": "code",
   "execution_count": 31,
   "metadata": {},
   "outputs": [],
   "source": [
    "for i in range(1, 13, 1):\n",
    "    t = tdf.groupby(['shop_id', 'item_category_id'])['r'+str(i)].mean().reset_index(name='sc'+str(i))\n",
    "    tdf = pd.merge(tdf, t, on=['shop_id', 'item_category_id'], how='left')"
   ]
  },
  {
   "cell_type": "code",
   "execution_count": 32,
   "metadata": {},
   "outputs": [],
   "source": [
    "_mean(tdf, 'sc')"
   ]
  },
  {
   "cell_type": "code",
   "execution_count": 33,
   "metadata": {},
   "outputs": [],
   "source": [
    "for i in range(1, 13, 1):\n",
    "    t = tdf.groupby(['item_id'])['r'+str(i)].mean().reset_index(name='i'+str(i))\n",
    "    tdf = pd.merge(tdf, t, on=['item_id'], how='left')"
   ]
  },
  {
   "cell_type": "code",
   "execution_count": 34,
   "metadata": {},
   "outputs": [],
   "source": [
    "_mean(tdf, 'i')"
   ]
  },
  {
   "cell_type": "code",
   "execution_count": 35,
   "metadata": {},
   "outputs": [],
   "source": [
    "for i in range(1, 14, 1):\n",
    "    sales_record_df['sc'+str(i)] = tdf['sc'+str(i)].astype('float32')\n",
    "    sales_record_df['i'+str(i)] = tdf['i'+str(i)].astype('float32')\n",
    "\n",
    "tdf['r13'] = tdf['r13'].astype('float32')"
   ]
  },
  {
   "cell_type": "code",
   "execution_count": 50,
   "metadata": {},
   "outputs": [
    {
     "name": "stderr",
     "output_type": "stream",
     "text": [
      "/Users/leewind/.local/share/virtualenvs/leewind-p6XO93Th/lib/python3.7/site-packages/ipykernel_launcher.py:10: SettingWithCopyWarning: \n",
      "A value is trying to be set on a copy of a slice from a DataFrame.\n",
      "Try using .loc[row_indexer,col_indexer] = value instead\n",
      "\n",
      "See the caveats in the documentation: http://pandas.pydata.org/pandas-docs/stable/indexing.html#indexing-view-versus-copy\n",
      "  # Remove the CWD from sys.path while we load stuff.\n",
      "/Users/leewind/.local/share/virtualenvs/leewind-p6XO93Th/lib/python3.7/site-packages/pandas/core/indexing.py:1472: FutureWarning: \n",
      "Passing list-likes to .loc or [] with any missing label will raise\n",
      "KeyError in the future, you can use .reindex() as an alternative.\n",
      "\n",
      "See the documentation here:\n",
      "https://pandas.pydata.org/pandas-docs/stable/indexing.html#deprecate-loc-reindex-listlike\n",
      "  return self._getitem_tuple(key)\n"
     ]
    }
   ],
   "source": [
    "dataset_predict = pd.merge(test_df, tdf, on=['item_id', 'shop_id'], how='left')\n",
    "\n",
    "predict_dataset_x = features_pipeline.transform(dataset_predict)\n",
    "predict_dataset_x = selection.transform(predict_dataset_x)\n",
    "\n",
    "predict_dmatrix = xgb.DMatrix(predict_dataset_x)\n",
    "\n",
    "pred = model.predict(predict_dmatrix)"
   ]
  },
  {
   "cell_type": "code",
   "execution_count": 51,
   "metadata": {},
   "outputs": [],
   "source": [
    "submission = pd.DataFrame({\n",
    "    \"ID\": test_df.index, \n",
    "    \"item_cnt_month\": pred\n",
    "})\n",
    "\n",
    "submission.to_csv('submission.csv', index=False)"
   ]
  },
  {
   "cell_type": "markdown",
   "metadata": {},
   "source": [
    "# Reference"
   ]
  },
  {
   "cell_type": "markdown",
   "metadata": {},
   "source": [
    "## Normal ML Analysis\n",
    "\n",
    "+ [Feature engineering, xgboost](https://www.kaggle.com/dlarionov/feature-engineering-xgboost)\n",
    "+ [Predicting sales using Lightgbm](https://www.kaggle.com/sanket30/predicting-sales-using-lightgbm)"
   ]
  },
  {
   "cell_type": "markdown",
   "metadata": {},
   "source": [
    "## Time Series\n",
    "\n",
    "对于revenge的预测很有帮助，但是对于单个店的单个商品而言没有实际的意义，这种预测方式的学习非常有益处\n",
    "\n",
    "+ [AR(I)MA时间序列建模过程——步骤和python代码](https://www.jianshu.com/p/cced6617b423)\n",
    "+ [python时间序列分析](http://www.cnblogs.com/foley/p/5582358.html)\n",
    "+ [AR、MA及ARMA模型](https://zhuanlan.zhihu.com/p/22248464)\n",
    "+ [Time Series with Python (ODSC) STA.ipynb](https://github.com/ultimatist/ODSC17/blob/master/Time%20Series%20with%20Python%20(ODSC)%20STA.ipynb)\n",
    "+ [Getting Started with Time Series](https://pyflux.readthedocs.io/en/latest/getting_started.html)\n",
    "+ [Welcome to Statsmodels’s Documentation](http://www.statsmodels.org/devel/index.html)"
   ]
  }
 ],
 "metadata": {
  "kernelspec": {
   "display_name": "Python 3",
   "language": "python",
   "name": "python3"
  },
  "language_info": {
   "codemirror_mode": {
    "name": "ipython",
    "version": 3
   },
   "file_extension": ".py",
   "mimetype": "text/x-python",
   "name": "python",
   "nbconvert_exporter": "python",
   "pygments_lexer": "ipython3",
   "version": "3.7.1"
  }
 },
 "nbformat": 4,
 "nbformat_minor": 2
}
