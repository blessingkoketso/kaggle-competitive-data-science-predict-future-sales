{
 "cells": [
  {
   "cell_type": "code",
   "execution_count": 1,
   "metadata": {
    "_uuid": "33947e64fbaf937b779ed86a96217473e1ef89dd"
   },
   "outputs": [],
   "source": [
    "import numpy as np\n",
    "import pandas as pd\n",
    "import seaborn as sns\n",
    "import matplotlib.pyplot as plt\n",
    "from scipy import stats\n",
    "import logging\n",
    "import datetime\n",
    "\n",
    "from sklearn.preprocessing import OneHotEncoder,MinMaxScaler, Normalizer, LabelEncoder\n",
    "from sklearn.feature_selection import SelectKBest,chi2,SelectFromModel\n",
    "from xgboost import XGBClassifier, XGBRegressor\n",
    "from sklearn.pipeline import Pipeline, FeatureUnion\n",
    "from sklearn.base import BaseEstimator, TransformerMixin\n",
    "from sklearn.model_selection import GridSearchCV\n",
    "from sklearn.impute import SimpleImputer\n",
    "from xgboost import plot_importance\n",
    "from mlxtend.preprocessing import DenseTransformer\n",
    "from mlxtend.feature_selection import ColumnSelector\n",
    "from itertools import product\n",
    "\n",
    "sns.set(color_codes=True)"
   ]
  },
  {
   "cell_type": "code",
   "execution_count": 2,
   "metadata": {
    "_uuid": "6bd141776871d06a45c9a73a6923808f0c1c4b7c"
   },
   "outputs": [],
   "source": [
    "def _transfer_type(df, cols, dtype):\n",
    "    for v in cols:\n",
    "        df[v] = df[v].astype(dtype)\n",
    "    \n",
    "    return df"
   ]
  },
  {
   "cell_type": "markdown",
   "metadata": {
    "_uuid": "60191bec1f97c4f7b727aae484153e8fc0bd0221"
   },
   "source": [
    "# Features Engineering"
   ]
  },
  {
   "cell_type": "markdown",
   "metadata": {
    "_uuid": "9e3a55f6dd409da11fe87e4d9866f7917557f2b4"
   },
   "source": [
    "## outliers"
   ]
  },
  {
   "cell_type": "code",
   "execution_count": 3,
   "metadata": {
    "_uuid": "2e49bf1f5f13769222a256a05a45a361c838c0ef"
   },
   "outputs": [],
   "source": [
    "dateparse = lambda x: pd.datetime.strptime(x, '%d.%m.%Y')\n",
    "sales_df = pd.read_csv('../input/sales_train.csv', parse_dates = ['date'], date_parser=dateparse)\n",
    "\n",
    "item_df = pd.read_csv('../input/items.csv')\n",
    "shop_df = pd.read_csv('../input/shops.csv')\n",
    "category_df = pd.read_csv('../input/item_categories.csv')\n",
    "\n",
    "test_df = pd.read_csv('../input/test.csv').set_index('ID')"
   ]
  },
  {
   "cell_type": "code",
   "execution_count": 4,
   "metadata": {
    "_uuid": "6c8f65452ad77f8911d698af4c32d4026a147b55"
   },
   "outputs": [],
   "source": [
    "sales_df = _transfer_type(sales_df, ['date_block_num', 'shop_id', 'item_id', 'item_cnt_day'], np.int16)\n",
    "sales_df = _transfer_type(sales_df, ['item_price'], np.float16)\n",
    "\n",
    "item_df = _transfer_type(item_df, ['item_id', 'item_category_id'], np.int16)\n",
    "item_df['item_name'] = item_df['item_name'].astype(str)\n",
    "\n",
    "shop_df['shop_name'] = shop_df['shop_name'].astype(str)\n",
    "shop_df['shop_id'] = shop_df['shop_id'].astype(np.int16)\n",
    "\n",
    "category_df['item_category_name'] = category_df['item_category_name'].astype(str)\n",
    "category_df['item_category_id'] = category_df['item_category_id'].astype(np.int16)"
   ]
  },
  {
   "cell_type": "markdown",
   "metadata": {
    "_uuid": "5c55f2370b0b2e69e385e15cecbef1f3b224a2f9"
   },
   "source": [
    "### Clear the data out of range"
   ]
  },
  {
   "cell_type": "code",
   "execution_count": 5,
   "metadata": {
    "_uuid": "225c763fe0dd6175cb95e159e8d29e538ca1ce3c"
   },
   "outputs": [],
   "source": [
    "sales_df = sales_df[sales_df.item_price<100000]\n",
    "sales_df = sales_df[sales_df.item_cnt_day<1000]"
   ]
  },
  {
   "cell_type": "markdown",
   "metadata": {
    "_uuid": "f327386b17dc004dd4b3cfd9068961e8543180f1"
   },
   "source": [
    "### Correct the negative item price"
   ]
  },
  {
   "cell_type": "code",
   "execution_count": 6,
   "metadata": {
    "_uuid": "bd504e2b75ecd912b1c3760d9b9580520f12ba0b"
   },
   "outputs": [
    {
     "data": {
      "text/html": [
       "<div>\n",
       "<style scoped>\n",
       "    .dataframe tbody tr th:only-of-type {\n",
       "        vertical-align: middle;\n",
       "    }\n",
       "\n",
       "    .dataframe tbody tr th {\n",
       "        vertical-align: top;\n",
       "    }\n",
       "\n",
       "    .dataframe thead th {\n",
       "        text-align: right;\n",
       "    }\n",
       "</style>\n",
       "<table border=\"1\" class=\"dataframe\">\n",
       "  <thead>\n",
       "    <tr style=\"text-align: right;\">\n",
       "      <th></th>\n",
       "      <th>date</th>\n",
       "      <th>date_block_num</th>\n",
       "      <th>shop_id</th>\n",
       "      <th>item_id</th>\n",
       "      <th>item_price</th>\n",
       "      <th>item_cnt_day</th>\n",
       "    </tr>\n",
       "  </thead>\n",
       "  <tbody>\n",
       "    <tr>\n",
       "      <th>484683</th>\n",
       "      <td>2013-05-15</td>\n",
       "      <td>4</td>\n",
       "      <td>32</td>\n",
       "      <td>2973</td>\n",
       "      <td>-1.0</td>\n",
       "      <td>1</td>\n",
       "    </tr>\n",
       "  </tbody>\n",
       "</table>\n",
       "</div>"
      ],
      "text/plain": [
       "             date  date_block_num  shop_id  item_id  item_price  item_cnt_day\n",
       "484683 2013-05-15               4       32     2973        -1.0             1"
      ]
     },
     "execution_count": 6,
     "metadata": {},
     "output_type": "execute_result"
    }
   ],
   "source": [
    "sales_df[sales_df.item_price < 0]"
   ]
  },
  {
   "cell_type": "code",
   "execution_count": 7,
   "metadata": {
    "_uuid": "1fc2d34280781bca8a4817425c3916b3a1f2d32c"
   },
   "outputs": [],
   "source": [
    "sales_df.at[484683, 'item_price'] = sales_df[(sales_df.item_id == 2973) & (sales_df.item_price > 0)].item_price.mean()"
   ]
  },
  {
   "cell_type": "markdown",
   "metadata": {
    "_uuid": "13f4f2b3de3f51209394538aa22ecac444741fc0"
   },
   "source": [
    "### Adjust duplicates by shop name\n",
    "\n",
    "According to the reference, some shops are duplicates. This feature found is based on the language background."
   ]
  },
  {
   "cell_type": "code",
   "execution_count": 8,
   "metadata": {
    "_uuid": "9f009d7b8bb0b8d10e2c0b1b5208ed53be01674c"
   },
   "outputs": [
    {
     "data": {
      "text/html": [
       "<div>\n",
       "<style scoped>\n",
       "    .dataframe tbody tr th:only-of-type {\n",
       "        vertical-align: middle;\n",
       "    }\n",
       "\n",
       "    .dataframe tbody tr th {\n",
       "        vertical-align: top;\n",
       "    }\n",
       "\n",
       "    .dataframe thead th {\n",
       "        text-align: right;\n",
       "    }\n",
       "</style>\n",
       "<table border=\"1\" class=\"dataframe\">\n",
       "  <thead>\n",
       "    <tr style=\"text-align: right;\">\n",
       "      <th></th>\n",
       "      <th>shop_name</th>\n",
       "      <th>shop_id</th>\n",
       "    </tr>\n",
       "  </thead>\n",
       "  <tbody>\n",
       "    <tr>\n",
       "      <th>0</th>\n",
       "      <td>!Якутск Орджоникидзе, 56 фран</td>\n",
       "      <td>0</td>\n",
       "    </tr>\n",
       "  </tbody>\n",
       "</table>\n",
       "</div>"
      ],
      "text/plain": [
       "                       shop_name  shop_id\n",
       "0  !Якутск Орджоникидзе, 56 фран        0"
      ]
     },
     "execution_count": 8,
     "metadata": {},
     "output_type": "execute_result"
    }
   ],
   "source": [
    "shop_df[shop_df.shop_id == 0]"
   ]
  },
  {
   "cell_type": "code",
   "execution_count": 9,
   "metadata": {
    "_uuid": "d5d343a33d767135be0fec10818a12811e603ad2"
   },
   "outputs": [
    {
     "data": {
      "text/html": [
       "<div>\n",
       "<style scoped>\n",
       "    .dataframe tbody tr th:only-of-type {\n",
       "        vertical-align: middle;\n",
       "    }\n",
       "\n",
       "    .dataframe tbody tr th {\n",
       "        vertical-align: top;\n",
       "    }\n",
       "\n",
       "    .dataframe thead th {\n",
       "        text-align: right;\n",
       "    }\n",
       "</style>\n",
       "<table border=\"1\" class=\"dataframe\">\n",
       "  <thead>\n",
       "    <tr style=\"text-align: right;\">\n",
       "      <th></th>\n",
       "      <th>shop_name</th>\n",
       "      <th>shop_id</th>\n",
       "    </tr>\n",
       "  </thead>\n",
       "  <tbody>\n",
       "    <tr>\n",
       "      <th>57</th>\n",
       "      <td>Якутск Орджоникидзе, 56</td>\n",
       "      <td>57</td>\n",
       "    </tr>\n",
       "  </tbody>\n",
       "</table>\n",
       "</div>"
      ],
      "text/plain": [
       "                  shop_name  shop_id\n",
       "57  Якутск Орджоникидзе, 56       57"
      ]
     },
     "execution_count": 9,
     "metadata": {},
     "output_type": "execute_result"
    }
   ],
   "source": [
    "shop_df[shop_df.shop_id == 57]"
   ]
  },
  {
   "cell_type": "markdown",
   "metadata": {
    "_uuid": "d039af36759e35aa9c6b2789039ad50ffd0b8afe"
   },
   "source": [
    "The shop_id 0 and 57 are the same shop. And other pairs are 1 and 58, 10 and 11."
   ]
  },
  {
   "cell_type": "code",
   "execution_count": 10,
   "metadata": {
    "_uuid": "82f424e7dba6f3f787b70136dbecadc1c5a1e7cd"
   },
   "outputs": [],
   "source": [
    "# Якутск Орджоникидзе, 56\n",
    "sales_df.at[sales_df.shop_id == 0, 'shop_id'] = 57\n",
    "# Якутск ТЦ \"Центральный\"\n",
    "sales_df.at[sales_df.shop_id == 1, 'shop_id'] = 58\n",
    "# Жуковский ул. Чкалова 39м²\n",
    "sales_df.at[sales_df.shop_id == 10, 'shop_id'] = 11"
   ]
  },
  {
   "cell_type": "markdown",
   "metadata": {
    "_uuid": "2c9817aac960caa2d523d6c01007bb6e7ed9db5b"
   },
   "source": [
    "## Extract Features"
   ]
  },
  {
   "cell_type": "code",
   "execution_count": 11,
   "metadata": {
    "_uuid": "b98499e82a2ac0b4bba06a51290d7dd12fcd8304"
   },
   "outputs": [],
   "source": [
    "def _rename(prefix):\n",
    "    cols = ['2013-01', '2013-02', '2013-03', '2013-04','2013-05','2013-06','2013-07','2013-08','2013-09','2013-10','2013-11','2013-12','2014-01','2014-02','2014-03','2014-04','2014-05','2014-06','2014-07','2014-08','2014-09','2014-10','2014-11','2014-12','2015-01','2015-02','2015-03','2015-04','2015-05','2015-06','2015-07','2015-08', '2015-09','2015-10']\n",
    "    \n",
    "    result = {}\n",
    "    for i in range(1, len(cols) + 1, 1):\n",
    "        result[cols[i-1]] = prefix + str(i)\n",
    "    \n",
    "    return result"
   ]
  },
  {
   "cell_type": "markdown",
   "metadata": {
    "_uuid": "b33f50ea8c83d15ca313fda878063fb3cd3600db"
   },
   "source": [
    "+ **Feature 'r' series**: Sales record"
   ]
  },
  {
   "cell_type": "code",
   "execution_count": 12,
   "metadata": {
    "_uuid": "d9811eaf41b29c36d3db9d0ab2c20adee272076a"
   },
   "outputs": [
    {
     "data": {
      "text/plain": [
       "35"
      ]
     },
     "execution_count": 12,
     "metadata": {},
     "output_type": "execute_result"
    }
   ],
   "source": [
    "import gc\n",
    "t = sales_df.groupby([sales_df.date.apply(lambda x: x.strftime('%Y-%m')),'item_id','shop_id'])['item_cnt_day'].sum().reset_index(name='item_cnt_month')\n",
    "\n",
    "t = t[['date','item_id','shop_id','item_cnt_month']]\n",
    "t = t.pivot_table(index=['item_id','shop_id'], columns='date',values='item_cnt_month',fill_value=0).reset_index()\n",
    "t = t.rename(index=str, columns=_rename('r'))\n",
    "sales_detail_df = t.copy()\n",
    "\n",
    "del t\n",
    "gc.collect()"
   ]
  },
  {
   "cell_type": "code",
   "execution_count": 13,
   "metadata": {
    "_uuid": "4bdf66ea81480a2fabe85d568531294f0994767e"
   },
   "outputs": [],
   "source": [
    "# leak_df = test_df[['item_id', 'shop_id']].drop_duplicates()\n",
    "# sales_detail_df = pd.merge(sales_detail_df, leak_df, on=['item_id', 'shop_id'], how='outer')\n",
    "# sales_detail_df = sales_detail_df.fillna(0)\n",
    "# sales_detail_df.info()"
   ]
  },
  {
   "cell_type": "code",
   "execution_count": 14,
   "metadata": {
    "_uuid": "fdcb3e6175916b4fceab656cc8eb9b5cd125596d"
   },
   "outputs": [],
   "source": [
    "def _extract(df, i, is_test=False):\n",
    "    arr = ['item_id','shop_id']\n",
    "    for j in range(1, 13, 1):\n",
    "        arr = arr + ['r' + str(i-j)]\n",
    "    \n",
    "    if not is_test:\n",
    "        arr = arr + ['r' + str(i)]\n",
    "    \n",
    "    tdf = df[arr]\n",
    "    tdf['date_block_num'] = i - 1\n",
    "    \n",
    "    return tdf"
   ]
  },
  {
   "cell_type": "code",
   "execution_count": 15,
   "metadata": {
    "_uuid": "d94963794fb9b7a9b2c4ce5ede2135e97a651f3f",
    "scrolled": false
   },
   "outputs": [
    {
     "name": "stderr",
     "output_type": "stream",
     "text": [
      "/Users/leewind/.local/share/virtualenvs/leewind-p6XO93Th/lib/python3.7/site-packages/ipykernel_launcher.py:10: SettingWithCopyWarning: \n",
      "A value is trying to be set on a copy of a slice from a DataFrame.\n",
      "Try using .loc[row_indexer,col_indexer] = value instead\n",
      "\n",
      "See the caveats in the documentation: http://pandas.pydata.org/pandas-docs/stable/indexing.html#indexing-view-versus-copy\n",
      "  # Remove the CWD from sys.path while we load stuff.\n"
     ]
    }
   ],
   "source": [
    "cols = ['item_id','shop_id', 'r1', 'r2', 'r3', 'r4',  'r5', 'r6','r7', 'r8',  'r9', 'r10',  'r11',  'r12', 'item_cnt_month', 'date_block_num']\n",
    "sales_record_df = pd.DataFrame(columns=cols)\n",
    "for i in range(13, 35, 1):\n",
    "    tdf = _extract(sales_detail_df, i)\n",
    "    sales_record_df = sales_record_df.append(pd.DataFrame(columns=cols, data=tdf.values))\n",
    "\n",
    "sales_record_df['month'] = sales_record_df['date_block_num'].apply(lambda x: (x % 12) + 1)\n",
    "\n",
    "for i in range(1, 13, 1):\n",
    "    sales_record_df['r'+str(i)] = sales_record_df['r'+str(i)].astype(np.float16)\n",
    "\n",
    "sales_record_df = _transfer_type(sales_record_df, ['item_id', 'shop_id', 'date_block_num', 'month'], np.int16)\n",
    "sales_record_df = _transfer_type(sales_record_df, ['item_cnt_month'], np.float16)\n",
    "sales_record_df = sales_record_df.fillna(0)"
   ]
  },
  {
   "cell_type": "markdown",
   "metadata": {
    "_uuid": "c34e6d375f9c67e79e798d6ae9cfe31e55deae51"
   },
   "source": [
    "+ **Feature 'city'**: Each shop_name starts with the city name."
   ]
  },
  {
   "cell_type": "code",
   "execution_count": 16,
   "metadata": {
    "_uuid": "ed57a80972aa80909e780c4d651778a125c5be9d"
   },
   "outputs": [],
   "source": [
    "shop_df.loc[shop_df.shop_name == 'Сергиев Посад ТЦ \"7Я\"', 'shop_name'] = 'СергиевПосад ТЦ \"7Я\"'\n",
    "shop_df['shop_name'] = shop_df['shop_name'].astype(str)\n",
    "shop_df['city'] = shop_df['shop_name'].str.split(' ').map(lambda x: x[0])\n",
    "shop_df.loc[shop_df.city == '!Якутск', 'city'] = 'Якутск'\n",
    "\n",
    "encoder = LabelEncoder()\n",
    "encoder.fit(shop_df['city'])\n",
    "shop_df['city_code'] = encoder.transform(shop_df['city'])"
   ]
  },
  {
   "cell_type": "markdown",
   "metadata": {
    "_uuid": "c38ddcf105d8894cc190a6dfcd84b35503de46ae"
   },
   "source": [
    "+ **Feature 'type'**: Each category contains type and subtype in its name.\n",
    "+ **Feature 'subtype'**: Each category contains type and subtype in its name."
   ]
  },
  {
   "cell_type": "code",
   "execution_count": 17,
   "metadata": {
    "_uuid": "c371193167b1af8d793f775a7526f3e11d03bf57"
   },
   "outputs": [],
   "source": [
    "category_df['item_category_name'] = category_df['item_category_name'].astype(str)\n",
    "category_df['type'] = category_df['item_category_name'].map(lambda x: x.split('-')[0].strip())\n",
    "\n",
    "encoder = LabelEncoder()\n",
    "encoder.fit(category_df['type'])\n",
    "category_df['type_code'] = encoder.transform(category_df['type'])"
   ]
  },
  {
   "cell_type": "code",
   "execution_count": 18,
   "metadata": {
    "_uuid": "8a41980968d3d9cd2189e45f579632a7c6ccdad2"
   },
   "outputs": [],
   "source": [
    "category_df['subtype'] = category_df['item_category_name'].map(lambda x: x.split('-')[1].strip() if len(x.split('-')) > 1 else x.split('-')[0].strip())\n",
    "\n",
    "encoder = LabelEncoder()\n",
    "encoder.fit(category_df['subtype'])\n",
    "category_df['subtype_code'] = encoder.transform(category_df['subtype'])"
   ]
  },
  {
   "cell_type": "markdown",
   "metadata": {
    "_uuid": "de182ecc5b38764acd099097be2e3e66669bdd16"
   },
   "source": [
    "## Merge Data into one entity"
   ]
  },
  {
   "cell_type": "code",
   "execution_count": 19,
   "metadata": {
    "_uuid": "aff4044e4cc0eab409bed1a20a0d0cf176c39e56",
    "scrolled": false
   },
   "outputs": [
    {
     "name": "stdout",
     "output_type": "stream",
     "text": [
      "<class 'pandas.core.frame.DataFrame'>\n",
      "Int64Index: 9215976 entries, 0 to 9215975\n",
      "Data columns (total 21 columns):\n",
      "item_id             int16\n",
      "shop_id             int16\n",
      "r1                  float16\n",
      "r2                  float16\n",
      "r3                  float16\n",
      "r4                  float16\n",
      "r5                  float16\n",
      "r6                  float16\n",
      "r7                  float16\n",
      "r8                  float16\n",
      "r9                  float16\n",
      "r10                 float16\n",
      "r11                 float16\n",
      "r12                 float16\n",
      "item_cnt_month      float16\n",
      "date_block_num      int16\n",
      "month               int16\n",
      "item_category_id    int16\n",
      "city_code           int16\n",
      "type_code           int16\n",
      "subtype_code        int16\n",
      "dtypes: float16(13), int16(8)\n",
      "memory usage: 439.5 MB\n"
     ]
    }
   ],
   "source": [
    "sales_record_df = pd.merge(sales_record_df, item_df, on=['item_id'], how='left')\n",
    "sales_record_df = pd.merge(sales_record_df, shop_df, on=['shop_id'], how='left')\n",
    "sales_record_df = pd.merge(sales_record_df, category_df, on=['item_category_id'], how='left')\n",
    "sales_record_df = sales_record_df.fillna(0)\n",
    "\n",
    "sales_record_df = sales_record_df.drop(['city', 'type', 'subtype', 'item_name', 'shop_name', 'item_category_name'], axis=1)\n",
    "sales_record_df = _transfer_type(sales_record_df, ['item_category_id', 'city_code', 'type_code', 'subtype_code'], np.int16)\n",
    "\n",
    "sales_record_df.info()"
   ]
  },
  {
   "cell_type": "code",
   "execution_count": 20,
   "metadata": {
    "_uuid": "bc3ae382c6b32650e525e1e7bbef0afff7b53395"
   },
   "outputs": [],
   "source": [
    "def _agg(df, cols, prefix):\n",
    "    \n",
    "    result = df[cols].drop_duplicates()\n",
    "    \n",
    "    for i in range(1, 13, 1):\n",
    "        t = df.groupby(cols)['r'+str(i)].mean().fillna(0).astype(np.float16).reset_index(name=prefix+str(i))\n",
    "        result = pd.merge(result, t, on=cols, how='left')\n",
    "    \n",
    "#     result = _mean(result, prefix)\n",
    "    return result"
   ]
  },
  {
   "cell_type": "code",
   "execution_count": 21,
   "metadata": {
    "_uuid": "47e0e575ae3c7d3791ed58a91e1753e5368bad41"
   },
   "outputs": [],
   "source": [
    "sc_df = _agg(sales_record_df, ['shop_id', 'item_category_id'], 'sc')\n",
    "i_df = _agg(sales_record_df, ['item_id'], 'i')\n",
    "it_df = _agg(sales_record_df, ['item_category_id'], 'it')\n",
    "s_df = _agg(sales_record_df, ['shop_id'], 's')\n",
    "\n",
    "sales_record_df = pd.merge(sales_record_df, sc_df, on=['shop_id', 'item_category_id'], how='left')\n",
    "sales_record_df = pd.merge(sales_record_df, i_df, on=['item_id'], how='left')\n",
    "sales_record_df = pd.merge(sales_record_df, it_df, on=['item_category_id'], how='left')\n",
    "sales_record_df = pd.merge(sales_record_df, s_df, on=['shop_id'], how='left')"
   ]
  },
  {
   "cell_type": "markdown",
   "metadata": {
    "_uuid": "0f43c4b81277a94ab0f6358f4f0b59a5f5e27742"
   },
   "source": [
    "## Feature Selection"
   ]
  },
  {
   "cell_type": "code",
   "execution_count": 22,
   "metadata": {
    "_uuid": "e96079b9620cd89db47d96407cb952c0e538cf07"
   },
   "outputs": [
    {
     "data": {
      "text/plain": [
       "array(['item_id', 'shop_id', 'r1', 'r2', 'r3', 'r4', 'r5', 'r6', 'r7',\n",
       "       'r8', 'r9', 'r10', 'r11', 'r12', 'item_cnt_month',\n",
       "       'date_block_num', 'month', 'item_category_id', 'city_code',\n",
       "       'type_code', 'subtype_code', 'sc1', 'sc2', 'sc3', 'sc4', 'sc5',\n",
       "       'sc6', 'sc7', 'sc8', 'sc9', 'sc10', 'sc11', 'sc12', 'i1', 'i2',\n",
       "       'i3', 'i4', 'i5', 'i6', 'i7', 'i8', 'i9', 'i10', 'i11', 'i12',\n",
       "       'it1', 'it2', 'it3', 'it4', 'it5', 'it6', 'it7', 'it8', 'it9',\n",
       "       'it10', 'it11', 'it12', 's1', 's2', 's3', 's4', 's5', 's6', 's7',\n",
       "       's8', 's9', 's10', 's11', 's12'], dtype=object)"
      ]
     },
     "execution_count": 22,
     "metadata": {},
     "output_type": "execute_result"
    }
   ],
   "source": [
    "dataset = sales_record_df.copy()\n",
    "dataset.columns.values"
   ]
  },
  {
   "cell_type": "code",
   "execution_count": 23,
   "metadata": {
    "_uuid": "b3c92320516a13a92fc59fcbe4a06ac758da4857"
   },
   "outputs": [],
   "source": [
    "dataset_beta = dataset[dataset.date_block_num < 33]\n",
    "dataset_alpha = dataset[dataset.date_block_num == 33]"
   ]
  },
  {
   "cell_type": "code",
   "execution_count": 24,
   "metadata": {
    "_uuid": "95f83a398169b8fc54481b2a543dfc88eb454a17"
   },
   "outputs": [],
   "source": [
    "features = [\n",
    "    'item_id', 'shop_id', 'r1', 'r2', 'r3', 'r4', 'r5', 'r6', 'r7',\n",
    "    'r8', 'r9', 'r10', 'r11', 'r12',\n",
    "    'date_block_num', 'month', 'item_category_id', 'city_code',\n",
    "    'type_code', 'subtype_code',\n",
    "    \n",
    "    'sc1', 'sc2', 'sc3', 'sc4', 'sc5', 'sc6', 'sc7', 'sc8', 'sc9', 'sc10', 'sc11', 'sc12',\n",
    "    'i1', 'i2', 'i3', 'i4', 'i5', 'i6', 'i7', 'i8', 'i9', 'i10', 'i11', 'i12',\n",
    "    'it1', 'it2', 'it3', 'it4', 'it5', 'it6', 'it7', 'it8', 'it9', 'it10', 'it11', 'it12',\n",
    "    's1', 's2', 's3', 's4', 's5', 's6', 's7', 's8', 's9', 's10', 's11', 's12',\n",
    "]\n",
    "label = 'item_cnt_month'"
   ]
  },
  {
   "cell_type": "markdown",
   "metadata": {
    "_uuid": "aae70118bac3872c56b59b68b34123454de0c00f"
   },
   "source": [
    "## Train"
   ]
  },
  {
   "cell_type": "code",
   "execution_count": 25,
   "metadata": {
    "_uuid": "194a6fb5c4407b79448dbd6f882ed28968d4e669"
   },
   "outputs": [],
   "source": [
    "import xgboost as xgb\n",
    "\n",
    "dataset_beta = dataset[(dataset.date_block_num < 24) & (dataset.date_block_num > 17)]\n",
    "train_dataset_x = dataset_beta[features]\n",
    "train_dataset_y = dataset_beta[label].values.ravel()\n",
    "train_dmatrix = xgb.DMatrix(train_dataset_x, label=train_dataset_y)\n",
    "\n",
    "dataset_test = dataset[(dataset.date_block_num == 33)]\n",
    "test_dataset_x = dataset_test[features]\n",
    "test_dataset_y = dataset_test[label].values.ravel()\n",
    "test_dmatrix = xgb.DMatrix(test_dataset_x, label=test_dataset_y)\n",
    "\n",
    "dataset_valid = dataset[(dataset.date_block_num == 32)]\n",
    "valid_dataset_x = dataset_valid[features]\n",
    "valid_dataset_y = dataset_valid[label].values.ravel()\n",
    "valid_dmatrix = xgb.DMatrix(valid_dataset_x, label=valid_dataset_y)"
   ]
  },
  {
   "cell_type": "code",
   "execution_count": 26,
   "metadata": {
    "_kg_hide-output": true,
    "_uuid": "b9d8fffb0b7175d2da8d794274be7e313eb50fa6",
    "scrolled": true
   },
   "outputs": [
    {
     "name": "stdout",
     "output_type": "stream",
     "text": [
      "[13:45:25] src/tree/updater_prune.cc:74: tree pruning end, 1 roots, 30 extra nodes, 0 pruned nodes, max_depth=4\n",
      "[0]\ttrain-rmse:3.34076\tvalidate-rmse:4.95164\n",
      "Multiple eval metrics have been passed: 'validate-rmse' will be used for early stopping.\n",
      "\n",
      "Will train until validate-rmse hasn't improved in 10 rounds.\n",
      "[13:45:27] src/tree/updater_prune.cc:74: tree pruning end, 1 roots, 18 extra nodes, 0 pruned nodes, max_depth=4\n",
      "[1]\ttrain-rmse:3.28133\tvalidate-rmse:4.93103\n",
      "[13:45:30] src/tree/updater_prune.cc:74: tree pruning end, 1 roots, 30 extra nodes, 0 pruned nodes, max_depth=4\n",
      "[2]\ttrain-rmse:3.24683\tvalidate-rmse:4.91746\n",
      "[13:45:32] src/tree/updater_prune.cc:74: tree pruning end, 1 roots, 16 extra nodes, 0 pruned nodes, max_depth=4\n",
      "[3]\ttrain-rmse:3.18941\tvalidate-rmse:4.89514\n",
      "[13:45:34] src/tree/updater_prune.cc:74: tree pruning end, 1 roots, 18 extra nodes, 0 pruned nodes, max_depth=4\n",
      "[4]\ttrain-rmse:3.1255\tvalidate-rmse:4.87443\n",
      "[13:45:36] src/tree/updater_prune.cc:74: tree pruning end, 1 roots, 18 extra nodes, 0 pruned nodes, max_depth=4\n",
      "[5]\ttrain-rmse:3.07407\tvalidate-rmse:4.87161\n",
      "[13:45:38] src/tree/updater_prune.cc:74: tree pruning end, 1 roots, 18 extra nodes, 0 pruned nodes, max_depth=4\n",
      "[6]\ttrain-rmse:3.02566\tvalidate-rmse:4.86617\n",
      "[13:45:41] src/tree/updater_prune.cc:74: tree pruning end, 1 roots, 18 extra nodes, 0 pruned nodes, max_depth=4\n",
      "[7]\ttrain-rmse:2.97721\tvalidate-rmse:4.85226\n",
      "[13:45:43] src/tree/updater_prune.cc:74: tree pruning end, 1 roots, 18 extra nodes, 0 pruned nodes, max_depth=4\n",
      "[8]\ttrain-rmse:2.9295\tvalidate-rmse:4.83942\n",
      "[13:45:45] src/tree/updater_prune.cc:74: tree pruning end, 1 roots, 16 extra nodes, 0 pruned nodes, max_depth=4\n",
      "[9]\ttrain-rmse:2.88329\tvalidate-rmse:4.82916\n",
      "[13:45:47] src/tree/updater_prune.cc:74: tree pruning end, 1 roots, 16 extra nodes, 0 pruned nodes, max_depth=4\n",
      "[10]\ttrain-rmse:2.84847\tvalidate-rmse:4.82068\n",
      "[13:45:49] src/tree/updater_prune.cc:74: tree pruning end, 1 roots, 14 extra nodes, 0 pruned nodes, max_depth=4\n",
      "[11]\ttrain-rmse:2.81284\tvalidate-rmse:4.8106\n",
      "[13:45:52] src/tree/updater_prune.cc:74: tree pruning end, 1 roots, 18 extra nodes, 0 pruned nodes, max_depth=4\n",
      "[12]\ttrain-rmse:2.77494\tvalidate-rmse:4.80112\n",
      "[13:45:54] src/tree/updater_prune.cc:74: tree pruning end, 1 roots, 16 extra nodes, 0 pruned nodes, max_depth=4\n",
      "[13]\ttrain-rmse:2.74096\tvalidate-rmse:4.79199\n",
      "[13:45:58] src/tree/updater_prune.cc:74: tree pruning end, 1 roots, 30 extra nodes, 0 pruned nodes, max_depth=4\n",
      "[14]\ttrain-rmse:2.74062\tvalidate-rmse:4.79199\n",
      "[13:46:01] src/tree/updater_prune.cc:74: tree pruning end, 1 roots, 14 extra nodes, 0 pruned nodes, max_depth=4\n",
      "[15]\ttrain-rmse:2.70241\tvalidate-rmse:4.78616\n",
      "[13:46:04] src/tree/updater_prune.cc:74: tree pruning end, 1 roots, 30 extra nodes, 0 pruned nodes, max_depth=4\n",
      "[16]\ttrain-rmse:2.70207\tvalidate-rmse:4.78618\n",
      "[13:46:06] src/tree/updater_prune.cc:74: tree pruning end, 1 roots, 14 extra nodes, 0 pruned nodes, max_depth=4\n",
      "[17]\ttrain-rmse:2.67423\tvalidate-rmse:4.78516\n",
      "[13:46:07] src/tree/updater_prune.cc:74: tree pruning end, 1 roots, 20 extra nodes, 0 pruned nodes, max_depth=4\n",
      "[18]\ttrain-rmse:2.64932\tvalidate-rmse:4.78006\n",
      "[13:46:09] src/tree/updater_prune.cc:74: tree pruning end, 1 roots, 20 extra nodes, 0 pruned nodes, max_depth=4\n",
      "[19]\ttrain-rmse:2.59893\tvalidate-rmse:4.76744\n",
      "[13:46:11] src/tree/updater_prune.cc:74: tree pruning end, 1 roots, 14 extra nodes, 0 pruned nodes, max_depth=4\n",
      "[20]\ttrain-rmse:2.57701\tvalidate-rmse:4.76704\n",
      "[13:46:12] src/tree/updater_prune.cc:74: tree pruning end, 1 roots, 18 extra nodes, 0 pruned nodes, max_depth=4\n",
      "[21]\ttrain-rmse:2.53484\tvalidate-rmse:4.75692\n",
      "[13:46:14] src/tree/updater_prune.cc:74: tree pruning end, 1 roots, 18 extra nodes, 0 pruned nodes, max_depth=4\n",
      "[22]\ttrain-rmse:2.51389\tvalidate-rmse:4.75284\n",
      "[13:46:16] src/tree/updater_prune.cc:74: tree pruning end, 1 roots, 18 extra nodes, 0 pruned nodes, max_depth=4\n",
      "[23]\ttrain-rmse:2.4953\tvalidate-rmse:4.74929\n",
      "[13:46:18] src/tree/updater_prune.cc:74: tree pruning end, 1 roots, 18 extra nodes, 0 pruned nodes, max_depth=4\n",
      "[24]\ttrain-rmse:2.47557\tvalidate-rmse:4.74641\n",
      "[13:46:20] src/tree/updater_prune.cc:74: tree pruning end, 1 roots, 24 extra nodes, 0 pruned nodes, max_depth=4\n",
      "[25]\ttrain-rmse:2.45947\tvalidate-rmse:4.74592\n",
      "[13:46:22] src/tree/updater_prune.cc:74: tree pruning end, 1 roots, 18 extra nodes, 0 pruned nodes, max_depth=4\n",
      "[26]\ttrain-rmse:2.44787\tvalidate-rmse:4.74481\n",
      "[13:46:24] src/tree/updater_prune.cc:74: tree pruning end, 1 roots, 22 extra nodes, 0 pruned nodes, max_depth=4\n",
      "[27]\ttrain-rmse:2.43441\tvalidate-rmse:4.74236\n",
      "[13:46:26] src/tree/updater_prune.cc:74: tree pruning end, 1 roots, 16 extra nodes, 0 pruned nodes, max_depth=4\n",
      "[28]\ttrain-rmse:2.41988\tvalidate-rmse:4.74228\n",
      "[13:46:28] src/tree/updater_prune.cc:74: tree pruning end, 1 roots, 22 extra nodes, 0 pruned nodes, max_depth=4\n",
      "[29]\ttrain-rmse:2.40849\tvalidate-rmse:4.74217\n",
      "[13:46:30] src/tree/updater_prune.cc:74: tree pruning end, 1 roots, 16 extra nodes, 0 pruned nodes, max_depth=4\n",
      "[30]\ttrain-rmse:2.39579\tvalidate-rmse:4.74139\n",
      "[13:46:32] src/tree/updater_prune.cc:74: tree pruning end, 1 roots, 16 extra nodes, 0 pruned nodes, max_depth=4\n",
      "[31]\ttrain-rmse:2.38143\tvalidate-rmse:4.74134\n",
      "[13:46:34] src/tree/updater_prune.cc:74: tree pruning end, 1 roots, 22 extra nodes, 0 pruned nodes, max_depth=4\n",
      "[32]\ttrain-rmse:2.35343\tvalidate-rmse:4.73596\n",
      "[13:46:36] src/tree/updater_prune.cc:74: tree pruning end, 1 roots, 22 extra nodes, 0 pruned nodes, max_depth=4\n",
      "[33]\ttrain-rmse:2.34644\tvalidate-rmse:4.73553\n",
      "[13:46:38] src/tree/updater_prune.cc:74: tree pruning end, 1 roots, 14 extra nodes, 0 pruned nodes, max_depth=4\n",
      "[34]\ttrain-rmse:2.33562\tvalidate-rmse:4.73537\n",
      "[13:46:40] src/tree/updater_prune.cc:74: tree pruning end, 1 roots, 14 extra nodes, 0 pruned nodes, max_depth=4\n",
      "[35]\ttrain-rmse:2.32432\tvalidate-rmse:4.73508\n",
      "[13:46:42] src/tree/updater_prune.cc:74: tree pruning end, 1 roots, 28 extra nodes, 0 pruned nodes, max_depth=4\n",
      "[36]\ttrain-rmse:2.3225\tvalidate-rmse:4.73479\n",
      "[13:46:45] src/tree/updater_prune.cc:74: tree pruning end, 1 roots, 18 extra nodes, 0 pruned nodes, max_depth=4\n",
      "[37]\ttrain-rmse:2.31308\tvalidate-rmse:4.73499\n",
      "[13:46:47] src/tree/updater_prune.cc:74: tree pruning end, 1 roots, 12 extra nodes, 0 pruned nodes, max_depth=4\n",
      "[38]\ttrain-rmse:2.30569\tvalidate-rmse:4.73666\n",
      "[13:46:49] src/tree/updater_prune.cc:74: tree pruning end, 1 roots, 30 extra nodes, 0 pruned nodes, max_depth=4\n",
      "[39]\ttrain-rmse:2.30473\tvalidate-rmse:4.73567\n",
      "[13:46:52] src/tree/updater_prune.cc:74: tree pruning end, 1 roots, 14 extra nodes, 0 pruned nodes, max_depth=4\n",
      "[40]\ttrain-rmse:2.29651\tvalidate-rmse:4.7362\n",
      "[13:46:54] src/tree/updater_prune.cc:74: tree pruning end, 1 roots, 16 extra nodes, 0 pruned nodes, max_depth=4\n",
      "[41]\ttrain-rmse:2.29211\tvalidate-rmse:4.73686\n",
      "[13:46:56] src/tree/updater_prune.cc:74: tree pruning end, 1 roots, 28 extra nodes, 0 pruned nodes, max_depth=4\n",
      "[42]\ttrain-rmse:2.28543\tvalidate-rmse:4.7367\n",
      "[13:46:58] src/tree/updater_prune.cc:74: tree pruning end, 1 roots, 20 extra nodes, 0 pruned nodes, max_depth=4\n",
      "[43]\ttrain-rmse:2.27913\tvalidate-rmse:4.73712\n",
      "[13:47:00] src/tree/updater_prune.cc:74: tree pruning end, 1 roots, 16 extra nodes, 0 pruned nodes, max_depth=4\n",
      "[44]\ttrain-rmse:2.27328\tvalidate-rmse:4.73913\n",
      "[13:47:02] src/tree/updater_prune.cc:74: tree pruning end, 1 roots, 16 extra nodes, 0 pruned nodes, max_depth=4\n",
      "[45]\ttrain-rmse:2.26486\tvalidate-rmse:4.73956\n",
      "[13:47:04] src/tree/updater_prune.cc:74: tree pruning end, 1 roots, 16 extra nodes, 0 pruned nodes, max_depth=4\n",
      "[46]\ttrain-rmse:2.26007\tvalidate-rmse:4.73827\n",
      "Stopping. Best iteration:\n",
      "[36]\ttrain-rmse:2.3225\tvalidate-rmse:4.73479\n",
      "\n"
     ]
    }
   ],
   "source": [
    "from xgboost import XGBRegressor\n",
    "\n",
    "watchlist = [(train_dmatrix, 'train'), (valid_dmatrix, 'validate')] \n",
    "\n",
    "params = {\n",
    "  'booster': 'gbtree',\n",
    "  'objective': 'reg:linear',\n",
    "  'eta': 0.05,\n",
    "  'gamma': 0.7,\n",
    "  'min_child_weight': 7,\n",
    "  'max_depth': 4,\n",
    "  'subsample': 0.5,\n",
    "  'colsample_bytree': 0.1,\n",
    "  'nthread': 4,\n",
    "  'silent': 0,\n",
    "  'seed': 2019,\n",
    "  \"max_evals\": 200,\n",
    "}\n",
    "\n",
    "watchlist = [(train_dmatrix, 'train'), (valid_dmatrix, 'validate')] \n",
    "bst = xgb.train(params, train_dmatrix, evals=watchlist, early_stopping_rounds=10, num_boost_round=1000)"
   ]
  },
  {
   "cell_type": "code",
   "execution_count": 27,
   "metadata": {
    "_uuid": "cb4e63f10dfab7a6e01115d63d5366fe75994a90"
   },
   "outputs": [
    {
     "name": "stdout",
     "output_type": "stream",
     "text": [
      "[13:47:08] src/tree/updater_prune.cc:74: tree pruning end, 1 roots, 30 extra nodes, 0 pruned nodes, max_depth=4\n",
      "[13:47:10] src/tree/updater_prune.cc:74: tree pruning end, 1 roots, 18 extra nodes, 0 pruned nodes, max_depth=4\n",
      "[13:47:12] src/tree/updater_prune.cc:74: tree pruning end, 1 roots, 30 extra nodes, 0 pruned nodes, max_depth=4\n",
      "[13:47:14] src/tree/updater_prune.cc:74: tree pruning end, 1 roots, 16 extra nodes, 0 pruned nodes, max_depth=4\n",
      "[13:47:16] src/tree/updater_prune.cc:74: tree pruning end, 1 roots, 18 extra nodes, 0 pruned nodes, max_depth=4\n",
      "[13:47:17] src/tree/updater_prune.cc:74: tree pruning end, 1 roots, 18 extra nodes, 0 pruned nodes, max_depth=4\n",
      "[13:47:19] src/tree/updater_prune.cc:74: tree pruning end, 1 roots, 18 extra nodes, 0 pruned nodes, max_depth=4\n",
      "[13:47:21] src/tree/updater_prune.cc:74: tree pruning end, 1 roots, 18 extra nodes, 0 pruned nodes, max_depth=4\n",
      "[13:47:23] src/tree/updater_prune.cc:74: tree pruning end, 1 roots, 18 extra nodes, 0 pruned nodes, max_depth=4\n",
      "[13:47:24] src/tree/updater_prune.cc:74: tree pruning end, 1 roots, 16 extra nodes, 0 pruned nodes, max_depth=4\n",
      "[13:47:26] src/tree/updater_prune.cc:74: tree pruning end, 1 roots, 16 extra nodes, 0 pruned nodes, max_depth=4\n",
      "[13:47:28] src/tree/updater_prune.cc:74: tree pruning end, 1 roots, 14 extra nodes, 0 pruned nodes, max_depth=4\n",
      "[13:47:29] src/tree/updater_prune.cc:74: tree pruning end, 1 roots, 18 extra nodes, 0 pruned nodes, max_depth=4\n",
      "[13:47:31] src/tree/updater_prune.cc:74: tree pruning end, 1 roots, 16 extra nodes, 0 pruned nodes, max_depth=4\n",
      "[13:47:33] src/tree/updater_prune.cc:74: tree pruning end, 1 roots, 30 extra nodes, 0 pruned nodes, max_depth=4\n",
      "[13:47:35] src/tree/updater_prune.cc:74: tree pruning end, 1 roots, 14 extra nodes, 0 pruned nodes, max_depth=4\n",
      "[13:47:37] src/tree/updater_prune.cc:74: tree pruning end, 1 roots, 30 extra nodes, 0 pruned nodes, max_depth=4\n",
      "[13:47:38] src/tree/updater_prune.cc:74: tree pruning end, 1 roots, 14 extra nodes, 0 pruned nodes, max_depth=4\n",
      "[13:47:40] src/tree/updater_prune.cc:74: tree pruning end, 1 roots, 20 extra nodes, 0 pruned nodes, max_depth=4\n",
      "[13:47:42] src/tree/updater_prune.cc:74: tree pruning end, 1 roots, 20 extra nodes, 0 pruned nodes, max_depth=4\n",
      "[13:47:43] src/tree/updater_prune.cc:74: tree pruning end, 1 roots, 14 extra nodes, 0 pruned nodes, max_depth=4\n",
      "[13:47:45] src/tree/updater_prune.cc:74: tree pruning end, 1 roots, 18 extra nodes, 0 pruned nodes, max_depth=4\n",
      "[13:47:47] src/tree/updater_prune.cc:74: tree pruning end, 1 roots, 18 extra nodes, 0 pruned nodes, max_depth=4\n",
      "[13:47:48] src/tree/updater_prune.cc:74: tree pruning end, 1 roots, 18 extra nodes, 0 pruned nodes, max_depth=4\n",
      "[13:47:50] src/tree/updater_prune.cc:74: tree pruning end, 1 roots, 18 extra nodes, 0 pruned nodes, max_depth=4\n",
      "[13:47:51] src/tree/updater_prune.cc:74: tree pruning end, 1 roots, 24 extra nodes, 0 pruned nodes, max_depth=4\n",
      "[13:47:53] src/tree/updater_prune.cc:74: tree pruning end, 1 roots, 18 extra nodes, 0 pruned nodes, max_depth=4\n",
      "[13:47:55] src/tree/updater_prune.cc:74: tree pruning end, 1 roots, 22 extra nodes, 0 pruned nodes, max_depth=4\n",
      "[13:47:56] src/tree/updater_prune.cc:74: tree pruning end, 1 roots, 16 extra nodes, 0 pruned nodes, max_depth=4\n",
      "[13:47:58] src/tree/updater_prune.cc:74: tree pruning end, 1 roots, 22 extra nodes, 0 pruned nodes, max_depth=4\n",
      "[13:48:00] src/tree/updater_prune.cc:74: tree pruning end, 1 roots, 16 extra nodes, 0 pruned nodes, max_depth=4\n",
      "[13:48:01] src/tree/updater_prune.cc:74: tree pruning end, 1 roots, 16 extra nodes, 0 pruned nodes, max_depth=4\n",
      "[13:48:03] src/tree/updater_prune.cc:74: tree pruning end, 1 roots, 22 extra nodes, 0 pruned nodes, max_depth=4\n",
      "[13:48:05] src/tree/updater_prune.cc:74: tree pruning end, 1 roots, 22 extra nodes, 0 pruned nodes, max_depth=4\n",
      "[13:48:06] src/tree/updater_prune.cc:74: tree pruning end, 1 roots, 14 extra nodes, 0 pruned nodes, max_depth=4\n",
      "[13:48:08] src/tree/updater_prune.cc:74: tree pruning end, 1 roots, 14 extra nodes, 0 pruned nodes, max_depth=4\n"
     ]
    }
   ],
   "source": [
    "model = xgb.train(params, train_dmatrix, num_boost_round=bst.best_iteration)"
   ]
  },
  {
   "cell_type": "code",
   "execution_count": 28,
   "metadata": {
    "_uuid": "6839aada6f50439bef74ef08286eadc05b0b78ba"
   },
   "outputs": [
    {
     "name": "stderr",
     "output_type": "stream",
     "text": [
      "/Users/leewind/.local/share/virtualenvs/leewind-p6XO93Th/lib/python3.7/site-packages/numpy/core/_methods.py:36: RuntimeWarning: overflow encountered in reduce\n",
      "  return umr_sum(a, axis, dtype, out, keepdims, initial)\n"
     ]
    },
    {
     "data": {
      "text/plain": [
       "1.5550207806391543"
      ]
     },
     "execution_count": 28,
     "metadata": {},
     "output_type": "execute_result"
    }
   ],
   "source": [
    "from sklearn.metrics import mean_squared_error\n",
    "from math import sqrt\n",
    "\n",
    "test_dmatrix = xgb.DMatrix(dataset_test[features], label=dataset_test[label].values.ravel())\n",
    "pred = model.predict(test_dmatrix)\n",
    "sqrt(mean_squared_error(dataset_test[label], pred))"
   ]
  },
  {
   "cell_type": "markdown",
   "metadata": {
    "_uuid": "0054990a5f60ecd71c0971a64b43e66efad7c222"
   },
   "source": [
    "## Predict"
   ]
  },
  {
   "cell_type": "code",
   "execution_count": 67,
   "metadata": {
    "_uuid": "0a400f2f8e92c092e484efb5b5cdcacafc4853c9"
   },
   "outputs": [
    {
     "name": "stderr",
     "output_type": "stream",
     "text": [
      "/Users/leewind/.local/share/virtualenvs/leewind-p6XO93Th/lib/python3.7/site-packages/ipykernel_launcher.py:10: SettingWithCopyWarning: \n",
      "A value is trying to be set on a copy of a slice from a DataFrame.\n",
      "Try using .loc[row_indexer,col_indexer] = value instead\n",
      "\n",
      "See the caveats in the documentation: http://pandas.pydata.org/pandas-docs/stable/indexing.html#indexing-view-versus-copy\n",
      "  # Remove the CWD from sys.path while we load stuff.\n"
     ]
    },
    {
     "data": {
      "text/html": [
       "<div>\n",
       "<style scoped>\n",
       "    .dataframe tbody tr th:only-of-type {\n",
       "        vertical-align: middle;\n",
       "    }\n",
       "\n",
       "    .dataframe tbody tr th {\n",
       "        vertical-align: top;\n",
       "    }\n",
       "\n",
       "    .dataframe thead th {\n",
       "        text-align: right;\n",
       "    }\n",
       "</style>\n",
       "<table border=\"1\" class=\"dataframe\">\n",
       "  <thead>\n",
       "    <tr style=\"text-align: right;\">\n",
       "      <th></th>\n",
       "      <th>shop_id</th>\n",
       "      <th>item_id</th>\n",
       "      <th>r1</th>\n",
       "      <th>r2</th>\n",
       "      <th>r3</th>\n",
       "      <th>r4</th>\n",
       "      <th>r5</th>\n",
       "      <th>r6</th>\n",
       "      <th>r7</th>\n",
       "      <th>r8</th>\n",
       "      <th>...</th>\n",
       "      <th>s3</th>\n",
       "      <th>s4</th>\n",
       "      <th>s5</th>\n",
       "      <th>s6</th>\n",
       "      <th>s7</th>\n",
       "      <th>s8</th>\n",
       "      <th>s9</th>\n",
       "      <th>s10</th>\n",
       "      <th>s11</th>\n",
       "      <th>s12</th>\n",
       "    </tr>\n",
       "  </thead>\n",
       "  <tbody>\n",
       "    <tr>\n",
       "      <th>0</th>\n",
       "      <td>5</td>\n",
       "      <td>5037</td>\n",
       "      <td>0.0</td>\n",
       "      <td>1.0</td>\n",
       "      <td>3.0</td>\n",
       "      <td>1.0</td>\n",
       "      <td>1.0</td>\n",
       "      <td>1.0</td>\n",
       "      <td>0.0</td>\n",
       "      <td>0.0</td>\n",
       "      <td>...</td>\n",
       "      <td>0.23877</td>\n",
       "      <td>0.171021</td>\n",
       "      <td>0.167847</td>\n",
       "      <td>0.175293</td>\n",
       "      <td>0.174316</td>\n",
       "      <td>0.172729</td>\n",
       "      <td>0.164062</td>\n",
       "      <td>0.210449</td>\n",
       "      <td>0.312256</td>\n",
       "      <td>0.203979</td>\n",
       "    </tr>\n",
       "    <tr>\n",
       "      <th>1</th>\n",
       "      <td>5</td>\n",
       "      <td>5320</td>\n",
       "      <td>0.0</td>\n",
       "      <td>0.0</td>\n",
       "      <td>0.0</td>\n",
       "      <td>0.0</td>\n",
       "      <td>0.0</td>\n",
       "      <td>0.0</td>\n",
       "      <td>0.0</td>\n",
       "      <td>0.0</td>\n",
       "      <td>...</td>\n",
       "      <td>0.23877</td>\n",
       "      <td>0.171021</td>\n",
       "      <td>0.167847</td>\n",
       "      <td>0.175293</td>\n",
       "      <td>0.174316</td>\n",
       "      <td>0.172729</td>\n",
       "      <td>0.164062</td>\n",
       "      <td>0.210449</td>\n",
       "      <td>0.312256</td>\n",
       "      <td>0.203979</td>\n",
       "    </tr>\n",
       "    <tr>\n",
       "      <th>2</th>\n",
       "      <td>5</td>\n",
       "      <td>5233</td>\n",
       "      <td>1.0</td>\n",
       "      <td>3.0</td>\n",
       "      <td>1.0</td>\n",
       "      <td>0.0</td>\n",
       "      <td>2.0</td>\n",
       "      <td>3.0</td>\n",
       "      <td>0.0</td>\n",
       "      <td>0.0</td>\n",
       "      <td>...</td>\n",
       "      <td>0.23877</td>\n",
       "      <td>0.171021</td>\n",
       "      <td>0.167847</td>\n",
       "      <td>0.175293</td>\n",
       "      <td>0.174316</td>\n",
       "      <td>0.172729</td>\n",
       "      <td>0.164062</td>\n",
       "      <td>0.210449</td>\n",
       "      <td>0.312256</td>\n",
       "      <td>0.203979</td>\n",
       "    </tr>\n",
       "    <tr>\n",
       "      <th>3</th>\n",
       "      <td>5</td>\n",
       "      <td>5232</td>\n",
       "      <td>0.0</td>\n",
       "      <td>0.0</td>\n",
       "      <td>1.0</td>\n",
       "      <td>0.0</td>\n",
       "      <td>0.0</td>\n",
       "      <td>0.0</td>\n",
       "      <td>0.0</td>\n",
       "      <td>0.0</td>\n",
       "      <td>...</td>\n",
       "      <td>0.23877</td>\n",
       "      <td>0.171021</td>\n",
       "      <td>0.167847</td>\n",
       "      <td>0.175293</td>\n",
       "      <td>0.174316</td>\n",
       "      <td>0.172729</td>\n",
       "      <td>0.164062</td>\n",
       "      <td>0.210449</td>\n",
       "      <td>0.312256</td>\n",
       "      <td>0.203979</td>\n",
       "    </tr>\n",
       "    <tr>\n",
       "      <th>4</th>\n",
       "      <td>5</td>\n",
       "      <td>5268</td>\n",
       "      <td>0.0</td>\n",
       "      <td>0.0</td>\n",
       "      <td>0.0</td>\n",
       "      <td>0.0</td>\n",
       "      <td>0.0</td>\n",
       "      <td>0.0</td>\n",
       "      <td>0.0</td>\n",
       "      <td>0.0</td>\n",
       "      <td>...</td>\n",
       "      <td>0.23877</td>\n",
       "      <td>0.171021</td>\n",
       "      <td>0.167847</td>\n",
       "      <td>0.175293</td>\n",
       "      <td>0.174316</td>\n",
       "      <td>0.172729</td>\n",
       "      <td>0.164062</td>\n",
       "      <td>0.210449</td>\n",
       "      <td>0.312256</td>\n",
       "      <td>0.203979</td>\n",
       "    </tr>\n",
       "    <tr>\n",
       "      <th>5</th>\n",
       "      <td>5</td>\n",
       "      <td>5039</td>\n",
       "      <td>1.0</td>\n",
       "      <td>1.0</td>\n",
       "      <td>0.0</td>\n",
       "      <td>0.0</td>\n",
       "      <td>0.0</td>\n",
       "      <td>3.0</td>\n",
       "      <td>0.0</td>\n",
       "      <td>0.0</td>\n",
       "      <td>...</td>\n",
       "      <td>0.23877</td>\n",
       "      <td>0.171021</td>\n",
       "      <td>0.167847</td>\n",
       "      <td>0.175293</td>\n",
       "      <td>0.174316</td>\n",
       "      <td>0.172729</td>\n",
       "      <td>0.164062</td>\n",
       "      <td>0.210449</td>\n",
       "      <td>0.312256</td>\n",
       "      <td>0.203979</td>\n",
       "    </tr>\n",
       "    <tr>\n",
       "      <th>6</th>\n",
       "      <td>5</td>\n",
       "      <td>5041</td>\n",
       "      <td>2.0</td>\n",
       "      <td>3.0</td>\n",
       "      <td>0.0</td>\n",
       "      <td>0.0</td>\n",
       "      <td>0.0</td>\n",
       "      <td>0.0</td>\n",
       "      <td>0.0</td>\n",
       "      <td>0.0</td>\n",
       "      <td>...</td>\n",
       "      <td>0.23877</td>\n",
       "      <td>0.171021</td>\n",
       "      <td>0.167847</td>\n",
       "      <td>0.175293</td>\n",
       "      <td>0.174316</td>\n",
       "      <td>0.172729</td>\n",
       "      <td>0.164062</td>\n",
       "      <td>0.210449</td>\n",
       "      <td>0.312256</td>\n",
       "      <td>0.203979</td>\n",
       "    </tr>\n",
       "    <tr>\n",
       "      <th>7</th>\n",
       "      <td>5</td>\n",
       "      <td>5046</td>\n",
       "      <td>0.0</td>\n",
       "      <td>0.0</td>\n",
       "      <td>0.0</td>\n",
       "      <td>0.0</td>\n",
       "      <td>1.0</td>\n",
       "      <td>0.0</td>\n",
       "      <td>0.0</td>\n",
       "      <td>1.0</td>\n",
       "      <td>...</td>\n",
       "      <td>0.23877</td>\n",
       "      <td>0.171021</td>\n",
       "      <td>0.167847</td>\n",
       "      <td>0.175293</td>\n",
       "      <td>0.174316</td>\n",
       "      <td>0.172729</td>\n",
       "      <td>0.164062</td>\n",
       "      <td>0.210449</td>\n",
       "      <td>0.312256</td>\n",
       "      <td>0.203979</td>\n",
       "    </tr>\n",
       "    <tr>\n",
       "      <th>8</th>\n",
       "      <td>5</td>\n",
       "      <td>5319</td>\n",
       "      <td>0.0</td>\n",
       "      <td>3.0</td>\n",
       "      <td>2.0</td>\n",
       "      <td>3.0</td>\n",
       "      <td>4.0</td>\n",
       "      <td>2.0</td>\n",
       "      <td>2.0</td>\n",
       "      <td>3.0</td>\n",
       "      <td>...</td>\n",
       "      <td>0.23877</td>\n",
       "      <td>0.171021</td>\n",
       "      <td>0.167847</td>\n",
       "      <td>0.175293</td>\n",
       "      <td>0.174316</td>\n",
       "      <td>0.172729</td>\n",
       "      <td>0.164062</td>\n",
       "      <td>0.210449</td>\n",
       "      <td>0.312256</td>\n",
       "      <td>0.203979</td>\n",
       "    </tr>\n",
       "    <tr>\n",
       "      <th>9</th>\n",
       "      <td>5</td>\n",
       "      <td>5003</td>\n",
       "      <td>0.0</td>\n",
       "      <td>0.0</td>\n",
       "      <td>0.0</td>\n",
       "      <td>0.0</td>\n",
       "      <td>0.0</td>\n",
       "      <td>0.0</td>\n",
       "      <td>0.0</td>\n",
       "      <td>0.0</td>\n",
       "      <td>...</td>\n",
       "      <td>0.23877</td>\n",
       "      <td>0.171021</td>\n",
       "      <td>0.167847</td>\n",
       "      <td>0.175293</td>\n",
       "      <td>0.174316</td>\n",
       "      <td>0.172729</td>\n",
       "      <td>0.164062</td>\n",
       "      <td>0.210449</td>\n",
       "      <td>0.312256</td>\n",
       "      <td>0.203979</td>\n",
       "    </tr>\n",
       "    <tr>\n",
       "      <th>10</th>\n",
       "      <td>5</td>\n",
       "      <td>4806</td>\n",
       "      <td>3.0</td>\n",
       "      <td>2.0</td>\n",
       "      <td>5.0</td>\n",
       "      <td>5.0</td>\n",
       "      <td>6.0</td>\n",
       "      <td>6.0</td>\n",
       "      <td>2.0</td>\n",
       "      <td>6.0</td>\n",
       "      <td>...</td>\n",
       "      <td>0.23877</td>\n",
       "      <td>0.171021</td>\n",
       "      <td>0.167847</td>\n",
       "      <td>0.175293</td>\n",
       "      <td>0.174316</td>\n",
       "      <td>0.172729</td>\n",
       "      <td>0.164062</td>\n",
       "      <td>0.210449</td>\n",
       "      <td>0.312256</td>\n",
       "      <td>0.203979</td>\n",
       "    </tr>\n",
       "    <tr>\n",
       "      <th>11</th>\n",
       "      <td>5</td>\n",
       "      <td>4843</td>\n",
       "      <td>0.0</td>\n",
       "      <td>1.0</td>\n",
       "      <td>0.0</td>\n",
       "      <td>0.0</td>\n",
       "      <td>0.0</td>\n",
       "      <td>0.0</td>\n",
       "      <td>0.0</td>\n",
       "      <td>0.0</td>\n",
       "      <td>...</td>\n",
       "      <td>0.23877</td>\n",
       "      <td>0.171021</td>\n",
       "      <td>0.167847</td>\n",
       "      <td>0.175293</td>\n",
       "      <td>0.174316</td>\n",
       "      <td>0.172729</td>\n",
       "      <td>0.164062</td>\n",
       "      <td>0.210449</td>\n",
       "      <td>0.312256</td>\n",
       "      <td>0.203979</td>\n",
       "    </tr>\n",
       "    <tr>\n",
       "      <th>12</th>\n",
       "      <td>5</td>\n",
       "      <td>4607</td>\n",
       "      <td>0.0</td>\n",
       "      <td>0.0</td>\n",
       "      <td>0.0</td>\n",
       "      <td>0.0</td>\n",
       "      <td>0.0</td>\n",
       "      <td>0.0</td>\n",
       "      <td>0.0</td>\n",
       "      <td>0.0</td>\n",
       "      <td>...</td>\n",
       "      <td>0.23877</td>\n",
       "      <td>0.171021</td>\n",
       "      <td>0.167847</td>\n",
       "      <td>0.175293</td>\n",
       "      <td>0.174316</td>\n",
       "      <td>0.172729</td>\n",
       "      <td>0.164062</td>\n",
       "      <td>0.210449</td>\n",
       "      <td>0.312256</td>\n",
       "      <td>0.203979</td>\n",
       "    </tr>\n",
       "    <tr>\n",
       "      <th>13</th>\n",
       "      <td>5</td>\n",
       "      <td>4869</td>\n",
       "      <td>0.0</td>\n",
       "      <td>0.0</td>\n",
       "      <td>1.0</td>\n",
       "      <td>1.0</td>\n",
       "      <td>3.0</td>\n",
       "      <td>0.0</td>\n",
       "      <td>0.0</td>\n",
       "      <td>1.0</td>\n",
       "      <td>...</td>\n",
       "      <td>0.23877</td>\n",
       "      <td>0.171021</td>\n",
       "      <td>0.167847</td>\n",
       "      <td>0.175293</td>\n",
       "      <td>0.174316</td>\n",
       "      <td>0.172729</td>\n",
       "      <td>0.164062</td>\n",
       "      <td>0.210449</td>\n",
       "      <td>0.312256</td>\n",
       "      <td>0.203979</td>\n",
       "    </tr>\n",
       "    <tr>\n",
       "      <th>14</th>\n",
       "      <td>5</td>\n",
       "      <td>4870</td>\n",
       "      <td>2.0</td>\n",
       "      <td>2.0</td>\n",
       "      <td>3.0</td>\n",
       "      <td>4.0</td>\n",
       "      <td>1.0</td>\n",
       "      <td>1.0</td>\n",
       "      <td>1.0</td>\n",
       "      <td>3.0</td>\n",
       "      <td>...</td>\n",
       "      <td>0.23877</td>\n",
       "      <td>0.171021</td>\n",
       "      <td>0.167847</td>\n",
       "      <td>0.175293</td>\n",
       "      <td>0.174316</td>\n",
       "      <td>0.172729</td>\n",
       "      <td>0.164062</td>\n",
       "      <td>0.210449</td>\n",
       "      <td>0.312256</td>\n",
       "      <td>0.203979</td>\n",
       "    </tr>\n",
       "    <tr>\n",
       "      <th>15</th>\n",
       "      <td>5</td>\n",
       "      <td>4872</td>\n",
       "      <td>6.0</td>\n",
       "      <td>1.0</td>\n",
       "      <td>2.0</td>\n",
       "      <td>1.0</td>\n",
       "      <td>1.0</td>\n",
       "      <td>6.0</td>\n",
       "      <td>1.0</td>\n",
       "      <td>7.0</td>\n",
       "      <td>...</td>\n",
       "      <td>0.23877</td>\n",
       "      <td>0.171021</td>\n",
       "      <td>0.167847</td>\n",
       "      <td>0.175293</td>\n",
       "      <td>0.174316</td>\n",
       "      <td>0.172729</td>\n",
       "      <td>0.164062</td>\n",
       "      <td>0.210449</td>\n",
       "      <td>0.312256</td>\n",
       "      <td>0.203979</td>\n",
       "    </tr>\n",
       "    <tr>\n",
       "      <th>16</th>\n",
       "      <td>5</td>\n",
       "      <td>4874</td>\n",
       "      <td>0.0</td>\n",
       "      <td>0.0</td>\n",
       "      <td>0.0</td>\n",
       "      <td>0.0</td>\n",
       "      <td>0.0</td>\n",
       "      <td>0.0</td>\n",
       "      <td>0.0</td>\n",
       "      <td>0.0</td>\n",
       "      <td>...</td>\n",
       "      <td>0.23877</td>\n",
       "      <td>0.171021</td>\n",
       "      <td>0.167847</td>\n",
       "      <td>0.175293</td>\n",
       "      <td>0.174316</td>\n",
       "      <td>0.172729</td>\n",
       "      <td>0.164062</td>\n",
       "      <td>0.210449</td>\n",
       "      <td>0.312256</td>\n",
       "      <td>0.203979</td>\n",
       "    </tr>\n",
       "    <tr>\n",
       "      <th>17</th>\n",
       "      <td>5</td>\n",
       "      <td>4678</td>\n",
       "      <td>0.0</td>\n",
       "      <td>0.0</td>\n",
       "      <td>0.0</td>\n",
       "      <td>0.0</td>\n",
       "      <td>1.0</td>\n",
       "      <td>0.0</td>\n",
       "      <td>0.0</td>\n",
       "      <td>0.0</td>\n",
       "      <td>...</td>\n",
       "      <td>0.23877</td>\n",
       "      <td>0.171021</td>\n",
       "      <td>0.167847</td>\n",
       "      <td>0.175293</td>\n",
       "      <td>0.174316</td>\n",
       "      <td>0.172729</td>\n",
       "      <td>0.164062</td>\n",
       "      <td>0.210449</td>\n",
       "      <td>0.312256</td>\n",
       "      <td>0.203979</td>\n",
       "    </tr>\n",
       "    <tr>\n",
       "      <th>18</th>\n",
       "      <td>5</td>\n",
       "      <td>4892</td>\n",
       "      <td>2.0</td>\n",
       "      <td>2.0</td>\n",
       "      <td>2.0</td>\n",
       "      <td>2.0</td>\n",
       "      <td>3.0</td>\n",
       "      <td>5.0</td>\n",
       "      <td>9.0</td>\n",
       "      <td>0.0</td>\n",
       "      <td>...</td>\n",
       "      <td>0.23877</td>\n",
       "      <td>0.171021</td>\n",
       "      <td>0.167847</td>\n",
       "      <td>0.175293</td>\n",
       "      <td>0.174316</td>\n",
       "      <td>0.172729</td>\n",
       "      <td>0.164062</td>\n",
       "      <td>0.210449</td>\n",
       "      <td>0.312256</td>\n",
       "      <td>0.203979</td>\n",
       "    </tr>\n",
       "    <tr>\n",
       "      <th>19</th>\n",
       "      <td>5</td>\n",
       "      <td>4964</td>\n",
       "      <td>0.0</td>\n",
       "      <td>0.0</td>\n",
       "      <td>0.0</td>\n",
       "      <td>0.0</td>\n",
       "      <td>0.0</td>\n",
       "      <td>0.0</td>\n",
       "      <td>0.0</td>\n",
       "      <td>0.0</td>\n",
       "      <td>...</td>\n",
       "      <td>0.23877</td>\n",
       "      <td>0.171021</td>\n",
       "      <td>0.167847</td>\n",
       "      <td>0.175293</td>\n",
       "      <td>0.174316</td>\n",
       "      <td>0.172729</td>\n",
       "      <td>0.164062</td>\n",
       "      <td>0.210449</td>\n",
       "      <td>0.312256</td>\n",
       "      <td>0.203979</td>\n",
       "    </tr>\n",
       "  </tbody>\n",
       "</table>\n",
       "<p>20 rows × 68 columns</p>\n",
       "</div>"
      ],
      "text/plain": [
       "    shop_id  item_id   r1   r2   r3   r4   r5   r6   r7   r8    ...     \\\n",
       "0         5     5037  0.0  1.0  3.0  1.0  1.0  1.0  0.0  0.0    ...      \n",
       "1         5     5320  0.0  0.0  0.0  0.0  0.0  0.0  0.0  0.0    ...      \n",
       "2         5     5233  1.0  3.0  1.0  0.0  2.0  3.0  0.0  0.0    ...      \n",
       "3         5     5232  0.0  0.0  1.0  0.0  0.0  0.0  0.0  0.0    ...      \n",
       "4         5     5268  0.0  0.0  0.0  0.0  0.0  0.0  0.0  0.0    ...      \n",
       "5         5     5039  1.0  1.0  0.0  0.0  0.0  3.0  0.0  0.0    ...      \n",
       "6         5     5041  2.0  3.0  0.0  0.0  0.0  0.0  0.0  0.0    ...      \n",
       "7         5     5046  0.0  0.0  0.0  0.0  1.0  0.0  0.0  1.0    ...      \n",
       "8         5     5319  0.0  3.0  2.0  3.0  4.0  2.0  2.0  3.0    ...      \n",
       "9         5     5003  0.0  0.0  0.0  0.0  0.0  0.0  0.0  0.0    ...      \n",
       "10        5     4806  3.0  2.0  5.0  5.0  6.0  6.0  2.0  6.0    ...      \n",
       "11        5     4843  0.0  1.0  0.0  0.0  0.0  0.0  0.0  0.0    ...      \n",
       "12        5     4607  0.0  0.0  0.0  0.0  0.0  0.0  0.0  0.0    ...      \n",
       "13        5     4869  0.0  0.0  1.0  1.0  3.0  0.0  0.0  1.0    ...      \n",
       "14        5     4870  2.0  2.0  3.0  4.0  1.0  1.0  1.0  3.0    ...      \n",
       "15        5     4872  6.0  1.0  2.0  1.0  1.0  6.0  1.0  7.0    ...      \n",
       "16        5     4874  0.0  0.0  0.0  0.0  0.0  0.0  0.0  0.0    ...      \n",
       "17        5     4678  0.0  0.0  0.0  0.0  1.0  0.0  0.0  0.0    ...      \n",
       "18        5     4892  2.0  2.0  2.0  2.0  3.0  5.0  9.0  0.0    ...      \n",
       "19        5     4964  0.0  0.0  0.0  0.0  0.0  0.0  0.0  0.0    ...      \n",
       "\n",
       "         s3        s4        s5        s6        s7        s8        s9  \\\n",
       "0   0.23877  0.171021  0.167847  0.175293  0.174316  0.172729  0.164062   \n",
       "1   0.23877  0.171021  0.167847  0.175293  0.174316  0.172729  0.164062   \n",
       "2   0.23877  0.171021  0.167847  0.175293  0.174316  0.172729  0.164062   \n",
       "3   0.23877  0.171021  0.167847  0.175293  0.174316  0.172729  0.164062   \n",
       "4   0.23877  0.171021  0.167847  0.175293  0.174316  0.172729  0.164062   \n",
       "5   0.23877  0.171021  0.167847  0.175293  0.174316  0.172729  0.164062   \n",
       "6   0.23877  0.171021  0.167847  0.175293  0.174316  0.172729  0.164062   \n",
       "7   0.23877  0.171021  0.167847  0.175293  0.174316  0.172729  0.164062   \n",
       "8   0.23877  0.171021  0.167847  0.175293  0.174316  0.172729  0.164062   \n",
       "9   0.23877  0.171021  0.167847  0.175293  0.174316  0.172729  0.164062   \n",
       "10  0.23877  0.171021  0.167847  0.175293  0.174316  0.172729  0.164062   \n",
       "11  0.23877  0.171021  0.167847  0.175293  0.174316  0.172729  0.164062   \n",
       "12  0.23877  0.171021  0.167847  0.175293  0.174316  0.172729  0.164062   \n",
       "13  0.23877  0.171021  0.167847  0.175293  0.174316  0.172729  0.164062   \n",
       "14  0.23877  0.171021  0.167847  0.175293  0.174316  0.172729  0.164062   \n",
       "15  0.23877  0.171021  0.167847  0.175293  0.174316  0.172729  0.164062   \n",
       "16  0.23877  0.171021  0.167847  0.175293  0.174316  0.172729  0.164062   \n",
       "17  0.23877  0.171021  0.167847  0.175293  0.174316  0.172729  0.164062   \n",
       "18  0.23877  0.171021  0.167847  0.175293  0.174316  0.172729  0.164062   \n",
       "19  0.23877  0.171021  0.167847  0.175293  0.174316  0.172729  0.164062   \n",
       "\n",
       "         s10       s11       s12  \n",
       "0   0.210449  0.312256  0.203979  \n",
       "1   0.210449  0.312256  0.203979  \n",
       "2   0.210449  0.312256  0.203979  \n",
       "3   0.210449  0.312256  0.203979  \n",
       "4   0.210449  0.312256  0.203979  \n",
       "5   0.210449  0.312256  0.203979  \n",
       "6   0.210449  0.312256  0.203979  \n",
       "7   0.210449  0.312256  0.203979  \n",
       "8   0.210449  0.312256  0.203979  \n",
       "9   0.210449  0.312256  0.203979  \n",
       "10  0.210449  0.312256  0.203979  \n",
       "11  0.210449  0.312256  0.203979  \n",
       "12  0.210449  0.312256  0.203979  \n",
       "13  0.210449  0.312256  0.203979  \n",
       "14  0.210449  0.312256  0.203979  \n",
       "15  0.210449  0.312256  0.203979  \n",
       "16  0.210449  0.312256  0.203979  \n",
       "17  0.210449  0.312256  0.203979  \n",
       "18  0.210449  0.312256  0.203979  \n",
       "19  0.210449  0.312256  0.203979  \n",
       "\n",
       "[20 rows x 68 columns]"
      ]
     },
     "execution_count": 67,
     "metadata": {},
     "output_type": "execute_result"
    }
   ],
   "source": [
    "tdf = _extract(sales_detail_df, 35, is_test=True)\n",
    "cols = ['item_id','shop_id', 'r1', 'r2', 'r3', 'r4',  'r5', 'r6','r7', 'r8',  'r9', 'r10',  'r11',  'r12', 'date_block_num']\n",
    "dataset_predict_df = pd.DataFrame(columns=cols, data=tdf.values)\n",
    "dataset_predict_df = dataset_predict_df.drop_duplicates(['item_id','shop_id'])\n",
    "\n",
    "dataset_predict_df = pd.merge(test_df, dataset_predict_df, on=['item_id', 'shop_id'], how='left')\n",
    "dataset_predict_df['date_block_num'] = 34\n",
    "dataset_predict_df = dataset_predict_df.fillna(0)\n",
    "\n",
    "dataset_predict_df = pd.merge(dataset_predict_df, item_df, on=['item_id'], how='left')\n",
    "dataset_predict_df = pd.merge(dataset_predict_df, shop_df, on=['shop_id'], how='left')\n",
    "dataset_predict_df = pd.merge(dataset_predict_df, category_df, on=['item_category_id'], how='left')\n",
    "\n",
    "dataset_predict_df['month'] = dataset_predict_df['date_block_num'].apply(lambda x: (x % 12) + 1)\n",
    "\n",
    "sc_df = _agg(dataset_predict_df, ['shop_id', 'item_category_id'], 'sc')\n",
    "i_df = _agg(dataset_predict_df, ['item_id'], 'i')\n",
    "it_df = _agg(dataset_predict_df, ['item_category_id'], 'it')\n",
    "s_df = _agg(dataset_predict_df, ['shop_id'], 's')\n",
    "\n",
    "dataset_predict_df = pd.merge(dataset_predict_df, sc_df, on=['shop_id', 'item_category_id'], how='left')\n",
    "dataset_predict_df = pd.merge(dataset_predict_df, i_df, on=['item_id'], how='left')\n",
    "dataset_predict_df = pd.merge(dataset_predict_df, it_df, on=['item_category_id'], how='left')\n",
    "dataset_predict_df = pd.merge(dataset_predict_df, s_df, on=['shop_id'], how='left')\n",
    "\n",
    "dataset_predict_df = dataset_predict_df.drop(['city', 'type', 'subtype', 'item_name', 'shop_name', 'item_category_name'], axis=1)\n",
    "dataset_predict_df = _transfer_type(dataset_predict_df, ['item_category_id', 'city_code', 'type_code', 'subtype_code', 'month'], np.int16)\n",
    "dataset_predict_df.head(20)"
   ]
  },
  {
   "cell_type": "code",
   "execution_count": 68,
   "metadata": {
    "_uuid": "e9d5d11d4a3d87819448a844839a37f766ef9eb1"
   },
   "outputs": [],
   "source": [
    "predict_dmatrix = xgb.DMatrix(dataset_predict_df[features])\n",
    "pred = model.predict(predict_dmatrix)"
   ]
  },
  {
   "cell_type": "code",
   "execution_count": 69,
   "metadata": {
    "_uuid": "7afaa698bcec5750f3befe49f07fa2d5ee91ea82"
   },
   "outputs": [],
   "source": [
    "submission = pd.DataFrame({\n",
    "    \"ID\": test_df.index, \n",
    "    \"item_cnt_month\": pred.clip(0, 20)\n",
    "})\n",
    "\n",
    "submission.to_csv('submission.csv', index=False)"
   ]
  },
  {
   "cell_type": "markdown",
   "metadata": {
    "_uuid": "6786437b9b6495ede03bc8ed225841e50eb97dba"
   },
   "source": [
    "# Reference"
   ]
  },
  {
   "cell_type": "markdown",
   "metadata": {
    "_uuid": "4fdc88f22eb81473466dc9b26d17111a6c42abff"
   },
   "source": [
    "## Normal ML Analysis\n",
    "\n",
    "+ [Feature engineering, xgboost](https://www.kaggle.com/dlarionov/feature-engineering-xgboost)\n",
    "+ [Predicting sales using Lightgbm](https://www.kaggle.com/sanket30/predicting-sales-using-lightgbm)"
   ]
  },
  {
   "cell_type": "markdown",
   "metadata": {
    "_uuid": "4f568ef2dcc7b0ae94635b93e5ac6d6a8d7dee39"
   },
   "source": [
    "## Time Series\n",
    "\n",
    "对于revenge的预测很有帮助，但是对于单个店的单个商品而言没有实际的意义，这种预测方式的学习非常有益处\n",
    "\n",
    "+ [AR(I)MA时间序列建模过程——步骤和python代码](https://www.jianshu.com/p/cced6617b423)\n",
    "+ [python时间序列分析](http://www.cnblogs.com/foley/p/5582358.html)\n",
    "+ [AR、MA及ARMA模型](https://zhuanlan.zhihu.com/p/22248464)\n",
    "+ [Time Series with Python (ODSC) STA.ipynb](https://github.com/ultimatist/ODSC17/blob/master/Time%20Series%20with%20Python%20(ODSC)%20STA.ipynb)\n",
    "+ [Getting Started with Time Series](https://pyflux.readthedocs.io/en/latest/getting_started.html)\n",
    "+ [Welcome to Statsmodels’s Documentation](http://www.statsmodels.org/devel/index.html)"
   ]
  }
 ],
 "metadata": {
  "kernelspec": {
   "display_name": "Python 3",
   "language": "python",
   "name": "python3"
  },
  "language_info": {
   "codemirror_mode": {
    "name": "ipython",
    "version": 3
   },
   "file_extension": ".py",
   "mimetype": "text/x-python",
   "name": "python",
   "nbconvert_exporter": "python",
   "pygments_lexer": "ipython3",
   "version": "3.7.1"
  }
 },
 "nbformat": 4,
 "nbformat_minor": 2
}
