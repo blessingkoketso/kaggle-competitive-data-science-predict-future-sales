{
 "cells": [
  {
   "cell_type": "code",
   "execution_count": 1,
   "metadata": {},
   "outputs": [],
   "source": [
    "import numpy as np\n",
    "import pandas as pd\n",
    "import seaborn as sns\n",
    "import matplotlib.pyplot as plt\n",
    "from scipy import stats\n",
    "import logging\n",
    "import datetime\n",
    "\n",
    "from sklearn.preprocessing import OneHotEncoder,MinMaxScaler, Normalizer, LabelEncoder\n",
    "from sklearn.feature_selection import SelectKBest,chi2,SelectFromModel\n",
    "from xgboost import XGBClassifier, XGBRegressor\n",
    "from sklearn.pipeline import Pipeline, FeatureUnion\n",
    "from sklearn.base import BaseEstimator, TransformerMixin\n",
    "from sklearn.model_selection import GridSearchCV\n",
    "from sklearn.impute import SimpleImputer\n",
    "from xgboost import plot_importance\n",
    "from mlxtend.preprocessing import DenseTransformer\n",
    "from mlxtend.feature_selection import ColumnSelector\n",
    "from itertools import product\n",
    "\n",
    "sns.set(color_codes=True)"
   ]
  },
  {
   "cell_type": "markdown",
   "metadata": {},
   "source": [
    "# Features Engineering"
   ]
  },
  {
   "cell_type": "markdown",
   "metadata": {},
   "source": [
    "## outliers"
   ]
  },
  {
   "cell_type": "code",
   "execution_count": 2,
   "metadata": {},
   "outputs": [],
   "source": [
    "dateparse = lambda x: pd.datetime.strptime(x, '%d.%m.%Y')\n",
    "sales_df = pd.read_csv('../input/sales_train.csv', parse_dates = ['date'], date_parser=dateparse)"
   ]
  },
  {
   "cell_type": "code",
   "execution_count": 3,
   "metadata": {},
   "outputs": [],
   "source": [
    "item_df = pd.read_csv('../input/items.csv')\n",
    "shop_df = pd.read_csv('../input/shops.csv')\n",
    "category_df = pd.read_csv('../input/item_categories.csv')"
   ]
  },
  {
   "cell_type": "code",
   "execution_count": 4,
   "metadata": {},
   "outputs": [],
   "source": [
    "test_df = pd.read_csv('../input/test.csv').set_index('ID')"
   ]
  },
  {
   "cell_type": "markdown",
   "metadata": {},
   "source": [
    "做类型整理，方便后面进行使用，使得pandas的dataframe所占用的内存变小"
   ]
  },
  {
   "cell_type": "code",
   "execution_count": 5,
   "metadata": {},
   "outputs": [],
   "source": [
    "sales_df['date_block_num'] = sales_df['date_block_num'].astype('int8')\n",
    "sales_df['shop_id'] = sales_df['shop_id'].astype('int16')\n",
    "sales_df['item_id'] = sales_df['item_id'].astype('int16')\n",
    "sales_df['item_price'] = sales_df['item_price'].astype('float32')\n",
    "sales_df['item_cnt_day'] = sales_df['item_cnt_day'].astype('int16')"
   ]
  },
  {
   "cell_type": "code",
   "execution_count": 6,
   "metadata": {},
   "outputs": [],
   "source": [
    "item_df['item_id'] = item_df['item_id'].astype('int16')\n",
    "item_df['item_name'] = item_df['item_name'].astype('str')\n",
    "item_df['item_category_id'] = item_df['item_category_id'].astype('int16')"
   ]
  },
  {
   "cell_type": "code",
   "execution_count": 7,
   "metadata": {},
   "outputs": [],
   "source": [
    "shop_df['shop_name'] = shop_df['shop_name'].astype('str')\n",
    "shop_df['shop_id'] = shop_df['shop_id'].astype('int16')"
   ]
  },
  {
   "cell_type": "code",
   "execution_count": 8,
   "metadata": {},
   "outputs": [],
   "source": [
    "category_df['item_category_name'] = category_df['item_category_name'].astype('str')\n",
    "category_df['item_category_id'] = category_df['item_category_id'].astype('int16')"
   ]
  },
  {
   "cell_type": "markdown",
   "metadata": {},
   "source": [
    "### Clear the data out of range"
   ]
  },
  {
   "cell_type": "code",
   "execution_count": 9,
   "metadata": {},
   "outputs": [],
   "source": [
    "sales_df = sales_df[sales_df.item_price<100000]\n",
    "sales_df = sales_df[sales_df.item_cnt_day<1000]"
   ]
  },
  {
   "cell_type": "markdown",
   "metadata": {},
   "source": [
    "### Correct the negative item price"
   ]
  },
  {
   "cell_type": "code",
   "execution_count": 10,
   "metadata": {},
   "outputs": [
    {
     "data": {
      "text/html": [
       "<div>\n",
       "<style scoped>\n",
       "    .dataframe tbody tr th:only-of-type {\n",
       "        vertical-align: middle;\n",
       "    }\n",
       "\n",
       "    .dataframe tbody tr th {\n",
       "        vertical-align: top;\n",
       "    }\n",
       "\n",
       "    .dataframe thead th {\n",
       "        text-align: right;\n",
       "    }\n",
       "</style>\n",
       "<table border=\"1\" class=\"dataframe\">\n",
       "  <thead>\n",
       "    <tr style=\"text-align: right;\">\n",
       "      <th></th>\n",
       "      <th>date</th>\n",
       "      <th>date_block_num</th>\n",
       "      <th>shop_id</th>\n",
       "      <th>item_id</th>\n",
       "      <th>item_price</th>\n",
       "      <th>item_cnt_day</th>\n",
       "    </tr>\n",
       "  </thead>\n",
       "  <tbody>\n",
       "    <tr>\n",
       "      <th>484683</th>\n",
       "      <td>2013-05-15</td>\n",
       "      <td>4</td>\n",
       "      <td>32</td>\n",
       "      <td>2973</td>\n",
       "      <td>-1.0</td>\n",
       "      <td>1</td>\n",
       "    </tr>\n",
       "  </tbody>\n",
       "</table>\n",
       "</div>"
      ],
      "text/plain": [
       "             date  date_block_num  shop_id  item_id  item_price  item_cnt_day\n",
       "484683 2013-05-15               4       32     2973        -1.0             1"
      ]
     },
     "execution_count": 10,
     "metadata": {},
     "output_type": "execute_result"
    }
   ],
   "source": [
    "sales_df[sales_df.item_price < 0]"
   ]
  },
  {
   "cell_type": "code",
   "execution_count": 11,
   "metadata": {},
   "outputs": [],
   "source": [
    "sales_df.at[484683, 'item_price'] = sales_df[(sales_df.item_id == 2973) & (sales_df.item_price > 0)].item_price.mean()"
   ]
  },
  {
   "cell_type": "markdown",
   "metadata": {},
   "source": [
    "### Adjust duplicates by shop name\n",
    "\n",
    "According to the reference, some shops are duplicates. This feature found is based on the language background."
   ]
  },
  {
   "cell_type": "code",
   "execution_count": 12,
   "metadata": {},
   "outputs": [
    {
     "data": {
      "text/html": [
       "<div>\n",
       "<style scoped>\n",
       "    .dataframe tbody tr th:only-of-type {\n",
       "        vertical-align: middle;\n",
       "    }\n",
       "\n",
       "    .dataframe tbody tr th {\n",
       "        vertical-align: top;\n",
       "    }\n",
       "\n",
       "    .dataframe thead th {\n",
       "        text-align: right;\n",
       "    }\n",
       "</style>\n",
       "<table border=\"1\" class=\"dataframe\">\n",
       "  <thead>\n",
       "    <tr style=\"text-align: right;\">\n",
       "      <th></th>\n",
       "      <th>shop_name</th>\n",
       "      <th>shop_id</th>\n",
       "    </tr>\n",
       "  </thead>\n",
       "  <tbody>\n",
       "    <tr>\n",
       "      <th>0</th>\n",
       "      <td>!Якутск Орджоникидзе, 56 фран</td>\n",
       "      <td>0</td>\n",
       "    </tr>\n",
       "  </tbody>\n",
       "</table>\n",
       "</div>"
      ],
      "text/plain": [
       "                       shop_name  shop_id\n",
       "0  !Якутск Орджоникидзе, 56 фран        0"
      ]
     },
     "execution_count": 12,
     "metadata": {},
     "output_type": "execute_result"
    }
   ],
   "source": [
    "shop_df[shop_df.shop_id == 0]"
   ]
  },
  {
   "cell_type": "code",
   "execution_count": 13,
   "metadata": {},
   "outputs": [
    {
     "data": {
      "text/html": [
       "<div>\n",
       "<style scoped>\n",
       "    .dataframe tbody tr th:only-of-type {\n",
       "        vertical-align: middle;\n",
       "    }\n",
       "\n",
       "    .dataframe tbody tr th {\n",
       "        vertical-align: top;\n",
       "    }\n",
       "\n",
       "    .dataframe thead th {\n",
       "        text-align: right;\n",
       "    }\n",
       "</style>\n",
       "<table border=\"1\" class=\"dataframe\">\n",
       "  <thead>\n",
       "    <tr style=\"text-align: right;\">\n",
       "      <th></th>\n",
       "      <th>shop_name</th>\n",
       "      <th>shop_id</th>\n",
       "    </tr>\n",
       "  </thead>\n",
       "  <tbody>\n",
       "    <tr>\n",
       "      <th>57</th>\n",
       "      <td>Якутск Орджоникидзе, 56</td>\n",
       "      <td>57</td>\n",
       "    </tr>\n",
       "  </tbody>\n",
       "</table>\n",
       "</div>"
      ],
      "text/plain": [
       "                  shop_name  shop_id\n",
       "57  Якутск Орджоникидзе, 56       57"
      ]
     },
     "execution_count": 13,
     "metadata": {},
     "output_type": "execute_result"
    }
   ],
   "source": [
    "shop_df[shop_df.shop_id == 57]"
   ]
  },
  {
   "cell_type": "markdown",
   "metadata": {},
   "source": [
    "The shop_id 0 and 57 are the same shop. And other pairs are 1 and 58, 10 and 11."
   ]
  },
  {
   "cell_type": "code",
   "execution_count": 14,
   "metadata": {},
   "outputs": [],
   "source": [
    "# Якутск Орджоникидзе, 56\n",
    "sales_df.at[sales_df.shop_id == 0, 'shop_id'] = 57\n",
    "# Якутск ТЦ \"Центральный\"\n",
    "sales_df.at[sales_df.shop_id == 1, 'shop_id'] = 58\n",
    "# Жуковский ул. Чкалова 39м²\n",
    "sales_df.at[sales_df.shop_id == 10, 'shop_id'] = 11"
   ]
  },
  {
   "cell_type": "markdown",
   "metadata": {},
   "source": [
    "## Extract Basic Features"
   ]
  },
  {
   "cell_type": "code",
   "execution_count": 15,
   "metadata": {},
   "outputs": [],
   "source": [
    "def _rename(prefix):\n",
    "    cols = ['2013-01', '2013-02', '2013-03', '2013-04','2013-05','2013-06','2013-07','2013-08','2013-09','2013-10','2013-11','2013-12','2014-01','2014-02','2014-03','2014-04','2014-05','2014-06','2014-07','2014-08','2014-09','2014-10','2014-11','2014-12','2015-01','2015-02','2015-03','2015-04','2015-05','2015-06','2015-07','2015-08', '2015-09','2015-10']\n",
    "    \n",
    "    result = {}\n",
    "    for i in range(1, len(cols) + 1, 1):\n",
    "        result[cols[i-1]] = prefix + str(i)\n",
    "    \n",
    "    return result"
   ]
  },
  {
   "cell_type": "markdown",
   "metadata": {},
   "source": [
    "+ **Feature 'r' series**: Sales record"
   ]
  },
  {
   "cell_type": "code",
   "execution_count": 16,
   "metadata": {},
   "outputs": [],
   "source": [
    "t = sales_df.groupby([sales_df.date.apply(lambda x: x.strftime('%Y-%m')),'item_id','shop_id']).agg({'item_cnt_day': 'sum'}).reset_index()\n",
    "\n",
    "t = t[['date','item_id','shop_id','item_cnt_day']]\n",
    "t = t.pivot_table(index=['item_id','shop_id'], columns='date',values='item_cnt_day',fill_value=0).reset_index()\n",
    "t = t.rename(index=str, columns=_rename('r'))"
   ]
  },
  {
   "cell_type": "code",
   "execution_count": 18,
   "metadata": {},
   "outputs": [
    {
     "data": {
      "text/plain": [
       "28"
      ]
     },
     "execution_count": 18,
     "metadata": {},
     "output_type": "execute_result"
    }
   ],
   "source": [
    "import gc\n",
    "\n",
    "sales_record_df = t.copy()\n",
    "\n",
    "del t\n",
    "gc.collect()"
   ]
  },
  {
   "cell_type": "code",
   "execution_count": 19,
   "metadata": {},
   "outputs": [
    {
     "data": {
      "text/html": [
       "<div>\n",
       "<style scoped>\n",
       "    .dataframe tbody tr th:only-of-type {\n",
       "        vertical-align: middle;\n",
       "    }\n",
       "\n",
       "    .dataframe tbody tr th {\n",
       "        vertical-align: top;\n",
       "    }\n",
       "\n",
       "    .dataframe thead th {\n",
       "        text-align: right;\n",
       "    }\n",
       "</style>\n",
       "<table border=\"1\" class=\"dataframe\">\n",
       "  <thead>\n",
       "    <tr style=\"text-align: right;\">\n",
       "      <th>date</th>\n",
       "      <th>item_id</th>\n",
       "      <th>shop_id</th>\n",
       "      <th>r1</th>\n",
       "      <th>r2</th>\n",
       "      <th>r3</th>\n",
       "      <th>r4</th>\n",
       "      <th>r5</th>\n",
       "      <th>r6</th>\n",
       "      <th>r7</th>\n",
       "      <th>r8</th>\n",
       "      <th>...</th>\n",
       "      <th>r25</th>\n",
       "      <th>r26</th>\n",
       "      <th>r27</th>\n",
       "      <th>r28</th>\n",
       "      <th>r29</th>\n",
       "      <th>r30</th>\n",
       "      <th>r31</th>\n",
       "      <th>r32</th>\n",
       "      <th>r33</th>\n",
       "      <th>r34</th>\n",
       "    </tr>\n",
       "  </thead>\n",
       "  <tbody>\n",
       "    <tr>\n",
       "      <th>2</th>\n",
       "      <td>2</td>\n",
       "      <td>54</td>\n",
       "      <td>0</td>\n",
       "      <td>0</td>\n",
       "      <td>0</td>\n",
       "      <td>0</td>\n",
       "      <td>0</td>\n",
       "      <td>0</td>\n",
       "      <td>0</td>\n",
       "      <td>0</td>\n",
       "      <td>...</td>\n",
       "      <td>0</td>\n",
       "      <td>0</td>\n",
       "      <td>0</td>\n",
       "      <td>0</td>\n",
       "      <td>0</td>\n",
       "      <td>0</td>\n",
       "      <td>0</td>\n",
       "      <td>0</td>\n",
       "      <td>0</td>\n",
       "      <td>0</td>\n",
       "    </tr>\n",
       "  </tbody>\n",
       "</table>\n",
       "<p>1 rows × 36 columns</p>\n",
       "</div>"
      ],
      "text/plain": [
       "date  item_id  shop_id  r1  r2  r3  r4  r5  r6  r7  r8 ...   r25  r26  r27  \\\n",
       "2           2       54   0   0   0   0   0   0   0   0 ...     0    0    0   \n",
       "\n",
       "date  r28  r29  r30  r31  r32  r33  r34  \n",
       "2       0    0    0    0    0    0    0  \n",
       "\n",
       "[1 rows x 36 columns]"
      ]
     },
     "execution_count": 19,
     "metadata": {},
     "output_type": "execute_result"
    }
   ],
   "source": [
    "sales_record_df[(sales_record_df.shop_id == 54) & (sales_record_df.item_id == 2)].head(20)"
   ]
  },
  {
   "cell_type": "code",
   "execution_count": 21,
   "metadata": {},
   "outputs": [],
   "source": [
    "for key in sales_record_df.columns.values:\n",
    "    sales_record_df[key] = sales_record_df[key].astype('int16')"
   ]
  },
  {
   "cell_type": "code",
   "execution_count": 25,
   "metadata": {},
   "outputs": [
    {
     "data": {
      "text/plain": [
       "(418908, 36)"
      ]
     },
     "execution_count": 25,
     "metadata": {},
     "output_type": "execute_result"
    }
   ],
   "source": [
    "sales_record_df.shape"
   ]
  },
  {
   "cell_type": "markdown",
   "metadata": {},
   "source": [
    "+ **Feature 'city'**: Each shop_name starts with the city name."
   ]
  },
  {
   "cell_type": "code",
   "execution_count": 26,
   "metadata": {},
   "outputs": [],
   "source": [
    "shop_df.loc[shop_df.shop_name == 'Сергиев Посад ТЦ \"7Я\"', 'shop_name'] = 'СергиевПосад ТЦ \"7Я\"'\n",
    "shop_df['shop_name'] = shop_df['shop_name'].astype(str)\n",
    "shop_df['city'] = shop_df['shop_name'].str.split(' ').map(lambda x: x[0])\n",
    "shop_df.loc[shop_df.city == '!Якутск', 'city'] = 'Якутск'\n",
    "\n",
    "encoder = LabelEncoder()\n",
    "encoder.fit(shop_df['city'])\n",
    "shop_df['city_code'] = encoder.transform(shop_df['city'])"
   ]
  },
  {
   "cell_type": "markdown",
   "metadata": {},
   "source": [
    "+ **Feature 'type'**: Each category contains type and subtype in its name.\n",
    "+ **Feature 'subtype'**: Each category contains type and subtype in its name."
   ]
  },
  {
   "cell_type": "code",
   "execution_count": 27,
   "metadata": {},
   "outputs": [],
   "source": [
    "category_df['item_category_name'] = category_df['item_category_name'].astype(str)\n",
    "category_df['type'] = category_df['item_category_name'].map(lambda x: x.split('-')[0].strip())\n",
    "\n",
    "encoder = LabelEncoder()\n",
    "encoder.fit(category_df['type'])\n",
    "category_df['type_code'] = encoder.transform(category_df['type'])"
   ]
  },
  {
   "cell_type": "code",
   "execution_count": 28,
   "metadata": {},
   "outputs": [],
   "source": [
    "category_df['subtype'] = category_df['item_category_name'].map(lambda x: x.split('-')[1].strip() if len(x.split('-')) > 1 else x.split('-')[0].strip())\n",
    "\n",
    "encoder = LabelEncoder()\n",
    "encoder.fit(category_df['subtype'])\n",
    "category_df['subtype_code'] = encoder.transform(category_df['subtype'])"
   ]
  },
  {
   "cell_type": "markdown",
   "metadata": {},
   "source": [
    "## Merge Data into one entity"
   ]
  },
  {
   "cell_type": "code",
   "execution_count": 29,
   "metadata": {},
   "outputs": [],
   "source": [
    "sales_record_df = pd.merge(sales_record_df, item_df, on=['item_id'], how='left')\n",
    "sales_record_df = pd.merge(sales_record_df, shop_df, on=['shop_id'], how='left')\n",
    "sales_record_df = pd.merge(sales_record_df, category_df, on=['item_category_id'], how='left')"
   ]
  },
  {
   "cell_type": "code",
   "execution_count": 30,
   "metadata": {},
   "outputs": [
    {
     "data": {
      "text/html": [
       "<div>\n",
       "<style scoped>\n",
       "    .dataframe tbody tr th:only-of-type {\n",
       "        vertical-align: middle;\n",
       "    }\n",
       "\n",
       "    .dataframe tbody tr th {\n",
       "        vertical-align: top;\n",
       "    }\n",
       "\n",
       "    .dataframe thead th {\n",
       "        text-align: right;\n",
       "    }\n",
       "</style>\n",
       "<table border=\"1\" class=\"dataframe\">\n",
       "  <thead>\n",
       "    <tr style=\"text-align: right;\">\n",
       "      <th></th>\n",
       "      <th>item_id</th>\n",
       "      <th>shop_id</th>\n",
       "      <th>r1</th>\n",
       "      <th>r2</th>\n",
       "      <th>r3</th>\n",
       "      <th>r4</th>\n",
       "      <th>r5</th>\n",
       "      <th>r6</th>\n",
       "      <th>r7</th>\n",
       "      <th>r8</th>\n",
       "      <th>...</th>\n",
       "      <th>item_name</th>\n",
       "      <th>item_category_id</th>\n",
       "      <th>shop_name</th>\n",
       "      <th>city</th>\n",
       "      <th>city_code</th>\n",
       "      <th>item_category_name</th>\n",
       "      <th>type</th>\n",
       "      <th>type_code</th>\n",
       "      <th>subtype</th>\n",
       "      <th>subtype_code</th>\n",
       "    </tr>\n",
       "  </thead>\n",
       "  <tbody>\n",
       "    <tr>\n",
       "      <th>0</th>\n",
       "      <td>0</td>\n",
       "      <td>54</td>\n",
       "      <td>0</td>\n",
       "      <td>0</td>\n",
       "      <td>0</td>\n",
       "      <td>0</td>\n",
       "      <td>0</td>\n",
       "      <td>0</td>\n",
       "      <td>0</td>\n",
       "      <td>0</td>\n",
       "      <td>...</td>\n",
       "      <td>! ВО ВЛАСТИ НАВАЖДЕНИЯ (ПЛАСТ.)         D</td>\n",
       "      <td>40</td>\n",
       "      <td>Химки ТЦ \"Мега\"</td>\n",
       "      <td>Химки</td>\n",
       "      <td>26</td>\n",
       "      <td>Кино - DVD</td>\n",
       "      <td>Кино</td>\n",
       "      <td>11</td>\n",
       "      <td>DVD</td>\n",
       "      <td>4</td>\n",
       "    </tr>\n",
       "    <tr>\n",
       "      <th>1</th>\n",
       "      <td>1</td>\n",
       "      <td>55</td>\n",
       "      <td>0</td>\n",
       "      <td>0</td>\n",
       "      <td>0</td>\n",
       "      <td>0</td>\n",
       "      <td>0</td>\n",
       "      <td>0</td>\n",
       "      <td>0</td>\n",
       "      <td>0</td>\n",
       "      <td>...</td>\n",
       "      <td>!ABBYY FineReader 12 Professional Edition Full...</td>\n",
       "      <td>76</td>\n",
       "      <td>Цифровой склад 1С-Онлайн</td>\n",
       "      <td>Цифровой</td>\n",
       "      <td>27</td>\n",
       "      <td>Программы - Для дома и офиса (Цифра)</td>\n",
       "      <td>Программы</td>\n",
       "      <td>15</td>\n",
       "      <td>Для дома и офиса (Цифра)</td>\n",
       "      <td>31</td>\n",
       "    </tr>\n",
       "    <tr>\n",
       "      <th>2</th>\n",
       "      <td>2</td>\n",
       "      <td>54</td>\n",
       "      <td>0</td>\n",
       "      <td>0</td>\n",
       "      <td>0</td>\n",
       "      <td>0</td>\n",
       "      <td>0</td>\n",
       "      <td>0</td>\n",
       "      <td>0</td>\n",
       "      <td>0</td>\n",
       "      <td>...</td>\n",
       "      <td>***В ЛУЧАХ СЛАВЫ   (UNV)                    D</td>\n",
       "      <td>40</td>\n",
       "      <td>Химки ТЦ \"Мега\"</td>\n",
       "      <td>Химки</td>\n",
       "      <td>26</td>\n",
       "      <td>Кино - DVD</td>\n",
       "      <td>Кино</td>\n",
       "      <td>11</td>\n",
       "      <td>DVD</td>\n",
       "      <td>4</td>\n",
       "    </tr>\n",
       "    <tr>\n",
       "      <th>3</th>\n",
       "      <td>3</td>\n",
       "      <td>54</td>\n",
       "      <td>0</td>\n",
       "      <td>0</td>\n",
       "      <td>0</td>\n",
       "      <td>0</td>\n",
       "      <td>0</td>\n",
       "      <td>0</td>\n",
       "      <td>0</td>\n",
       "      <td>0</td>\n",
       "      <td>...</td>\n",
       "      <td>***ГОЛУБАЯ ВОЛНА  (Univ)                      D</td>\n",
       "      <td>40</td>\n",
       "      <td>Химки ТЦ \"Мега\"</td>\n",
       "      <td>Химки</td>\n",
       "      <td>26</td>\n",
       "      <td>Кино - DVD</td>\n",
       "      <td>Кино</td>\n",
       "      <td>11</td>\n",
       "      <td>DVD</td>\n",
       "      <td>4</td>\n",
       "    </tr>\n",
       "    <tr>\n",
       "      <th>4</th>\n",
       "      <td>4</td>\n",
       "      <td>54</td>\n",
       "      <td>0</td>\n",
       "      <td>0</td>\n",
       "      <td>0</td>\n",
       "      <td>0</td>\n",
       "      <td>0</td>\n",
       "      <td>0</td>\n",
       "      <td>0</td>\n",
       "      <td>0</td>\n",
       "      <td>...</td>\n",
       "      <td>***КОРОБКА (СТЕКЛО)                       D</td>\n",
       "      <td>40</td>\n",
       "      <td>Химки ТЦ \"Мега\"</td>\n",
       "      <td>Химки</td>\n",
       "      <td>26</td>\n",
       "      <td>Кино - DVD</td>\n",
       "      <td>Кино</td>\n",
       "      <td>11</td>\n",
       "      <td>DVD</td>\n",
       "      <td>4</td>\n",
       "    </tr>\n",
       "  </tbody>\n",
       "</table>\n",
       "<p>5 rows × 46 columns</p>\n",
       "</div>"
      ],
      "text/plain": [
       "   item_id  shop_id  r1  r2  r3  r4  r5  r6  r7  r8      ...       \\\n",
       "0        0       54   0   0   0   0   0   0   0   0      ...        \n",
       "1        1       55   0   0   0   0   0   0   0   0      ...        \n",
       "2        2       54   0   0   0   0   0   0   0   0      ...        \n",
       "3        3       54   0   0   0   0   0   0   0   0      ...        \n",
       "4        4       54   0   0   0   0   0   0   0   0      ...        \n",
       "\n",
       "                                           item_name  item_category_id  \\\n",
       "0          ! ВО ВЛАСТИ НАВАЖДЕНИЯ (ПЛАСТ.)         D                40   \n",
       "1  !ABBYY FineReader 12 Professional Edition Full...                76   \n",
       "2      ***В ЛУЧАХ СЛАВЫ   (UNV)                    D                40   \n",
       "3    ***ГОЛУБАЯ ВОЛНА  (Univ)                      D                40   \n",
       "4        ***КОРОБКА (СТЕКЛО)                       D                40   \n",
       "\n",
       "                  shop_name      city  city_code  \\\n",
       "0           Химки ТЦ \"Мега\"     Химки         26   \n",
       "1  Цифровой склад 1С-Онлайн  Цифровой         27   \n",
       "2           Химки ТЦ \"Мега\"     Химки         26   \n",
       "3           Химки ТЦ \"Мега\"     Химки         26   \n",
       "4           Химки ТЦ \"Мега\"     Химки         26   \n",
       "\n",
       "                     item_category_name       type  type_code  \\\n",
       "0                            Кино - DVD       Кино         11   \n",
       "1  Программы - Для дома и офиса (Цифра)  Программы         15   \n",
       "2                            Кино - DVD       Кино         11   \n",
       "3                            Кино - DVD       Кино         11   \n",
       "4                            Кино - DVD       Кино         11   \n",
       "\n",
       "                    subtype  subtype_code  \n",
       "0                       DVD             4  \n",
       "1  Для дома и офиса (Цифра)            31  \n",
       "2                       DVD             4  \n",
       "3                       DVD             4  \n",
       "4                       DVD             4  \n",
       "\n",
       "[5 rows x 46 columns]"
      ]
     },
     "execution_count": 30,
     "metadata": {},
     "output_type": "execute_result"
    }
   ],
   "source": [
    "sales_record_df.head()"
   ]
  },
  {
   "cell_type": "code",
   "execution_count": 31,
   "metadata": {},
   "outputs": [],
   "source": [
    "sales_record_df = sales_record_df.drop(['city', 'type', 'subtype', 'item_name', 'shop_name', 'item_category_name'], axis=1)"
   ]
  },
  {
   "cell_type": "code",
   "execution_count": 32,
   "metadata": {},
   "outputs": [],
   "source": [
    "sales_record_df['item_category_id'] = sales_record_df['item_category_id'].astype('int16')\n",
    "sales_record_df['city_code'] = sales_record_df['city_code'].astype('int16')\n",
    "sales_record_df['type_code'] = sales_record_df['type_code'].astype('int16')\n",
    "sales_record_df['subtype_code'] = sales_record_df['subtype_code'].astype('int16')"
   ]
  },
  {
   "cell_type": "markdown",
   "metadata": {},
   "source": [
    "## Extract Aggragated Features"
   ]
  },
  {
   "cell_type": "code",
   "execution_count": 34,
   "metadata": {},
   "outputs": [],
   "source": [
    "for i in range(1, 35, 1):\n",
    "    t = sales_record_df.groupby(['item_category_id', 'shop_id'])['r'+str(i)].mean().astype('float32').reset_index(name='si'+str(i))\n",
    "    sales_record_df = pd.merge(sales_record_df, t, on=['item_category_id', 'shop_id'], how='left')"
   ]
  },
  {
   "cell_type": "code",
   "execution_count": 36,
   "metadata": {},
   "outputs": [],
   "source": [
    "for i in range(1, 35, 1):\n",
    "    t = sales_record_df.groupby(['item_id'])['r'+str(i)].mean().astype('float32').reset_index(name='i'+str(i))\n",
    "    sales_record_df = pd.merge(sales_record_df, t, on=['item_id'], how='left')"
   ]
  },
  {
   "cell_type": "code",
   "execution_count": 38,
   "metadata": {},
   "outputs": [],
   "source": [
    "for i in range(1, 35, 1):\n",
    "    t = sales_record_df.groupby(['shop_id'])['r'+str(i)].mean().astype('float32').reset_index(name='s'+str(i))\n",
    "    sales_record_df = pd.merge(sales_record_df, t, on=['shop_id'], how='left')"
   ]
  },
  {
   "cell_type": "code",
   "execution_count": 41,
   "metadata": {},
   "outputs": [],
   "source": [
    "for i in range(1, 35, 1):\n",
    "    t = sales_record_df.groupby(['item_category_id'])['r'+str(i)].mean().astype('float32').reset_index(name='ic'+str(i))\n",
    "    sales_record_df = pd.merge(sales_record_df, t, on=['item_category_id'], how='left')"
   ]
  },
  {
   "cell_type": "code",
   "execution_count": 42,
   "metadata": {},
   "outputs": [
    {
     "name": "stdout",
     "output_type": "stream",
     "text": [
      "<class 'pandas.core.frame.DataFrame'>\n",
      "Int64Index: 418908 entries, 0 to 418907\n",
      "Columns: 176 entries, item_id to ic34\n",
      "dtypes: float32(136), int16(40)\n",
      "memory usage: 252.5 MB\n"
     ]
    }
   ],
   "source": [
    "sales_record_df.info()"
   ]
  },
  {
   "cell_type": "code",
   "execution_count": 43,
   "metadata": {},
   "outputs": [
    {
     "data": {
      "text/plain": [
       "array(['item_id', 'shop_id', 'r1', 'r2', 'r3', 'r4', 'r5', 'r6', 'r7',\n",
       "       'r8', 'r9', 'r10', 'r11', 'r12', 'r13', 'r14', 'r15', 'r16', 'r17',\n",
       "       'r18', 'r19', 'r20', 'r21', 'r22', 'r23', 'r24', 'r25', 'r26',\n",
       "       'r27', 'r28', 'r29', 'r30', 'r31', 'r32', 'r33', 'r34',\n",
       "       'item_category_id', 'city_code', 'type_code', 'subtype_code',\n",
       "       'si1', 'si2', 'si3', 'si4', 'si5', 'si6', 'si7', 'si8', 'si9',\n",
       "       'si10', 'si11', 'si12', 'si13', 'si14', 'si15', 'si16', 'si17',\n",
       "       'si18', 'si19', 'si20', 'si21', 'si22', 'si23', 'si24', 'si25',\n",
       "       'si26', 'si27', 'si28', 'si29', 'si30', 'si31', 'si32', 'si33',\n",
       "       'si34', 'i1', 'i2', 'i3', 'i4', 'i5', 'i6', 'i7', 'i8', 'i9',\n",
       "       'i10', 'i11', 'i12', 'i13', 'i14', 'i15', 'i16', 'i17', 'i18',\n",
       "       'i19', 'i20', 'i21', 'i22', 'i23', 'i24', 'i25', 'i26', 'i27',\n",
       "       'i28', 'i29', 'i30', 'i31', 'i32', 'i33', 'i34', 's1', 's2', 's3',\n",
       "       's4', 's5', 's6', 's7', 's8', 's9', 's10', 's11', 's12', 's13',\n",
       "       's14', 's15', 's16', 's17', 's18', 's19', 's20', 's21', 's22',\n",
       "       's23', 's24', 's25', 's26', 's27', 's28', 's29', 's30', 's31',\n",
       "       's32', 's33', 's34', 'ic1', 'ic2', 'ic3', 'ic4', 'ic5', 'ic6',\n",
       "       'ic7', 'ic8', 'ic9', 'ic10', 'ic11', 'ic12', 'ic13', 'ic14',\n",
       "       'ic15', 'ic16', 'ic17', 'ic18', 'ic19', 'ic20', 'ic21', 'ic22',\n",
       "       'ic23', 'ic24', 'ic25', 'ic26', 'ic27', 'ic28', 'ic29', 'ic30',\n",
       "       'ic31', 'ic32', 'ic33', 'ic34'], dtype=object)"
      ]
     },
     "execution_count": 43,
     "metadata": {},
     "output_type": "execute_result"
    }
   ],
   "source": [
    "sales_record_df.columns.values"
   ]
  },
  {
   "cell_type": "code",
   "execution_count": 46,
   "metadata": {},
   "outputs": [],
   "source": [
    "sales_record_df = sales_record_df.rename(index=str, columns={'r34': 'label'})\n",
    "sales_record_df = sales_record_df.drop(['si34', 'i34', 's34', 'ic34'], axis=1)"
   ]
  },
  {
   "cell_type": "code",
   "execution_count": 47,
   "metadata": {},
   "outputs": [],
   "source": [
    "sales_record_df.to_csv('../features/train.csv', index=False)"
   ]
  },
  {
   "cell_type": "markdown",
   "metadata": {},
   "source": [
    "## Feature Selection"
   ]
  },
  {
   "cell_type": "code",
   "execution_count": 40,
   "metadata": {},
   "outputs": [],
   "source": [
    "dataset = sales_record_df.copy()"
   ]
  },
  {
   "cell_type": "code",
   "execution_count": 61,
   "metadata": {},
   "outputs": [],
   "source": [
    "dataset_alpha = sales_record_df.copy()\n",
    "dataset_beta = sales_record_df.copy()"
   ]
  },
  {
   "cell_type": "code",
   "execution_count": 62,
   "metadata": {},
   "outputs": [],
   "source": [
    "arr = []\n",
    "for i in range(0, 33, 1):\n",
    "    arr.append('r' + str(i))\n",
    "\n",
    "rnames = dict(zip(dataset_beta.columns.values[2:36], arr))\n",
    "dataset_beta = dataset_beta.rename(index=str, columns=rnames)\n",
    "dataset_beta = dataset_beta.rename(index=str, columns={'r34': 'item_cnt_month'})"
   ]
  },
  {
   "cell_type": "code",
   "execution_count": 63,
   "metadata": {},
   "outputs": [],
   "source": [
    "arr = []\n",
    "for i in range(0, 33, 1):\n",
    "    arr.append('p' + str(i))\n",
    "\n",
    "rnames = dict(zip(dataset_beta.columns.values[36:70], arr))\n",
    "dataset_beta = dataset_beta.rename(index=str, columns=rnames)"
   ]
  },
  {
   "cell_type": "code",
   "execution_count": 64,
   "metadata": {},
   "outputs": [],
   "source": [
    "dataset_alpha = dataset_alpha.rename(index=str, columns={'r33': 'item_cnt_month'})"
   ]
  },
  {
   "cell_type": "code",
   "execution_count": 66,
   "metadata": {},
   "outputs": [
    {
     "data": {
      "text/plain": [
       "array(['item_id', 'shop_id', 'r1', 'r2', 'r3', 'r4', 'r5', 'r6', 'r7',\n",
       "       'r8', 'r9', 'r10', 'r11', 'r12', 'r13', 'r14', 'r15', 'r16', 'r17',\n",
       "       'r18', 'r19', 'r20', 'r21', 'r22', 'r23', 'r24', 'r25', 'r26',\n",
       "       'r27', 'r28', 'r29', 'r30', 'r31', 'r32', 'item_cnt_month', 'r34',\n",
       "       'p1', 'p2', 'p3', 'p4', 'p5', 'p6', 'p7', 'p8', 'p9', 'p10', 'p11',\n",
       "       'p12', 'p13', 'p14', 'p15', 'p16', 'p17', 'p18', 'p19', 'p20',\n",
       "       'p21', 'p22', 'p23', 'p24', 'p25', 'p26', 'p27', 'p28', 'p29',\n",
       "       'p30', 'p31', 'p32', 'p33', 'p34', 'item_category_id', 'city_code',\n",
       "       'type_code', 'subtype_code'], dtype=object)"
      ]
     },
     "execution_count": 66,
     "metadata": {},
     "output_type": "execute_result"
    }
   ],
   "source": [
    "dataset_alpha.columns.values"
   ]
  },
  {
   "cell_type": "code",
   "execution_count": 137,
   "metadata": {},
   "outputs": [
    {
     "data": {
      "text/plain": [
       "38"
      ]
     },
     "execution_count": 137,
     "metadata": {},
     "output_type": "execute_result"
    }
   ],
   "source": [
    "continuous = [\n",
    "    'item_id', 'shop_id', \n",
    "    \n",
    "    'r1', 'r2', 'r3', 'r4', 'r5', 'r6',\n",
    "    'r7', 'r8', 'r9', 'r10', 'r11', 'r12', 'r13', 'r14', 'r15', 'r16',\n",
    "    'r17', 'r18', 'r19', 'r20', 'r21', 'r22', 'r23', 'r24', 'r25',\n",
    "    'r26', 'r27', 'r28', 'r29', 'r30', 'r31', 'r32',\n",
    "    \n",
    "#     'p1', 'p2', 'p3', 'p4', 'p5', 'p6', 'p7', 'p8', 'p9', 'p10', 'p11',\n",
    "#     'p12', 'p13', 'p14', 'p15', 'p16', 'p17', 'p18', 'p19', 'p20',\n",
    "#     'p21', 'p22', 'p23', 'p24', 'p25', 'p26', 'p27', 'p28', 'p29',\n",
    "#     'p30', 'p31', 'p32', \n",
    "    \n",
    "    'item_category_id', 'city_code',\n",
    "    'type_code', 'subtype_code'\n",
    "]\n",
    "\n",
    "fields = [\n",
    "    \n",
    "]\n",
    "\n",
    "label = ['item_cnt_month']\n",
    "\n",
    "len(continuous)"
   ]
  },
  {
   "cell_type": "code",
   "execution_count": 138,
   "metadata": {},
   "outputs": [],
   "source": [
    "features_pipeline = Pipeline([\n",
    "    ('features', FeatureUnion([\n",
    "        ('continuous', Pipeline([\n",
    "            ('extract', ColumnSelector(continuous)),\n",
    "            ('imputer', SimpleImputer(missing_values=np.nan, strategy='most_frequent')),\n",
    "            ('normalize', Normalizer())\n",
    "        ])),\n",
    "    ])),\n",
    "])\n",
    "\n",
    "features_pipeline.fit(dataset_beta, dataset_beta[label].values.ravel())\n",
    "\n",
    "train_dataset_x = features_pipeline.transform(dataset_beta)\n",
    "train_dataset_y = dataset_beta[label].values.ravel()\n",
    "\n",
    "valid_dataset_x = features_pipeline.transform(dataset_alpha)\n",
    "valid_dataset_y = dataset_alpha[label].values.ravel()"
   ]
  },
  {
   "cell_type": "code",
   "execution_count": 139,
   "metadata": {},
   "outputs": [
    {
     "data": {
      "text/plain": [
       "XGBRegressor(base_score=0.5, booster='gbtree', colsample_bylevel=1,\n",
       "       colsample_bytree=1, gamma=0, learning_rate=0.1, max_delta_step=0,\n",
       "       max_depth=10, min_child_weight=1, missing=None, n_estimators=50,\n",
       "       n_jobs=1, nthread=None, objective='reg:linear', random_state=0,\n",
       "       reg_alpha=0, reg_lambda=1, scale_pos_weight=1, seed=None,\n",
       "       silent=True, subsample=1)"
      ]
     },
     "execution_count": 139,
     "metadata": {},
     "output_type": "execute_result"
    }
   ],
   "source": [
    "selector_model = XGBRegressor(max_depth=10, n_estimators=50, random_state=0)\n",
    "selector_model.fit(train_dataset_x, train_dataset_y)"
   ]
  },
  {
   "cell_type": "code",
   "execution_count": 140,
   "metadata": {},
   "outputs": [],
   "source": [
    "thresh = 0.0\n",
    "selection = SelectFromModel(selector_model, threshold=thresh, prefit=True)\n",
    "\n",
    "train_dataset_x = selection.transform(train_dataset_x)\n",
    "valid_dataset_x = selection.transform(valid_dataset_x)"
   ]
  },
  {
   "cell_type": "code",
   "execution_count": 141,
   "metadata": {},
   "outputs": [
    {
     "data": {
      "text/plain": [
       "array([0.13970008, 0.08940231, 0.01112148, 0.00660113, 0.00760565,\n",
       "       0.01104972, 0.00638588, 0.00308531, 0.00459209, 0.00530961,\n",
       "       0.0047356 , 0.00624238, 0.00660113, 0.00574012, 0.00638588,\n",
       "       0.00538136, 0.00459209, 0.00574012, 0.00609887, 0.00581187,\n",
       "       0.00566836, 0.01140848, 0.0271938 , 0.01406328, 0.02138193,\n",
       "       0.01384803, 0.01922939, 0.02511301, 0.03465595, 0.02532826,\n",
       "       0.03386668, 0.04305087, 0.04757121, 0.08459496, 0.0718232 ,\n",
       "       0.03817177, 0.05847744, 0.08237067], dtype=float32)"
      ]
     },
     "execution_count": 141,
     "metadata": {},
     "output_type": "execute_result"
    }
   ],
   "source": [
    "selector_model.feature_importances_"
   ]
  },
  {
   "cell_type": "code",
   "execution_count": 142,
   "metadata": {},
   "outputs": [
    {
     "data": {
      "text/plain": [
       "<matplotlib.axes._subplots.AxesSubplot at 0x166401710>"
      ]
     },
     "execution_count": 142,
     "metadata": {},
     "output_type": "execute_result"
    },
    {
     "data": {
      "image/png": "[encoded data removed]",
      "text/plain": [
       "<Figure size 720x1008 with 1 Axes>"
      ]
     },
     "metadata": {
      "needs_background": "light"
     },
     "output_type": "display_data"
    }
   ],
   "source": [
    "def plot_features(booster, figsize):    \n",
    "    fig, ax = plt.subplots(1,1,figsize=figsize)\n",
    "    return plot_importance(booster=booster, ax=ax)\n",
    "\n",
    "plot_features(selector_model, (10,14))"
   ]
  },
  {
   "cell_type": "markdown",
   "metadata": {},
   "source": [
    "## Train"
   ]
  },
  {
   "cell_type": "code",
   "execution_count": null,
   "metadata": {},
   "outputs": [],
   "source": [
    "import xgboost as xgb\n",
    "\n",
    "params = {'max_depth':12, \n",
    "         'subsample':1,\n",
    "         'min_child_weight':0.5,\n",
    "         'eta':0.3, \n",
    "         'num_round':1000, \n",
    "         'seed':1,\n",
    "         'silent':0,\n",
    "         'eval_metric':'rmse'}\n",
    "\n",
    "train_dmatrix = xgb.DMatrix(train_dataset_x, label=train_dataset_y)\n",
    "valid_dmatrix = xgb.DMatrix(valid_dataset_x, label=valid_dataset_y)\n",
    "\n",
    "# # 使用xgb.cv优化num_boost_round参数\n",
    "cvresult = xgb.cv(params, xgb_dmatrix, num_boost_round=10000, seed=2019, callbacks=[\n",
    "    xgb.callback.print_evaluation(show_stdv=False),\n",
    "    xgb.callback.early_stop(30)\n",
    "])\n",
    "num_round_best = cvresult.shape[0] - 1\n",
    "print('Best round num: ', num_round_best)"
   ]
  },
  {
   "cell_type": "code",
   "execution_count": 153,
   "metadata": {},
   "outputs": [
    {
     "name": "stdout",
     "output_type": "stream",
     "text": [
      "[15:41:53] src/tree/updater_prune.cc:74: tree pruning end, 1 roots, 984 extra nodes, 0 pruned nodes, max_depth=12\n",
      "[15:41:56] src/tree/updater_prune.cc:74: tree pruning end, 1 roots, 962 extra nodes, 0 pruned nodes, max_depth=12\n",
      "[15:41:59] src/tree/updater_prune.cc:74: tree pruning end, 1 roots, 984 extra nodes, 0 pruned nodes, max_depth=12\n",
      "[15:42:02] src/tree/updater_prune.cc:74: tree pruning end, 1 roots, 1004 extra nodes, 0 pruned nodes, max_depth=12\n",
      "[15:42:05] src/tree/updater_prune.cc:74: tree pruning end, 1 roots, 974 extra nodes, 0 pruned nodes, max_depth=12\n",
      "[15:42:08] src/tree/updater_prune.cc:74: tree pruning end, 1 roots, 954 extra nodes, 0 pruned nodes, max_depth=12\n",
      "[15:42:11] src/tree/updater_prune.cc:74: tree pruning end, 1 roots, 846 extra nodes, 0 pruned nodes, max_depth=12\n",
      "[15:42:14] src/tree/updater_prune.cc:74: tree pruning end, 1 roots, 852 extra nodes, 0 pruned nodes, max_depth=12\n",
      "[15:42:17] src/tree/updater_prune.cc:74: tree pruning end, 1 roots, 782 extra nodes, 0 pruned nodes, max_depth=12\n",
      "[15:42:19] src/tree/updater_prune.cc:74: tree pruning end, 1 roots, 806 extra nodes, 0 pruned nodes, max_depth=12\n",
      "[15:42:22] src/tree/updater_prune.cc:74: tree pruning end, 1 roots, 744 extra nodes, 0 pruned nodes, max_depth=12\n",
      "[15:42:25] src/tree/updater_prune.cc:74: tree pruning end, 1 roots, 800 extra nodes, 0 pruned nodes, max_depth=12\n"
     ]
    }
   ],
   "source": [
    "# watchlist = [(train_dmatrix, 'train'), (valid_dmatrix, 'validate')] \n",
    "# model = xgb.train(params, train_dmatrix, evals=watchlist, early_stopping_rounds=10, num_boost_round=num_round_best)\n",
    "\n",
    "xgb_dmatrix = xgb.DMatrix(train_dataset_x + valid_dataset_x, label=train_dataset_y + valid_dataset_y)\n",
    "model = xgb.train(params, xgb_dmatrix, num_boost_round=num_round_best)"
   ]
  },
  {
   "cell_type": "code",
   "execution_count": 154,
   "metadata": {},
   "outputs": [
    {
     "data": {
      "text/plain": [
       "4.700167210627865"
      ]
     },
     "execution_count": 154,
     "metadata": {},
     "output_type": "execute_result"
    }
   ],
   "source": [
    "from sklearn.metrics import mean_squared_error\n",
    "from math import sqrt\n",
    "\n",
    "pred = model.predict(valid_dmatrix)\n",
    "sqrt(mean_squared_error(valid_dataset_y, pred))"
   ]
  },
  {
   "cell_type": "markdown",
   "metadata": {},
   "source": [
    "## Predict"
   ]
  },
  {
   "cell_type": "code",
   "execution_count": 146,
   "metadata": {},
   "outputs": [],
   "source": [
    "dataset = sales_record_df.copy()"
   ]
  },
  {
   "cell_type": "code",
   "execution_count": 147,
   "metadata": {},
   "outputs": [],
   "source": [
    "arr = []\n",
    "for i in range(-2, 32, 1):\n",
    "    arr.append('r' + str(i))\n",
    "\n",
    "rnames = dict(zip(dataset.columns.values[2:36], arr))\n",
    "dataset = dataset.rename(index=str, columns=rnames)"
   ]
  },
  {
   "cell_type": "code",
   "execution_count": 148,
   "metadata": {},
   "outputs": [],
   "source": [
    "arr = []\n",
    "for i in range(-2, 32, 1):\n",
    "    arr.append('p' + str(i))\n",
    "\n",
    "rnames = dict(zip(dataset.columns.values[36:70], arr))\n",
    "dataset = dataset.rename(index=str, columns=rnames)"
   ]
  },
  {
   "cell_type": "code",
   "execution_count": 149,
   "metadata": {},
   "outputs": [
    {
     "name": "stderr",
     "output_type": "stream",
     "text": [
      "/Users/leewind/.local/share/virtualenvs/leewind-p6XO93Th/lib/python3.7/site-packages/pandas/core/indexing.py:1472: FutureWarning: \n",
      "Passing list-likes to .loc or [] with any missing label will raise\n",
      "KeyError in the future, you can use .reindex() as an alternative.\n",
      "\n",
      "See the documentation here:\n",
      "https://pandas.pydata.org/pandas-docs/stable/indexing.html#deprecate-loc-reindex-listlike\n",
      "  return self._getitem_tuple(key)\n"
     ]
    }
   ],
   "source": [
    "dataset_predict = pd.merge(test_df, dataset, on=['item_id', 'shop_id'], how='left')\n",
    "\n",
    "predict_dataset_x = features_pipeline.transform(dataset_predict)\n",
    "predict_dataset_x = selection.transform(predict_dataset_x)\n",
    "\n",
    "predict_dmatrix = xgb.DMatrix(predict_dataset_x)\n",
    "\n",
    "pred = model.predict(predict_dmatrix)"
   ]
  },
  {
   "cell_type": "code",
   "execution_count": 150,
   "metadata": {},
   "outputs": [],
   "source": [
    "pred = list(map(lambda x: min(20,max(x,0)), list(pred)))\n",
    "\n",
    "submission = pd.DataFrame({\n",
    "    \"ID\": test_df.index, \n",
    "    \"item_cnt_month\": pred\n",
    "})\n",
    "\n",
    "submission.to_csv('submission.csv', index=False)"
   ]
  },
  {
   "cell_type": "markdown",
   "metadata": {},
   "source": [
    "# Reference"
   ]
  },
  {
   "cell_type": "markdown",
   "metadata": {},
   "source": [
    "## Normal ML Analysis\n",
    "\n",
    "+ [Feature engineering, xgboost](https://www.kaggle.com/dlarionov/feature-engineering-xgboost)\n",
    "+ [Predicting sales using Lightgbm](https://www.kaggle.com/sanket30/predicting-sales-using-lightgbm)"
   ]
  },
  {
   "cell_type": "markdown",
   "metadata": {},
   "source": [
    "## Time Series\n",
    "\n",
    "对于revenge的预测很有帮助，但是对于单个店的单个商品而言没有实际的意义，这种预测方式的学习非常有益处\n",
    "\n",
    "+ [AR(I)MA时间序列建模过程——步骤和python代码](https://www.jianshu.com/p/cced6617b423)\n",
    "+ [python时间序列分析](http://www.cnblogs.com/foley/p/5582358.html)\n",
    "+ [AR、MA及ARMA模型](https://zhuanlan.zhihu.com/p/22248464)\n",
    "+ [Time Series with Python (ODSC) STA.ipynb](https://github.com/ultimatist/ODSC17/blob/master/Time%20Series%20with%20Python%20(ODSC)%20STA.ipynb)\n",
    "+ [Getting Started with Time Series](https://pyflux.readthedocs.io/en/latest/getting_started.html)\n",
    "+ [Welcome to Statsmodels’s Documentation](http://www.statsmodels.org/devel/index.html)"
   ]
  }
 ],
 "metadata": {
  "kernelspec": {
   "display_name": "Python 3",
   "language": "python",
   "name": "python3"
  },
  "language_info": {
   "codemirror_mode": {
    "name": "ipython",
    "version": 3
   },
   "file_extension": ".py",
   "mimetype": "text/x-python",
   "name": "python",
   "nbconvert_exporter": "python",
   "pygments_lexer": "ipython3",
   "version": "3.7.1"
  }
 },
 "nbformat": 4,
 "nbformat_minor": 2
}
