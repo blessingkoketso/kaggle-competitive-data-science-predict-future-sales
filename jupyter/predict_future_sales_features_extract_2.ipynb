{
 "cells": [
  {
   "cell_type": "code",
   "execution_count": 1,
   "metadata": {},
   "outputs": [],
   "source": [
    "import numpy as np\n",
    "import pandas as pd\n",
    "import seaborn as sns\n",
    "import matplotlib.pyplot as plt\n",
    "from scipy import stats\n",
    "import logging\n",
    "import datetime\n",
    "\n",
    "from sklearn.preprocessing import StandardScaler\n",
    "from sklearn.decomposition import PCA\n",
    "from sklearn.linear_model import LogisticRegression, LinearRegression\n",
    "from sklearn.preprocessing import OneHotEncoder,MinMaxScaler, Normalizer, LabelEncoder\n",
    "from sklearn.feature_selection import SelectKBest,chi2,SelectFromModel\n",
    "from xgboost import XGBClassifier, XGBRegressor\n",
    "from sklearn.pipeline import Pipeline, FeatureUnion\n",
    "from sklearn.base import BaseEstimator, TransformerMixin\n",
    "from sklearn.model_selection import GridSearchCV\n",
    "from sklearn.impute import SimpleImputer\n",
    "from xgboost import plot_importance\n",
    "\n",
    "\n",
    "from mlxtend.preprocessing import DenseTransformer\n",
    "from mlxtend.feature_selection import ColumnSelector\n",
    "from ipypb import track, irange, ipb\n",
    "from scipy import stats\n",
    "from itertools import product\n",
    "\n",
    "sns.set(color_codes=True)"
   ]
  },
  {
   "cell_type": "code",
   "execution_count": 2,
   "metadata": {},
   "outputs": [],
   "source": [
    "logger = logging.getLogger('ai')\n",
    "logging.basicConfig(level=logging.DEBUG,\n",
    "                    format='%(asctime)s  %(filename)s : %(levelname)s  %(message)s')"
   ]
  },
  {
   "cell_type": "markdown",
   "metadata": {},
   "source": [
    "# Features Engineering"
   ]
  },
  {
   "cell_type": "markdown",
   "metadata": {},
   "source": [
    "## outliers"
   ]
  },
  {
   "cell_type": "code",
   "execution_count": 3,
   "metadata": {},
   "outputs": [],
   "source": [
    "'''\n",
    "dateparse = lambda x: pd.datetime.strptime(x, '%d.%m.%Y')\n",
    "sales_df = pd.read_csv('../input/sales_train.csv', parse_dates = ['date'], date_parser=dateparse)\n",
    "'''\n",
    "sales_df = pd.read_csv('../input/sales_train.csv')"
   ]
  },
  {
   "cell_type": "code",
   "execution_count": 4,
   "metadata": {},
   "outputs": [],
   "source": [
    "item_df = pd.read_csv('../input/items.csv')\n",
    "shop_df = pd.read_csv('../input/shops.csv')\n",
    "category_df = pd.read_csv('../input/item_categories.csv')"
   ]
  },
  {
   "cell_type": "code",
   "execution_count": 5,
   "metadata": {},
   "outputs": [
    {
     "data": {
      "text/plain": [
       "\"\\ntest_df = pd.read_csv('../input/test.csv').set_index('ID')\\n\""
      ]
     },
     "execution_count": 5,
     "metadata": {},
     "output_type": "execute_result"
    }
   ],
   "source": [
    "'''\n",
    "test_df = pd.read_csv('../input/test.csv').set_index('ID')\n",
    "'''"
   ]
  },
  {
   "cell_type": "markdown",
   "metadata": {},
   "source": [
    "### Clear the data out of range"
   ]
  },
  {
   "cell_type": "code",
   "execution_count": 6,
   "metadata": {},
   "outputs": [
    {
     "name": "stderr",
     "output_type": "stream",
     "text": [
      "2019-02-15 11:00:15,568  <ipython-input-6-ea685e07fb41> : INFO  item_price more than 100000 is 1\n",
      "2019-02-15 11:00:15,574  <ipython-input-6-ea685e07fb41> : INFO  item_cnt_day more than 1000 is 1\n"
     ]
    }
   ],
   "source": [
    "logger.info(\"item_price more than 100000 is %d\" % sales_df[sales_df.item_price > 100000].shape[0])\n",
    "logger.info(\"item_cnt_day more than 1000 is %d\" % sales_df[sales_df.item_cnt_day > 1000].shape[0])"
   ]
  },
  {
   "cell_type": "code",
   "execution_count": 7,
   "metadata": {},
   "outputs": [],
   "source": [
    "sales_df = sales_df[sales_df.item_price<100000]\n",
    "sales_df = sales_df[sales_df.item_cnt_day<1000]"
   ]
  },
  {
   "cell_type": "markdown",
   "metadata": {},
   "source": [
    "### Correct the negative item price"
   ]
  },
  {
   "cell_type": "code",
   "execution_count": 8,
   "metadata": {},
   "outputs": [
    {
     "data": {
      "text/html": [
       "<div>\n",
       "<style scoped>\n",
       "    .dataframe tbody tr th:only-of-type {\n",
       "        vertical-align: middle;\n",
       "    }\n",
       "\n",
       "    .dataframe tbody tr th {\n",
       "        vertical-align: top;\n",
       "    }\n",
       "\n",
       "    .dataframe thead th {\n",
       "        text-align: right;\n",
       "    }\n",
       "</style>\n",
       "<table border=\"1\" class=\"dataframe\">\n",
       "  <thead>\n",
       "    <tr style=\"text-align: right;\">\n",
       "      <th></th>\n",
       "      <th>date</th>\n",
       "      <th>date_block_num</th>\n",
       "      <th>shop_id</th>\n",
       "      <th>item_id</th>\n",
       "      <th>item_price</th>\n",
       "      <th>item_cnt_day</th>\n",
       "    </tr>\n",
       "  </thead>\n",
       "  <tbody>\n",
       "    <tr>\n",
       "      <th>484683</th>\n",
       "      <td>15.05.2013</td>\n",
       "      <td>4</td>\n",
       "      <td>32</td>\n",
       "      <td>2973</td>\n",
       "      <td>-1.0</td>\n",
       "      <td>1.0</td>\n",
       "    </tr>\n",
       "  </tbody>\n",
       "</table>\n",
       "</div>"
      ],
      "text/plain": [
       "              date  date_block_num  shop_id  item_id  item_price  item_cnt_day\n",
       "484683  15.05.2013               4       32     2973        -1.0           1.0"
      ]
     },
     "execution_count": 8,
     "metadata": {},
     "output_type": "execute_result"
    }
   ],
   "source": [
    "sales_df[sales_df.item_price < 0]"
   ]
  },
  {
   "cell_type": "code",
   "execution_count": 9,
   "metadata": {},
   "outputs": [],
   "source": [
    "sales_df.at[484683, 'item_price'] = sales_df[(sales_df.item_id == 2973) & (sales_df.item_price > 0)].item_price.mean()"
   ]
  },
  {
   "cell_type": "markdown",
   "metadata": {},
   "source": [
    "### Adjust duplicates by shop name\n",
    "\n",
    "According to the reference, some shops are duplicates. This feature found is based on the language background."
   ]
  },
  {
   "cell_type": "code",
   "execution_count": 10,
   "metadata": {},
   "outputs": [
    {
     "data": {
      "text/html": [
       "<div>\n",
       "<style scoped>\n",
       "    .dataframe tbody tr th:only-of-type {\n",
       "        vertical-align: middle;\n",
       "    }\n",
       "\n",
       "    .dataframe tbody tr th {\n",
       "        vertical-align: top;\n",
       "    }\n",
       "\n",
       "    .dataframe thead th {\n",
       "        text-align: right;\n",
       "    }\n",
       "</style>\n",
       "<table border=\"1\" class=\"dataframe\">\n",
       "  <thead>\n",
       "    <tr style=\"text-align: right;\">\n",
       "      <th></th>\n",
       "      <th>shop_name</th>\n",
       "      <th>shop_id</th>\n",
       "    </tr>\n",
       "  </thead>\n",
       "  <tbody>\n",
       "    <tr>\n",
       "      <th>0</th>\n",
       "      <td>!Якутск Орджоникидзе, 56 фран</td>\n",
       "      <td>0</td>\n",
       "    </tr>\n",
       "  </tbody>\n",
       "</table>\n",
       "</div>"
      ],
      "text/plain": [
       "                       shop_name  shop_id\n",
       "0  !Якутск Орджоникидзе, 56 фран        0"
      ]
     },
     "execution_count": 10,
     "metadata": {},
     "output_type": "execute_result"
    }
   ],
   "source": [
    "shop_df[shop_df.shop_id == 0]"
   ]
  },
  {
   "cell_type": "code",
   "execution_count": 11,
   "metadata": {},
   "outputs": [
    {
     "data": {
      "text/html": [
       "<div>\n",
       "<style scoped>\n",
       "    .dataframe tbody tr th:only-of-type {\n",
       "        vertical-align: middle;\n",
       "    }\n",
       "\n",
       "    .dataframe tbody tr th {\n",
       "        vertical-align: top;\n",
       "    }\n",
       "\n",
       "    .dataframe thead th {\n",
       "        text-align: right;\n",
       "    }\n",
       "</style>\n",
       "<table border=\"1\" class=\"dataframe\">\n",
       "  <thead>\n",
       "    <tr style=\"text-align: right;\">\n",
       "      <th></th>\n",
       "      <th>shop_name</th>\n",
       "      <th>shop_id</th>\n",
       "    </tr>\n",
       "  </thead>\n",
       "  <tbody>\n",
       "    <tr>\n",
       "      <th>57</th>\n",
       "      <td>Якутск Орджоникидзе, 56</td>\n",
       "      <td>57</td>\n",
       "    </tr>\n",
       "  </tbody>\n",
       "</table>\n",
       "</div>"
      ],
      "text/plain": [
       "                  shop_name  shop_id\n",
       "57  Якутск Орджоникидзе, 56       57"
      ]
     },
     "execution_count": 11,
     "metadata": {},
     "output_type": "execute_result"
    }
   ],
   "source": [
    "shop_df[shop_df.shop_id == 57]"
   ]
  },
  {
   "cell_type": "markdown",
   "metadata": {},
   "source": [
    "The shop_id 0 and 57 are the same shop. And other pairs are 1 and 58, 10 and 11."
   ]
  },
  {
   "cell_type": "code",
   "execution_count": 12,
   "metadata": {},
   "outputs": [],
   "source": [
    "# Якутск Орджоникидзе, 56\n",
    "sales_df.at[sales_df.shop_id == 0, 'shop_id'] = 57\n",
    "# Якутск ТЦ \"Центральный\"\n",
    "sales_df.at[sales_df.shop_id == 1, 'shop_id'] = 58\n",
    "# Жуковский ул. Чкалова 39м²\n",
    "sales_df.at[sales_df.shop_id == 10, 'shop_id'] = 11"
   ]
  },
  {
   "cell_type": "markdown",
   "metadata": {},
   "source": [
    "## Merge Data into one entity"
   ]
  },
  {
   "cell_type": "code",
   "execution_count": 14,
   "metadata": {},
   "outputs": [],
   "source": [
    "sales_detail_df = sales_df.groupby(['shop_id', 'item_id', 'date_block_num'])['item_cnt_day'].sum().reset_index(name='item_cnt_month')\n",
    "sales_price_df = sales_df.groupby(['shop_id', 'item_id', 'date_block_num'])['item_price'].mean().reset_index(name='item_avg_price')\n",
    "\n",
    "sales_detail_df = pd.merge(sales_detail_df, sales_price_df, on=['shop_id', 'item_id', 'date_block_num'], how='left')\n",
    "sales_detail_df = pd.merge(sales_detail_df, item_df, on=['item_id'], how='left')\n",
    "sales_detail_df = pd.merge(sales_detail_df, shop_df, on=['shop_id'], how='left')\n",
    "sales_detail_df = pd.merge(sales_detail_df, category_df, on=['item_category_id'], how='left')"
   ]
  },
  {
   "cell_type": "markdown",
   "metadata": {},
   "source": [
    "## Basic Features"
   ]
  },
  {
   "cell_type": "markdown",
   "metadata": {},
   "source": [
    "+ **Feature 'city'**: Each shop_name starts with the city name."
   ]
  },
  {
   "cell_type": "code",
   "execution_count": 15,
   "metadata": {},
   "outputs": [],
   "source": [
    "sales_detail_df.loc[sales_detail_df.shop_name == 'Сергиев Посад ТЦ \"7Я\"', 'shop_name'] = 'СергиевПосад ТЦ \"7Я\"'\n",
    "sales_detail_df['shop_name'] = sales_detail_df['shop_name'].astype(str)\n",
    "sales_detail_df['city'] = sales_detail_df['shop_name'].str.split(' ').map(lambda x: x[0])\n",
    "sales_detail_df.loc[sales_detail_df.city == '!Якутск', 'city'] = 'Якутск'\n",
    "\n",
    "encoder = LabelEncoder()\n",
    "encoder.fit(sales_detail_df['city'])\n",
    "sales_detail_df['city_code'] = encoder.transform(sales_detail_df['city'])"
   ]
  },
  {
   "cell_type": "markdown",
   "metadata": {},
   "source": [
    "+ **Feature 'type'**: Each category contains type and subtype in its name.\n",
    "+ **Feature 'subtype'**: Each category contains type and subtype in its name."
   ]
  },
  {
   "cell_type": "code",
   "execution_count": 16,
   "metadata": {},
   "outputs": [],
   "source": [
    "sales_detail_df['item_category_name'] = sales_detail_df['item_category_name'].astype(str)\n",
    "sales_detail_df['type'] = sales_detail_df['item_category_name'].map(lambda x: x.split('-')[0].strip())\n",
    "\n",
    "encoder = LabelEncoder()\n",
    "encoder.fit(sales_detail_df['type'])\n",
    "sales_detail_df['type_code'] = encoder.transform(sales_detail_df['type'])"
   ]
  },
  {
   "cell_type": "code",
   "execution_count": 17,
   "metadata": {},
   "outputs": [],
   "source": [
    "sales_detail_df['subtype'] = sales_detail_df['item_category_name'].map(lambda x: x.split('-')[1].strip() if len(x.split('-')) > 1 else x.split('-')[0].strip())\n",
    "\n",
    "encoder = LabelEncoder()\n",
    "encoder.fit(sales_detail_df['subtype'])\n",
    "sales_detail_df['subtype_code'] = encoder.transform(sales_detail_df['subtype'])"
   ]
  },
  {
   "cell_type": "code",
   "execution_count": 18,
   "metadata": {},
   "outputs": [],
   "source": [
    "sales_detail_df['month'] = sales_detail_df['date_block_num'].apply(lambda x: (x % 12) + 1)"
   ]
  },
  {
   "cell_type": "markdown",
   "metadata": {},
   "source": [
    "+ **Feature 'sic'**"
   ]
  },
  {
   "cell_type": "code",
   "execution_count": 19,
   "metadata": {},
   "outputs": [
    {
     "data": {
      "text/html": [
       "<div><span class=\"Text-label\" style=\"display:inline-block; overflow:hidden; white-space:nowrap; text-overflow:ellipsis; min-width:0; max-width:15ex; vertical-align:middle; text-align:right\"></span>\n",
       "<progress style=\"width:60ex\" max=\"12\" value=\"12\" class=\"Progress-main\"/></progress>\n",
       "<span class=\"Progress-label\"><strong>100%</strong></span>\n",
       "<span class=\"Iteration-label\">12/12</span>\n",
       "<span class=\"Time-label\">[00:21<00:02, 1.73s/it]</span></div>"
      ],
      "text/plain": [
       "\u001b[A\u001b[2K\r",
       " [████████████████████████████████████████████████████████████] 12/12 [00:21<00:02, 1.73s/it]"
      ]
     },
     "metadata": {},
     "output_type": "display_data"
    }
   ],
   "source": [
    "m = sales_detail_df.groupby(['shop_id', 'item_id', 'date_block_num'])['item_cnt_month'].mean().reset_index()\n",
    "for i in irange(1, 13, 1):\n",
    "    t = m.copy()\n",
    "    t['date_block_num'] = t['date_block_num'] + i\n",
    "    t = t[t.date_block_num < 34]\n",
    "    t = t.rename(index=str, columns={'item_cnt_month': 'sic'+str(i)})\n",
    "    sales_detail_df = pd.merge(sales_detail_df, t, on=['shop_id', 'item_id', 'date_block_num'], how='left')"
   ]
  },
  {
   "cell_type": "code",
   "execution_count": 20,
   "metadata": {},
   "outputs": [
    {
     "data": {
      "text/html": [
       "<div><span class=\"Text-label\" style=\"display:inline-block; overflow:hidden; white-space:nowrap; text-overflow:ellipsis; min-width:0; max-width:15ex; vertical-align:middle; text-align:right\"></span>\n",
       "<progress style=\"width:60ex\" max=\"33\" value=\"33\" class=\"Progress-main\"/></progress>\n",
       "<span class=\"Progress-label\"><strong>100%</strong></span>\n",
       "<span class=\"Iteration-label\">33/33</span>\n",
       "<span class=\"Time-label\">[00:12<00:01, 0.36s/it]</span></div>"
      ],
      "text/plain": [
       "\u001b[A\u001b[2K\r",
       " [████████████████████████████████████████████████████████████] 33/33 [00:12<00:01, 0.36s/it]"
      ]
     },
     "metadata": {},
     "output_type": "display_data"
    }
   ],
   "source": [
    "arr = []\n",
    "for i in irange(1, 34, 1):\n",
    "    t = sales_detail_df[sales_detail_df.date_block_num < i].groupby(['shop_id', 'item_id'])['item_cnt_month'].mean().reset_index(name='sic13')\n",
    "    t['date_block_num'] = i \n",
    "    arr.append(t)\n",
    "    \n",
    "sales_detail_df = pd.merge(sales_detail_df, pd.concat(arr), on=['shop_id', 'item_id', 'date_block_num'], how='left')"
   ]
  },
  {
   "cell_type": "code",
   "execution_count": null,
   "metadata": {},
   "outputs": [],
   "source": [
    "'''\n",
    "arr = []\n",
    "for i in irange(1, 34, 1):\n",
    "    t = sales_detail_df[sales_detail_df.date_block_num < i].groupby(['shop_id', 'item_id'])['item_cnt_month'].agg(lambda x: np.mean(pd.Series.mode(x))).reset_index(name='sic14')\n",
    "    t['date_block_num'] = i \n",
    "    arr.append(t)\n",
    "    \n",
    "sales_detail_df = pd.merge(sales_detail_df, pd.concat(arr), on=['shop_id', 'item_id', 'date_block_num'], how='left')\n",
    "'''"
   ]
  },
  {
   "cell_type": "markdown",
   "metadata": {},
   "source": [
    "+ **Feature 'sit1 - sit13'**"
   ]
  },
  {
   "cell_type": "code",
   "execution_count": 21,
   "metadata": {},
   "outputs": [
    {
     "data": {
      "text/html": [
       "<div><span class=\"Text-label\" style=\"display:inline-block; overflow:hidden; white-space:nowrap; text-overflow:ellipsis; min-width:0; max-width:15ex; vertical-align:middle; text-align:right\"></span>\n",
       "<progress style=\"width:60ex\" max=\"12\" value=\"12\" class=\"Progress-main\"/></progress>\n",
       "<span class=\"Progress-label\"><strong>100%</strong></span>\n",
       "<span class=\"Iteration-label\">12/12</span>\n",
       "<span class=\"Time-label\">[00:11<00:01, 0.93s/it]</span></div>"
      ],
      "text/plain": [
       "\u001b[A\u001b[2K\r",
       " [████████████████████████████████████████████████████████████] 12/12 [00:11<00:01, 0.93s/it]"
      ]
     },
     "metadata": {},
     "output_type": "display_data"
    }
   ],
   "source": [
    "m = sales_detail_df.groupby(['shop_id', 'item_category_id', 'date_block_num'])['item_cnt_month'].mean().reset_index()\n",
    "for i in irange(1, 13, 1):\n",
    "    t = m.copy()\n",
    "    t['date_block_num'] = t['date_block_num'] + i\n",
    "    t = t[t.date_block_num < 34]\n",
    "    t = t.rename(index=str, columns={'item_cnt_month': 'sit'+str(i)})\n",
    "    sales_detail_df = pd.merge(sales_detail_df, t, on=['shop_id', 'item_category_id', 'date_block_num'], how='left')"
   ]
  },
  {
   "cell_type": "code",
   "execution_count": 22,
   "metadata": {},
   "outputs": [
    {
     "data": {
      "text/html": [
       "<div><span class=\"Text-label\" style=\"display:inline-block; overflow:hidden; white-space:nowrap; text-overflow:ellipsis; min-width:0; max-width:15ex; vertical-align:middle; text-align:right\"></span>\n",
       "<progress style=\"width:60ex\" max=\"33\" value=\"33\" class=\"Progress-main\"/></progress>\n",
       "<span class=\"Progress-label\"><strong>100%</strong></span>\n",
       "<span class=\"Iteration-label\">33/33</span>\n",
       "<span class=\"Time-label\">[00:12<00:01, 0.38s/it]</span></div>"
      ],
      "text/plain": [
       "\u001b[A\u001b[2K\r",
       " [████████████████████████████████████████████████████████████] 33/33 [00:12<00:01, 0.38s/it]"
      ]
     },
     "metadata": {},
     "output_type": "display_data"
    }
   ],
   "source": [
    "arr = []\n",
    "for i in irange(1, 34, 1):\n",
    "    t = sales_detail_df[sales_detail_df.date_block_num < i].groupby(['shop_id', 'item_category_id'])['item_cnt_month'].mean().reset_index(name='sit13')\n",
    "    t['date_block_num'] = i \n",
    "    arr.append(t)\n",
    "    \n",
    "sales_detail_df = pd.merge(sales_detail_df, pd.concat(arr), on=['shop_id', 'item_category_id', 'date_block_num'], how='left')"
   ]
  },
  {
   "cell_type": "markdown",
   "metadata": {},
   "source": [
    "+ **Feature 'i1'**"
   ]
  },
  {
   "cell_type": "code",
   "execution_count": 23,
   "metadata": {},
   "outputs": [
    {
     "data": {
      "text/html": [
       "<div><span class=\"Text-label\" style=\"display:inline-block; overflow:hidden; white-space:nowrap; text-overflow:ellipsis; min-width:0; max-width:15ex; vertical-align:middle; text-align:right\"></span>\n",
       "<progress style=\"width:60ex\" max=\"12\" value=\"12\" class=\"Progress-main\"/></progress>\n",
       "<span class=\"Progress-label\"><strong>100%</strong></span>\n",
       "<span class=\"Iteration-label\">12/12</span>\n",
       "<span class=\"Time-label\">[00:16<00:01, 1.32s/it]</span></div>"
      ],
      "text/plain": [
       "\u001b[A\u001b[2K\r",
       " [████████████████████████████████████████████████████████████] 12/12 [00:16<00:01, 1.32s/it]"
      ]
     },
     "metadata": {},
     "output_type": "display_data"
    }
   ],
   "source": [
    "m = sales_detail_df.groupby(['item_id', 'date_block_num'])['item_cnt_month'].mean().reset_index()\n",
    "for i in irange(1, 13, 1):\n",
    "    t = m.copy()\n",
    "    t['date_block_num'] = t['date_block_num'] + i\n",
    "    t = t[t.date_block_num < 34]\n",
    "    t = t.rename(index=str, columns={'item_cnt_month': 'i'+str(i)})\n",
    "    sales_detail_df = pd.merge(sales_detail_df, t, on=['item_id', 'date_block_num'], how='left')"
   ]
  },
  {
   "cell_type": "code",
   "execution_count": 24,
   "metadata": {},
   "outputs": [
    {
     "data": {
      "text/html": [
       "<div><span class=\"Text-label\" style=\"display:inline-block; overflow:hidden; white-space:nowrap; text-overflow:ellipsis; min-width:0; max-width:15ex; vertical-align:middle; text-align:right\"></span>\n",
       "<progress style=\"width:60ex\" max=\"33\" value=\"33\" class=\"Progress-main\"/></progress>\n",
       "<span class=\"Progress-label\"><strong>100%</strong></span>\n",
       "<span class=\"Iteration-label\">33/33</span>\n",
       "<span class=\"Time-label\">[00:15<00:01, 0.47s/it]</span></div>"
      ],
      "text/plain": [
       "\u001b[A\u001b[2K\r",
       " [████████████████████████████████████████████████████████████] 33/33 [00:15<00:01, 0.47s/it]"
      ]
     },
     "metadata": {},
     "output_type": "display_data"
    }
   ],
   "source": [
    "arr = []\n",
    "for i in irange(1, 34, 1):\n",
    "    t = sales_detail_df[sales_detail_df.date_block_num < i].groupby(['item_id'])['item_cnt_month'].mean().reset_index(name='i13')\n",
    "    t['date_block_num'] = i \n",
    "    arr.append(t)\n",
    "    \n",
    "sales_detail_df = pd.merge(sales_detail_df, pd.concat(arr), on=['item_id', 'date_block_num'], how='left')"
   ]
  },
  {
   "cell_type": "markdown",
   "metadata": {},
   "source": [
    "+ **Feature 'c1'**"
   ]
  },
  {
   "cell_type": "code",
   "execution_count": 25,
   "metadata": {},
   "outputs": [
    {
     "data": {
      "text/html": [
       "<div><span class=\"Text-label\" style=\"display:inline-block; overflow:hidden; white-space:nowrap; text-overflow:ellipsis; min-width:0; max-width:15ex; vertical-align:middle; text-align:right\"></span>\n",
       "<progress style=\"width:60ex\" max=\"12\" value=\"12\" class=\"Progress-main\"/></progress>\n",
       "<span class=\"Progress-label\"><strong>100%</strong></span>\n",
       "<span class=\"Iteration-label\">12/12</span>\n",
       "<span class=\"Time-label\">[00:14<00:01, 1.18s/it]</span></div>"
      ],
      "text/plain": [
       "\u001b[A\u001b[2K\r",
       " [████████████████████████████████████████████████████████████] 12/12 [00:14<00:01, 1.18s/it]"
      ]
     },
     "metadata": {},
     "output_type": "display_data"
    }
   ],
   "source": [
    "m = sales_detail_df.groupby(['city_code', 'date_block_num'])['item_cnt_month'].mean().reset_index()\n",
    "for i in irange(1, 13, 1):\n",
    "    t = m.copy()\n",
    "    t['date_block_num'] = t['date_block_num'] + i\n",
    "    t = t[t.date_block_num < 34]\n",
    "    t = t.rename(index=str, columns={'item_cnt_month': 'c'+str(i)})\n",
    "    sales_detail_df = pd.merge(sales_detail_df, t, on=['city_code', 'date_block_num'], how='left')"
   ]
  },
  {
   "cell_type": "code",
   "execution_count": 26,
   "metadata": {},
   "outputs": [
    {
     "data": {
      "text/html": [
       "<div><span class=\"Text-label\" style=\"display:inline-block; overflow:hidden; white-space:nowrap; text-overflow:ellipsis; min-width:0; max-width:15ex; vertical-align:middle; text-align:right\"></span>\n",
       "<progress style=\"width:60ex\" max=\"33\" value=\"33\" class=\"Progress-main\"/></progress>\n",
       "<span class=\"Progress-label\"><strong>100%</strong></span>\n",
       "<span class=\"Iteration-label\">33/33</span>\n",
       "<span class=\"Time-label\">[00:18<00:01, 0.54s/it]</span></div>"
      ],
      "text/plain": [
       "\u001b[A\u001b[2K\r",
       " [████████████████████████████████████████████████████████████] 33/33 [00:18<00:01, 0.54s/it]"
      ]
     },
     "metadata": {},
     "output_type": "display_data"
    }
   ],
   "source": [
    "arr = []\n",
    "for i in irange(1, 34, 1):\n",
    "    t = sales_detail_df[sales_detail_df.date_block_num < i].groupby(['city_code'])['item_cnt_month'].mean().reset_index(name='c13')\n",
    "    t['date_block_num'] = i \n",
    "    arr.append(t)\n",
    "    \n",
    "sales_detail_df = pd.merge(sales_detail_df, pd.concat(arr), on=['city_code', 'date_block_num'], how='left')"
   ]
  },
  {
   "cell_type": "markdown",
   "metadata": {},
   "source": [
    "+ **Feature 's1 - s13'**"
   ]
  },
  {
   "cell_type": "code",
   "execution_count": 27,
   "metadata": {},
   "outputs": [
    {
     "data": {
      "text/html": [
       "<div><span class=\"Text-label\" style=\"display:inline-block; overflow:hidden; white-space:nowrap; text-overflow:ellipsis; min-width:0; max-width:15ex; vertical-align:middle; text-align:right\"></span>\n",
       "<progress style=\"width:60ex\" max=\"12\" value=\"12\" class=\"Progress-main\"/></progress>\n",
       "<span class=\"Progress-label\"><strong>100%</strong></span>\n",
       "<span class=\"Iteration-label\">12/12</span>\n",
       "<span class=\"Time-label\">[00:16<00:01, 1.36s/it]</span></div>"
      ],
      "text/plain": [
       "\u001b[A\u001b[2K\r",
       " [████████████████████████████████████████████████████████████] 12/12 [00:16<00:01, 1.36s/it]"
      ]
     },
     "metadata": {},
     "output_type": "display_data"
    }
   ],
   "source": [
    "m = sales_detail_df.groupby(['shop_id', 'date_block_num'])['item_cnt_month'].mean().reset_index()\n",
    "for i in irange(1, 13, 1):\n",
    "    t = m.copy()\n",
    "    t['date_block_num'] = t['date_block_num'] + i\n",
    "    t = t[t.date_block_num < 34]\n",
    "    t = t.rename(index=str, columns={'item_cnt_month': 's'+str(i)})\n",
    "    sales_detail_df = pd.merge(sales_detail_df, t, on=['shop_id', 'date_block_num'], how='left')"
   ]
  },
  {
   "cell_type": "code",
   "execution_count": 28,
   "metadata": {},
   "outputs": [
    {
     "data": {
      "text/html": [
       "<div><span class=\"Text-label\" style=\"display:inline-block; overflow:hidden; white-space:nowrap; text-overflow:ellipsis; min-width:0; max-width:15ex; vertical-align:middle; text-align:right\"></span>\n",
       "<progress style=\"width:60ex\" max=\"33\" value=\"33\" class=\"Progress-main\"/></progress>\n",
       "<span class=\"Progress-label\"><strong>100%</strong></span>\n",
       "<span class=\"Iteration-label\">33/33</span>\n",
       "<span class=\"Time-label\">[00:21<00:01, 0.63s/it]</span></div>"
      ],
      "text/plain": [
       "\u001b[A\u001b[2K\r",
       " [████████████████████████████████████████████████████████████] 33/33 [00:21<00:01, 0.63s/it]"
      ]
     },
     "metadata": {},
     "output_type": "display_data"
    }
   ],
   "source": [
    "arr = []\n",
    "for i in irange(1, 34, 1):\n",
    "    t = sales_detail_df[sales_detail_df.date_block_num < i].groupby(['item_id'])['item_cnt_month'].mean().reset_index(name='s13')\n",
    "    t['date_block_num'] = i \n",
    "    arr.append(t)\n",
    "    \n",
    "sales_detail_df = pd.merge(sales_detail_df, pd.concat(arr), on=['item_id', 'date_block_num'], how='left')"
   ]
  },
  {
   "cell_type": "markdown",
   "metadata": {},
   "source": [
    "+ **Feature 'it1 - it13'**"
   ]
  },
  {
   "cell_type": "code",
   "execution_count": 29,
   "metadata": {},
   "outputs": [
    {
     "data": {
      "text/html": [
       "<div><span class=\"Text-label\" style=\"display:inline-block; overflow:hidden; white-space:nowrap; text-overflow:ellipsis; min-width:0; max-width:15ex; vertical-align:middle; text-align:right\"></span>\n",
       "<progress style=\"width:60ex\" max=\"12\" value=\"12\" class=\"Progress-main\"/></progress>\n",
       "<span class=\"Progress-label\"><strong>100%</strong></span>\n",
       "<span class=\"Iteration-label\">12/12</span>\n",
       "<span class=\"Time-label\">[00:21<00:02, 1.79s/it]</span></div>"
      ],
      "text/plain": [
       "\u001b[A\u001b[2K\r",
       " [████████████████████████████████████████████████████████████] 12/12 [00:21<00:02, 1.79s/it]"
      ]
     },
     "metadata": {},
     "output_type": "display_data"
    }
   ],
   "source": [
    "m = sales_detail_df.groupby(['item_category_id', 'date_block_num'])['item_cnt_month'].mean().reset_index()\n",
    "for i in irange(1, 13, 1):\n",
    "    t = m.copy()\n",
    "    t['date_block_num'] = t['date_block_num'] + i\n",
    "    t = t[t.date_block_num < 34]\n",
    "    t = t.rename(index=str, columns={'item_cnt_month': 'it'+str(i)})\n",
    "    sales_detail_df = pd.merge(sales_detail_df, t, on=['item_category_id', 'date_block_num'], how='left')"
   ]
  },
  {
   "cell_type": "code",
   "execution_count": 30,
   "metadata": {},
   "outputs": [
    {
     "data": {
      "text/html": [
       "<div><span class=\"Text-label\" style=\"display:inline-block; overflow:hidden; white-space:nowrap; text-overflow:ellipsis; min-width:0; max-width:15ex; vertical-align:middle; text-align:right\"></span>\n",
       "<progress style=\"width:60ex\" max=\"33\" value=\"33\" class=\"Progress-main\"/></progress>\n",
       "<span class=\"Progress-label\"><strong>100%</strong></span>\n",
       "<span class=\"Iteration-label\">33/33</span>\n",
       "<span class=\"Time-label\">[00:29<00:01, 0.88s/it]</span></div>"
      ],
      "text/plain": [
       "\u001b[A\u001b[2K\r",
       " [████████████████████████████████████████████████████████████] 33/33 [00:29<00:01, 0.88s/it]"
      ]
     },
     "metadata": {},
     "output_type": "display_data"
    }
   ],
   "source": [
    "arr = []\n",
    "for i in irange(1, 34, 1):\n",
    "    t = sales_detail_df[sales_detail_df.date_block_num < i].groupby(['item_category_id'])['item_cnt_month'].mean().reset_index(name='it13')\n",
    "    t['date_block_num'] = i \n",
    "    arr.append(t)\n",
    "    \n",
    "sales_detail_df = pd.merge(sales_detail_df, pd.concat(arr), on=['item_category_id', 'date_block_num'], how='left')"
   ]
  },
  {
   "cell_type": "markdown",
   "metadata": {},
   "source": [
    "## Feature Selection"
   ]
  },
  {
   "cell_type": "code",
   "execution_count": 31,
   "metadata": {},
   "outputs": [],
   "source": [
    "dataset = sales_detail_df[sales_detail_df.date_block_num > 11]"
   ]
  },
  {
   "cell_type": "code",
   "execution_count": 32,
   "metadata": {},
   "outputs": [],
   "source": [
    "dataset = dataset.replace([np.inf, -np.inf], np.nan)\n",
    "dataset = dataset.fillna(0)"
   ]
  },
  {
   "cell_type": "code",
   "execution_count": 33,
   "metadata": {},
   "outputs": [
    {
     "data": {
      "text/plain": [
       "array(['shop_id', 'item_id', 'date_block_num', 'item_cnt_month',\n",
       "       'item_avg_price', 'item_category_id', 'city_code', 'type_code',\n",
       "       'subtype_code', 'month', 'sic1', 'sic2', 'sic3', 'sic4', 'sic5',\n",
       "       'sic6', 'sic7', 'sic8', 'sic9', 'sic10', 'sic11', 'sic12', 'sic13',\n",
       "       'sit1', 'sit2', 'sit3', 'sit4', 'sit5', 'sit6', 'sit7', 'sit8',\n",
       "       'sit9', 'sit10', 'sit11', 'sit12', 'sit13', 'i1', 'i2', 'i3', 'i4',\n",
       "       'i5', 'i6', 'i7', 'i8', 'i9', 'i10', 'i11', 'i12', 'i13', 'c1',\n",
       "       'c2', 'c3', 'c4', 'c5', 'c6', 'c7', 'c8', 'c9', 'c10', 'c11',\n",
       "       'c12', 'c13', 's1', 's2', 's3', 's4', 's5', 's6', 's7', 's8', 's9',\n",
       "       's10', 's11', 's12', 's13', 'it1', 'it2', 'it3', 'it4', 'it5',\n",
       "       'it6', 'it7', 'it8', 'it9', 'it10', 'it11', 'it12', 'it13'],\n",
       "      dtype=object)"
      ]
     },
     "execution_count": 33,
     "metadata": {},
     "output_type": "execute_result"
    }
   ],
   "source": [
    "dataset = dataset.drop(['item_name', 'shop_name', 'item_category_name', 'city', 'type', 'subtype'], axis=1)\n",
    "dataset.columns.values"
   ]
  },
  {
   "cell_type": "code",
   "execution_count": 34,
   "metadata": {},
   "outputs": [],
   "source": [
    "continuous = [\n",
    "    'date_block_num', 'shop_id', 'item_id', 'item_category_id', 'item_avg_price', 'city_code', 'type_code',\n",
    "       'subtype_code', 'month', 'sic1', 'sic2', 'sic3', 'sic4', 'sic5',\n",
    "       'sic6', 'sic7', 'sic8', 'sic9', 'sic10', 'sic11', 'sic12', 'sic13',\n",
    "       'sit1', 'sit2', 'sit3', 'sit4', 'sit5', 'sit6', 'sit7', 'sit8',\n",
    "       'sit9', 'sit10', 'sit11', 'sit12', 'sit13', 'i1', 'i2', 'i3', 'i4',\n",
    "       'i5', 'i6', 'i7', 'i8', 'i9', 'i10', 'i11', 'i12', 'i13', 'c1',\n",
    "       'c2', 'c3', 'c4', 'c5', 'c6', 'c7', 'c8', 'c9', 'c10', 'c11',\n",
    "       'c12', 'c13', 's1', 's2', 's3', 's4', 's5', 's6', 's7', 's8', 's9',\n",
    "       's10', 's11', 's12', 's13', 'it1', 'it2', 'it3', 'it4', 'it5',\n",
    "       'it6', 'it7', 'it8', 'it9', 'it10', 'it11', 'it12', 'it13'\n",
    "]\n",
    "\n",
    "fields = [\n",
    "    \n",
    "]\n",
    "\n",
    "label = ['item_cnt_month']"
   ]
  },
  {
   "cell_type": "code",
   "execution_count": 35,
   "metadata": {},
   "outputs": [],
   "source": [
    "dataset_beta = dataset[(dataset.date_block_num < 33)]\n",
    "dataset_alpha = dataset[dataset.date_block_num == 33]"
   ]
  },
  {
   "cell_type": "code",
   "execution_count": 36,
   "metadata": {},
   "outputs": [],
   "source": [
    "features_pipeline = Pipeline([\n",
    "    ('features', FeatureUnion([\n",
    "        ('continuous', Pipeline([\n",
    "            ('extract', ColumnSelector(continuous)),\n",
    "            ('imputer', SimpleImputer(missing_values=np.nan, strategy='most_frequent')),\n",
    "            ('normalize', Normalizer())\n",
    "        ])),\n",
    "    ])),\n",
    "])\n",
    "\n",
    "features_pipeline.fit(dataset_beta, dataset_beta[label].values.ravel())\n",
    "\n",
    "train_dataset_x = features_pipeline.transform(dataset_beta)\n",
    "train_dataset_y = dataset_beta[label].values.ravel()\n",
    "\n",
    "valid_dataset_x = features_pipeline.transform(dataset_alpha)\n",
    "valid_dataset_y = dataset_alpha[label].values.ravel()"
   ]
  },
  {
   "cell_type": "code",
   "execution_count": 37,
   "metadata": {},
   "outputs": [
    {
     "data": {
      "text/plain": [
       "XGBRegressor(base_score=0.5, booster='gbtree', colsample_bylevel=1,\n",
       "       colsample_bytree=1, gamma=0, learning_rate=0.1, max_delta_step=0,\n",
       "       max_depth=10, min_child_weight=1, missing=None, n_estimators=50,\n",
       "       n_jobs=1, nthread=None, objective='reg:linear', random_state=0,\n",
       "       reg_alpha=0, reg_lambda=1, scale_pos_weight=1, seed=None,\n",
       "       silent=True, subsample=1)"
      ]
     },
     "execution_count": 37,
     "metadata": {},
     "output_type": "execute_result"
    }
   ],
   "source": [
    "selector_model = XGBRegressor(max_depth=10, n_estimators=50, random_state=0)\n",
    "selector_model.fit(train_dataset_x, train_dataset_y)"
   ]
  },
  {
   "cell_type": "code",
   "execution_count": 38,
   "metadata": {},
   "outputs": [],
   "source": [
    "thresh = 0.001\n",
    "selection = SelectFromModel(selector_model, threshold=thresh, prefit=True)\n",
    "\n",
    "train_dataset_x = selection.transform(train_dataset_x)\n",
    "valid_dataset_x = selection.transform(valid_dataset_x)"
   ]
  },
  {
   "cell_type": "code",
   "execution_count": 39,
   "metadata": {},
   "outputs": [
    {
     "data": {
      "text/plain": [
       "array([0.11705509, 0.04140184, 0.04219633, 0.02868997, 0.02436441,\n",
       "       0.00485523, 0.0144774 , 0.01800847, 0.02930791, 0.05605579,\n",
       "       0.02930791, 0.02048023, 0.01253531, 0.01350636, 0.01041667,\n",
       "       0.00979873, 0.00829802, 0.00670904, 0.00582627, 0.00485523,\n",
       "       0.01297669, 0.0205685 , 0.01615466, 0.00979873, 0.00971045,\n",
       "       0.00635593, 0.00882768, 0.00891596, 0.00512006, 0.0049435 ,\n",
       "       0.00264831, 0.0060911 , 0.00432556, 0.0144774 , 0.01403602,\n",
       "       0.01977401, 0.01500706, 0.01341808, 0.00617938, 0.00662076,\n",
       "       0.00397246, 0.00397246, 0.00573799, 0.00441384, 0.00158898,\n",
       "       0.00132415, 0.00617938, 0.01235876, 0.01174082, 0.00971045,\n",
       "       0.00847458, 0.00803319, 0.0083863 , 0.0049435 , 0.00732698,\n",
       "       0.00856285, 0.0037959 , 0.00759181, 0.00582627, 0.01015184,\n",
       "       0.00820975, 0.00829802, 0.00653249, 0.00715042, 0.00432556,\n",
       "       0.00529661, 0.0049435 , 0.00485523, 0.00397246, 0.00388418,\n",
       "       0.00361935, 0.00467867, 0.00564972, 0.        , 0.01085805,\n",
       "       0.00829802, 0.0083863 , 0.00538489, 0.00935734, 0.00768008,\n",
       "       0.00450212, 0.00697387, 0.0049435 , 0.00512006, 0.00573799,\n",
       "       0.00697387, 0.00617938], dtype=float32)"
      ]
     },
     "execution_count": 39,
     "metadata": {},
     "output_type": "execute_result"
    }
   ],
   "source": [
    "selector_model.feature_importances_"
   ]
  },
  {
   "cell_type": "code",
   "execution_count": 40,
   "metadata": {},
   "outputs": [
    {
     "data": {
      "text/plain": [
       "[('date_block_num', 0.11705509),\n",
       " ('shop_id', 0.041401837),\n",
       " ('item_id', 0.042196326),\n",
       " ('item_category_id', 0.028689971),\n",
       " ('item_avg_price', 0.024364406),\n",
       " ('city_code', 0.004855226),\n",
       " ('type_code', 0.014477401),\n",
       " ('subtype_code', 0.018008474),\n",
       " ('month', 0.02930791),\n",
       " ('sic1', 0.05605579),\n",
       " ('sic2', 0.02930791),\n",
       " ('sic3', 0.020480227),\n",
       " ('sic4', 0.01253531),\n",
       " ('sic5', 0.013506356),\n",
       " ('sic6', 0.010416667),\n",
       " ('sic7', 0.009798729),\n",
       " ('sic8', 0.008298023),\n",
       " ('sic9', 0.0067090397),\n",
       " ('sic10', 0.005826271),\n",
       " ('sic11', 0.004855226),\n",
       " ('sic12', 0.012976695),\n",
       " ('sic13', 0.020568503),\n",
       " ('sit1', 0.016154662),\n",
       " ('sit2', 0.009798729),\n",
       " ('sit3', 0.009710452),\n",
       " ('sit4', 0.006355932),\n",
       " ('sit5', 0.0088276835),\n",
       " ('sit6', 0.008915961),\n",
       " ('sit7', 0.0051200567),\n",
       " ('sit8', 0.0049435026),\n",
       " ('sit9', 0.0026483051),\n",
       " ('sit10', 0.0060911016),\n",
       " ('sit11', 0.004325565),\n",
       " ('sit12', 0.014477401),\n",
       " ('sit13', 0.014036017),\n",
       " ('i1', 0.01977401),\n",
       " ('i2', 0.015007062),\n",
       " ('i3', 0.013418079),\n",
       " ('i4', 0.0061793784),\n",
       " ('i5', 0.006620763),\n",
       " ('i6', 0.0039724577),\n",
       " ('i7', 0.0039724577),\n",
       " ('i8', 0.0057379943),\n",
       " ('i9', 0.0044138418),\n",
       " ('i10', 0.001588983),\n",
       " ('i11', 0.0013241526),\n",
       " ('i12', 0.0061793784),\n",
       " ('i13', 0.012358757),\n",
       " ('c1', 0.01174082),\n",
       " ('c2', 0.009710452),\n",
       " ('c3', 0.008474576),\n",
       " ('c4', 0.008033192),\n",
       " ('c5', 0.008386299),\n",
       " ('c6', 0.0049435026),\n",
       " ('c7', 0.0073269773),\n",
       " ('c8', 0.008562854),\n",
       " ('c9', 0.0037959039),\n",
       " ('c10', 0.0075918077),\n",
       " ('c11', 0.005826271),\n",
       " ('c12', 0.010151836),\n",
       " ('c13', 0.008209745),\n",
       " ('s1', 0.008298023),\n",
       " ('s2', 0.006532486),\n",
       " ('s3', 0.0071504237),\n",
       " ('s4', 0.004325565),\n",
       " ('s5', 0.0052966103),\n",
       " ('s6', 0.0049435026),\n",
       " ('s7', 0.004855226),\n",
       " ('s8', 0.0039724577),\n",
       " ('s9', 0.0038841807),\n",
       " ('s10', 0.0036193503),\n",
       " ('s11', 0.004678672),\n",
       " ('s12', 0.0056497175),\n",
       " ('it1', 0.010858051),\n",
       " ('it2', 0.008298023),\n",
       " ('it3', 0.008386299),\n",
       " ('it4', 0.005384887),\n",
       " ('it5', 0.009357344),\n",
       " ('it6', 0.0076800846),\n",
       " ('it7', 0.0045021186),\n",
       " ('it8', 0.00697387),\n",
       " ('it9', 0.0049435026),\n",
       " ('it10', 0.0051200567),\n",
       " ('it11', 0.0057379943),\n",
       " ('it12', 0.00697387),\n",
       " ('it13', 0.0061793784)]"
      ]
     },
     "execution_count": 40,
     "metadata": {},
     "output_type": "execute_result"
    }
   ],
   "source": [
    "feature_selector = []\n",
    "for index, value in enumerate(selector_model.feature_importances_):\n",
    "    if value > 0 and index < len(continuous):\n",
    "        feature_selector.append((continuous[index], value))\n",
    "\n",
    "feature_selector"
   ]
  },
  {
   "cell_type": "code",
   "execution_count": 41,
   "metadata": {},
   "outputs": [
    {
     "data": {
      "text/plain": [
       "<matplotlib.axes._subplots.AxesSubplot at 0x154d8b278>"
      ]
     },
     "execution_count": 41,
     "metadata": {},
     "output_type": "execute_result"
    },
    {
     "name": "stderr",
     "output_type": "stream",
     "text": [
      "2019-02-15 11:22:53,768  _base.py : DEBUG  update_title_pos\n",
      "2019-02-15 11:22:53,789  font_manager.py : DEBUG  findfont: Matching :family=sans-serif:style=normal:variant=normal:weight=normal:stretch=normal:size=11.0 to Arial ('/Library/Fonts/Arial.ttf') with score of 0.050000.\n",
      "2019-02-15 11:22:53,817  font_manager.py : DEBUG  findfont: Matching :family=sans-serif:style=normal:variant=normal:weight=normal:stretch=normal:size=12.0 to Arial ('/Library/Fonts/Arial.ttf') with score of 0.050000.\n",
      "2019-02-15 11:22:54,036  font_manager.py : DEBUG  findfont: Matching :family=sans-serif:style=normal:variant=normal:weight=normal:stretch=normal:size=10.0 to Arial ('/Library/Fonts/Arial.ttf') with score of 0.050000.\n",
      "2019-02-15 11:22:54,113  _base.py : DEBUG  update_title_pos\n",
      "2019-02-15 11:22:54,546  _base.py : DEBUG  update_title_pos\n",
      "2019-02-15 11:22:54,981  _base.py : DEBUG  update_title_pos\n",
      "2019-02-15 11:22:55,264  _base.py : DEBUG  update_title_pos\n"
     ]
    },
    {
     "data": {
      "image/png": "[encoded data removed]",
      "text/plain": [
       "<Figure size 720x1008 with 1 Axes>"
      ]
     },
     "metadata": {
      "needs_background": "light"
     },
     "output_type": "display_data"
    }
   ],
   "source": [
    "def plot_features(booster, figsize):    \n",
    "    fig, ax = plt.subplots(1,1,figsize=figsize)\n",
    "    return plot_importance(booster=booster, ax=ax)\n",
    "\n",
    "plot_features(selector_model, (10,14))"
   ]
  },
  {
   "cell_type": "markdown",
   "metadata": {},
   "source": [
    "## Train"
   ]
  },
  {
   "cell_type": "code",
   "execution_count": null,
   "metadata": {},
   "outputs": [
    {
     "name": "stdout",
     "output_type": "stream",
     "text": [
      "[0]\tvalidation_0-rmse:8.71711\tvalidation_1-rmse:6.92297\n",
      "Multiple eval metrics have been passed: 'validation_1-rmse' will be used for early stopping.\n",
      "\n",
      "Will train until validation_1-rmse hasn't improved in 10 rounds.\n",
      "[1]\tvalidation_0-rmse:8.30539\tvalidation_1-rmse:6.47734\n",
      "[2]\tvalidation_0-rmse:7.91777\tvalidation_1-rmse:6.17596\n",
      "[3]\tvalidation_0-rmse:7.57943\tvalidation_1-rmse:5.89695\n",
      "[4]\tvalidation_0-rmse:7.29661\tvalidation_1-rmse:5.68252\n",
      "[5]\tvalidation_0-rmse:7.04655\tvalidation_1-rmse:5.51335\n",
      "[6]\tvalidation_0-rmse:6.80531\tvalidation_1-rmse:5.36551\n",
      "[7]\tvalidation_0-rmse:6.58408\tvalidation_1-rmse:5.2562\n",
      "[8]\tvalidation_0-rmse:6.39582\tvalidation_1-rmse:5.17471\n",
      "[9]\tvalidation_0-rmse:6.20222\tvalidation_1-rmse:5.12553\n",
      "[10]\tvalidation_0-rmse:6.02815\tvalidation_1-rmse:5.08141\n",
      "[11]\tvalidation_0-rmse:5.86959\tvalidation_1-rmse:5.02274\n",
      "[12]\tvalidation_0-rmse:5.7329\tvalidation_1-rmse:4.98965\n",
      "[13]\tvalidation_0-rmse:5.58931\tvalidation_1-rmse:4.94469\n",
      "[14]\tvalidation_0-rmse:5.49272\tvalidation_1-rmse:4.88753\n",
      "[15]\tvalidation_0-rmse:5.38377\tvalidation_1-rmse:4.89089\n",
      "[16]\tvalidation_0-rmse:5.2826\tvalidation_1-rmse:4.89007\n",
      "[17]\tvalidation_0-rmse:5.19167\tvalidation_1-rmse:4.8258\n",
      "[18]\tvalidation_0-rmse:5.10473\tvalidation_1-rmse:4.83665\n",
      "[19]\tvalidation_0-rmse:5.032\tvalidation_1-rmse:4.83617\n",
      "[20]\tvalidation_0-rmse:4.948\tvalidation_1-rmse:4.82939\n",
      "[21]\tvalidation_0-rmse:4.87094\tvalidation_1-rmse:4.85668\n",
      "[22]\tvalidation_0-rmse:4.80248\tvalidation_1-rmse:4.86766\n",
      "[23]\tvalidation_0-rmse:4.73835\tvalidation_1-rmse:4.87805\n",
      "[24]\tvalidation_0-rmse:4.67331\tvalidation_1-rmse:4.87921\n",
      "[25]\tvalidation_0-rmse:4.62367\tvalidation_1-rmse:4.91039\n"
     ]
    }
   ],
   "source": [
    "from xgboost import XGBRegressor\n",
    "\n",
    "model = XGBRegressor(\n",
    "    max_depth=12,\n",
    "    n_estimators=200,\n",
    "    min_child_weight=1.1, \n",
    "    colsample_bytree=0.7, \n",
    "    subsample=0.7, \n",
    "#     gamma=0.2,\n",
    "    reg_lambda=10,\n",
    "    eta=0.3,    \n",
    "    seed=2019)\n",
    "\n",
    "model.fit(\n",
    "    train_dataset_x, \n",
    "    train_dataset_y, \n",
    "    eval_metric=\"rmse\", \n",
    "    eval_set=[(train_dataset_x, train_dataset_y), (valid_dataset_x, valid_dataset_y)], \n",
    "    verbose=True, \n",
    "    early_stopping_rounds = 10)"
   ]
  },
  {
   "cell_type": "markdown",
   "metadata": {},
   "source": [
    "## Save to CSV"
   ]
  },
  {
   "cell_type": "code",
   "execution_count": null,
   "metadata": {},
   "outputs": [],
   "source": [
    "'''\n",
    "dataset.to_csv('../features/' + FILENAME + '.csv')\n",
    "'''"
   ]
  },
  {
   "cell_type": "markdown",
   "metadata": {},
   "source": [
    "# Reference"
   ]
  },
  {
   "cell_type": "markdown",
   "metadata": {},
   "source": [
    "## Normal ML Analysis\n",
    "\n",
    "+ [Feature engineering, xgboost](https://www.kaggle.com/dlarionov/feature-engineering-xgboost)"
   ]
  },
  {
   "cell_type": "markdown",
   "metadata": {},
   "source": [
    "## Time Series\n",
    "\n",
    "对于revenge的预测很有帮助，但是对于单个店的单个商品而言没有实际的意义，这种预测方式的学习非常有益处\n",
    "\n",
    "+ [AR(I)MA时间序列建模过程——步骤和python代码](https://www.jianshu.com/p/cced6617b423)\n",
    "+ [python时间序列分析](http://www.cnblogs.com/foley/p/5582358.html)\n",
    "+ [AR、MA及ARMA模型](https://zhuanlan.zhihu.com/p/22248464)\n",
    "+ [Time Series with Python (ODSC) STA.ipynb](https://github.com/ultimatist/ODSC17/blob/master/Time%20Series%20with%20Python%20(ODSC)%20STA.ipynb)\n",
    "+ [Getting Started with Time Series](https://pyflux.readthedocs.io/en/latest/getting_started.html)\n",
    "+ [Welcome to Statsmodels’s Documentation](http://www.statsmodels.org/devel/index.html)"
   ]
  },
  {
   "cell_type": "code",
   "execution_count": null,
   "metadata": {},
   "outputs": [],
   "source": []
  }
 ],
 "metadata": {
  "kernelspec": {
   "display_name": "Python 3",
   "language": "python",
   "name": "python3"
  },
  "language_info": {
   "codemirror_mode": {
    "name": "ipython",
    "version": 3
   },
   "file_extension": ".py",
   "mimetype": "text/x-python",
   "name": "python",
   "nbconvert_exporter": "python",
   "pygments_lexer": "ipython3",
   "version": "3.7.1"
  }
 },
 "nbformat": 4,
 "nbformat_minor": 2
}
