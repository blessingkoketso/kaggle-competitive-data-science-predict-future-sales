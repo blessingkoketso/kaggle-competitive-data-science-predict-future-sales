{
 "cells": [
  {
   "cell_type": "code",
   "execution_count": 1,
   "metadata": {},
   "outputs": [],
   "source": [
    "import numpy as np\n",
    "import pandas as pd\n",
    "import seaborn as sns\n",
    "import matplotlib.pyplot as plt\n",
    "from scipy import stats\n",
    "import logging\n",
    "import datetime\n",
    "\n",
    "from sklearn.preprocessing import StandardScaler\n",
    "from sklearn.decomposition import PCA\n",
    "from sklearn.linear_model import LogisticRegression, LinearRegression\n",
    "from sklearn.preprocessing import OneHotEncoder,MinMaxScaler, Normalizer\n",
    "from sklearn.feature_selection import SelectKBest,chi2\n",
    "from xgboost import XGBClassifier, XGBRegressor\n",
    "from sklearn.pipeline import Pipeline, FeatureUnion\n",
    "from sklearn.base import BaseEstimator, TransformerMixin\n",
    "from sklearn.model_selection import GridSearchCV\n",
    "from sklearn.impute import SimpleImputer\n",
    "\n",
    "from mlxtend.preprocessing import DenseTransformer\n",
    "from mlxtend.feature_selection import ColumnSelector\n",
    "\n",
    "from scipy import stats\n",
    "\n",
    "sns.set(color_codes=True)"
   ]
  },
  {
   "cell_type": "code",
   "execution_count": 2,
   "metadata": {},
   "outputs": [],
   "source": [
    "logger = logging.getLogger('ai')\n",
    "logging.basicConfig(level=logging.DEBUG,\n",
    "                    format='%(asctime)s  %(filename)s : %(levelname)s  %(message)s')"
   ]
  },
  {
   "cell_type": "markdown",
   "metadata": {},
   "source": [
    "# Features Engineering"
   ]
  },
  {
   "cell_type": "markdown",
   "metadata": {},
   "source": [
    "## outliers"
   ]
  },
  {
   "cell_type": "code",
   "execution_count": 3,
   "metadata": {},
   "outputs": [],
   "source": [
    "dateparse = lambda x: pd.datetime.strptime(x, '%d.%m.%Y')\n",
    "sales_df = pd.read_csv('../input/sales_train.csv', parse_dates = ['date'], date_parser=dateparse)"
   ]
  },
  {
   "cell_type": "code",
   "execution_count": 4,
   "metadata": {},
   "outputs": [],
   "source": [
    "item_df = pd.read_csv('../input/items.csv')\n",
    "shop_df = pd.read_csv('../input/shops.csv')\n",
    "category_df = pd.read_csv('../input/item_categories.csv')"
   ]
  },
  {
   "cell_type": "code",
   "execution_count": 5,
   "metadata": {},
   "outputs": [],
   "source": [
    "test_df = pd.read_csv('../input/test.csv').set_index('ID')"
   ]
  },
  {
   "cell_type": "markdown",
   "metadata": {},
   "source": [
    "### Clear the data out of range"
   ]
  },
  {
   "cell_type": "code",
   "execution_count": 6,
   "metadata": {},
   "outputs": [
    {
     "name": "stderr",
     "output_type": "stream",
     "text": [
      "2019-02-13 08:48:57,614  font_manager.py : DEBUG  findfont: Matching :family=sans-serif:style=normal:variant=normal:weight=normal:stretch=normal:size=11.0 to Arial ('/Library/Fonts/Arial.ttf') with score of 0.050000.\n",
      "2019-02-13 08:48:57,627  font_manager.py : DEBUG  findfont: Matching :family=sans-serif:style=normal:variant=normal:weight=normal:stretch=normal:size=12.0 to Arial ('/Library/Fonts/Arial.ttf') with score of 0.050000.\n",
      "2019-02-13 08:48:57,637  _base.py : DEBUG  update_title_pos\n",
      "2019-02-13 08:48:57,696  _base.py : DEBUG  update_title_pos\n",
      "2019-02-13 08:48:57,723  _base.py : DEBUG  update_title_pos\n",
      "2019-02-13 08:49:04,778  _base.py : DEBUG  update_title_pos\n",
      "2019-02-13 08:49:08,580  _base.py : DEBUG  update_title_pos\n",
      "2019-02-13 08:49:08,602  _base.py : DEBUG  update_title_pos\n",
      "2019-02-13 08:49:08,642  _base.py : DEBUG  update_title_pos\n",
      "2019-02-13 08:49:12,399  _base.py : DEBUG  update_title_pos\n",
      "2019-02-13 08:49:12,425  _base.py : DEBUG  update_title_pos\n",
      "2019-02-13 08:49:12,492  _base.py : DEBUG  update_title_pos\n",
      "2019-02-13 08:49:19,459  _base.py : DEBUG  update_title_pos\n",
      "2019-02-13 08:49:19,497  _base.py : DEBUG  update_title_pos\n",
      "2019-02-13 08:49:26,857  _base.py : DEBUG  update_title_pos\n",
      "2019-02-13 08:49:34,383  _base.py : DEBUG  update_title_pos\n",
      "2019-02-13 08:49:34,433  _base.py : DEBUG  update_title_pos\n",
      "2019-02-13 08:49:34,487  _base.py : DEBUG  update_title_pos\n",
      "2019-02-13 08:49:38,323  _base.py : DEBUG  update_title_pos\n",
      "2019-02-13 08:49:38,376  _base.py : DEBUG  update_title_pos\n"
     ]
    },
    {
     "data": {
      "image/png": "[encoded data removed]",
      "text/plain": [
       "<Figure size 432x432 with 3 Axes>"
      ]
     },
     "metadata": {
      "needs_background": "light"
     },
     "output_type": "display_data"
    }
   ],
   "source": [
    "sns.jointplot(x=\"item_cnt_day\", y=\"item_price\", data=sales_df);"
   ]
  },
  {
   "cell_type": "code",
   "execution_count": 7,
   "metadata": {},
   "outputs": [
    {
     "name": "stderr",
     "output_type": "stream",
     "text": [
      "2019-02-13 08:49:38,518  <ipython-input-7-ea685e07fb41> : INFO  item_price more than 100000 is 1\n",
      "2019-02-13 08:49:38,533  <ipython-input-7-ea685e07fb41> : INFO  item_cnt_day more than 1000 is 1\n"
     ]
    }
   ],
   "source": [
    "logger.info(\"item_price more than 100000 is %d\" % sales_df[sales_df.item_price > 100000].shape[0])\n",
    "logger.info(\"item_cnt_day more than 1000 is %d\" % sales_df[sales_df.item_cnt_day > 1000].shape[0])"
   ]
  },
  {
   "cell_type": "code",
   "execution_count": 8,
   "metadata": {},
   "outputs": [],
   "source": [
    "sales_df = sales_df[sales_df.item_price<100000]\n",
    "sales_df = sales_df[sales_df.item_cnt_day<1000]"
   ]
  },
  {
   "cell_type": "markdown",
   "metadata": {},
   "source": [
    "### Correct the negative item price"
   ]
  },
  {
   "cell_type": "code",
   "execution_count": 9,
   "metadata": {},
   "outputs": [
    {
     "data": {
      "text/html": [
       "<div>\n",
       "<style scoped>\n",
       "    .dataframe tbody tr th:only-of-type {\n",
       "        vertical-align: middle;\n",
       "    }\n",
       "\n",
       "    .dataframe tbody tr th {\n",
       "        vertical-align: top;\n",
       "    }\n",
       "\n",
       "    .dataframe thead th {\n",
       "        text-align: right;\n",
       "    }\n",
       "</style>\n",
       "<table border=\"1\" class=\"dataframe\">\n",
       "  <thead>\n",
       "    <tr style=\"text-align: right;\">\n",
       "      <th></th>\n",
       "      <th>date</th>\n",
       "      <th>date_block_num</th>\n",
       "      <th>shop_id</th>\n",
       "      <th>item_id</th>\n",
       "      <th>item_price</th>\n",
       "      <th>item_cnt_day</th>\n",
       "    </tr>\n",
       "  </thead>\n",
       "  <tbody>\n",
       "    <tr>\n",
       "      <th>484683</th>\n",
       "      <td>2013-05-15</td>\n",
       "      <td>4</td>\n",
       "      <td>32</td>\n",
       "      <td>2973</td>\n",
       "      <td>-1.0</td>\n",
       "      <td>1.0</td>\n",
       "    </tr>\n",
       "  </tbody>\n",
       "</table>\n",
       "</div>"
      ],
      "text/plain": [
       "             date  date_block_num  shop_id  item_id  item_price  item_cnt_day\n",
       "484683 2013-05-15               4       32     2973        -1.0           1.0"
      ]
     },
     "execution_count": 9,
     "metadata": {},
     "output_type": "execute_result"
    }
   ],
   "source": [
    "sales_df[sales_df.item_price < 0]"
   ]
  },
  {
   "cell_type": "code",
   "execution_count": 10,
   "metadata": {},
   "outputs": [],
   "source": [
    "sales_df.at[484683, 'item_price'] = sales_df[(sales_df.item_id == 2973) & (sales_df.item_price > 0)].item_price.mean()"
   ]
  },
  {
   "cell_type": "markdown",
   "metadata": {},
   "source": [
    "### Adjust duplicates by shop name\n",
    "\n",
    "According to the reference, some shops are duplicates. This feature found is based on the language background."
   ]
  },
  {
   "cell_type": "code",
   "execution_count": 11,
   "metadata": {},
   "outputs": [
    {
     "data": {
      "text/html": [
       "<div>\n",
       "<style scoped>\n",
       "    .dataframe tbody tr th:only-of-type {\n",
       "        vertical-align: middle;\n",
       "    }\n",
       "\n",
       "    .dataframe tbody tr th {\n",
       "        vertical-align: top;\n",
       "    }\n",
       "\n",
       "    .dataframe thead th {\n",
       "        text-align: right;\n",
       "    }\n",
       "</style>\n",
       "<table border=\"1\" class=\"dataframe\">\n",
       "  <thead>\n",
       "    <tr style=\"text-align: right;\">\n",
       "      <th></th>\n",
       "      <th>shop_name</th>\n",
       "      <th>shop_id</th>\n",
       "    </tr>\n",
       "  </thead>\n",
       "  <tbody>\n",
       "    <tr>\n",
       "      <th>0</th>\n",
       "      <td>!Якутск Орджоникидзе, 56 фран</td>\n",
       "      <td>0</td>\n",
       "    </tr>\n",
       "  </tbody>\n",
       "</table>\n",
       "</div>"
      ],
      "text/plain": [
       "                       shop_name  shop_id\n",
       "0  !Якутск Орджоникидзе, 56 фран        0"
      ]
     },
     "execution_count": 11,
     "metadata": {},
     "output_type": "execute_result"
    }
   ],
   "source": [
    "shop_df[shop_df.shop_id == 0]"
   ]
  },
  {
   "cell_type": "code",
   "execution_count": 12,
   "metadata": {},
   "outputs": [
    {
     "data": {
      "text/html": [
       "<div>\n",
       "<style scoped>\n",
       "    .dataframe tbody tr th:only-of-type {\n",
       "        vertical-align: middle;\n",
       "    }\n",
       "\n",
       "    .dataframe tbody tr th {\n",
       "        vertical-align: top;\n",
       "    }\n",
       "\n",
       "    .dataframe thead th {\n",
       "        text-align: right;\n",
       "    }\n",
       "</style>\n",
       "<table border=\"1\" class=\"dataframe\">\n",
       "  <thead>\n",
       "    <tr style=\"text-align: right;\">\n",
       "      <th></th>\n",
       "      <th>shop_name</th>\n",
       "      <th>shop_id</th>\n",
       "    </tr>\n",
       "  </thead>\n",
       "  <tbody>\n",
       "    <tr>\n",
       "      <th>57</th>\n",
       "      <td>Якутск Орджоникидзе, 56</td>\n",
       "      <td>57</td>\n",
       "    </tr>\n",
       "  </tbody>\n",
       "</table>\n",
       "</div>"
      ],
      "text/plain": [
       "                  shop_name  shop_id\n",
       "57  Якутск Орджоникидзе, 56       57"
      ]
     },
     "execution_count": 12,
     "metadata": {},
     "output_type": "execute_result"
    }
   ],
   "source": [
    "shop_df[shop_df.shop_id == 57]"
   ]
  },
  {
   "cell_type": "markdown",
   "metadata": {},
   "source": [
    "The shop_id 0 and 57 are the same shop. And other pairs are 1 and 58, 10 and 11."
   ]
  },
  {
   "cell_type": "code",
   "execution_count": 13,
   "metadata": {},
   "outputs": [],
   "source": [
    "# Якутск Орджоникидзе, 56\n",
    "sales_df.at[sales_df.shop_id == 0, 'shop_id'] = 57\n",
    "# Якутск ТЦ \"Центральный\"\n",
    "sales_df.at[sales_df.shop_id == 1, 'shop_id'] = 58\n",
    "# Жуковский ул. Чкалова 39м²\n",
    "sales_df.at[sales_df.shop_id == 10, 'shop_id'] = 11"
   ]
  },
  {
   "cell_type": "markdown",
   "metadata": {},
   "source": [
    "## Merge Data into one entity"
   ]
  },
  {
   "cell_type": "code",
   "execution_count": 14,
   "metadata": {},
   "outputs": [],
   "source": [
    "sales_detail_df = sales_df.groupby(['shop_id', 'item_id', 'date_block_num'])['item_cnt_day'].sum().reset_index(name='item_cnt_month')\n",
    "sales_price_df = sales_df.groupby(['shop_id', 'item_id', 'date_block_num'])['item_price'].mean().reset_index(name='item_avg_price')\n",
    "\n",
    "sales_detail_df = pd.merge(sales_detail_df, sales_price_df, on=['shop_id', 'item_id', 'date_block_num'], how='left')\n",
    "sales_detail_df = pd.merge(sales_detail_df, item_df, on=['item_id'], how='left')\n",
    "sales_detail_df = pd.merge(sales_detail_df, shop_df, on=['shop_id'], how='left')\n",
    "sales_detail_df = pd.merge(sales_detail_df, category_df, on=['item_category_id'], how='left')"
   ]
  },
  {
   "cell_type": "markdown",
   "metadata": {},
   "source": [
    "## Basic Features"
   ]
  },
  {
   "cell_type": "markdown",
   "metadata": {},
   "source": [
    "+ **Feature 'city'**: Each shop_name starts with the city name."
   ]
  },
  {
   "cell_type": "code",
   "execution_count": 15,
   "metadata": {},
   "outputs": [],
   "source": [
    "sales_detail_df.loc[sales_detail_df.shop_name == 'Сергиев Посад ТЦ \"7Я\"', 'shop_name'] = 'СергиевПосад ТЦ \"7Я\"'\n",
    "sales_detail_df['city'] = sales_detail_df['shop_name'].str.split(' ').map(lambda x: x[0])\n",
    "sales_detail_df.loc[sales_detail_df.city == '!Якутск', 'city'] = 'Якутск'"
   ]
  },
  {
   "cell_type": "markdown",
   "metadata": {},
   "source": [
    "+ **Feature 'type'**: Each category contains type and subtype in its name.\n",
    "+ **Feature 'subtype'**: Each category contains type and subtype in its name."
   ]
  },
  {
   "cell_type": "code",
   "execution_count": 16,
   "metadata": {},
   "outputs": [],
   "source": [
    "sales_detail_df['type'] = sales_detail_df['item_category_name'].map(lambda x: x.split('-')[0].strip())"
   ]
  },
  {
   "cell_type": "code",
   "execution_count": 17,
   "metadata": {},
   "outputs": [],
   "source": [
    "sales_detail_df['subtype'] = sales_detail_df['item_category_name'].map(lambda x: x.split('-')[1].strip() if len(x.split('-')) > 1 else x.split('-')[0].strip())"
   ]
  },
  {
   "cell_type": "markdown",
   "metadata": {},
   "source": [
    "## Split train and valid data set\n",
    "\n",
    "Dataset_Beta: \n",
    "\n",
    "+ train: 01.2013 - 09.2014\n",
    "+ test: 10.2014\n",
    "\n",
    "Dataset_Alpha:\n",
    "\n",
    "+ train:01.2013 - 10.2014\n",
    "+ test: 11.2014\n",
    "\n",
    "Dataset_Pred:\n",
    "\n",
    "+ train: 01.2013 - 11.2014\n",
    "+ test: 12.2014"
   ]
  },
  {
   "cell_type": "code",
   "execution_count": 18,
   "metadata": {},
   "outputs": [],
   "source": [
    "FILENAME = 'dataset_alpha'"
   ]
  },
  {
   "cell_type": "code",
   "execution_count": 19,
   "metadata": {},
   "outputs": [],
   "source": [
    "def extract_shop_item_features(dataset_core, dataset_detail, keys, prefix):\n",
    "    \n",
    "    count = 0\n",
    "    for i in range(1, 25, 1):\n",
    "        count = count + 1\n",
    "        \n",
    "        # Feature: historical sales monthly\n",
    "        t = dataset_detail[dataset_detail['date_block_num'] == (predict_date_block_num-i)][keys+['item_cnt_month']].rename(index=str, columns={'item_cnt_month': prefix+str(count)})\n",
    "        dataset_core = pd.merge(dataset_core, t, on=keys, how='left')\n",
    "          \n",
    "    for i in range(1, 13, 1):\n",
    "        count = count + 1\n",
    "        \n",
    "        # Feature: 去年同比\n",
    "        dataset_core[prefix + str(count)] = dataset_core[prefix + str(i)] / dataset_core[prefix + str(i+12)]\n",
    "        \n",
    "    \n",
    "    for i in range(1, 24, 1):\n",
    "        count = count + 1\n",
    "        dataset_core[prefix + str(count)] = dataset_core[prefix + str(i)] / dataset_core[prefix + str(i+1)]\n",
    "    \n",
    "    count = count + 1\n",
    "    t = dataset_detail.groupby(keys)['item_cnt_month'].mean().reset_index().rename(index=str, columns={'item_cnt_month': prefix + str(count)})\n",
    "    dataset_core = pd.merge(dataset_core, t, on=keys, how='left')\n",
    "\n",
    "    count = count + 1\n",
    "    t = dataset_detail[keys+['item_cnt_month']].groupby(keys).agg(lambda x: stats.mode(x)[0][0]).reset_index().rename(index=str, columns={'item_cnt_month': prefix + str(count)})\n",
    "    dataset_core = pd.merge(dataset_core, t, on=keys, how='left')\n",
    "    \n",
    "    dataset_core = dataset_core.replace([np.inf, -np.inf], np.nan)\n",
    "    dataset_core = dataset_core.fillna(0)\n",
    "    \n",
    "    return dataset_core"
   ]
  },
  {
   "cell_type": "code",
   "execution_count": 20,
   "metadata": {},
   "outputs": [],
   "source": [
    "def extract_avg_features(dataset_core, dataset_detail, keys, prefix):\n",
    "    \n",
    "    count = 0\n",
    "    for i in range(1, 25, 1):\n",
    "        count = count + 1\n",
    "        \n",
    "        # Feature: historical sales monthly\n",
    "        t = dataset_detail[dataset_detail['date_block_num'] == (predict_date_block_num-i)].groupby(keys)['item_cnt_month'].mean().reset_index(name=prefix + str(count))\n",
    "        dataset_core = pd.merge(dataset_core, t, on=keys, how='left')\n",
    "        \n",
    "    \n",
    "    for i in range(1, 13, 1):\n",
    "        count = count + 1\n",
    "        \n",
    "        # Feature: 去年同比\n",
    "        dataset_core[prefix + str(count)] = dataset_core[prefix + str(i)] / dataset_core[prefix + str(i+12)]\n",
    "        \n",
    "    \n",
    "    for i in range(1, 24, 1):\n",
    "        count = count + 1\n",
    "        dataset_core[prefix + str(count)] = dataset_core[prefix + str(i)] / dataset_core[prefix + str(i+1)]\n",
    "        \n",
    "    \n",
    "    count = count + 1\n",
    "    t = dataset_detail.groupby(keys)['item_cnt_month'].mean().reset_index().rename(index=str, columns={'item_cnt_month': prefix + str(count)})\n",
    "    dataset_core = pd.merge(dataset_core, t, on=keys, how='left')\n",
    "    \n",
    "    count = count + 1\n",
    "    t = dataset_detail[keys+['item_cnt_month']].groupby(keys).agg(lambda x: stats.mode(x)[0][0]).reset_index().rename(index=str, columns={'item_cnt_month': prefix + str(count)})\n",
    "    dataset_core = pd.merge(dataset_core, t, on=keys, how='left')\n",
    "    \n",
    "    dataset_core = dataset_core.replace([np.inf, -np.inf], np.nan)\n",
    "    dataset_core = dataset_core.fillna(0)\n",
    "    \n",
    "    return dataset_core"
   ]
  },
  {
   "cell_type": "code",
   "execution_count": 21,
   "metadata": {},
   "outputs": [],
   "source": [
    "arr = []\n",
    "for predict_date_block_num in range(25, 34, 1):\n",
    "    \n",
    "    dataset_core = sales_detail_df[sales_detail_df['date_block_num'] == predict_date_block_num]\n",
    "    dataset_detail = sales_detail_df[sales_detail_df['date_block_num'] < predict_date_block_num]\n",
    "\n",
    "    ## Shop Item Sale Features\n",
    "    ## monthly sales\n",
    "    dataset_core = extract_shop_item_features(dataset_core, dataset_detail, ['shop_id', 'item_id'], 'sis')\n",
    "\n",
    "    ## Item Sale Features\n",
    "    dataset_core = extract_avg_features(dataset_core, dataset_detail, ['item_id'], 'is')\n",
    "\n",
    "    ## Shop Features\n",
    "    dataset_core = extract_avg_features(dataset_core, dataset_detail, ['shop_id'], 's')\n",
    "\n",
    "    ## City Features\n",
    "    dataset_core = extract_avg_features(dataset_core, dataset_detail, ['shop_id', 'city'], 'c')\n",
    "\n",
    "    ## Item Category Features\n",
    "    dataset_core = extract_avg_features(dataset_core, dataset_detail, ['item_id', 'item_category_id'], 'ic')\n",
    "\n",
    "    ## Type Category Features\n",
    "    dataset_core = extract_avg_features(dataset_core, dataset_detail, ['item_id', 'type'], 't')\n",
    "\n",
    "    ## Subtype Category Features\n",
    "    dataset_core = extract_avg_features(dataset_core, dataset_detail, ['item_id', 'subtype'], 'st')\n",
    "    \n",
    "    arr.append(dataset_core)"
   ]
  },
  {
   "cell_type": "code",
   "execution_count": 22,
   "metadata": {},
   "outputs": [
    {
     "data": {
      "text/plain": [
       "9"
      ]
     },
     "execution_count": 22,
     "metadata": {},
     "output_type": "execute_result"
    }
   ],
   "source": [
    "len(arr)"
   ]
  },
  {
   "cell_type": "code",
   "execution_count": 23,
   "metadata": {},
   "outputs": [],
   "source": [
    "dataset = pd.concat(arr)"
   ]
  },
  {
   "cell_type": "markdown",
   "metadata": {},
   "source": [
    "## Feature Selection"
   ]
  },
  {
   "cell_type": "code",
   "execution_count": 24,
   "metadata": {},
   "outputs": [],
   "source": [
    "dataset['city'] = dataset['city'].astype('str')\n",
    "dataset['type'] = dataset['type'].astype('str')\n",
    "dataset['subtype'] = dataset['subtype'].astype('str')"
   ]
  },
  {
   "cell_type": "code",
   "execution_count": 25,
   "metadata": {},
   "outputs": [
    {
     "data": {
      "text/plain": [
       "array(['shop_id', 'item_id', 'date_block_num', 'item_cnt_month',\n",
       "       'item_avg_price', 'item_name', 'item_category_id', 'shop_name',\n",
       "       'item_category_name', 'city', 'type', 'subtype', 'sis1', 'sis2',\n",
       "       'sis3', 'sis4', 'sis5', 'sis6', 'sis7', 'sis8', 'sis9', 'sis10',\n",
       "       'sis11', 'sis12', 'sis13', 'sis14', 'sis15', 'sis16', 'sis17',\n",
       "       'sis18', 'sis19', 'sis20', 'sis21', 'sis22', 'sis23', 'sis24',\n",
       "       'sis25', 'sis26', 'sis27', 'sis28', 'sis29', 'sis30', 'sis31',\n",
       "       'sis32', 'sis33', 'sis34', 'sis35', 'sis36', 'sis37', 'sis38',\n",
       "       'sis39', 'sis40', 'sis41', 'sis42', 'sis43', 'sis44', 'sis45',\n",
       "       'sis46', 'sis47', 'sis48', 'sis49', 'sis50', 'sis51', 'sis52',\n",
       "       'sis53', 'sis54', 'sis55', 'sis56', 'sis57', 'sis58', 'sis59',\n",
       "       'sis60', 'sis61', 'is1', 'is2', 'is3', 'is4', 'is5', 'is6', 'is7',\n",
       "       'is8', 'is9', 'is10', 'is11', 'is12', 'is13', 'is14', 'is15',\n",
       "       'is16', 'is17', 'is18', 'is19', 'is20', 'is21', 'is22', 'is23',\n",
       "       'is24', 'is25', 'is26', 'is27', 'is28', 'is29', 'is30', 'is31',\n",
       "       'is32', 'is33', 'is34', 'is35', 'is36', 'is37', 'is38', 'is39',\n",
       "       'is40', 'is41', 'is42', 'is43', 'is44', 'is45', 'is46', 'is47',\n",
       "       'is48', 'is49', 'is50', 'is51', 'is52', 'is53', 'is54', 'is55',\n",
       "       'is56', 'is57', 'is58', 'is59', 'is60', 'is61', 's1', 's2', 's3',\n",
       "       's4', 's5', 's6', 's7', 's8', 's9', 's10', 's11', 's12', 's13',\n",
       "       's14', 's15', 's16', 's17', 's18', 's19', 's20', 's21', 's22',\n",
       "       's23', 's24', 's25', 's26', 's27', 's28', 's29', 's30', 's31',\n",
       "       's32', 's33', 's34', 's35', 's36', 's37', 's38', 's39', 's40',\n",
       "       's41', 's42', 's43', 's44', 's45', 's46', 's47', 's48', 's49',\n",
       "       's50', 's51', 's52', 's53', 's54', 's55', 's56', 's57', 's58',\n",
       "       's59', 's60', 's61', 'c1', 'c2', 'c3', 'c4', 'c5', 'c6', 'c7',\n",
       "       'c8', 'c9', 'c10', 'c11', 'c12', 'c13', 'c14', 'c15', 'c16', 'c17',\n",
       "       'c18', 'c19', 'c20', 'c21', 'c22', 'c23', 'c24', 'c25', 'c26',\n",
       "       'c27', 'c28', 'c29', 'c30', 'c31', 'c32', 'c33', 'c34', 'c35',\n",
       "       'c36', 'c37', 'c38', 'c39', 'c40', 'c41', 'c42', 'c43', 'c44',\n",
       "       'c45', 'c46', 'c47', 'c48', 'c49', 'c50', 'c51', 'c52', 'c53',\n",
       "       'c54', 'c55', 'c56', 'c57', 'c58', 'c59', 'c60', 'c61', 'ic1',\n",
       "       'ic2', 'ic3', 'ic4', 'ic5', 'ic6', 'ic7', 'ic8', 'ic9', 'ic10',\n",
       "       'ic11', 'ic12', 'ic13', 'ic14', 'ic15', 'ic16', 'ic17', 'ic18',\n",
       "       'ic19', 'ic20', 'ic21', 'ic22', 'ic23', 'ic24', 'ic25', 'ic26',\n",
       "       'ic27', 'ic28', 'ic29', 'ic30', 'ic31', 'ic32', 'ic33', 'ic34',\n",
       "       'ic35', 'ic36', 'ic37', 'ic38', 'ic39', 'ic40', 'ic41', 'ic42',\n",
       "       'ic43', 'ic44', 'ic45', 'ic46', 'ic47', 'ic48', 'ic49', 'ic50',\n",
       "       'ic51', 'ic52', 'ic53', 'ic54', 'ic55', 'ic56', 'ic57', 'ic58',\n",
       "       'ic59', 'ic60', 'ic61', 't1', 't2', 't3', 't4', 't5', 't6', 't7',\n",
       "       't8', 't9', 't10', 't11', 't12', 't13', 't14', 't15', 't16', 't17',\n",
       "       't18', 't19', 't20', 't21', 't22', 't23', 't24', 't25', 't26',\n",
       "       't27', 't28', 't29', 't30', 't31', 't32', 't33', 't34', 't35',\n",
       "       't36', 't37', 't38', 't39', 't40', 't41', 't42', 't43', 't44',\n",
       "       't45', 't46', 't47', 't48', 't49', 't50', 't51', 't52', 't53',\n",
       "       't54', 't55', 't56', 't57', 't58', 't59', 't60', 't61', 'st1',\n",
       "       'st2', 'st3', 'st4', 'st5', 'st6', 'st7', 'st8', 'st9', 'st10',\n",
       "       'st11', 'st12', 'st13', 'st14', 'st15', 'st16', 'st17', 'st18',\n",
       "       'st19', 'st20', 'st21', 'st22', 'st23', 'st24', 'st25', 'st26',\n",
       "       'st27', 'st28', 'st29', 'st30', 'st31', 'st32', 'st33', 'st34',\n",
       "       'st35', 'st36', 'st37', 'st38', 'st39', 'st40', 'st41', 'st42',\n",
       "       'st43', 'st44', 'st45', 'st46', 'st47', 'st48', 'st49', 'st50',\n",
       "       'st51', 'st52', 'st53', 'st54', 'st55', 'st56', 'st57', 'st58',\n",
       "       'st59', 'st60', 'st61'], dtype=object)"
      ]
     },
     "execution_count": 25,
     "metadata": {},
     "output_type": "execute_result"
    }
   ],
   "source": [
    "dataset.columns.values"
   ]
  },
  {
   "cell_type": "code",
   "execution_count": 26,
   "metadata": {},
   "outputs": [],
   "source": [
    "continuous = [\n",
    "    'shop_id', 'item_id', 'date_block_num',\n",
    "       'item_avg_price', 'item_category_id', 'sis1', 'sis2',\n",
    "       'sis3', 'sis4', 'sis5', 'sis6', 'sis7', 'sis8', 'sis9', 'sis10',\n",
    "       'sis11', 'sis12', 'sis13', 'sis14', 'sis15', 'sis16', 'sis17',\n",
    "       'sis18', 'sis19', 'sis20', 'sis21', 'sis22', 'sis23', 'sis24',\n",
    "       'sis25', 'sis26', 'sis27', 'sis28', 'sis29', 'sis30', 'sis31',\n",
    "       'sis32', 'sis33', 'sis34', 'sis35', 'sis36', 'sis37', 'sis38',\n",
    "       'sis39', 'sis40', 'sis41', 'sis42', 'sis43', 'sis44', 'sis45',\n",
    "       'sis46', 'sis47', 'sis48', 'sis49', 'sis50', 'sis51', 'sis52',\n",
    "       'sis53', 'sis54', 'sis55', 'sis56', 'sis57', 'sis58', 'sis59',\n",
    "       'sis60', 'sis61', 'is1', 'is2', 'is3', 'is4', 'is5', 'is6', 'is7',\n",
    "       'is8', 'is9', 'is10', 'is11', 'is12', 'is13', 'is14', 'is15',\n",
    "       'is16', 'is17', 'is18', 'is19', 'is20', 'is21', 'is22', 'is23',\n",
    "       'is24', 'is25', 'is26', 'is27', 'is28', 'is29', 'is30', 'is31',\n",
    "       'is32', 'is33', 'is34', 'is35', 'is36', 'is37', 'is38', 'is39',\n",
    "       'is40', 'is41', 'is42', 'is43', 'is44', 'is45', 'is46', 'is47',\n",
    "       'is48', 'is49', 'is50', 'is51', 'is52', 'is53', 'is54', 'is55',\n",
    "       'is56', 'is57', 'is58', 'is59', 'is60', 'is61', 's1', 's2', 's3',\n",
    "       's4', 's5', 's6', 's7', 's8', 's9', 's10', 's11', 's12', 's13',\n",
    "       's14', 's15', 's16', 's17', 's18', 's19', 's20', 's21', 's22',\n",
    "       's23', 's24', 's25', 's26', 's27', 's28', 's29', 's30', 's31',\n",
    "       's32', 's33', 's34', 's35', 's36', 's37', 's38', 's39', 's40',\n",
    "       's41', 's42', 's43', 's44', 's45', 's46', 's47', 's48', 's49',\n",
    "       's50', 's51', 's52', 's53', 's54', 's55', 's56', 's57', 's58',\n",
    "       's59', 's60', 's61', 'c1', 'c2', 'c3', 'c4', 'c5', 'c6', 'c7',\n",
    "       'c8', 'c9', 'c10', 'c11', 'c12', 'c13', 'c14', 'c15', 'c16', 'c17',\n",
    "       'c18', 'c19', 'c20', 'c21', 'c22', 'c23', 'c24', 'c25', 'c26',\n",
    "       'c27', 'c28', 'c29', 'c30', 'c31', 'c32', 'c33', 'c34', 'c35',\n",
    "       'c36', 'c37', 'c38', 'c39', 'c40', 'c41', 'c42', 'c43', 'c44',\n",
    "       'c45', 'c46', 'c47', 'c48', 'c49', 'c50', 'c51', 'c52', 'c53',\n",
    "       'c54', 'c55', 'c56', 'c57', 'c58', 'c59', 'c60', 'c61', 'ic1',\n",
    "       'ic2', 'ic3', 'ic4', 'ic5', 'ic6', 'ic7', 'ic8', 'ic9', 'ic10',\n",
    "       'ic11', 'ic12', 'ic13', 'ic14', 'ic15', 'ic16', 'ic17', 'ic18',\n",
    "       'ic19', 'ic20', 'ic21', 'ic22', 'ic23', 'ic24', 'ic25', 'ic26',\n",
    "       'ic27', 'ic28', 'ic29', 'ic30', 'ic31', 'ic32', 'ic33', 'ic34',\n",
    "       'ic35', 'ic36', 'ic37', 'ic38', 'ic39', 'ic40', 'ic41', 'ic42',\n",
    "       'ic43', 'ic44', 'ic45', 'ic46', 'ic47', 'ic48', 'ic49', 'ic50',\n",
    "       'ic51', 'ic52', 'ic53', 'ic54', 'ic55', 'ic56', 'ic57', 'ic58',\n",
    "       'ic59', 'ic60', 'ic61', 't1', 't2', 't3', 't4', 't5', 't6', 't7',\n",
    "       't8', 't9', 't10', 't11', 't12', 't13', 't14', 't15', 't16', 't17',\n",
    "       't18', 't19', 't20', 't21', 't22', 't23', 't24', 't25', 't26',\n",
    "       't27', 't28', 't29', 't30', 't31', 't32', 't33', 't34', 't35',\n",
    "       't36', 't37', 't38', 't39', 't40', 't41', 't42', 't43', 't44',\n",
    "       't45', 't46', 't47', 't48', 't49', 't50', 't51', 't52', 't53',\n",
    "       't54', 't55', 't56', 't57', 't58', 't59', 't60', 't61', 'st1',\n",
    "       'st2', 'st3', 'st4', 'st5', 'st6', 'st7', 'st8', 'st9', 'st10',\n",
    "       'st11', 'st12', 'st13', 'st14', 'st15', 'st16', 'st17', 'st18',\n",
    "       'st19', 'st20', 'st21', 'st22', 'st23', 'st24', 'st25', 'st26',\n",
    "       'st27', 'st28', 'st29', 'st30', 'st31', 'st32', 'st33', 'st34',\n",
    "       'st35', 'st36', 'st37', 'st38', 'st39', 'st40', 'st41', 'st42',\n",
    "       'st43', 'st44', 'st45', 'st46', 'st47', 'st48', 'st49', 'st50',\n",
    "       'st51', 'st52', 'st53', 'st54', 'st55', 'st56', 'st57', 'st58',\n",
    "       'st59', 'st60', 'st61'\n",
    "]\n",
    "\n",
    "fields = [\n",
    "    'city', 'type', 'subtype'\n",
    "]\n",
    "\n",
    "label = ['item_cnt_month']"
   ]
  },
  {
   "cell_type": "code",
   "execution_count": 27,
   "metadata": {},
   "outputs": [
    {
     "data": {
      "text/plain": [
       "XGBRegressor(base_score=0.5, booster='gbtree', colsample_bylevel=1,\n",
       "       colsample_bytree=1, gamma=0, learning_rate=0.1, max_delta_step=0,\n",
       "       max_depth=3, min_child_weight=1, missing=None, n_estimators=20,\n",
       "       n_jobs=1, nthread=None, objective='reg:linear', random_state=0,\n",
       "       reg_alpha=0, reg_lambda=1, scale_pos_weight=1, seed=None,\n",
       "       silent=True, subsample=1)"
      ]
     },
     "execution_count": 27,
     "metadata": {},
     "output_type": "execute_result"
    }
   ],
   "source": [
    "feature_processor = Pipeline([\n",
    "    ('features', FeatureUnion([\n",
    "        ('continuous', Pipeline([\n",
    "            ('extract', ColumnSelector(continuous)),\n",
    "            ('imputer', SimpleImputer(missing_values=np.nan, strategy='most_frequent')),\n",
    "#             ('normalize', Normalizer())\n",
    "        ])),\n",
    "        ('fields', Pipeline([\n",
    "            ('extract', ColumnSelector(fields)),\n",
    "            ('imputer', SimpleImputer(missing_values=np.nan,  strategy='most_frequent')),\n",
    "            ('one_hot', OneHotEncoder(categories='auto')),\n",
    "            ('to_dense', DenseTransformer())\n",
    "        ])),\n",
    "    ])),\n",
    "#     ('sc4gbdt', StandardScaler()),\n",
    "])\n",
    "\n",
    "feature_processor.fit(dataset, dataset[label].values.ravel())\n",
    "selector_model = XGBRegressor(max_depth=3, n_estimators=20, random_state=0)\n",
    "selector_model.fit(feature_processor.transform(dataset), dataset[label].values.ravel())"
   ]
  },
  {
   "cell_type": "code",
   "execution_count": 28,
   "metadata": {},
   "outputs": [
    {
     "data": {
      "text/plain": [
       "array([0.01438849, 0.        , 0.        , 0.02158273, 0.02158273,\n",
       "       0.16546762, 0.03597122, 0.00719424, 0.03597122, 0.05035971,\n",
       "       0.01438849, 0.        , 0.        , 0.        , 0.07194245,\n",
       "       0.        , 0.02877698, 0.        , 0.01438849, 0.        ,\n",
       "       0.00719424, 0.        , 0.        , 0.        , 0.        ,\n",
       "       0.        , 0.00719424, 0.        , 0.        , 0.        ,\n",
       "       0.        , 0.        , 0.        , 0.        , 0.        ,\n",
       "       0.        , 0.        , 0.        , 0.        , 0.        ,\n",
       "       0.        , 0.00719424, 0.        , 0.        , 0.01438849,\n",
       "       0.00719424, 0.02158273, 0.        , 0.        , 0.        ,\n",
       "       0.        , 0.        , 0.        , 0.        , 0.02158273,\n",
       "       0.        , 0.        , 0.        , 0.        , 0.        ,\n",
       "       0.        , 0.        , 0.        , 0.        , 0.02877698,\n",
       "       0.00719424, 0.04316547, 0.02877698, 0.02158273, 0.        ,\n",
       "       0.        , 0.        , 0.        , 0.        , 0.00719424,\n",
       "       0.        , 0.        , 0.        , 0.        , 0.        ,\n",
       "       0.        , 0.        , 0.        , 0.        , 0.        ,\n",
       "       0.        , 0.        , 0.        , 0.        , 0.00719424,\n",
       "       0.        , 0.        , 0.        , 0.        , 0.        ,\n",
       "       0.        , 0.        , 0.        , 0.        , 0.        ,\n",
       "       0.        , 0.        , 0.02877698, 0.        , 0.        ,\n",
       "       0.        , 0.        , 0.        , 0.        , 0.        ,\n",
       "       0.        , 0.        , 0.        , 0.        , 0.        ,\n",
       "       0.        , 0.        , 0.        , 0.        , 0.        ,\n",
       "       0.        , 0.        , 0.        , 0.        , 0.        ,\n",
       "       0.02877698, 0.        , 0.00719424, 0.02158273, 0.        ,\n",
       "       0.        , 0.        , 0.        , 0.        , 0.05035971,\n",
       "       0.        , 0.        , 0.        , 0.00719424, 0.        ,\n",
       "       0.        , 0.00719424, 0.        , 0.        , 0.        ,\n",
       "       0.00719424, 0.        , 0.        , 0.00719424, 0.        ,\n",
       "       0.        , 0.        , 0.        , 0.        , 0.00719424,\n",
       "       0.        , 0.        , 0.        , 0.        , 0.        ,\n",
       "       0.        , 0.        , 0.        , 0.00719424, 0.        ,\n",
       "       0.        , 0.        , 0.        , 0.00719424, 0.        ,\n",
       "       0.        , 0.        , 0.        , 0.        , 0.        ,\n",
       "       0.        , 0.        , 0.        , 0.        , 0.        ,\n",
       "       0.        , 0.        , 0.        , 0.        , 0.        ,\n",
       "       0.        , 0.        , 0.        , 0.        , 0.        ,\n",
       "       0.        , 0.        , 0.        , 0.        , 0.        ,\n",
       "       0.        , 0.        , 0.        , 0.        , 0.        ,\n",
       "       0.        , 0.        , 0.        , 0.        , 0.        ,\n",
       "       0.        , 0.        , 0.        , 0.        , 0.        ,\n",
       "       0.        , 0.        , 0.        , 0.        , 0.        ,\n",
       "       0.        , 0.        , 0.        , 0.        , 0.        ,\n",
       "       0.        , 0.        , 0.        , 0.        , 0.        ,\n",
       "       0.        , 0.        , 0.        , 0.        , 0.        ,\n",
       "       0.        , 0.        , 0.        , 0.        , 0.        ,\n",
       "       0.        , 0.        , 0.        , 0.        , 0.        ,\n",
       "       0.        , 0.        , 0.        , 0.        , 0.        ,\n",
       "       0.        , 0.        , 0.        , 0.        , 0.        ,\n",
       "       0.        , 0.        , 0.        , 0.        , 0.        ,\n",
       "       0.        , 0.        , 0.        , 0.        , 0.        ,\n",
       "       0.        , 0.        , 0.        , 0.        , 0.        ,\n",
       "       0.        , 0.        , 0.        , 0.        , 0.        ,\n",
       "       0.        , 0.        , 0.        , 0.        , 0.        ,\n",
       "       0.        , 0.        , 0.        , 0.        , 0.        ,\n",
       "       0.        , 0.        , 0.        , 0.        , 0.        ,\n",
       "       0.        , 0.        , 0.        , 0.        , 0.        ,\n",
       "       0.        , 0.        , 0.        , 0.        , 0.        ,\n",
       "       0.        , 0.        , 0.        , 0.        , 0.        ,\n",
       "       0.        , 0.        , 0.        , 0.        , 0.        ,\n",
       "       0.        , 0.        , 0.        , 0.        , 0.        ,\n",
       "       0.        , 0.        , 0.        , 0.        , 0.        ,\n",
       "       0.        , 0.        , 0.        , 0.        , 0.        ,\n",
       "       0.        , 0.        , 0.        , 0.        , 0.        ,\n",
       "       0.        , 0.        , 0.        , 0.        , 0.        ,\n",
       "       0.        , 0.        , 0.        , 0.        , 0.        ,\n",
       "       0.        , 0.        , 0.        , 0.        , 0.        ,\n",
       "       0.        , 0.        , 0.        , 0.        , 0.        ,\n",
       "       0.        , 0.        , 0.        , 0.        , 0.        ,\n",
       "       0.        , 0.        , 0.        , 0.        , 0.        ,\n",
       "       0.        , 0.        , 0.        , 0.        , 0.        ,\n",
       "       0.        , 0.        , 0.        , 0.        , 0.        ,\n",
       "       0.        , 0.        , 0.        , 0.        , 0.        ,\n",
       "       0.        , 0.        , 0.        , 0.        , 0.        ,\n",
       "       0.        , 0.        , 0.        , 0.        , 0.        ,\n",
       "       0.        , 0.        , 0.        , 0.        , 0.        ,\n",
       "       0.        , 0.        , 0.        , 0.        , 0.        ,\n",
       "       0.        , 0.        , 0.        , 0.        , 0.        ,\n",
       "       0.        , 0.        , 0.        , 0.        , 0.        ,\n",
       "       0.        , 0.        , 0.        , 0.        , 0.        ,\n",
       "       0.        , 0.        , 0.        , 0.        , 0.        ,\n",
       "       0.        , 0.        , 0.        , 0.        , 0.        ,\n",
       "       0.        , 0.        , 0.        , 0.        , 0.        ,\n",
       "       0.        , 0.        , 0.        , 0.        , 0.        ,\n",
       "       0.        , 0.        , 0.        , 0.        , 0.        ,\n",
       "       0.        , 0.        , 0.        , 0.        , 0.        ,\n",
       "       0.        , 0.        , 0.        , 0.        , 0.        ,\n",
       "       0.        , 0.        , 0.        , 0.        , 0.        ,\n",
       "       0.        , 0.        , 0.        , 0.        , 0.        ,\n",
       "       0.        , 0.        , 0.        , 0.        , 0.        ,\n",
       "       0.        , 0.        , 0.        , 0.        , 0.        ,\n",
       "       0.        , 0.        , 0.        , 0.        , 0.07913669,\n",
       "       0.        , 0.        , 0.        , 0.        , 0.        ,\n",
       "       0.        , 0.        , 0.        , 0.        , 0.        ,\n",
       "       0.        , 0.        , 0.00719424, 0.        , 0.        ,\n",
       "       0.        , 0.        , 0.        , 0.        , 0.        ,\n",
       "       0.        , 0.        , 0.        , 0.        , 0.        ,\n",
       "       0.        , 0.        , 0.        , 0.        , 0.        ,\n",
       "       0.        , 0.        , 0.        , 0.        , 0.        ,\n",
       "       0.        , 0.        , 0.        , 0.        , 0.01438849,\n",
       "       0.        , 0.        , 0.        , 0.        , 0.        ,\n",
       "       0.        , 0.        , 0.        , 0.        , 0.        ,\n",
       "       0.        , 0.        , 0.        , 0.        , 0.        ,\n",
       "       0.        , 0.        , 0.        , 0.        , 0.        ,\n",
       "       0.        , 0.        , 0.        , 0.        , 0.        ,\n",
       "       0.        , 0.        , 0.        , 0.        ], dtype=float32)"
      ]
     },
     "execution_count": 28,
     "metadata": {},
     "output_type": "execute_result"
    }
   ],
   "source": [
    "selector_model.feature_importances_"
   ]
  },
  {
   "cell_type": "code",
   "execution_count": 29,
   "metadata": {},
   "outputs": [
    {
     "data": {
      "text/plain": [
       "[('shop_id', 0.01438849),\n",
       " ('item_avg_price', 0.021582734),\n",
       " ('item_category_id', 0.021582734),\n",
       " ('sis1', 0.16546762),\n",
       " ('sis2', 0.035971224),\n",
       " ('sis3', 0.007194245),\n",
       " ('sis4', 0.035971224),\n",
       " ('sis5', 0.05035971),\n",
       " ('sis6', 0.01438849),\n",
       " ('sis10', 0.07194245),\n",
       " ('sis12', 0.02877698),\n",
       " ('sis14', 0.01438849),\n",
       " ('sis16', 0.007194245),\n",
       " ('sis22', 0.007194245),\n",
       " ('sis37', 0.007194245),\n",
       " ('sis40', 0.01438849),\n",
       " ('sis41', 0.007194245),\n",
       " ('sis42', 0.021582734),\n",
       " ('sis50', 0.021582734),\n",
       " ('sis60', 0.02877698),\n",
       " ('sis61', 0.007194245),\n",
       " ('is1', 0.043165468),\n",
       " ('is2', 0.02877698),\n",
       " ('is3', 0.021582734),\n",
       " ('is9', 0.007194245),\n",
       " ('is24', 0.007194245),\n",
       " ('is37', 0.02877698),\n",
       " ('is60', 0.02877698),\n",
       " ('s1', 0.007194245),\n",
       " ('s2', 0.021582734),\n",
       " ('s8', 0.05035971),\n",
       " ('s12', 0.007194245),\n",
       " ('s15', 0.007194245),\n",
       " ('s19', 0.007194245),\n",
       " ('s22', 0.007194245),\n",
       " ('s28', 0.007194245),\n",
       " ('s37', 0.007194245),\n",
       " ('s42', 0.007194245)]"
      ]
     },
     "execution_count": 29,
     "metadata": {},
     "output_type": "execute_result"
    }
   ],
   "source": [
    "feature_selector = []\n",
    "for index, value in enumerate(selector_model.feature_importances_):\n",
    "    if value > 0 and index < len(continuous):\n",
    "        feature_selector.append((continuous[index], value))\n",
    "\n",
    "feature_selector"
   ]
  },
  {
   "cell_type": "markdown",
   "metadata": {},
   "source": [
    "## Save to CSV"
   ]
  },
  {
   "cell_type": "code",
   "execution_count": 35,
   "metadata": {},
   "outputs": [],
   "source": [
    "dataset.to_csv('../features/' + FILENAME + '.csv')"
   ]
  },
  {
   "cell_type": "markdown",
   "metadata": {},
   "source": [
    "# Reference"
   ]
  },
  {
   "cell_type": "markdown",
   "metadata": {},
   "source": [
    "## Normal ML Analysis\n",
    "\n",
    "+ [Feature engineering, xgboost](https://www.kaggle.com/dlarionov/feature-engineering-xgboost)"
   ]
  },
  {
   "cell_type": "markdown",
   "metadata": {},
   "source": [
    "## Time Series\n",
    "\n",
    "对于revenge的预测很有帮助，但是对于单个店的单个商品而言没有实际的意义，这种预测方式的学习非常有益处\n",
    "\n",
    "+ [AR(I)MA时间序列建模过程——步骤和python代码](https://www.jianshu.com/p/cced6617b423)\n",
    "+ [python时间序列分析](http://www.cnblogs.com/foley/p/5582358.html)\n",
    "+ [AR、MA及ARMA模型](https://zhuanlan.zhihu.com/p/22248464)\n",
    "+ [Time Series with Python (ODSC) STA.ipynb](https://github.com/ultimatist/ODSC17/blob/master/Time%20Series%20with%20Python%20(ODSC)%20STA.ipynb)\n",
    "+ [Getting Started with Time Series](https://pyflux.readthedocs.io/en/latest/getting_started.html)\n",
    "+ [Welcome to Statsmodels’s Documentation](http://www.statsmodels.org/devel/index.html)"
   ]
  },
  {
   "cell_type": "code",
   "execution_count": null,
   "metadata": {},
   "outputs": [],
   "source": []
  }
 ],
 "metadata": {
  "kernelspec": {
   "display_name": "Python 3",
   "language": "python",
   "name": "python3"
  },
  "language_info": {
   "codemirror_mode": {
    "name": "ipython",
    "version": 3
   },
   "file_extension": ".py",
   "mimetype": "text/x-python",
   "name": "python",
   "nbconvert_exporter": "python",
   "pygments_lexer": "ipython3",
   "version": "3.7.1"
  }
 },
 "nbformat": 4,
 "nbformat_minor": 2
}
