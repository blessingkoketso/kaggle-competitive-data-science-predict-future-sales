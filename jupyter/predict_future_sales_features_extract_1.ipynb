{
 "cells": [
  {
   "cell_type": "code",
   "execution_count": 1,
   "metadata": {},
   "outputs": [],
   "source": [
    "import numpy as np\n",
    "import pandas as pd\n",
    "import seaborn as sns\n",
    "import matplotlib.pyplot as plt\n",
    "from scipy import stats\n",
    "import logging\n",
    "import datetime\n",
    "\n",
    "from sklearn.preprocessing import StandardScaler\n",
    "from sklearn.decomposition import PCA\n",
    "from sklearn.linear_model import LogisticRegression, LinearRegression\n",
    "from sklearn.preprocessing import OneHotEncoder,MinMaxScaler, Normalizer, LabelEncoder\n",
    "from sklearn.feature_selection import SelectKBest,chi2,SelectFromModel\n",
    "from xgboost import XGBClassifier, XGBRegressor\n",
    "from sklearn.pipeline import Pipeline, FeatureUnion\n",
    "from sklearn.base import BaseEstimator, TransformerMixin\n",
    "from sklearn.model_selection import GridSearchCV\n",
    "from sklearn.impute import SimpleImputer\n",
    "from xgboost import plot_importance\n",
    "\n",
    "\n",
    "from mlxtend.preprocessing import DenseTransformer\n",
    "from mlxtend.feature_selection import ColumnSelector\n",
    "from ipypb import track, irange, ipb\n",
    "from scipy import stats\n",
    "from itertools import product\n",
    "\n",
    "sns.set(color_codes=True)"
   ]
  },
  {
   "cell_type": "code",
   "execution_count": 2,
   "metadata": {},
   "outputs": [],
   "source": [
    "logger = logging.getLogger('ai')\n",
    "logging.basicConfig(level=logging.DEBUG,\n",
    "                    format='%(asctime)s  %(filename)s : %(levelname)s  %(message)s')"
   ]
  },
  {
   "cell_type": "markdown",
   "metadata": {},
   "source": [
    "# Features Engineering"
   ]
  },
  {
   "cell_type": "markdown",
   "metadata": {},
   "source": [
    "## outliers"
   ]
  },
  {
   "cell_type": "code",
   "execution_count": 3,
   "metadata": {},
   "outputs": [],
   "source": [
    "dateparse = lambda x: pd.datetime.strptime(x, '%d.%m.%Y')\n",
    "sales_df = pd.read_csv('../input/sales_train.csv', parse_dates = ['date'], date_parser=dateparse)"
   ]
  },
  {
   "cell_type": "code",
   "execution_count": 4,
   "metadata": {},
   "outputs": [
    {
     "data": {
      "text/html": [
       "<div>\n",
       "<style scoped>\n",
       "    .dataframe tbody tr th:only-of-type {\n",
       "        vertical-align: middle;\n",
       "    }\n",
       "\n",
       "    .dataframe tbody tr th {\n",
       "        vertical-align: top;\n",
       "    }\n",
       "\n",
       "    .dataframe thead th {\n",
       "        text-align: right;\n",
       "    }\n",
       "</style>\n",
       "<table border=\"1\" class=\"dataframe\">\n",
       "  <thead>\n",
       "    <tr style=\"text-align: right;\">\n",
       "      <th></th>\n",
       "      <th>date</th>\n",
       "      <th>date_block_num</th>\n",
       "      <th>shop_id</th>\n",
       "      <th>item_id</th>\n",
       "      <th>item_price</th>\n",
       "      <th>item_cnt_day</th>\n",
       "    </tr>\n",
       "  </thead>\n",
       "  <tbody>\n",
       "    <tr>\n",
       "      <th>0</th>\n",
       "      <td>2013-01-02</td>\n",
       "      <td>0</td>\n",
       "      <td>59</td>\n",
       "      <td>22154</td>\n",
       "      <td>999.00</td>\n",
       "      <td>1.0</td>\n",
       "    </tr>\n",
       "    <tr>\n",
       "      <th>1</th>\n",
       "      <td>2013-01-03</td>\n",
       "      <td>0</td>\n",
       "      <td>25</td>\n",
       "      <td>2552</td>\n",
       "      <td>899.00</td>\n",
       "      <td>1.0</td>\n",
       "    </tr>\n",
       "    <tr>\n",
       "      <th>2</th>\n",
       "      <td>2013-01-05</td>\n",
       "      <td>0</td>\n",
       "      <td>25</td>\n",
       "      <td>2552</td>\n",
       "      <td>899.00</td>\n",
       "      <td>-1.0</td>\n",
       "    </tr>\n",
       "    <tr>\n",
       "      <th>3</th>\n",
       "      <td>2013-01-06</td>\n",
       "      <td>0</td>\n",
       "      <td>25</td>\n",
       "      <td>2554</td>\n",
       "      <td>1709.05</td>\n",
       "      <td>1.0</td>\n",
       "    </tr>\n",
       "    <tr>\n",
       "      <th>4</th>\n",
       "      <td>2013-01-15</td>\n",
       "      <td>0</td>\n",
       "      <td>25</td>\n",
       "      <td>2555</td>\n",
       "      <td>1099.00</td>\n",
       "      <td>1.0</td>\n",
       "    </tr>\n",
       "  </tbody>\n",
       "</table>\n",
       "</div>"
      ],
      "text/plain": [
       "        date  date_block_num  shop_id  item_id  item_price  item_cnt_day\n",
       "0 2013-01-02               0       59    22154      999.00           1.0\n",
       "1 2013-01-03               0       25     2552      899.00           1.0\n",
       "2 2013-01-05               0       25     2552      899.00          -1.0\n",
       "3 2013-01-06               0       25     2554     1709.05           1.0\n",
       "4 2013-01-15               0       25     2555     1099.00           1.0"
      ]
     },
     "execution_count": 4,
     "metadata": {},
     "output_type": "execute_result"
    }
   ],
   "source": [
    "sales_df.head()"
   ]
  },
  {
   "cell_type": "code",
   "execution_count": 5,
   "metadata": {},
   "outputs": [
    {
     "data": {
      "text/html": [
       "<div>\n",
       "<style scoped>\n",
       "    .dataframe tbody tr th:only-of-type {\n",
       "        vertical-align: middle;\n",
       "    }\n",
       "\n",
       "    .dataframe tbody tr th {\n",
       "        vertical-align: top;\n",
       "    }\n",
       "\n",
       "    .dataframe thead th {\n",
       "        text-align: right;\n",
       "    }\n",
       "</style>\n",
       "<table border=\"1\" class=\"dataframe\">\n",
       "  <thead>\n",
       "    <tr style=\"text-align: right;\">\n",
       "      <th></th>\n",
       "      <th>date</th>\n",
       "      <th>item_id</th>\n",
       "      <th>shop_id</th>\n",
       "      <th>item_cnt_day</th>\n",
       "      <th>item_price</th>\n",
       "    </tr>\n",
       "  </thead>\n",
       "  <tbody>\n",
       "    <tr>\n",
       "      <th>0</th>\n",
       "      <td>2013-01</td>\n",
       "      <td>19</td>\n",
       "      <td>25</td>\n",
       "      <td>1.0</td>\n",
       "      <td>28.0</td>\n",
       "    </tr>\n",
       "    <tr>\n",
       "      <th>1</th>\n",
       "      <td>2013-01</td>\n",
       "      <td>27</td>\n",
       "      <td>1</td>\n",
       "      <td>1.0</td>\n",
       "      <td>1890.0</td>\n",
       "    </tr>\n",
       "    <tr>\n",
       "      <th>2</th>\n",
       "      <td>2013-01</td>\n",
       "      <td>27</td>\n",
       "      <td>2</td>\n",
       "      <td>1.0</td>\n",
       "      <td>2499.0</td>\n",
       "    </tr>\n",
       "    <tr>\n",
       "      <th>3</th>\n",
       "      <td>2013-01</td>\n",
       "      <td>27</td>\n",
       "      <td>10</td>\n",
       "      <td>1.0</td>\n",
       "      <td>1890.0</td>\n",
       "    </tr>\n",
       "    <tr>\n",
       "      <th>4</th>\n",
       "      <td>2013-01</td>\n",
       "      <td>27</td>\n",
       "      <td>19</td>\n",
       "      <td>1.0</td>\n",
       "      <td>2499.0</td>\n",
       "    </tr>\n",
       "  </tbody>\n",
       "</table>\n",
       "</div>"
      ],
      "text/plain": [
       "      date  item_id  shop_id  item_cnt_day  item_price\n",
       "0  2013-01       19       25           1.0        28.0\n",
       "1  2013-01       27        1           1.0      1890.0\n",
       "2  2013-01       27        2           1.0      2499.0\n",
       "3  2013-01       27       10           1.0      1890.0\n",
       "4  2013-01       27       19           1.0      2499.0"
      ]
     },
     "execution_count": 5,
     "metadata": {},
     "output_type": "execute_result"
    }
   ],
   "source": [
    "sales_detail_df = sales_df.groupby([sales_df.date.apply(lambda x: x.strftime('%Y-%m')),'item_id','shop_id']).agg({'item_cnt_day': 'sum', 'item_price': 'mean'}).reset_index()\n",
    "sales_detail_df.head()"
   ]
  },
  {
   "cell_type": "code",
   "execution_count": 4,
   "metadata": {},
   "outputs": [],
   "source": [
    "item_df = pd.read_csv('../input/items.csv')\n",
    "shop_df = pd.read_csv('../input/shops.csv')\n",
    "category_df = pd.read_csv('../input/item_categories.csv')"
   ]
  },
  {
   "cell_type": "code",
   "execution_count": 5,
   "metadata": {},
   "outputs": [
    {
     "data": {
      "text/plain": [
       "\"\\ntest_df = pd.read_csv('../input/test.csv').set_index('ID')\\n\""
      ]
     },
     "execution_count": 5,
     "metadata": {},
     "output_type": "execute_result"
    }
   ],
   "source": [
    "'''\n",
    "test_df = pd.read_csv('../input/test.csv').set_index('ID')\n",
    "'''"
   ]
  },
  {
   "cell_type": "markdown",
   "metadata": {},
   "source": [
    "### Clear the data out of range"
   ]
  },
  {
   "cell_type": "code",
   "execution_count": 6,
   "metadata": {},
   "outputs": [
    {
     "name": "stderr",
     "output_type": "stream",
     "text": [
      "2019-02-14 21:21:16,449  <ipython-input-6-ea685e07fb41> : INFO  item_price more than 100000 is 1\n",
      "2019-02-14 21:21:16,454  <ipython-input-6-ea685e07fb41> : INFO  item_cnt_day more than 1000 is 1\n"
     ]
    }
   ],
   "source": [
    "logger.info(\"item_price more than 100000 is %d\" % sales_df[sales_df.item_price > 100000].shape[0])\n",
    "logger.info(\"item_cnt_day more than 1000 is %d\" % sales_df[sales_df.item_cnt_day > 1000].shape[0])"
   ]
  },
  {
   "cell_type": "code",
   "execution_count": 7,
   "metadata": {},
   "outputs": [],
   "source": [
    "sales_df = sales_df[sales_df.item_price<100000]\n",
    "sales_df = sales_df[sales_df.item_cnt_day<1000]"
   ]
  },
  {
   "cell_type": "markdown",
   "metadata": {},
   "source": [
    "### Correct the negative item price"
   ]
  },
  {
   "cell_type": "code",
   "execution_count": 8,
   "metadata": {},
   "outputs": [
    {
     "data": {
      "text/html": [
       "<div>\n",
       "<style scoped>\n",
       "    .dataframe tbody tr th:only-of-type {\n",
       "        vertical-align: middle;\n",
       "    }\n",
       "\n",
       "    .dataframe tbody tr th {\n",
       "        vertical-align: top;\n",
       "    }\n",
       "\n",
       "    .dataframe thead th {\n",
       "        text-align: right;\n",
       "    }\n",
       "</style>\n",
       "<table border=\"1\" class=\"dataframe\">\n",
       "  <thead>\n",
       "    <tr style=\"text-align: right;\">\n",
       "      <th></th>\n",
       "      <th>date</th>\n",
       "      <th>date_block_num</th>\n",
       "      <th>shop_id</th>\n",
       "      <th>item_id</th>\n",
       "      <th>item_price</th>\n",
       "      <th>item_cnt_day</th>\n",
       "    </tr>\n",
       "  </thead>\n",
       "  <tbody>\n",
       "    <tr>\n",
       "      <th>484683</th>\n",
       "      <td>15.05.2013</td>\n",
       "      <td>4</td>\n",
       "      <td>32</td>\n",
       "      <td>2973</td>\n",
       "      <td>-1.0</td>\n",
       "      <td>1.0</td>\n",
       "    </tr>\n",
       "  </tbody>\n",
       "</table>\n",
       "</div>"
      ],
      "text/plain": [
       "              date  date_block_num  shop_id  item_id  item_price  item_cnt_day\n",
       "484683  15.05.2013               4       32     2973        -1.0           1.0"
      ]
     },
     "execution_count": 8,
     "metadata": {},
     "output_type": "execute_result"
    }
   ],
   "source": [
    "sales_df[sales_df.item_price < 0]"
   ]
  },
  {
   "cell_type": "code",
   "execution_count": 9,
   "metadata": {},
   "outputs": [],
   "source": [
    "sales_df.at[484683, 'item_price'] = sales_df[(sales_df.item_id == 2973) & (sales_df.item_price > 0)].item_price.mean()"
   ]
  },
  {
   "cell_type": "markdown",
   "metadata": {},
   "source": [
    "### Adjust duplicates by shop name\n",
    "\n",
    "According to the reference, some shops are duplicates. This feature found is based on the language background."
   ]
  },
  {
   "cell_type": "code",
   "execution_count": 10,
   "metadata": {},
   "outputs": [
    {
     "data": {
      "text/html": [
       "<div>\n",
       "<style scoped>\n",
       "    .dataframe tbody tr th:only-of-type {\n",
       "        vertical-align: middle;\n",
       "    }\n",
       "\n",
       "    .dataframe tbody tr th {\n",
       "        vertical-align: top;\n",
       "    }\n",
       "\n",
       "    .dataframe thead th {\n",
       "        text-align: right;\n",
       "    }\n",
       "</style>\n",
       "<table border=\"1\" class=\"dataframe\">\n",
       "  <thead>\n",
       "    <tr style=\"text-align: right;\">\n",
       "      <th></th>\n",
       "      <th>shop_name</th>\n",
       "      <th>shop_id</th>\n",
       "    </tr>\n",
       "  </thead>\n",
       "  <tbody>\n",
       "    <tr>\n",
       "      <th>0</th>\n",
       "      <td>!Якутск Орджоникидзе, 56 фран</td>\n",
       "      <td>0</td>\n",
       "    </tr>\n",
       "  </tbody>\n",
       "</table>\n",
       "</div>"
      ],
      "text/plain": [
       "                       shop_name  shop_id\n",
       "0  !Якутск Орджоникидзе, 56 фран        0"
      ]
     },
     "execution_count": 10,
     "metadata": {},
     "output_type": "execute_result"
    }
   ],
   "source": [
    "shop_df[shop_df.shop_id == 0]"
   ]
  },
  {
   "cell_type": "code",
   "execution_count": 11,
   "metadata": {},
   "outputs": [
    {
     "data": {
      "text/html": [
       "<div>\n",
       "<style scoped>\n",
       "    .dataframe tbody tr th:only-of-type {\n",
       "        vertical-align: middle;\n",
       "    }\n",
       "\n",
       "    .dataframe tbody tr th {\n",
       "        vertical-align: top;\n",
       "    }\n",
       "\n",
       "    .dataframe thead th {\n",
       "        text-align: right;\n",
       "    }\n",
       "</style>\n",
       "<table border=\"1\" class=\"dataframe\">\n",
       "  <thead>\n",
       "    <tr style=\"text-align: right;\">\n",
       "      <th></th>\n",
       "      <th>shop_name</th>\n",
       "      <th>shop_id</th>\n",
       "    </tr>\n",
       "  </thead>\n",
       "  <tbody>\n",
       "    <tr>\n",
       "      <th>57</th>\n",
       "      <td>Якутск Орджоникидзе, 56</td>\n",
       "      <td>57</td>\n",
       "    </tr>\n",
       "  </tbody>\n",
       "</table>\n",
       "</div>"
      ],
      "text/plain": [
       "                  shop_name  shop_id\n",
       "57  Якутск Орджоникидзе, 56       57"
      ]
     },
     "execution_count": 11,
     "metadata": {},
     "output_type": "execute_result"
    }
   ],
   "source": [
    "shop_df[shop_df.shop_id == 57]"
   ]
  },
  {
   "cell_type": "markdown",
   "metadata": {},
   "source": [
    "The shop_id 0 and 57 are the same shop. And other pairs are 1 and 58, 10 and 11."
   ]
  },
  {
   "cell_type": "code",
   "execution_count": 12,
   "metadata": {},
   "outputs": [],
   "source": [
    "# Якутск Орджоникидзе, 56\n",
    "sales_df.at[sales_df.shop_id == 0, 'shop_id'] = 57\n",
    "# Якутск ТЦ \"Центральный\"\n",
    "sales_df.at[sales_df.shop_id == 1, 'shop_id'] = 58\n",
    "# Жуковский ул. Чкалова 39м²\n",
    "sales_df.at[sales_df.shop_id == 10, 'shop_id'] = 11"
   ]
  },
  {
   "cell_type": "markdown",
   "metadata": {},
   "source": [
    "## Merge Data into one entity"
   ]
  },
  {
   "cell_type": "code",
   "execution_count": 13,
   "metadata": {
    "_uuid": "7626c7455ea71b65894c6c866519df15080fa2ac"
   },
   "outputs": [],
   "source": [
    "# refer to feature-engineering-xgboot\n",
    "matrix = []\n",
    "cols = ['date_block_num','shop_id','item_id']\n",
    "for i in range(34):\n",
    "    sales = sales_df[sales_df.date_block_num==i]\n",
    "    matrix.append(np.array(list(product([i], sales.shop_id.unique(), sales.item_id.unique())), dtype='int16'))\n",
    "    \n",
    "matrix = pd.DataFrame(np.vstack(matrix), columns=cols)\n",
    "matrix['date_block_num'] = matrix['date_block_num'].astype(np.int8)\n",
    "matrix['shop_id'] = matrix['shop_id'].astype(np.int8)\n",
    "matrix['item_id'] = matrix['item_id'].astype(np.int16)\n",
    "matrix.sort_values(cols,inplace=True)"
   ]
  },
  {
   "cell_type": "code",
   "execution_count": 14,
   "metadata": {},
   "outputs": [],
   "source": [
    "sales_detail_df = sales_df.groupby(['shop_id', 'item_id', 'date_block_num'])['item_cnt_day'].sum().reset_index(name='item_cnt_month')\n",
    "sales_price_df = sales_df.groupby(['shop_id', 'item_id', 'date_block_num'])['item_price'].mean().reset_index(name='item_avg_price')\n",
    "\n",
    "sales_detail_df = pd.merge(sales_detail_df, sales_price_df, on=['shop_id', 'item_id', 'date_block_num'], how='left')\n",
    "\n",
    "matrix = pd.merge(matrix, item_df, on=['item_id'], how='left')\n",
    "matrix = pd.merge(matrix, shop_df, on=['shop_id'], how='left')\n",
    "matrix = pd.merge(matrix, category_df, on=['item_category_id'], how='left')\n",
    "\n",
    "sales_detail_df = pd.merge(matrix, sales_detail_df, on=['shop_id', 'item_id', 'date_block_num'], how='left')\n",
    "sales_detail_df['item_cnt_month'] = sales_detail_df['item_cnt_month'].fillna(0)"
   ]
  },
  {
   "cell_type": "markdown",
   "metadata": {},
   "source": [
    "## Basic Features"
   ]
  },
  {
   "cell_type": "markdown",
   "metadata": {},
   "source": [
    "+ **Feature 'city'**: Each shop_name starts with the city name."
   ]
  },
  {
   "cell_type": "code",
   "execution_count": 15,
   "metadata": {},
   "outputs": [],
   "source": [
    "sales_detail_df.loc[sales_detail_df.shop_name == 'Сергиев Посад ТЦ \"7Я\"', 'shop_name'] = 'СергиевПосад ТЦ \"7Я\"'\n",
    "sales_detail_df['shop_name'] = sales_detail_df['shop_name'].astype(str)\n",
    "sales_detail_df['city'] = sales_detail_df['shop_name'].str.split(' ').map(lambda x: x[0])\n",
    "sales_detail_df.loc[sales_detail_df.city == '!Якутск', 'city'] = 'Якутск'\n",
    "\n",
    "encoder = LabelEncoder()\n",
    "encoder.fit(sales_detail_df['city'])\n",
    "sales_detail_df['city_code'] = encoder.transform(sales_detail_df['city'])"
   ]
  },
  {
   "cell_type": "markdown",
   "metadata": {},
   "source": [
    "+ **Feature 'type'**: Each category contains type and subtype in its name.\n",
    "+ **Feature 'subtype'**: Each category contains type and subtype in its name."
   ]
  },
  {
   "cell_type": "code",
   "execution_count": 16,
   "metadata": {},
   "outputs": [],
   "source": [
    "sales_detail_df['item_category_name'] = sales_detail_df['item_category_name'].astype(str)\n",
    "sales_detail_df['type'] = sales_detail_df['item_category_name'].map(lambda x: x.split('-')[0].strip())\n",
    "\n",
    "encoder = LabelEncoder()\n",
    "encoder.fit(sales_detail_df['type'])\n",
    "sales_detail_df['type_code'] = encoder.transform(sales_detail_df['type'])"
   ]
  },
  {
   "cell_type": "code",
   "execution_count": 17,
   "metadata": {},
   "outputs": [],
   "source": [
    "sales_detail_df['subtype'] = sales_detail_df['item_category_name'].map(lambda x: x.split('-')[1].strip() if len(x.split('-')) > 1 else x.split('-')[0].strip())\n",
    "\n",
    "encoder = LabelEncoder()\n",
    "encoder.fit(sales_detail_df['subtype'])\n",
    "sales_detail_df['subtype_code'] = encoder.transform(sales_detail_df['subtype'])"
   ]
  },
  {
   "cell_type": "code",
   "execution_count": 18,
   "metadata": {},
   "outputs": [],
   "source": [
    "sales_detail_df['month'] = sales_detail_df['date_block_num'].apply(lambda x: (x % 12) + 1)"
   ]
  },
  {
   "cell_type": "markdown",
   "metadata": {},
   "source": [
    "+ **Feature 'sic'**"
   ]
  },
  {
   "cell_type": "code",
   "execution_count": 19,
   "metadata": {},
   "outputs": [
    {
     "data": {
      "text/html": [
       "<div><span class=\"Text-label\" style=\"display:inline-block; overflow:hidden; white-space:nowrap; text-overflow:ellipsis; min-width:0; max-width:15ex; vertical-align:middle; text-align:right\"></span>\n",
       "<progress style=\"width:60ex\" max=\"12\" value=\"12\" class=\"Progress-main\"/></progress>\n",
       "<span class=\"Progress-label\"><strong>100%</strong></span>\n",
       "<span class=\"Iteration-label\">12/12</span>\n",
       "<span class=\"Time-label\">[06:19<00:33, 31.58s/it]</span></div>"
      ],
      "text/plain": [
       "\u001b[A\u001b[2K\r",
       " [████████████████████████████████████████████████████████████] 12/12 [06:19<00:33, 31.58s/it]"
      ]
     },
     "metadata": {},
     "output_type": "display_data"
    }
   ],
   "source": [
    "m = sales_detail_df.groupby(['shop_id', 'item_id', 'date_block_num'])['item_cnt_month'].mean().reset_index()\n",
    "for i in irange(1, 13, 1):\n",
    "    t = m.copy()\n",
    "    t['date_block_num'] = t['date_block_num'] + i\n",
    "    t = t.rename(index=str, columns={'item_cnt_month': 'sic'+str(i)})\n",
    "    sales_detail_df = pd.merge(sales_detail_df, t, on=['shop_id', 'item_id', 'date_block_num'], how='left')"
   ]
  },
  {
   "cell_type": "code",
   "execution_count": 20,
   "metadata": {},
   "outputs": [
    {
     "data": {
      "text/html": [
       "<div><span class=\"Text-label\" style=\"display:inline-block; overflow:hidden; white-space:nowrap; text-overflow:ellipsis; min-width:0; max-width:15ex; vertical-align:middle; text-align:right\"></span>\n",
       "<progress style=\"width:60ex\" max=\"33\" value=\"33\" class=\"Progress-main\"/></progress>\n",
       "<span class=\"Progress-label\"><strong>100%</strong></span>\n",
       "<span class=\"Iteration-label\">33/33</span>\n",
       "<span class=\"Time-label\">[03:24<00:14, 6.17s/it]</span></div>"
      ],
      "text/plain": [
       "\u001b[A\u001b[2K\r",
       " [████████████████████████████████████████████████████████████] 33/33 [03:24<00:14, 6.17s/it]"
      ]
     },
     "metadata": {},
     "output_type": "display_data"
    }
   ],
   "source": [
    "arr = []\n",
    "for i in irange(1, 34, 1):\n",
    "    t = sales_detail_df[sales_detail_df.date_block_num < i].groupby(['shop_id', 'item_id'])['item_cnt_month'].mean().reset_index(name='sic13')\n",
    "    t['date_block_num'] = i \n",
    "    arr.append(t)\n",
    "    \n",
    "sales_detail_df = pd.merge(sales_detail_df, pd.concat(arr), on=['shop_id', 'item_id', 'date_block_num'], how='left')"
   ]
  },
  {
   "cell_type": "code",
   "execution_count": 21,
   "metadata": {},
   "outputs": [
    {
     "data": {
      "text/plain": [
       "\"\\narr = []\\nfor i in irange(1, 34, 1):\\n    t = sales_detail_df[sales_detail_df.date_block_num < i].groupby(['shop_id', 'item_id'])['item_cnt_month'].agg(lambda x: np.mean(pd.Series.mode(x))).reset_index(name='sic14')\\n    t['date_block_num'] = i \\n    arr.append(t)\\n    \\nsales_detail_df = pd.merge(sales_detail_df, pd.concat(arr), on=['shop_id', 'item_id', 'date_block_num'], how='left')\\n\""
      ]
     },
     "execution_count": 21,
     "metadata": {},
     "output_type": "execute_result"
    }
   ],
   "source": [
    "'''\n",
    "arr = []\n",
    "for i in irange(1, 34, 1):\n",
    "    t = sales_detail_df[sales_detail_df.date_block_num < i].groupby(['shop_id', 'item_id'])['item_cnt_month'].agg(lambda x: np.mean(pd.Series.mode(x))).reset_index(name='sic14')\n",
    "    t['date_block_num'] = i \n",
    "    arr.append(t)\n",
    "    \n",
    "sales_detail_df = pd.merge(sales_detail_df, pd.concat(arr), on=['shop_id', 'item_id', 'date_block_num'], how='left')\n",
    "'''"
   ]
  },
  {
   "cell_type": "markdown",
   "metadata": {},
   "source": [
    "+ **Feature 'sit1 - sit13'**"
   ]
  },
  {
   "cell_type": "code",
   "execution_count": 22,
   "metadata": {},
   "outputs": [
    {
     "data": {
      "text/html": [
       "<div><span class=\"Text-label\" style=\"display:inline-block; overflow:hidden; white-space:nowrap; text-overflow:ellipsis; min-width:0; max-width:15ex; vertical-align:middle; text-align:right\"></span>\n",
       "<progress style=\"width:60ex\" max=\"12\" value=\"12\" class=\"Progress-main\"/></progress>\n",
       "<span class=\"Progress-label\"><strong>100%</strong></span>\n",
       "<span class=\"Iteration-label\">12/12</span>\n",
       "<span class=\"Time-label\">[04:12<00:22, 21.01s/it]</span></div>"
      ],
      "text/plain": [
       "\u001b[A\u001b[2K\r",
       " [████████████████████████████████████████████████████████████] 12/12 [04:12<00:22, 21.01s/it]"
      ]
     },
     "metadata": {},
     "output_type": "display_data"
    }
   ],
   "source": [
    "m = sales_detail_df.groupby(['shop_id', 'item_category_id', 'date_block_num'])['item_cnt_month'].mean().reset_index()\n",
    "for i in irange(1, 13, 1):\n",
    "    t = m.copy()\n",
    "    t['date_block_num'] = t['date_block_num'] + i\n",
    "    t = t.rename(index=str, columns={'item_cnt_month': 'sit'+str(i)})\n",
    "    sales_detail_df = pd.merge(sales_detail_df, t, on=['shop_id', 'item_category_id', 'date_block_num'], how='left')"
   ]
  },
  {
   "cell_type": "code",
   "execution_count": 23,
   "metadata": {},
   "outputs": [
    {
     "data": {
      "text/html": [
       "<div><span class=\"Text-label\" style=\"display:inline-block; overflow:hidden; white-space:nowrap; text-overflow:ellipsis; min-width:0; max-width:15ex; vertical-align:middle; text-align:right\"></span>\n",
       "<progress style=\"width:60ex\" max=\"33\" value=\"33\" class=\"Progress-main\"/></progress>\n",
       "<span class=\"Progress-label\"><strong>100%</strong></span>\n",
       "<span class=\"Iteration-label\">33/33</span>\n",
       "<span class=\"Time-label\">[05:03<00:21, 9.18s/it]</span></div>"
      ],
      "text/plain": [
       "\u001b[A\u001b[2K\r",
       " [████████████████████████████████████████████████████████████] 33/33 [05:03<00:21, 9.18s/it]"
      ]
     },
     "metadata": {},
     "output_type": "display_data"
    }
   ],
   "source": [
    "arr = []\n",
    "for i in irange(1, 34, 1):\n",
    "    t = sales_detail_df[sales_detail_df.date_block_num < i].groupby(['shop_id', 'item_category_id'])['item_cnt_month'].mean().reset_index(name='sit13')\n",
    "    t['date_block_num'] = i \n",
    "    arr.append(t)\n",
    "    \n",
    "sales_detail_df = pd.merge(sales_detail_df, pd.concat(arr), on=['shop_id', 'item_category_id', 'date_block_num'], how='left')"
   ]
  },
  {
   "cell_type": "markdown",
   "metadata": {},
   "source": [
    "+ **Feature 'i1'**"
   ]
  },
  {
   "cell_type": "code",
   "execution_count": 24,
   "metadata": {},
   "outputs": [
    {
     "data": {
      "text/html": [
       "<div><span class=\"Text-label\" style=\"display:inline-block; overflow:hidden; white-space:nowrap; text-overflow:ellipsis; min-width:0; max-width:15ex; vertical-align:middle; text-align:right\"></span>\n",
       "<progress style=\"width:60ex\" max=\"12\" value=\"12\" class=\"Progress-main\"/></progress>\n",
       "<span class=\"Progress-label\"><strong>100%</strong></span>\n",
       "<span class=\"Iteration-label\">12/12</span>\n",
       "<span class=\"Time-label\">[06:09<00:29, 30.79s/it]</span></div>"
      ],
      "text/plain": [
       "\u001b[A\u001b[2K\r",
       " [████████████████████████████████████████████████████████████] 12/12 [06:09<00:29, 30.79s/it]"
      ]
     },
     "metadata": {},
     "output_type": "display_data"
    }
   ],
   "source": [
    "m = sales_detail_df.groupby(['item_id', 'date_block_num'])['item_cnt_month'].mean().reset_index()\n",
    "for i in irange(1, 13, 1):\n",
    "    t = m.copy()\n",
    "    t['date_block_num'] = t['date_block_num'] + i\n",
    "    t = t.rename(index=str, columns={'item_cnt_month': 'i'+str(i)})\n",
    "    sales_detail_df = pd.merge(sales_detail_df, t, on=['item_id', 'date_block_num'], how='left')"
   ]
  },
  {
   "cell_type": "code",
   "execution_count": 25,
   "metadata": {},
   "outputs": [
    {
     "data": {
      "text/html": [
       "<div><span class=\"Text-label\" style=\"display:inline-block; overflow:hidden; white-space:nowrap; text-overflow:ellipsis; min-width:0; max-width:15ex; vertical-align:middle; text-align:right\"></span>\n",
       "<progress style=\"width:60ex\" max=\"33\" value=\"33\" class=\"Progress-main\"/></progress>\n",
       "<span class=\"Progress-label\"><strong>100%</strong></span>\n",
       "<span class=\"Iteration-label\">33/33</span>\n",
       "<span class=\"Time-label\">[07:38<00:34, 13.87s/it]</span></div>"
      ],
      "text/plain": [
       "\u001b[A\u001b[2K\r",
       " [████████████████████████████████████████████████████████████] 33/33 [07:38<00:34, 13.87s/it]"
      ]
     },
     "metadata": {},
     "output_type": "display_data"
    }
   ],
   "source": [
    "arr = []\n",
    "for i in irange(1, 34, 1):\n",
    "    t = sales_detail_df[sales_detail_df.date_block_num < i].groupby(['item_id'])['item_cnt_month'].mean().reset_index(name='i13')\n",
    "    t['date_block_num'] = i \n",
    "    arr.append(t)\n",
    "    \n",
    "sales_detail_df = pd.merge(sales_detail_df, pd.concat(arr), on=['item_id', 'date_block_num'], how='left')"
   ]
  },
  {
   "cell_type": "markdown",
   "metadata": {},
   "source": [
    "+ **Feature 'c1'**"
   ]
  },
  {
   "cell_type": "code",
   "execution_count": 26,
   "metadata": {},
   "outputs": [
    {
     "data": {
      "text/html": [
       "<div><span class=\"Text-label\" style=\"display:inline-block; overflow:hidden; white-space:nowrap; text-overflow:ellipsis; min-width:0; max-width:15ex; vertical-align:middle; text-align:right\"></span>\n",
       "<progress style=\"width:60ex\" max=\"12\" value=\"12\" class=\"Progress-main\"/></progress>\n",
       "<span class=\"Progress-label\"><strong>100%</strong></span>\n",
       "<span class=\"Iteration-label\">12/12</span>\n",
       "<span class=\"Time-label\">[07:46<00:38, 38.86s/it]</span></div>"
      ],
      "text/plain": [
       "\u001b[A\u001b[2K\r",
       " [████████████████████████████████████████████████████████████] 12/12 [07:46<00:38, 38.86s/it]"
      ]
     },
     "metadata": {},
     "output_type": "display_data"
    }
   ],
   "source": [
    "m = sales_detail_df.groupby(['city_code', 'date_block_num'])['item_cnt_month'].mean().reset_index()\n",
    "for i in irange(1, 13, 1):\n",
    "    t = m.copy()\n",
    "    t['date_block_num'] = t['date_block_num'] + i\n",
    "    t = t.rename(index=str, columns={'item_cnt_month': 'c'+str(i)})\n",
    "    sales_detail_df = pd.merge(sales_detail_df, t, on=['city_code', 'date_block_num'], how='left')"
   ]
  },
  {
   "cell_type": "code",
   "execution_count": 27,
   "metadata": {},
   "outputs": [
    {
     "data": {
      "text/html": [
       "<div><span class=\"Text-label\" style=\"display:inline-block; overflow:hidden; white-space:nowrap; text-overflow:ellipsis; min-width:0; max-width:15ex; vertical-align:middle; text-align:right\"></span>\n",
       "<progress style=\"width:60ex\" max=\"33\" value=\"33\" class=\"Progress-main\"/></progress>\n",
       "<span class=\"Progress-label\"><strong>100%</strong></span>\n",
       "<span class=\"Iteration-label\">33/33</span>\n",
       "<span class=\"Time-label\">[09:29<00:41, 17.24s/it]</span></div>"
      ],
      "text/plain": [
       "\u001b[A\u001b[2K\r",
       " [████████████████████████████████████████████████████████████] 33/33 [09:29<00:41, 17.24s/it]"
      ]
     },
     "metadata": {},
     "output_type": "display_data"
    }
   ],
   "source": [
    "arr = []\n",
    "for i in irange(1, 34, 1):\n",
    "    t = sales_detail_df[sales_detail_df.date_block_num < i].groupby(['city_code'])['item_cnt_month'].mean().reset_index(name='c13')\n",
    "    t['date_block_num'] = i \n",
    "    arr.append(t)\n",
    "    \n",
    "sales_detail_df = pd.merge(sales_detail_df, pd.concat(arr), on=['city_code', 'date_block_num'], how='left')"
   ]
  },
  {
   "cell_type": "markdown",
   "metadata": {},
   "source": [
    "+ **Feature 's1 - s13'**"
   ]
  },
  {
   "cell_type": "code",
   "execution_count": 28,
   "metadata": {},
   "outputs": [
    {
     "data": {
      "text/html": [
       "<div><span class=\"Text-label\" style=\"display:inline-block; overflow:hidden; white-space:nowrap; text-overflow:ellipsis; min-width:0; max-width:15ex; vertical-align:middle; text-align:right\"></span>\n",
       "<progress style=\"width:60ex\" max=\"12\" value=\"12\" class=\"Progress-main\"/></progress>\n",
       "<span class=\"Progress-label\"><strong>100%</strong></span>\n",
       "<span class=\"Iteration-label\">12/12</span>\n",
       "<span class=\"Time-label\">[09:30<00:51, 47.53s/it]</span></div>"
      ],
      "text/plain": [
       "\u001b[A\u001b[2K\r",
       " [████████████████████████████████████████████████████████████] 12/12 [09:30<00:51, 47.53s/it]"
      ]
     },
     "metadata": {},
     "output_type": "display_data"
    }
   ],
   "source": [
    "m = sales_detail_df.groupby(['shop_id', 'date_block_num'])['item_cnt_month'].mean().reset_index()\n",
    "for i in irange(1, 13, 1):\n",
    "    t = m.copy()\n",
    "    t['date_block_num'] = t['date_block_num'] + i\n",
    "    t = t.rename(index=str, columns={'item_cnt_month': 's'+str(i)})\n",
    "    sales_detail_df = pd.merge(sales_detail_df, t, on=['shop_id', 'date_block_num'], how='left')"
   ]
  },
  {
   "cell_type": "code",
   "execution_count": 29,
   "metadata": {},
   "outputs": [
    {
     "data": {
      "text/html": [
       "<div><span class=\"Text-label\" style=\"display:inline-block; overflow:hidden; white-space:nowrap; text-overflow:ellipsis; min-width:0; max-width:15ex; vertical-align:middle; text-align:right\"></span>\n",
       "<progress style=\"width:60ex\" max=\"33\" value=\"33\" class=\"Progress-main\"/></progress>\n",
       "<span class=\"Progress-label\"><strong>100%</strong></span>\n",
       "<span class=\"Iteration-label\">33/33</span>\n",
       "<span class=\"Time-label\">[14:28<00:50, 26.31s/it]</span></div>"
      ],
      "text/plain": [
       "\u001b[A\u001b[2K\r",
       " [████████████████████████████████████████████████████████████] 33/33 [14:28<00:50, 26.31s/it]"
      ]
     },
     "metadata": {},
     "output_type": "display_data"
    }
   ],
   "source": [
    "arr = []\n",
    "for i in irange(1, 34, 1):\n",
    "    t = sales_detail_df[sales_detail_df.date_block_num < i].groupby(['item_id'])['item_cnt_month'].mean().reset_index(name='s13')\n",
    "    t['date_block_num'] = i \n",
    "    arr.append(t)\n",
    "    \n",
    "sales_detail_df = pd.merge(sales_detail_df, pd.concat(arr), on=['item_id', 'date_block_num'], how='left')"
   ]
  },
  {
   "cell_type": "markdown",
   "metadata": {},
   "source": [
    "+ **Feature 'it1 - it13'**"
   ]
  },
  {
   "cell_type": "code",
   "execution_count": 30,
   "metadata": {},
   "outputs": [
    {
     "data": {
      "text/html": [
       "<div><span class=\"Text-label\" style=\"display:inline-block; overflow:hidden; white-space:nowrap; text-overflow:ellipsis; min-width:0; max-width:15ex; vertical-align:middle; text-align:right\"></span>\n",
       "<progress style=\"width:60ex\" max=\"12\" value=\"12\" class=\"Progress-main\"/></progress>\n",
       "<span class=\"Progress-label\"><strong>100%</strong></span>\n",
       "<span class=\"Iteration-label\">12/12</span>\n",
       "<span class=\"Time-label\">[12:45<01:04, 63.76s/it]</span></div>"
      ],
      "text/plain": [
       "\u001b[A\u001b[2K\r",
       " [████████████████████████████████████████████████████████████] 12/12 [12:45<01:04, 63.76s/it]"
      ]
     },
     "metadata": {},
     "output_type": "display_data"
    }
   ],
   "source": [
    "m = sales_detail_df.groupby(['item_category_id', 'date_block_num'])['item_cnt_month'].mean().reset_index()\n",
    "for i in irange(1, 13, 1):\n",
    "    t = m.copy()\n",
    "    t['date_block_num'] = t['date_block_num'] + i\n",
    "    t = t.rename(index=str, columns={'item_cnt_month': 'it'+str(i)})\n",
    "    sales_detail_df = pd.merge(sales_detail_df, t, on=['item_category_id', 'date_block_num'], how='left')"
   ]
  },
  {
   "cell_type": "code",
   "execution_count": 31,
   "metadata": {},
   "outputs": [
    {
     "data": {
      "text/html": [
       "<div><span class=\"Text-label\" style=\"display:inline-block; overflow:hidden; white-space:nowrap; text-overflow:ellipsis; min-width:0; max-width:15ex; vertical-align:middle; text-align:right\"></span>\n",
       "<progress style=\"width:60ex\" max=\"33\" value=\"33\" class=\"Progress-main\"/></progress>\n",
       "<span class=\"Progress-label\"><strong>100%</strong></span>\n",
       "<span class=\"Iteration-label\">33/33</span>\n",
       "<span class=\"Time-label\">[17:47<01:05, 32.35s/it]</span></div>"
      ],
      "text/plain": [
       "\u001b[A\u001b[2K\r",
       " [████████████████████████████████████████████████████████████] 33/33 [17:47<01:05, 32.35s/it]"
      ]
     },
     "metadata": {},
     "output_type": "display_data"
    }
   ],
   "source": [
    "arr = []\n",
    "for i in irange(1, 34, 1):\n",
    "    t = sales_detail_df[sales_detail_df.date_block_num < i].groupby(['item_category_id'])['item_cnt_month'].mean().reset_index(name='it13')\n",
    "    t['date_block_num'] = i \n",
    "    arr.append(t)\n",
    "    \n",
    "sales_detail_df = pd.merge(sales_detail_df, pd.concat(arr), on=['item_category_id', 'date_block_num'], how='left')"
   ]
  },
  {
   "cell_type": "code",
   "execution_count": 33,
   "metadata": {},
   "outputs": [],
   "source": [
    "sales_detail_df.to_csv('../features/dataset.csv')"
   ]
  },
  {
   "cell_type": "markdown",
   "metadata": {},
   "source": [
    "## Feature Selection"
   ]
  },
  {
   "cell_type": "code",
   "execution_count": 4,
   "metadata": {},
   "outputs": [],
   "source": [
    "sales_detail_df = pd.read_csv('../features/dataset.csv')"
   ]
  },
  {
   "cell_type": "code",
   "execution_count": 5,
   "metadata": {},
   "outputs": [],
   "source": [
    "dataset = sales_detail_df[sales_detail_df.date_block_num > 11]"
   ]
  },
  {
   "cell_type": "code",
   "execution_count": 6,
   "metadata": {},
   "outputs": [],
   "source": [
    "dataset = dataset.replace([np.inf, -np.inf], np.nan)\n",
    "dataset = dataset.fillna(0)"
   ]
  },
  {
   "cell_type": "code",
   "execution_count": 7,
   "metadata": {},
   "outputs": [
    {
     "data": {
      "text/plain": [
       "array(['Unnamed: 0', 'date_block_num', 'shop_id', 'item_id',\n",
       "       'item_category_id', 'item_cnt_month', 'item_avg_price',\n",
       "       'city_code', 'type_code', 'subtype_code', 'month', 'sic1', 'sic2',\n",
       "       'sic3', 'sic4', 'sic5', 'sic6', 'sic7', 'sic8', 'sic9', 'sic10',\n",
       "       'sic11', 'sic12', 'sic13', 'sit1', 'sit2', 'sit3', 'sit4', 'sit5',\n",
       "       'sit6', 'sit7', 'sit8', 'sit9', 'sit10', 'sit11', 'sit12', 'sit13',\n",
       "       'i1', 'i2', 'i3', 'i4', 'i5', 'i6', 'i7', 'i8', 'i9', 'i10', 'i11',\n",
       "       'i12', 'i13', 'c1', 'c2', 'c3', 'c4', 'c5', 'c6', 'c7', 'c8', 'c9',\n",
       "       'c10', 'c11', 'c12', 'c13', 's1', 's2', 's3', 's4', 's5', 's6',\n",
       "       's7', 's8', 's9', 's10', 's11', 's12', 's13', 'it1', 'it2', 'it3',\n",
       "       'it4', 'it5', 'it6', 'it7', 'it8', 'it9', 'it10', 'it11', 'it12',\n",
       "       'it13'], dtype=object)"
      ]
     },
     "execution_count": 7,
     "metadata": {},
     "output_type": "execute_result"
    }
   ],
   "source": [
    "dataset = dataset.drop(['item_name', 'shop_name', 'item_category_name', 'city', 'type', 'subtype'], axis=1)\n",
    "dataset.columns.values"
   ]
  },
  {
   "cell_type": "code",
   "execution_count": 8,
   "metadata": {},
   "outputs": [],
   "source": [
    "continuous = [\n",
    "    'date_block_num', 'shop_id', 'item_id', 'item_category_id', 'item_avg_price', 'city_code', 'type_code',\n",
    "       'subtype_code', 'month', 'sic1', 'sic2', 'sic3', 'sic4', 'sic5',\n",
    "       'sic6', 'sic7', 'sic8', 'sic9', 'sic10', 'sic11', 'sic12', 'sic13',\n",
    "       'sit1', 'sit2', 'sit3', 'sit4', 'sit5', 'sit6', 'sit7', 'sit8',\n",
    "       'sit9', 'sit10', 'sit11', 'sit12', 'sit13', 'i1', 'i2', 'i3', 'i4',\n",
    "       'i5', 'i6', 'i7', 'i8', 'i9', 'i10', 'i11', 'i12', 'i13', 'c1',\n",
    "       'c2', 'c3', 'c4', 'c5', 'c6', 'c7', 'c8', 'c9', 'c10', 'c11',\n",
    "       'c12', 'c13', 's1', 's2', 's3', 's4', 's5', 's6', 's7', 's8', 's9',\n",
    "       's10', 's11', 's12', 's13', 'it1', 'it2', 'it3', 'it4', 'it5',\n",
    "       'it6', 'it7', 'it8', 'it9', 'it10', 'it11', 'it12', 'it13'\n",
    "]\n",
    "\n",
    "fields = [\n",
    "    \n",
    "]\n",
    "\n",
    "label = ['item_cnt_month']"
   ]
  },
  {
   "cell_type": "code",
   "execution_count": 28,
   "metadata": {},
   "outputs": [],
   "source": [
    "dataset_beta = dataset[(dataset.date_block_num < 33) & (dataset.date_block_num > 24)]\n",
    "dataset_alpha = dataset[dataset.date_block_num == 33]"
   ]
  },
  {
   "cell_type": "code",
   "execution_count": 29,
   "metadata": {},
   "outputs": [],
   "source": [
    "features_pipeline = Pipeline([\n",
    "    ('features', FeatureUnion([\n",
    "        ('continuous', Pipeline([\n",
    "            ('extract', ColumnSelector(continuous)),\n",
    "            ('imputer', SimpleImputer(missing_values=np.nan, strategy='most_frequent')),\n",
    "            ('normalize', Normalizer())\n",
    "        ])),\n",
    "    ])),\n",
    "])\n",
    "\n",
    "features_pipeline.fit(dataset_beta, dataset_beta[label].values.ravel())\n",
    "\n",
    "train_dataset_x = features_pipeline.transform(dataset_beta)\n",
    "train_dataset_y = dataset_beta[label].values.ravel()\n",
    "\n",
    "valid_dataset_x = features_pipeline.transform(dataset_alpha)\n",
    "valid_dataset_y = dataset_alpha[label].values.ravel()"
   ]
  },
  {
   "cell_type": "code",
   "execution_count": 30,
   "metadata": {},
   "outputs": [
    {
     "data": {
      "text/plain": [
       "XGBRegressor(base_score=0.5, booster='gbtree', colsample_bylevel=1,\n",
       "       colsample_bytree=1, gamma=0, learning_rate=0.1, max_delta_step=0,\n",
       "       max_depth=10, min_child_weight=1, missing=None, n_estimators=50,\n",
       "       n_jobs=1, nthread=None, objective='reg:linear', random_state=0,\n",
       "       reg_alpha=0, reg_lambda=1, scale_pos_weight=1, seed=None,\n",
       "       silent=True, subsample=1)"
      ]
     },
     "execution_count": 30,
     "metadata": {},
     "output_type": "execute_result"
    }
   ],
   "source": [
    "selector_model = XGBRegressor(max_depth=10, n_estimators=50, random_state=0)\n",
    "selector_model.fit(train_dataset_x, train_dataset_y)"
   ]
  },
  {
   "cell_type": "code",
   "execution_count": 31,
   "metadata": {},
   "outputs": [],
   "source": [
    "thresh = 0.001\n",
    "selection = SelectFromModel(selector_model, threshold=thresh, prefit=True)\n",
    "\n",
    "train_dataset_x = selection.transform(train_dataset_x)\n",
    "valid_dataset_x = selection.transform(valid_dataset_x)"
   ]
  },
  {
   "cell_type": "code",
   "execution_count": 32,
   "metadata": {},
   "outputs": [
    {
     "data": {
      "text/plain": [
       "array([0.17821652, 0.0490261 , 0.04134093, 0.02067046, 0.06625149,\n",
       "       0.00410759, 0.01616536, 0.01258778, 0.01046774, 0.07049159,\n",
       "       0.0267656 , 0.0222605 , 0.01576786, 0.02120048, 0.01603286,\n",
       "       0.01139526, 0.0087452 , 0.00609514, 0.00781768, 0.00675765,\n",
       "       0.00556513, 0.01590036, 0.02345303, 0.0132503 , 0.00927521,\n",
       "       0.01444282, 0.00715516, 0.00861269, 0.00569763, 0.00251756,\n",
       "       0.0043726 , 0.00636014, 0.00477011, 0.00556513, 0.00795018,\n",
       "       0.01417782, 0.01099775, 0.00768517, 0.00477011, 0.0046376 ,\n",
       "       0.00384259, 0.0045051 , 0.00185504, 0.00331257, 0.00159004,\n",
       "       0.00079502, 0.00106002, 0.01457533, 0.00795018, 0.00728766,\n",
       "       0.00954021, 0.00808268, 0.0090102 , 0.00318007, 0.00225255,\n",
       "       0.00410759, 0.00278256, 0.00596263, 0.00132503, 0.00331257,\n",
       "       0.00291507, 0.00490261, 0.00583013, 0.0045051 , 0.00265006,\n",
       "       0.00503511, 0.0043726 , 0.00106002, 0.00212005, 0.00291507,\n",
       "       0.00185504, 0.00238505, 0.00172254, 0.        , 0.00742017,\n",
       "       0.00622764, 0.00728766, 0.0042401 , 0.0087452 , 0.01126275,\n",
       "       0.00304757, 0.00397509, 0.00344508, 0.00583013, 0.00357758,\n",
       "       0.00516762, 0.00185504], dtype=float32)"
      ]
     },
     "execution_count": 32,
     "metadata": {},
     "output_type": "execute_result"
    }
   ],
   "source": [
    "selector_model.feature_importances_"
   ]
  },
  {
   "cell_type": "code",
   "execution_count": 33,
   "metadata": {},
   "outputs": [
    {
     "data": {
      "text/plain": [
       "[('date_block_num', 0.17821652),\n",
       " ('shop_id', 0.0490261),\n",
       " ('item_id', 0.04134093),\n",
       " ('item_category_id', 0.020670464),\n",
       " ('item_avg_price', 0.066251494),\n",
       " ('city_code', 0.0041075926),\n",
       " ('type_code', 0.016165365),\n",
       " ('subtype_code', 0.012587783),\n",
       " ('month', 0.010467735),\n",
       " ('sic1', 0.07049159),\n",
       " ('sic2', 0.026765602),\n",
       " ('sic3', 0.0222605),\n",
       " ('sic4', 0.015767856),\n",
       " ('sic5', 0.021200476),\n",
       " ('sic6', 0.016032862),\n",
       " ('sic7', 0.011395256),\n",
       " ('sic8', 0.008745197),\n",
       " ('sic9', 0.006095137),\n",
       " ('sic10', 0.007817676),\n",
       " ('sic11', 0.006757652),\n",
       " ('sic12', 0.005565125),\n",
       " ('sic13', 0.015900359),\n",
       " ('sit1', 0.023453027),\n",
       " ('sit2', 0.013250298),\n",
       " ('sit3', 0.009275208),\n",
       " ('sit4', 0.014442825),\n",
       " ('sit5', 0.007155161),\n",
       " ('sit6', 0.008612694),\n",
       " ('sit7', 0.005697628),\n",
       " ('sit8', 0.0025175565),\n",
       " ('sit9', 0.0043725986),\n",
       " ('sit10', 0.006360143),\n",
       " ('sit11', 0.004770107),\n",
       " ('sit12', 0.005565125),\n",
       " ('sit13', 0.007950179),\n",
       " ('i1', 0.014177819),\n",
       " ('i2', 0.010997747),\n",
       " ('i3', 0.007685173),\n",
       " ('i4', 0.004770107),\n",
       " ('i5', 0.004637604),\n",
       " ('i6', 0.0038425864),\n",
       " ('i7', 0.0045051016),\n",
       " ('i8', 0.0018550417),\n",
       " ('i9', 0.0033125745),\n",
       " ('i10', 0.0015900357),\n",
       " ('i11', 0.00079501787),\n",
       " ('i12', 0.0010600239),\n",
       " ('i13', 0.014575328),\n",
       " ('c1', 0.007950179),\n",
       " ('c2', 0.007287664),\n",
       " ('c3', 0.009540214),\n",
       " ('c4', 0.008082682),\n",
       " ('c5', 0.009010203),\n",
       " ('c6', 0.0031800715),\n",
       " ('c7', 0.0022525508),\n",
       " ('c8', 0.0041075926),\n",
       " ('c9', 0.0027825625),\n",
       " ('c10', 0.005962634),\n",
       " ('c11', 0.0013250298),\n",
       " ('c12', 0.0033125745),\n",
       " ('c13', 0.0029150655),\n",
       " ('s1', 0.00490261),\n",
       " ('s2', 0.005830131),\n",
       " ('s3', 0.0045051016),\n",
       " ('s4', 0.0026500595),\n",
       " ('s5', 0.005035113),\n",
       " ('s6', 0.0043725986),\n",
       " ('s7', 0.0010600239),\n",
       " ('s8', 0.0021200478),\n",
       " ('s9', 0.0029150655),\n",
       " ('s10', 0.0018550417),\n",
       " ('s11', 0.0023850536),\n",
       " ('s12', 0.0017225387),\n",
       " ('it1', 0.007420167),\n",
       " ('it2', 0.00622764),\n",
       " ('it3', 0.007287664),\n",
       " ('it4', 0.0042400956),\n",
       " ('it5', 0.008745197),\n",
       " ('it6', 0.011262753),\n",
       " ('it7', 0.0030475685),\n",
       " ('it8', 0.0039750896),\n",
       " ('it9', 0.0034450775),\n",
       " ('it10', 0.005830131),\n",
       " ('it11', 0.0035775804),\n",
       " ('it12', 0.005167616),\n",
       " ('it13', 0.0018550417)]"
      ]
     },
     "execution_count": 33,
     "metadata": {},
     "output_type": "execute_result"
    }
   ],
   "source": [
    "feature_selector = []\n",
    "for index, value in enumerate(selector_model.feature_importances_):\n",
    "    if value > 0 and index < len(continuous):\n",
    "        feature_selector.append((continuous[index], value))\n",
    "\n",
    "feature_selector"
   ]
  },
  {
   "cell_type": "code",
   "execution_count": 34,
   "metadata": {},
   "outputs": [
    {
     "data": {
      "text/plain": [
       "<matplotlib.axes._subplots.AxesSubplot at 0x16519afd0>"
      ]
     },
     "execution_count": 34,
     "metadata": {},
     "output_type": "execute_result"
    },
    {
     "name": "stderr",
     "output_type": "stream",
     "text": [
      "2019-02-15 08:26:40,587  _base.py : DEBUG  update_title_pos\n",
      "2019-02-15 08:26:42,486  _base.py : DEBUG  update_title_pos\n",
      "2019-02-15 08:26:42,923  _base.py : DEBUG  update_title_pos\n",
      "2019-02-15 08:26:43,372  _base.py : DEBUG  update_title_pos\n",
      "2019-02-15 08:26:43,651  _base.py : DEBUG  update_title_pos\n"
     ]
    },
    {
     "data": {
      "image/png": "[encoded data removed]",
      "text/plain": [
       "<Figure size 720x1008 with 1 Axes>"
      ]
     },
     "metadata": {},
     "output_type": "display_data"
    }
   ],
   "source": [
    "def plot_features(booster, figsize):    \n",
    "    fig, ax = plt.subplots(1,1,figsize=figsize)\n",
    "    return plot_importance(booster=booster, ax=ax)\n",
    "\n",
    "plot_features(selector_model, (10,14))"
   ]
  },
  {
   "cell_type": "markdown",
   "metadata": {},
   "source": [
    "## Train"
   ]
  },
  {
   "cell_type": "code",
   "execution_count": 35,
   "metadata": {},
   "outputs": [
    {
     "name": "stdout",
     "output_type": "stream",
     "text": [
      "[0]\tvalidation_0-rmse:3.43001\tvalidation_1-rmse:2.59834\n",
      "Multiple eval metrics have been passed: 'validation_1-rmse' will be used for early stopping.\n",
      "\n",
      "Will train until validation_1-rmse hasn't improved in 10 rounds.\n",
      "[1]\tvalidation_0-rmse:3.30477\tvalidation_1-rmse:2.50081\n",
      "[2]\tvalidation_0-rmse:3.19661\tvalidation_1-rmse:2.45583\n",
      "[3]\tvalidation_0-rmse:3.07761\tvalidation_1-rmse:2.36343\n",
      "[4]\tvalidation_0-rmse:2.97824\tvalidation_1-rmse:2.32629\n",
      "[5]\tvalidation_0-rmse:2.881\tvalidation_1-rmse:2.24786\n",
      "[6]\tvalidation_0-rmse:2.79372\tvalidation_1-rmse:2.20479\n",
      "[7]\tvalidation_0-rmse:2.71904\tvalidation_1-rmse:2.20368\n",
      "[8]\tvalidation_0-rmse:2.65644\tvalidation_1-rmse:2.19611\n",
      "[9]\tvalidation_0-rmse:2.59663\tvalidation_1-rmse:2.20029\n",
      "[10]\tvalidation_0-rmse:2.53322\tvalidation_1-rmse:2.16559\n",
      "[11]\tvalidation_0-rmse:2.47769\tvalidation_1-rmse:2.12929\n",
      "[12]\tvalidation_0-rmse:2.43572\tvalidation_1-rmse:2.10964\n",
      "[13]\tvalidation_0-rmse:2.38097\tvalidation_1-rmse:2.09232\n",
      "[14]\tvalidation_0-rmse:2.33276\tvalidation_1-rmse:2.08658\n",
      "[15]\tvalidation_0-rmse:2.28911\tvalidation_1-rmse:2.07827\n",
      "[16]\tvalidation_0-rmse:2.25834\tvalidation_1-rmse:2.06634\n",
      "[17]\tvalidation_0-rmse:2.21181\tvalidation_1-rmse:2.0649\n",
      "[18]\tvalidation_0-rmse:2.17264\tvalidation_1-rmse:2.08933\n",
      "[19]\tvalidation_0-rmse:2.1376\tvalidation_1-rmse:2.12154\n",
      "[20]\tvalidation_0-rmse:2.11158\tvalidation_1-rmse:2.11627\n",
      "[21]\tvalidation_0-rmse:2.08656\tvalidation_1-rmse:2.1099\n",
      "[22]\tvalidation_0-rmse:2.06196\tvalidation_1-rmse:2.10699\n",
      "[23]\tvalidation_0-rmse:2.03734\tvalidation_1-rmse:2.10512\n",
      "[24]\tvalidation_0-rmse:2.00998\tvalidation_1-rmse:2.12904\n",
      "[25]\tvalidation_0-rmse:1.98917\tvalidation_1-rmse:2.12421\n",
      "[26]\tvalidation_0-rmse:1.9599\tvalidation_1-rmse:2.12975\n",
      "[27]\tvalidation_0-rmse:1.93427\tvalidation_1-rmse:2.13086\n",
      "Stopping. Best iteration:\n",
      "[17]\tvalidation_0-rmse:2.21181\tvalidation_1-rmse:2.0649\n",
      "\n"
     ]
    },
    {
     "data": {
      "text/plain": [
       "XGBRegressor(base_score=0.5, booster='gbtree', colsample_bylevel=1,\n",
       "       colsample_bytree=0.7, eta=0.3, gamma=0, learning_rate=0.1,\n",
       "       max_delta_step=0, max_depth=12, min_child_weight=1.1, missing=None,\n",
       "       n_estimators=200, n_jobs=1, nthread=None, objective='reg:linear',\n",
       "       random_state=0, reg_alpha=0, reg_lambda=10, scale_pos_weight=1,\n",
       "       seed=2019, silent=True, subsample=0.7)"
      ]
     },
     "execution_count": 35,
     "metadata": {},
     "output_type": "execute_result"
    }
   ],
   "source": [
    "from xgboost import XGBRegressor\n",
    "\n",
    "model = XGBRegressor(\n",
    "    max_depth=12,\n",
    "    n_estimators=200,\n",
    "    min_child_weight=1.1, \n",
    "    colsample_bytree=0.7, \n",
    "    subsample=0.7, \n",
    "#     gamma=0.2,\n",
    "    reg_lambda=10,\n",
    "    eta=0.3,    \n",
    "    seed=2019)\n",
    "\n",
    "model.fit(\n",
    "    train_dataset_x, \n",
    "    train_dataset_y, \n",
    "    eval_metric=\"rmse\", \n",
    "    eval_set=[(train_dataset_x, train_dataset_y), (valid_dataset_x, valid_dataset_y)], \n",
    "    verbose=True, \n",
    "    early_stopping_rounds = 10)"
   ]
  },
  {
   "cell_type": "markdown",
   "metadata": {},
   "source": [
    "## Save to CSV"
   ]
  },
  {
   "cell_type": "code",
   "execution_count": null,
   "metadata": {},
   "outputs": [],
   "source": [
    "# dataset.to_csv('../features/' + FILENAME + '.csv')"
   ]
  },
  {
   "cell_type": "markdown",
   "metadata": {},
   "source": [
    "# Reference"
   ]
  },
  {
   "cell_type": "markdown",
   "metadata": {},
   "source": [
    "## Normal ML Analysis\n",
    "\n",
    "+ [Feature engineering, xgboost](https://www.kaggle.com/dlarionov/feature-engineering-xgboost)"
   ]
  },
  {
   "cell_type": "markdown",
   "metadata": {},
   "source": [
    "## Time Series\n",
    "\n",
    "对于revenge的预测很有帮助，但是对于单个店的单个商品而言没有实际的意义，这种预测方式的学习非常有益处\n",
    "\n",
    "+ [AR(I)MA时间序列建模过程——步骤和python代码](https://www.jianshu.com/p/cced6617b423)\n",
    "+ [python时间序列分析](http://www.cnblogs.com/foley/p/5582358.html)\n",
    "+ [AR、MA及ARMA模型](https://zhuanlan.zhihu.com/p/22248464)\n",
    "+ [Time Series with Python (ODSC) STA.ipynb](https://github.com/ultimatist/ODSC17/blob/master/Time%20Series%20with%20Python%20(ODSC)%20STA.ipynb)\n",
    "+ [Getting Started with Time Series](https://pyflux.readthedocs.io/en/latest/getting_started.html)\n",
    "+ [Welcome to Statsmodels’s Documentation](http://www.statsmodels.org/devel/index.html)"
   ]
  },
  {
   "cell_type": "code",
   "execution_count": null,
   "metadata": {},
   "outputs": [],
   "source": []
  }
 ],
 "metadata": {
  "kernelspec": {
   "display_name": "Python 3",
   "language": "python",
   "name": "python3"
  },
  "language_info": {
   "codemirror_mode": {
    "name": "ipython",
    "version": 3
   },
   "file_extension": ".py",
   "mimetype": "text/x-python",
   "name": "python",
   "nbconvert_exporter": "python",
   "pygments_lexer": "ipython3",
   "version": "3.7.1"
  }
 },
 "nbformat": 4,
 "nbformat_minor": 2
}
