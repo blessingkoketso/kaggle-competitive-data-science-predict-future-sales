{
 "cells": [
  {
   "cell_type": "markdown",
   "metadata": {},
   "source": [
    "# xgb模型"
   ]
  },
  {
   "cell_type": "code",
   "execution_count": 1,
   "metadata": {},
   "outputs": [],
   "source": [
    "import pandas as pd\n",
    "import numpy as np\n",
    "import math\n",
    "import logging\n",
    "from datetime import datetime\n",
    "\n",
    "from sklearn.model_selection import GridSearchCV\n",
    "from sklearn.impute import SimpleImputer\n",
    "from sklearn.preprocessing import OneHotEncoder, Normalizer, StandardScaler, MinMaxScaler\n",
    "from sklearn.decomposition import PCA\n",
    "from sklearn.pipeline import Pipeline, FeatureUnion\n",
    "from sklearn.base import BaseEstimator, TransformerMixin\n",
    "from sklearn.metrics import roc_curve, auc\n",
    "\n",
    "from mlxtend.preprocessing import DenseTransformer\n",
    "from mlxtend.feature_selection import ColumnSelector\n",
    "from sklearn.feature_selection import SelectFromModel\n",
    "from sklearn.ensemble import GradientBoostingClassifier\n",
    "\n",
    "import xgboost as xgb\n",
    "\n",
    "from hyperopt import fmin, tpe, hp, STATUS_OK, Trials"
   ]
  },
  {
   "cell_type": "code",
   "execution_count": 2,
   "metadata": {},
   "outputs": [],
   "source": [
    "logger = logging.getLogger('ai')\n",
    "logging.basicConfig(level=logging.DEBUG,\n",
    "                    format='%(asctime)s  %(filename)s : %(levelname)s  %(message)s')"
   ]
  },
  {
   "cell_type": "code",
   "execution_count": 3,
   "metadata": {},
   "outputs": [],
   "source": [
    "IS_PRED = False"
   ]
  },
  {
   "cell_type": "markdown",
   "metadata": {},
   "source": [
    "## 模型"
   ]
  },
  {
   "cell_type": "markdown",
   "metadata": {},
   "source": [
    "### 数据预处理"
   ]
  },
  {
   "cell_type": "code",
   "execution_count": 4,
   "metadata": {},
   "outputs": [],
   "source": [
    "dataset = pd.read_csv('../features/dataset.csv')\n",
    "\n",
    "dataset_beta = dataset[dataset.date_block_num < 33]\n",
    "dataset_alpha = dataset[dataset.date_block_num == 33]"
   ]
  },
  {
   "cell_type": "code",
   "execution_count": 5,
   "metadata": {},
   "outputs": [
    {
     "data": {
      "text/plain": [
       "array([25, 26, 27, 28, 29, 30, 31, 32, 33])"
      ]
     },
     "execution_count": 5,
     "metadata": {},
     "output_type": "execute_result"
    }
   ],
   "source": [
    "dataset.date_block_num.unique()"
   ]
  },
  {
   "cell_type": "code",
   "execution_count": 5,
   "metadata": {},
   "outputs": [],
   "source": [
    "# dataset_pred = pd.read_csv('../features/dataset_pred.csv')"
   ]
  },
  {
   "cell_type": "code",
   "execution_count": 6,
   "metadata": {},
   "outputs": [],
   "source": [
    "if IS_PRED:\n",
    "    dataset_beta = pd.concat([dataset_alpha, dataset_beta])\n",
    "    dataset_alpha = dataset_pred"
   ]
  },
  {
   "cell_type": "code",
   "execution_count": 7,
   "metadata": {},
   "outputs": [],
   "source": [
    "continous = [\n",
    "    'shop_id', 'item_id', 'date_block_num',\n",
    "       'item_avg_price', 'item_category_id', 'sis1', 'sis2',\n",
    "       'sis3', 'sis4', 'sis5', 'sis6', 'sis7', 'sis8', 'sis9', 'sis10',\n",
    "       'sis11', 'sis12', 'sis13', 'sis14', 'sis15', 'sis16', 'sis17',\n",
    "       'sis18', 'sis19', 'sis20', 'sis21', 'sis22', 'sis23', 'sis24',\n",
    "       'sis25', 'sis26', 'sis27', 'sis28', 'sis29', 'sis30', 'sis31',\n",
    "       'sis32', 'sis33', 'sis34', 'sis35', 'sis36', 'sis37', 'sis38',\n",
    "       'sis39', 'sis40', 'sis41', 'sis42', 'sis43', 'sis44', 'sis45',\n",
    "       'sis46', 'sis47', 'sis48', 'sis49', 'sis50', 'sis51', 'sis52',\n",
    "       'sis53', 'sis54', 'sis55', 'sis56', 'sis57', 'sis58', 'sis59',\n",
    "       'sis60', 'sis61', 'is1', 'is2', 'is3', 'is4', 'is5', 'is6', 'is7',\n",
    "       'is8', 'is9', 'is10', 'is11', 'is12', 'is13', 'is14', 'is15',\n",
    "       'is16', 'is17', 'is18', 'is19', 'is20', 'is21', 'is22', 'is23',\n",
    "       'is24', 'is25', 'is26', 'is27', 'is28', 'is29', 'is30', 'is31',\n",
    "       'is32', 'is33', 'is34', 'is35', 'is36', 'is37', 'is38', 'is39',\n",
    "       'is40', 'is41', 'is42', 'is43', 'is44', 'is45', 'is46', 'is47',\n",
    "       'is48', 'is49', 'is50', 'is51', 'is52', 'is53', 'is54', 'is55',\n",
    "       'is56', 'is57', 'is58', 'is59', 'is60', 'is61', 's1', 's2', 's3',\n",
    "       's4', 's5', 's6', 's7', 's8', 's9', 's10', 's11', 's12', 's13',\n",
    "       's14', 's15', 's16', 's17', 's18', 's19', 's20', 's21', 's22',\n",
    "       's23', 's24', 's25', 's26', 's27', 's28', 's29', 's30', 's31',\n",
    "       's32', 's33', 's34', 's35', 's36', 's37', 's38', 's39', 's40',\n",
    "       's41', 's42', 's43', 's44', 's45', 's46', 's47', 's48', 's49',\n",
    "       's50', 's51', 's52', 's53', 's54', 's55', 's56', 's57', 's58',\n",
    "       's59', 's60', 's61', 'c1', 'c2', 'c3', 'c4', 'c5', 'c6', 'c7',\n",
    "       'c8', 'c9', 'c10', 'c11', 'c12', 'c13', 'c14', 'c15', 'c16', 'c17',\n",
    "       'c18', 'c19', 'c20', 'c21', 'c22', 'c23', 'c24', 'c25', 'c26',\n",
    "       'c27', 'c28', 'c29', 'c30', 'c31', 'c32', 'c33', 'c34', 'c35',\n",
    "       'c36', 'c37', 'c38', 'c39', 'c40', 'c41', 'c42', 'c43', 'c44',\n",
    "       'c45', 'c46', 'c47', 'c48', 'c49', 'c50', 'c51', 'c52', 'c53',\n",
    "       'c54', 'c55', 'c56', 'c57', 'c58', 'c59', 'c60', 'c61', 'ic1',\n",
    "       'ic2', 'ic3', 'ic4', 'ic5', 'ic6', 'ic7', 'ic8', 'ic9', 'ic10',\n",
    "       'ic11', 'ic12', 'ic13', 'ic14', 'ic15', 'ic16', 'ic17', 'ic18',\n",
    "       'ic19', 'ic20', 'ic21', 'ic22', 'ic23', 'ic24', 'ic25', 'ic26',\n",
    "       'ic27', 'ic28', 'ic29', 'ic30', 'ic31', 'ic32', 'ic33', 'ic34',\n",
    "       'ic35', 'ic36', 'ic37', 'ic38', 'ic39', 'ic40', 'ic41', 'ic42',\n",
    "       'ic43', 'ic44', 'ic45', 'ic46', 'ic47', 'ic48', 'ic49', 'ic50',\n",
    "       'ic51', 'ic52', 'ic53', 'ic54', 'ic55', 'ic56', 'ic57', 'ic58',\n",
    "       'ic59', 'ic60', 'ic61', 't1', 't2', 't3', 't4', 't5', 't6', 't7',\n",
    "       't8', 't9', 't10', 't11', 't12', 't13', 't14', 't15', 't16', 't17',\n",
    "       't18', 't19', 't20', 't21', 't22', 't23', 't24', 't25', 't26',\n",
    "       't27', 't28', 't29', 't30', 't31', 't32', 't33', 't34', 't35',\n",
    "       't36', 't37', 't38', 't39', 't40', 't41', 't42', 't43', 't44',\n",
    "       't45', 't46', 't47', 't48', 't49', 't50', 't51', 't52', 't53',\n",
    "       't54', 't55', 't56', 't57', 't58', 't59', 't60', 't61', 'st1',\n",
    "       'st2', 'st3', 'st4', 'st5', 'st6', 'st7', 'st8', 'st9', 'st10',\n",
    "       'st11', 'st12', 'st13', 'st14', 'st15', 'st16', 'st17', 'st18',\n",
    "       'st19', 'st20', 'st21', 'st22', 'st23', 'st24', 'st25', 'st26',\n",
    "       'st27', 'st28', 'st29', 'st30', 'st31', 'st32', 'st33', 'st34',\n",
    "       'st35', 'st36', 'st37', 'st38', 'st39', 'st40', 'st41', 'st42',\n",
    "       'st43', 'st44', 'st45', 'st46', 'st47', 'st48', 'st49', 'st50',\n",
    "       'st51', 'st52', 'st53', 'st54', 'st55', 'st56', 'st57', 'st58',\n",
    "       'st59', 'st60', 'st61'\n",
    "]\n",
    "\n",
    "fields = [\n",
    "    'city', 'type', 'subtype'\n",
    "]\n",
    "\n",
    "label = ['item_cnt_month']"
   ]
  },
  {
   "cell_type": "code",
   "execution_count": 8,
   "metadata": {},
   "outputs": [],
   "source": [
    "features_pipeline = Pipeline([\n",
    "    ('features', FeatureUnion([\n",
    "        ('continuous', Pipeline([\n",
    "            ('extract', ColumnSelector(continous)),\n",
    "            ('imputer', SimpleImputer(missing_values=np.nan, strategy='most_frequent')),\n",
    "#             ('normalize', Normalizer())\n",
    "        ])),\n",
    "        ('fields', Pipeline([\n",
    "            ('extract', ColumnSelector(fields)),\n",
    "            ('imputer', SimpleImputer(missing_values=np.nan,  strategy='most_frequent')),\n",
    "            ('one_hot', OneHotEncoder(categories='auto', handle_unknown='ignore')),\n",
    "            ('to_dense', DenseTransformer())\n",
    "        ])),\n",
    "    ])),\n",
    "])\n",
    "\n",
    "features_pipeline.fit(dataset_beta, dataset_beta[label].values.ravel())\n",
    "\n",
    "train_dataset_x = features_pipeline.transform(dataset_beta)\n",
    "train_dataset_y = dataset_beta[label].values.ravel()\n",
    "\n",
    "valid_dataset_x = features_pipeline.transform(dataset_alpha)\n",
    "\n",
    "if not IS_PRED:\n",
    "    valid_dataset_y = dataset_alpha[label].values.ravel()"
   ]
  },
  {
   "cell_type": "code",
   "execution_count": null,
   "metadata": {},
   "outputs": [],
   "source": [
    "selector_model = xgb.sklearn.XGBRegressor(max_depth=3, n_estimators=100, random_state=0)\n",
    "selector_model.fit(train_dataset_x, train_dataset_y)"
   ]
  },
  {
   "cell_type": "code",
   "execution_count": null,
   "metadata": {},
   "outputs": [],
   "source": [
    "thresh = 0.0\n",
    "selection = SelectFromModel(selector_model, threshold=thresh, prefit=True)\n",
    "\n",
    "train_dataset_x = selection.transform(train_dataset_x)\n",
    "valid_dataset_x = selection.transform(valid_dataset_x)"
   ]
  },
  {
   "cell_type": "code",
   "execution_count": null,
   "metadata": {},
   "outputs": [],
   "source": [
    "selector_model.feature_importances_"
   ]
  },
  {
   "cell_type": "code",
   "execution_count": null,
   "metadata": {},
   "outputs": [],
   "source": [
    "feature_selector = []\n",
    "for index, value in enumerate(selector_model.feature_importances_):\n",
    "    if value > 0 and index < len(continous):\n",
    "        feature_selector.append((continous[index], value))\n",
    "\n",
    "feature_selector"
   ]
  },
  {
   "cell_type": "markdown",
   "metadata": {},
   "source": [
    "### 模型训练"
   ]
  },
  {
   "cell_type": "markdown",
   "metadata": {},
   "source": [
    "#### 调参数"
   ]
  },
  {
   "cell_type": "code",
   "execution_count": null,
   "metadata": {},
   "outputs": [],
   "source": [
    "parameters = {\n",
    "    'xgb__learn_rate': [0.01, ],\n",
    "    'xgb__max_depth': [6],\n",
    "    'xgb__min_child_weight': [1],\n",
    "    'xgb__subsample': [0.7,],\n",
    "    'xgb__colsample_bytree': [0.7,],\n",
    "    'xgb__colsample_bylevel': [0.7,],\n",
    "    'xgb__objective': ['rank:pairwise'],\n",
    "    'xgb__n_estimators': range(100, 401, 100), # 使用1-3都可以被接受\n",
    "    'xgb__gamma': [0.1,],\n",
    "    'xgb__reg_alpha': [1,],\n",
    "    'xgb__reg_lambda': [1,],\n",
    "    'xgb__max_delta_step': [0,],\n",
    "    'xgb__scale_pos_weight': [1,],\n",
    "    'xgb__silent': [True],\n",
    "    'xgb__eval_metric': ['auc']\n",
    "}\n",
    "\n",
    "cv = GridSearchCV(model_pipeline, parameters, scoring = 'roc_auc', n_jobs= 4)\n",
    "cv.fit(train_dataset_x, train_dataset_y)"
   ]
  },
  {
   "cell_type": "code",
   "execution_count": null,
   "metadata": {},
   "outputs": [],
   "source": [
    "# 查看每组评估的具体数据\n",
    "cv.cv_results_['param_xgb__n_estimators'].data\n",
    "\n",
    "# 结果训练\n",
    "cv.cv_results_['mean_train_score']"
   ]
  },
  {
   "cell_type": "markdown",
   "metadata": {},
   "source": [
    "#### 最优参数训练"
   ]
  },
  {
   "cell_type": "code",
   "execution_count": null,
   "metadata": {},
   "outputs": [],
   "source": [
    "model_pipeline = Pipeline([\n",
    "    ('xgb', xgb.sklearn.XGBRegressor())\n",
    "])\n",
    "\n",
    "model_pipeline.set_params(\n",
    "    xgb__learn_rate=0.1,\n",
    "    xgb__max_depth=12,\n",
    "    xgb__min_child_weight=100,\n",
    "    xgb__subsample=0.8,\n",
    "    xgb__colsample_bytree=0.8,\n",
    "    xgb__colsample_bylevel=0.8,\n",
    "    xgb__n_estimators=300,\n",
    "#     xgb__gamma=0,\n",
    "#     xgb__reg_alpha=0,\n",
    "#     xgb__reg_lambda=10,\n",
    "#     xgb__objective='reg:linear',\n",
    "    xgb__silent=True,\n",
    "    xgb__eval_metric='rmse'\n",
    ").fit(train_dataset_x, train_dataset_y)"
   ]
  },
  {
   "cell_type": "code",
   "execution_count": null,
   "metadata": {},
   "outputs": [],
   "source": [
    "from sklearn.metrics import mean_squared_error\n",
    "\n",
    "class Evaluator():\n",
    "    def __init__(self, df, pipe):\n",
    "        self.df = df\n",
    "        self.pipe = pipe\n",
    "        \n",
    "    def cal(self, dataset):\n",
    "        pred = self.pipe.predict(dataset)\n",
    "        logging.info(pred)\n",
    "        \n",
    "        return mean_squared_error(self.df[label], pred)\n",
    "    \n",
    "    def predict(self, dataset):\n",
    "        pred = self.pipe.predict(dataset)\n",
    "        \n",
    "        self.df['pred'] = pred\n",
    "        result = self.df[['ID', 'item_cnt_month']]\n",
    "        return result"
   ]
  },
  {
   "cell_type": "code",
   "execution_count": null,
   "metadata": {},
   "outputs": [],
   "source": [
    "evaluator = Evaluator(dataset_alpha, model_pipeline)\n",
    "\n",
    "if IS_PRED:\n",
    "    final_result_df = evaluator.predict(valid_dataset_x)\n",
    "    final_result_df.to_csv('/Users/leewind/Desktop/submission_20190208.csv', index=False, header=False)\n",
    "    final_result_df.describe()\n",
    "else:\n",
    "    logger.info(evaluator.cal(valid_dataset_x))"
   ]
  },
  {
   "cell_type": "code",
   "execution_count": null,
   "metadata": {},
   "outputs": [],
   "source": [
    "evaluator = Evaluator(dataset_beta, model_pipeline)\n",
    "evaluator.cal(train_dataset_x)"
   ]
  },
  {
   "cell_type": "code",
   "execution_count": 34,
   "metadata": {
    "_uuid": "acef75c36501f808d45f81fc69f9708fc3283bc3",
    "collapsed": true
   },
   "outputs": [
    {
     "name": "stdout",
     "output_type": "stream",
     "text": [
      "[0]\tvalidation_0-rmse:17.9849\tvalidation_1-rmse:7.26879\n",
      "Multiple eval metrics have been passed: 'validation_1-rmse' will be used for early stopping.\n",
      "\n",
      "Will train until validation_1-rmse hasn't improved in 10 rounds.\n",
      "[1]\tvalidation_0-rmse:17.3652\tvalidation_1-rmse:7.26995\n",
      "[2]\tvalidation_0-rmse:16.806\tvalidation_1-rmse:7.20502\n",
      "[3]\tvalidation_0-rmse:16.2861\tvalidation_1-rmse:7.83759\n",
      "[4]\tvalidation_0-rmse:15.7423\tvalidation_1-rmse:7.81087\n",
      "[5]\tvalidation_0-rmse:15.2689\tvalidation_1-rmse:8.00764\n",
      "[6]\tvalidation_0-rmse:14.9207\tvalidation_1-rmse:7.98743\n",
      "[7]\tvalidation_0-rmse:14.5083\tvalidation_1-rmse:7.99062\n",
      "[8]\tvalidation_0-rmse:14.1061\tvalidation_1-rmse:8.94814\n",
      "[9]\tvalidation_0-rmse:13.7201\tvalidation_1-rmse:9.19358\n",
      "[10]\tvalidation_0-rmse:13.4098\tvalidation_1-rmse:9.42763\n",
      "[11]\tvalidation_0-rmse:13.1206\tvalidation_1-rmse:9.45643\n",
      "[12]\tvalidation_0-rmse:12.8756\tvalidation_1-rmse:9.66713\n",
      "Stopping. Best iteration:\n",
      "[2]\tvalidation_0-rmse:16.806\tvalidation_1-rmse:7.20502\n",
      "\n"
     ]
    },
    {
     "data": {
      "text/plain": [
       "XGBRegressor(base_score=0.5, booster='gbtree', colsample_bylevel=1,\n",
       "       colsample_bytree=0.8, eta=0.3, gamma=0, learning_rate=0.1,\n",
       "       max_delta_step=0, max_depth=8, min_child_weight=1.1, missing=None,\n",
       "       n_estimators=1000, n_jobs=1, nthread=None, objective='reg:linear',\n",
       "       random_state=0, reg_alpha=0, reg_lambda=10, scale_pos_weight=1,\n",
       "       seed=0, silent=True, subsample=0.8)"
      ]
     },
     "execution_count": 34,
     "metadata": {},
     "output_type": "execute_result"
    }
   ],
   "source": [
    "from xgboost import XGBRegressor\n",
    "\n",
    "model = XGBRegressor(\n",
    "    max_depth=8,\n",
    "    n_estimators=1000,\n",
    "    min_child_weight=300, \n",
    "    colsample_bytree=0.8, \n",
    "    subsample=0.8, \n",
    "    reg_lambda=10,\n",
    "    eta=0.3,    \n",
    "    seed=0)\n",
    "\n",
    "model.fit(\n",
    "    train_dataset_x, \n",
    "    train_dataset_y, \n",
    "    eval_metric=\"rmse\", \n",
    "    eval_set=[(train_dataset_x, train_dataset_y), (valid_dataset_x, valid_dataset_y)], \n",
    "    verbose=True, \n",
    "    early_stopping_rounds = 10)"
   ]
  },
  {
   "cell_type": "code",
   "execution_count": null,
   "metadata": {},
   "outputs": [],
   "source": []
  }
 ],
 "metadata": {
  "kernelspec": {
   "display_name": "Python 3",
   "language": "python",
   "name": "python3"
  },
  "language_info": {
   "codemirror_mode": {
    "name": "ipython",
    "version": 3
   },
   "file_extension": ".py",
   "mimetype": "text/x-python",
   "name": "python",
   "nbconvert_exporter": "python",
   "pygments_lexer": "ipython3",
   "version": "3.7.1"
  }
 },
 "nbformat": 4,
 "nbformat_minor": 2
}
